{
  "cells": [
    {
      "cell_type": "markdown",
      "metadata": {
        "id": "view-in-github",
        "colab_type": "text"
      },
      "source": [
        "<a href=\"https://colab.research.google.com/github/thomasavare/DNLP-project/blob/master/SPECTER_mesh_classification.ipynb\" target=\"_parent\"><img src=\"https://colab.research.google.com/assets/colab-badge.svg\" alt=\"Open In Colab\"/></a>"
      ]
    },
    {
      "cell_type": "markdown",
      "metadata": {
        "id": "0ksisP7lkAQZ"
      },
      "source": [
        "This notebook aims at incorporating the MAG classification presented in the [Scidocs](https://github.com/allenai/scidocs) github. This classification consists of 19 different classes.\n",
        "\n",
        "| int | Class label |\n",
        "| --- | ----------- |\n",
        "| 0   | Cardiovascular diseases |\n",
        "| 1\t  | Chronic kidney disease |\n",
        "| 2\t  | Chronic respiratory diseases |\n",
        "| 3\t  | Diabetes mellitus |\n",
        "| 4   |\tDigestive disease |\n",
        "| 5\t  | HIV/AIDS |\n",
        "| 6\t  | Hepatitis A/B/C/E |\n",
        "| 7\t  | Mental disorders | \n",
        "| 8\t  | Musculoskeletal disorders | \n",
        "| 9\t  | Neoplasms (cancer) |\n",
        "| 10  | Neurological disorders |"
      ]
    },
    {
      "cell_type": "markdown",
      "metadata": {
        "id": "TAsAgYJRkmVQ"
      },
      "source": [
        "Everything said, let's begin.\n",
        "\n",
        "First we import the [SPECTER](https://github.com/allenai/specter)embedding model. We are going to use the model accessible through the HuggingFace's transformer librairy."
      ]
    },
    {
      "cell_type": "code",
      "execution_count": 1,
      "metadata": {
        "colab": {
          "base_uri": "https://localhost:8080/"
        },
        "id": "F7gBnENrj8pX",
        "outputId": "6255424e-278b-4150-f2f8-8017401b9fca"
      },
      "outputs": [
        {
          "output_type": "stream",
          "name": "stdout",
          "text": [
            "Looking in indexes: https://pypi.org/simple, https://us-python.pkg.dev/colab-wheels/public/simple/\n",
            "Requirement already satisfied: sentence-transformers in /usr/local/lib/python3.8/dist-packages (2.2.2)\n",
            "Requirement already satisfied: numpy in /usr/local/lib/python3.8/dist-packages (from sentence-transformers) (1.21.6)\n",
            "Requirement already satisfied: sentencepiece in /usr/local/lib/python3.8/dist-packages (from sentence-transformers) (0.1.97)\n",
            "Requirement already satisfied: torch>=1.6.0 in /usr/local/lib/python3.8/dist-packages (from sentence-transformers) (1.13.1+cu116)\n",
            "Requirement already satisfied: scikit-learn in /usr/local/lib/python3.8/dist-packages (from sentence-transformers) (1.0.2)\n",
            "Requirement already satisfied: transformers<5.0.0,>=4.6.0 in /usr/local/lib/python3.8/dist-packages (from sentence-transformers) (4.26.0)\n",
            "Requirement already satisfied: torchvision in /usr/local/lib/python3.8/dist-packages (from sentence-transformers) (0.14.1+cu116)\n",
            "Requirement already satisfied: scipy in /usr/local/lib/python3.8/dist-packages (from sentence-transformers) (1.7.3)\n",
            "Requirement already satisfied: nltk in /usr/local/lib/python3.8/dist-packages (from sentence-transformers) (3.7)\n",
            "Requirement already satisfied: tqdm in /usr/local/lib/python3.8/dist-packages (from sentence-transformers) (4.64.1)\n",
            "Requirement already satisfied: huggingface-hub>=0.4.0 in /usr/local/lib/python3.8/dist-packages (from sentence-transformers) (0.11.1)\n",
            "Requirement already satisfied: typing-extensions>=3.7.4.3 in /usr/local/lib/python3.8/dist-packages (from huggingface-hub>=0.4.0->sentence-transformers) (4.4.0)\n",
            "Requirement already satisfied: requests in /usr/local/lib/python3.8/dist-packages (from huggingface-hub>=0.4.0->sentence-transformers) (2.25.1)\n",
            "Requirement already satisfied: packaging>=20.9 in /usr/local/lib/python3.8/dist-packages (from huggingface-hub>=0.4.0->sentence-transformers) (21.3)\n",
            "Requirement already satisfied: filelock in /usr/local/lib/python3.8/dist-packages (from huggingface-hub>=0.4.0->sentence-transformers) (3.9.0)\n",
            "Requirement already satisfied: pyyaml>=5.1 in /usr/local/lib/python3.8/dist-packages (from huggingface-hub>=0.4.0->sentence-transformers) (5.4.1)\n",
            "Requirement already satisfied: tokenizers!=0.11.3,<0.14,>=0.11.1 in /usr/local/lib/python3.8/dist-packages (from transformers<5.0.0,>=4.6.0->sentence-transformers) (0.13.2)\n",
            "Requirement already satisfied: regex!=2019.12.17 in /usr/local/lib/python3.8/dist-packages (from transformers<5.0.0,>=4.6.0->sentence-transformers) (2022.6.2)\n",
            "Requirement already satisfied: click in /usr/local/lib/python3.8/dist-packages (from nltk->sentence-transformers) (7.1.2)\n",
            "Requirement already satisfied: joblib in /usr/local/lib/python3.8/dist-packages (from nltk->sentence-transformers) (1.2.0)\n",
            "Requirement already satisfied: threadpoolctl>=2.0.0 in /usr/local/lib/python3.8/dist-packages (from scikit-learn->sentence-transformers) (3.1.0)\n",
            "Requirement already satisfied: pillow!=8.3.*,>=5.3.0 in /usr/local/lib/python3.8/dist-packages (from torchvision->sentence-transformers) (7.1.2)\n",
            "Requirement already satisfied: pyparsing!=3.0.5,>=2.0.2 in /usr/local/lib/python3.8/dist-packages (from packaging>=20.9->huggingface-hub>=0.4.0->sentence-transformers) (3.0.9)\n",
            "Requirement already satisfied: idna<3,>=2.5 in /usr/local/lib/python3.8/dist-packages (from requests->huggingface-hub>=0.4.0->sentence-transformers) (2.10)\n",
            "Requirement already satisfied: urllib3<1.27,>=1.21.1 in /usr/local/lib/python3.8/dist-packages (from requests->huggingface-hub>=0.4.0->sentence-transformers) (1.26.14)\n",
            "Requirement already satisfied: chardet<5,>=3.0.2 in /usr/local/lib/python3.8/dist-packages (from requests->huggingface-hub>=0.4.0->sentence-transformers) (4.0.0)\n",
            "Requirement already satisfied: certifi>=2017.4.17 in /usr/local/lib/python3.8/dist-packages (from requests->huggingface-hub>=0.4.0->sentence-transformers) (2022.12.7)\n"
          ]
        }
      ],
      "source": [
        "pip install -U sentence-transformers"
      ]
    },
    {
      "cell_type": "code",
      "execution_count": 2,
      "metadata": {
        "id": "9wyIoPbDlGWu"
      },
      "outputs": [],
      "source": [
        "from sentence_transformers import SentenceTransformer, util\n",
        "\n",
        "# load model and tokenizer\n",
        "model = SentenceTransformer('allenai-specter')"
      ]
    },
    {
      "cell_type": "markdown",
      "metadata": {
        "id": "K1J4PXqRlQpW"
      },
      "source": [
        "We are now going to import the data used to train the models in the scidocs benchmarking. This include the meta-data (paper id, title, abstract and citation graph) and also the class associated to these paper."
      ]
    },
    {
      "cell_type": "code",
      "execution_count": 3,
      "metadata": {
        "colab": {
          "base_uri": "https://localhost:8080/"
        },
        "id": "UMz8TzOtlIKB",
        "outputId": "68461d37-2812-4af4-cbbd-61a8fef87f5b"
      },
      "outputs": [
        {
          "output_type": "stream",
          "name": "stdout",
          "text": [
            "Looking in indexes: https://pypi.org/simple, https://us-python.pkg.dev/colab-wheels/public/simple/\n",
            "Requirement already satisfied: awscli in /usr/local/lib/python3.8/dist-packages (1.27.55)\n",
            "Requirement already satisfied: PyYAML<5.5,>=3.10 in /usr/local/lib/python3.8/dist-packages (from awscli) (5.4.1)\n",
            "Requirement already satisfied: docutils<0.17,>=0.10 in /usr/local/lib/python3.8/dist-packages (from awscli) (0.16)\n",
            "Requirement already satisfied: colorama<0.4.5,>=0.2.5 in /usr/local/lib/python3.8/dist-packages (from awscli) (0.4.4)\n",
            "Requirement already satisfied: rsa<4.8,>=3.1.2 in /usr/local/lib/python3.8/dist-packages (from awscli) (4.7.2)\n",
            "Requirement already satisfied: s3transfer<0.7.0,>=0.6.0 in /usr/local/lib/python3.8/dist-packages (from awscli) (0.6.0)\n",
            "Requirement already satisfied: botocore==1.29.55 in /usr/local/lib/python3.8/dist-packages (from awscli) (1.29.55)\n",
            "Requirement already satisfied: python-dateutil<3.0.0,>=2.1 in /usr/local/lib/python3.8/dist-packages (from botocore==1.29.55->awscli) (2.8.2)\n",
            "Requirement already satisfied: jmespath<2.0.0,>=0.7.1 in /usr/local/lib/python3.8/dist-packages (from botocore==1.29.55->awscli) (1.0.1)\n",
            "Requirement already satisfied: urllib3<1.27,>=1.25.4 in /usr/local/lib/python3.8/dist-packages (from botocore==1.29.55->awscli) (1.26.14)\n",
            "Requirement already satisfied: pyasn1>=0.1.3 in /usr/local/lib/python3.8/dist-packages (from rsa<4.8,>=3.1.2->awscli) (0.4.8)\n",
            "Requirement already satisfied: six>=1.5 in /usr/local/lib/python3.8/dist-packages (from python-dateutil<3.0.0,>=2.1->botocore==1.29.55->awscli) (1.15.0)\n"
          ]
        }
      ],
      "source": [
        "!pip install awscli\n",
        "!aws s3 sync --no-sign-request s3://ai2-s2-research-public/specter/scidocs/ data/"
      ]
    },
    {
      "cell_type": "code",
      "execution_count": 4,
      "metadata": {
        "colab": {
          "base_uri": "https://localhost:8080/",
          "height": 424
        },
        "id": "EQEhXrtFlvJy",
        "outputId": "c9a58f59-6045-498d-845c-f4dbcb0c560c"
      },
      "outputs": [
        {
          "output_type": "execute_result",
          "data": {
            "text/plain": [
              "                                            pid  class_label\n",
              "0      dda7899c46b7764ed16ab3092f4f9476a9cecedf            9\n",
              "1      16d289c10d9834d6fcb2870ba0d6cb5fd839e9a3            7\n",
              "2      a1337bbf7cff59dcd9d63600ac80eb90f191a26e            8\n",
              "3      3b24a936f546fd65a9bfbeb79496a5edc6d0d419            9\n",
              "4      be0a5a24498086d9544d0c9dd328a9a76a8aadb2            8\n",
              "...                                         ...          ...\n",
              "16473  f85e9cbd0ebbdc89873b945eb98d22f7d9211957            9\n",
              "16474  c4165de55761f1bb97c8e7c5224c7617a061d1bc            8\n",
              "16475  993ec23465dce0d7067d674b5b21426d716f372b            9\n",
              "16476  1437f6adbedcfc60432df230128383d98997f93e            2\n",
              "16477  f33b61333d048f01b7c061d2ea42a2d560175171            2\n",
              "\n",
              "[16478 rows x 2 columns]"
            ],
            "text/html": [
              "\n",
              "  <div id=\"df-6651d224-c38f-4075-ae96-af76e67875ed\">\n",
              "    <div class=\"colab-df-container\">\n",
              "      <div>\n",
              "<style scoped>\n",
              "    .dataframe tbody tr th:only-of-type {\n",
              "        vertical-align: middle;\n",
              "    }\n",
              "\n",
              "    .dataframe tbody tr th {\n",
              "        vertical-align: top;\n",
              "    }\n",
              "\n",
              "    .dataframe thead th {\n",
              "        text-align: right;\n",
              "    }\n",
              "</style>\n",
              "<table border=\"1\" class=\"dataframe\">\n",
              "  <thead>\n",
              "    <tr style=\"text-align: right;\">\n",
              "      <th></th>\n",
              "      <th>pid</th>\n",
              "      <th>class_label</th>\n",
              "    </tr>\n",
              "  </thead>\n",
              "  <tbody>\n",
              "    <tr>\n",
              "      <th>0</th>\n",
              "      <td>dda7899c46b7764ed16ab3092f4f9476a9cecedf</td>\n",
              "      <td>9</td>\n",
              "    </tr>\n",
              "    <tr>\n",
              "      <th>1</th>\n",
              "      <td>16d289c10d9834d6fcb2870ba0d6cb5fd839e9a3</td>\n",
              "      <td>7</td>\n",
              "    </tr>\n",
              "    <tr>\n",
              "      <th>2</th>\n",
              "      <td>a1337bbf7cff59dcd9d63600ac80eb90f191a26e</td>\n",
              "      <td>8</td>\n",
              "    </tr>\n",
              "    <tr>\n",
              "      <th>3</th>\n",
              "      <td>3b24a936f546fd65a9bfbeb79496a5edc6d0d419</td>\n",
              "      <td>9</td>\n",
              "    </tr>\n",
              "    <tr>\n",
              "      <th>4</th>\n",
              "      <td>be0a5a24498086d9544d0c9dd328a9a76a8aadb2</td>\n",
              "      <td>8</td>\n",
              "    </tr>\n",
              "    <tr>\n",
              "      <th>...</th>\n",
              "      <td>...</td>\n",
              "      <td>...</td>\n",
              "    </tr>\n",
              "    <tr>\n",
              "      <th>16473</th>\n",
              "      <td>f85e9cbd0ebbdc89873b945eb98d22f7d9211957</td>\n",
              "      <td>9</td>\n",
              "    </tr>\n",
              "    <tr>\n",
              "      <th>16474</th>\n",
              "      <td>c4165de55761f1bb97c8e7c5224c7617a061d1bc</td>\n",
              "      <td>8</td>\n",
              "    </tr>\n",
              "    <tr>\n",
              "      <th>16475</th>\n",
              "      <td>993ec23465dce0d7067d674b5b21426d716f372b</td>\n",
              "      <td>9</td>\n",
              "    </tr>\n",
              "    <tr>\n",
              "      <th>16476</th>\n",
              "      <td>1437f6adbedcfc60432df230128383d98997f93e</td>\n",
              "      <td>2</td>\n",
              "    </tr>\n",
              "    <tr>\n",
              "      <th>16477</th>\n",
              "      <td>f33b61333d048f01b7c061d2ea42a2d560175171</td>\n",
              "      <td>2</td>\n",
              "    </tr>\n",
              "  </tbody>\n",
              "</table>\n",
              "<p>16478 rows × 2 columns</p>\n",
              "</div>\n",
              "      <button class=\"colab-df-convert\" onclick=\"convertToInteractive('df-6651d224-c38f-4075-ae96-af76e67875ed')\"\n",
              "              title=\"Convert this dataframe to an interactive table.\"\n",
              "              style=\"display:none;\">\n",
              "        \n",
              "  <svg xmlns=\"http://www.w3.org/2000/svg\" height=\"24px\"viewBox=\"0 0 24 24\"\n",
              "       width=\"24px\">\n",
              "    <path d=\"M0 0h24v24H0V0z\" fill=\"none\"/>\n",
              "    <path d=\"M18.56 5.44l.94 2.06.94-2.06 2.06-.94-2.06-.94-.94-2.06-.94 2.06-2.06.94zm-11 1L8.5 8.5l.94-2.06 2.06-.94-2.06-.94L8.5 2.5l-.94 2.06-2.06.94zm10 10l.94 2.06.94-2.06 2.06-.94-2.06-.94-.94-2.06-.94 2.06-2.06.94z\"/><path d=\"M17.41 7.96l-1.37-1.37c-.4-.4-.92-.59-1.43-.59-.52 0-1.04.2-1.43.59L10.3 9.45l-7.72 7.72c-.78.78-.78 2.05 0 2.83L4 21.41c.39.39.9.59 1.41.59.51 0 1.02-.2 1.41-.59l7.78-7.78 2.81-2.81c.8-.78.8-2.07 0-2.86zM5.41 20L4 18.59l7.72-7.72 1.47 1.35L5.41 20z\"/>\n",
              "  </svg>\n",
              "      </button>\n",
              "      \n",
              "  <style>\n",
              "    .colab-df-container {\n",
              "      display:flex;\n",
              "      flex-wrap:wrap;\n",
              "      gap: 12px;\n",
              "    }\n",
              "\n",
              "    .colab-df-convert {\n",
              "      background-color: #E8F0FE;\n",
              "      border: none;\n",
              "      border-radius: 50%;\n",
              "      cursor: pointer;\n",
              "      display: none;\n",
              "      fill: #1967D2;\n",
              "      height: 32px;\n",
              "      padding: 0 0 0 0;\n",
              "      width: 32px;\n",
              "    }\n",
              "\n",
              "    .colab-df-convert:hover {\n",
              "      background-color: #E2EBFA;\n",
              "      box-shadow: 0px 1px 2px rgba(60, 64, 67, 0.3), 0px 1px 3px 1px rgba(60, 64, 67, 0.15);\n",
              "      fill: #174EA6;\n",
              "    }\n",
              "\n",
              "    [theme=dark] .colab-df-convert {\n",
              "      background-color: #3B4455;\n",
              "      fill: #D2E3FC;\n",
              "    }\n",
              "\n",
              "    [theme=dark] .colab-df-convert:hover {\n",
              "      background-color: #434B5C;\n",
              "      box-shadow: 0px 1px 3px 1px rgba(0, 0, 0, 0.15);\n",
              "      filter: drop-shadow(0px 1px 2px rgba(0, 0, 0, 0.3));\n",
              "      fill: #FFFFFF;\n",
              "    }\n",
              "  </style>\n",
              "\n",
              "      <script>\n",
              "        const buttonEl =\n",
              "          document.querySelector('#df-6651d224-c38f-4075-ae96-af76e67875ed button.colab-df-convert');\n",
              "        buttonEl.style.display =\n",
              "          google.colab.kernel.accessAllowed ? 'block' : 'none';\n",
              "\n",
              "        async function convertToInteractive(key) {\n",
              "          const element = document.querySelector('#df-6651d224-c38f-4075-ae96-af76e67875ed');\n",
              "          const dataTable =\n",
              "            await google.colab.kernel.invokeFunction('convertToInteractive',\n",
              "                                                     [key], {});\n",
              "          if (!dataTable) return;\n",
              "\n",
              "          const docLinkHtml = 'Like what you see? Visit the ' +\n",
              "            '<a target=\"_blank\" href=https://colab.research.google.com/notebooks/data_table.ipynb>data table notebook</a>'\n",
              "            + ' to learn more about interactive tables.';\n",
              "          element.innerHTML = '';\n",
              "          dataTable['output_type'] = 'display_data';\n",
              "          await google.colab.output.renderOutput(dataTable, element);\n",
              "          const docLink = document.createElement('div');\n",
              "          docLink.innerHTML = docLinkHtml;\n",
              "          element.appendChild(docLink);\n",
              "        }\n",
              "      </script>\n",
              "    </div>\n",
              "  </div>\n",
              "  "
            ]
          },
          "metadata": {},
          "execution_count": 4
        }
      ],
      "source": [
        "import pandas as pd\n",
        "\n",
        "train_path, test_path = '/content/data/mesh/train.csv', '/content/data/mesh/test.csv'\n",
        "train_df, test_df = pd.read_csv(train_path), pd.read_csv(test_path)\n",
        "train_df"
      ]
    },
    {
      "cell_type": "markdown",
      "metadata": {
        "id": "f5AheYT4l_hX"
      },
      "source": [
        "Unfortunatly, the HuggingFace SPECTER model isn't coinciding with the embeddings provided, so we have to recompute the embeddings. I did it once and dowloaded the data such that I will never have to do it again because it took 3 hours. Here's the code that I used.\n",
        "\n",
        "----\n",
        "```{python}\n",
        "from tqdm import tqdm\n",
        "\n",
        "for index, row in tqdm(data_df.iterrows(), total=len(data_df.index)):\n",
        "  data_df['embedding'][row['paper_id']] = model.encode(row['title'] + '[SEP]' + row['title'])\n",
        "```\n",
        "\n",
        "100%|██████████| 48473/48473 [3:05:07<00:00, 4.36it/s]\n",
        "\n",
        "----\n",
        "\n",
        "The data is currently on my personal drive but I will upload it on my github so it can be easily imported and save 3 hours if someone is using that notebook one day."
      ]
    },
    {
      "cell_type": "code",
      "execution_count": 5,
      "metadata": {
        "id": "rkEMZGCjl7iW"
      },
      "outputs": [],
      "source": [
        "embeddings_df = pd.read_json('/content/drive/MyDrive/DNLP-project/embeddings_metadata_mag_mesh.json', orient='index')"
      ]
    },
    {
      "cell_type": "code",
      "execution_count": 6,
      "metadata": {
        "colab": {
          "base_uri": "https://localhost:8080/",
          "height": 885
        },
        "id": "tZ3O9arXnGvy",
        "outputId": "cf8e6146-831e-4f35-c9db-bed0091cdeb6"
      },
      "outputs": [
        {
          "output_type": "execute_result",
          "data": {
            "text/plain": [
              "                                                                          paper_id  \\\n",
              "00014a8515491f0b3fe2a1ff6e0f5305e584dcd9  00014a8515491f0b3fe2a1ff6e0f5305e584dcd9   \n",
              "00021eeee2bf4e06fec98941206f97083c38b54d  00021eeee2bf4e06fec98941206f97083c38b54d   \n",
              "00027baa2a90e1a3d50c1da14882d518de6847f5  00027baa2a90e1a3d50c1da14882d518de6847f5   \n",
              "00034a5a5bd11b51ec046d31de273946d91fb766  00034a5a5bd11b51ec046d31de273946d91fb766   \n",
              "000c8d85037886c86de15290e5a8e9bae7b66103  000c8d85037886c86de15290e5a8e9bae7b66103   \n",
              "...                                                                            ...   \n",
              "ffe534bb74efd04b0038510be2a4ed5072430c8b  ffe534bb74efd04b0038510be2a4ed5072430c8b   \n",
              "ffeaac2b94fc298676e9784ed3bd7a6a7c23b9d1  ffeaac2b94fc298676e9784ed3bd7a6a7c23b9d1   \n",
              "ffecb03cbf4dccf9fcdc8b26f40f53d5bc44be66  ffecb03cbf4dccf9fcdc8b26f40f53d5bc44be66   \n",
              "fff238844076ad5643dc2ff53153581bd89441ea  fff238844076ad5643dc2ff53153581bd89441ea   \n",
              "fff766303c67b984a64e33566853375d35951424  fff766303c67b984a64e33566853375d35951424   \n",
              "\n",
              "                                                                                      title  \\\n",
              "00014a8515491f0b3fe2a1ff6e0f5305e584dcd9              ON THE CLASSIFICATION OF THE SCIENCES   \n",
              "00021eeee2bf4e06fec98941206f97083c38b54d  Opportunities and challenges for E-Commerce in...   \n",
              "00027baa2a90e1a3d50c1da14882d518de6847f5  Interactions between model membranes and ligni...   \n",
              "00034a5a5bd11b51ec046d31de273946d91fb766        Perpetual Peace: What Kant Should Have Said   \n",
              "000c8d85037886c86de15290e5a8e9bae7b66103    Reimagining Greek Tragedy on the American Stage   \n",
              "...                                                                                     ...   \n",
              "ffe534bb74efd04b0038510be2a4ed5072430c8b  Comparison of olmesartan combined with a calci...   \n",
              "ffeaac2b94fc298676e9784ed3bd7a6a7c23b9d1  Role of angiotensin II in plasma PAI-1 changes...   \n",
              "ffecb03cbf4dccf9fcdc8b26f40f53d5bc44be66  Factors that influence cancer patients' anxiet...   \n",
              "fff238844076ad5643dc2ff53153581bd89441ea  Is adjuvant chemotherapy indicated in stage I ...   \n",
              "fff766303c67b984a64e33566853375d35951424  Relationship between PCO2 and unfavorable outc...   \n",
              "\n",
              "                                                                                   abstract  \\\n",
              "00014a8515491f0b3fe2a1ff6e0f5305e584dcd9                                               None   \n",
              "00021eeee2bf4e06fec98941206f97083c38b54d  Numerous studies of E-Commerce have emphasized...   \n",
              "00027baa2a90e1a3d50c1da14882d518de6847f5  In order to elucidate the modes of interaction...   \n",
              "00034a5a5bd11b51ec046d31de273946d91fb766                                               None   \n",
              "000c8d85037886c86de15290e5a8e9bae7b66103  List of Illustrations Preface Introduction CHA...   \n",
              "...                                                                                     ...   \n",
              "ffe534bb74efd04b0038510be2a4ed5072430c8b  The cardiovascular effects of combined therapy...   \n",
              "ffeaac2b94fc298676e9784ed3bd7a6a7c23b9d1  To evaluate the relationship between plasma pl...   \n",
              "ffecb03cbf4dccf9fcdc8b26f40f53d5bc44be66  BACKGROUND\\nNo study has yet assessed the impa...   \n",
              "fff238844076ad5643dc2ff53153581bd89441ea  OBJECTIVE\\nConservative surgery followed by pl...   \n",
              "fff766303c67b984a64e33566853375d35951424  Background:Abnormal PCO2 is common in infants ...   \n",
              "\n",
              "                                                                                  embedding  \n",
              "00014a8515491f0b3fe2a1ff6e0f5305e584dcd9  [-0.7367060184, 0.8094774485, -0.0390381552, -...  \n",
              "00021eeee2bf4e06fec98941206f97083c38b54d  [-1.1841081381, 1.1308963299, 0.6682422161, 0....  \n",
              "00027baa2a90e1a3d50c1da14882d518de6847f5  [0.2389703691, 0.7384790778, 1.0119105577, -0....  \n",
              "00034a5a5bd11b51ec046d31de273946d91fb766  [-0.7743704319, 0.5894224048, -0.3162544966, 0...  \n",
              "000c8d85037886c86de15290e5a8e9bae7b66103  [0.0163563173, 0.50049299, -0.0730320513, 0.64...  \n",
              "...                                                                                     ...  \n",
              "ffe534bb74efd04b0038510be2a4ed5072430c8b  [-0.5972291231, 0.17011463640000002, 0.6428002...  \n",
              "ffeaac2b94fc298676e9784ed3bd7a6a7c23b9d1  [-0.3963649869, 0.5153160095, 0.4946651161, -0...  \n",
              "ffecb03cbf4dccf9fcdc8b26f40f53d5bc44be66  [-0.3526456356, 0.3627114594, -0.8083767891, 0...  \n",
              "fff238844076ad5643dc2ff53153581bd89441ea  [0.5204859972, -0.07988817990000001, -0.430343...  \n",
              "fff766303c67b984a64e33566853375d35951424  [-0.40102842450000004, 0.9684960842, 0.3345110...  \n",
              "\n",
              "[48473 rows x 4 columns]"
            ],
            "text/html": [
              "\n",
              "  <div id=\"df-6800a4e5-4637-4eba-84f1-9a35a42093ee\">\n",
              "    <div class=\"colab-df-container\">\n",
              "      <div>\n",
              "<style scoped>\n",
              "    .dataframe tbody tr th:only-of-type {\n",
              "        vertical-align: middle;\n",
              "    }\n",
              "\n",
              "    .dataframe tbody tr th {\n",
              "        vertical-align: top;\n",
              "    }\n",
              "\n",
              "    .dataframe thead th {\n",
              "        text-align: right;\n",
              "    }\n",
              "</style>\n",
              "<table border=\"1\" class=\"dataframe\">\n",
              "  <thead>\n",
              "    <tr style=\"text-align: right;\">\n",
              "      <th></th>\n",
              "      <th>paper_id</th>\n",
              "      <th>title</th>\n",
              "      <th>abstract</th>\n",
              "      <th>embedding</th>\n",
              "    </tr>\n",
              "  </thead>\n",
              "  <tbody>\n",
              "    <tr>\n",
              "      <th>00014a8515491f0b3fe2a1ff6e0f5305e584dcd9</th>\n",
              "      <td>00014a8515491f0b3fe2a1ff6e0f5305e584dcd9</td>\n",
              "      <td>ON THE CLASSIFICATION OF THE SCIENCES</td>\n",
              "      <td>None</td>\n",
              "      <td>[-0.7367060184, 0.8094774485, -0.0390381552, -...</td>\n",
              "    </tr>\n",
              "    <tr>\n",
              "      <th>00021eeee2bf4e06fec98941206f97083c38b54d</th>\n",
              "      <td>00021eeee2bf4e06fec98941206f97083c38b54d</td>\n",
              "      <td>Opportunities and challenges for E-Commerce in...</td>\n",
              "      <td>Numerous studies of E-Commerce have emphasized...</td>\n",
              "      <td>[-1.1841081381, 1.1308963299, 0.6682422161, 0....</td>\n",
              "    </tr>\n",
              "    <tr>\n",
              "      <th>00027baa2a90e1a3d50c1da14882d518de6847f5</th>\n",
              "      <td>00027baa2a90e1a3d50c1da14882d518de6847f5</td>\n",
              "      <td>Interactions between model membranes and ligni...</td>\n",
              "      <td>In order to elucidate the modes of interaction...</td>\n",
              "      <td>[0.2389703691, 0.7384790778, 1.0119105577, -0....</td>\n",
              "    </tr>\n",
              "    <tr>\n",
              "      <th>00034a5a5bd11b51ec046d31de273946d91fb766</th>\n",
              "      <td>00034a5a5bd11b51ec046d31de273946d91fb766</td>\n",
              "      <td>Perpetual Peace: What Kant Should Have Said</td>\n",
              "      <td>None</td>\n",
              "      <td>[-0.7743704319, 0.5894224048, -0.3162544966, 0...</td>\n",
              "    </tr>\n",
              "    <tr>\n",
              "      <th>000c8d85037886c86de15290e5a8e9bae7b66103</th>\n",
              "      <td>000c8d85037886c86de15290e5a8e9bae7b66103</td>\n",
              "      <td>Reimagining Greek Tragedy on the American Stage</td>\n",
              "      <td>List of Illustrations Preface Introduction CHA...</td>\n",
              "      <td>[0.0163563173, 0.50049299, -0.0730320513, 0.64...</td>\n",
              "    </tr>\n",
              "    <tr>\n",
              "      <th>...</th>\n",
              "      <td>...</td>\n",
              "      <td>...</td>\n",
              "      <td>...</td>\n",
              "      <td>...</td>\n",
              "    </tr>\n",
              "    <tr>\n",
              "      <th>ffe534bb74efd04b0038510be2a4ed5072430c8b</th>\n",
              "      <td>ffe534bb74efd04b0038510be2a4ed5072430c8b</td>\n",
              "      <td>Comparison of olmesartan combined with a calci...</td>\n",
              "      <td>The cardiovascular effects of combined therapy...</td>\n",
              "      <td>[-0.5972291231, 0.17011463640000002, 0.6428002...</td>\n",
              "    </tr>\n",
              "    <tr>\n",
              "      <th>ffeaac2b94fc298676e9784ed3bd7a6a7c23b9d1</th>\n",
              "      <td>ffeaac2b94fc298676e9784ed3bd7a6a7c23b9d1</td>\n",
              "      <td>Role of angiotensin II in plasma PAI-1 changes...</td>\n",
              "      <td>To evaluate the relationship between plasma pl...</td>\n",
              "      <td>[-0.3963649869, 0.5153160095, 0.4946651161, -0...</td>\n",
              "    </tr>\n",
              "    <tr>\n",
              "      <th>ffecb03cbf4dccf9fcdc8b26f40f53d5bc44be66</th>\n",
              "      <td>ffecb03cbf4dccf9fcdc8b26f40f53d5bc44be66</td>\n",
              "      <td>Factors that influence cancer patients' anxiet...</td>\n",
              "      <td>BACKGROUND\\nNo study has yet assessed the impa...</td>\n",
              "      <td>[-0.3526456356, 0.3627114594, -0.8083767891, 0...</td>\n",
              "    </tr>\n",
              "    <tr>\n",
              "      <th>fff238844076ad5643dc2ff53153581bd89441ea</th>\n",
              "      <td>fff238844076ad5643dc2ff53153581bd89441ea</td>\n",
              "      <td>Is adjuvant chemotherapy indicated in stage I ...</td>\n",
              "      <td>OBJECTIVE\\nConservative surgery followed by pl...</td>\n",
              "      <td>[0.5204859972, -0.07988817990000001, -0.430343...</td>\n",
              "    </tr>\n",
              "    <tr>\n",
              "      <th>fff766303c67b984a64e33566853375d35951424</th>\n",
              "      <td>fff766303c67b984a64e33566853375d35951424</td>\n",
              "      <td>Relationship between PCO2 and unfavorable outc...</td>\n",
              "      <td>Background:Abnormal PCO2 is common in infants ...</td>\n",
              "      <td>[-0.40102842450000004, 0.9684960842, 0.3345110...</td>\n",
              "    </tr>\n",
              "  </tbody>\n",
              "</table>\n",
              "<p>48473 rows × 4 columns</p>\n",
              "</div>\n",
              "      <button class=\"colab-df-convert\" onclick=\"convertToInteractive('df-6800a4e5-4637-4eba-84f1-9a35a42093ee')\"\n",
              "              title=\"Convert this dataframe to an interactive table.\"\n",
              "              style=\"display:none;\">\n",
              "        \n",
              "  <svg xmlns=\"http://www.w3.org/2000/svg\" height=\"24px\"viewBox=\"0 0 24 24\"\n",
              "       width=\"24px\">\n",
              "    <path d=\"M0 0h24v24H0V0z\" fill=\"none\"/>\n",
              "    <path d=\"M18.56 5.44l.94 2.06.94-2.06 2.06-.94-2.06-.94-.94-2.06-.94 2.06-2.06.94zm-11 1L8.5 8.5l.94-2.06 2.06-.94-2.06-.94L8.5 2.5l-.94 2.06-2.06.94zm10 10l.94 2.06.94-2.06 2.06-.94-2.06-.94-.94-2.06-.94 2.06-2.06.94z\"/><path d=\"M17.41 7.96l-1.37-1.37c-.4-.4-.92-.59-1.43-.59-.52 0-1.04.2-1.43.59L10.3 9.45l-7.72 7.72c-.78.78-.78 2.05 0 2.83L4 21.41c.39.39.9.59 1.41.59.51 0 1.02-.2 1.41-.59l7.78-7.78 2.81-2.81c.8-.78.8-2.07 0-2.86zM5.41 20L4 18.59l7.72-7.72 1.47 1.35L5.41 20z\"/>\n",
              "  </svg>\n",
              "      </button>\n",
              "      \n",
              "  <style>\n",
              "    .colab-df-container {\n",
              "      display:flex;\n",
              "      flex-wrap:wrap;\n",
              "      gap: 12px;\n",
              "    }\n",
              "\n",
              "    .colab-df-convert {\n",
              "      background-color: #E8F0FE;\n",
              "      border: none;\n",
              "      border-radius: 50%;\n",
              "      cursor: pointer;\n",
              "      display: none;\n",
              "      fill: #1967D2;\n",
              "      height: 32px;\n",
              "      padding: 0 0 0 0;\n",
              "      width: 32px;\n",
              "    }\n",
              "\n",
              "    .colab-df-convert:hover {\n",
              "      background-color: #E2EBFA;\n",
              "      box-shadow: 0px 1px 2px rgba(60, 64, 67, 0.3), 0px 1px 3px 1px rgba(60, 64, 67, 0.15);\n",
              "      fill: #174EA6;\n",
              "    }\n",
              "\n",
              "    [theme=dark] .colab-df-convert {\n",
              "      background-color: #3B4455;\n",
              "      fill: #D2E3FC;\n",
              "    }\n",
              "\n",
              "    [theme=dark] .colab-df-convert:hover {\n",
              "      background-color: #434B5C;\n",
              "      box-shadow: 0px 1px 3px 1px rgba(0, 0, 0, 0.15);\n",
              "      filter: drop-shadow(0px 1px 2px rgba(0, 0, 0, 0.3));\n",
              "      fill: #FFFFFF;\n",
              "    }\n",
              "  </style>\n",
              "\n",
              "      <script>\n",
              "        const buttonEl =\n",
              "          document.querySelector('#df-6800a4e5-4637-4eba-84f1-9a35a42093ee button.colab-df-convert');\n",
              "        buttonEl.style.display =\n",
              "          google.colab.kernel.accessAllowed ? 'block' : 'none';\n",
              "\n",
              "        async function convertToInteractive(key) {\n",
              "          const element = document.querySelector('#df-6800a4e5-4637-4eba-84f1-9a35a42093ee');\n",
              "          const dataTable =\n",
              "            await google.colab.kernel.invokeFunction('convertToInteractive',\n",
              "                                                     [key], {});\n",
              "          if (!dataTable) return;\n",
              "\n",
              "          const docLinkHtml = 'Like what you see? Visit the ' +\n",
              "            '<a target=\"_blank\" href=https://colab.research.google.com/notebooks/data_table.ipynb>data table notebook</a>'\n",
              "            + ' to learn more about interactive tables.';\n",
              "          element.innerHTML = '';\n",
              "          dataTable['output_type'] = 'display_data';\n",
              "          await google.colab.output.renderOutput(dataTable, element);\n",
              "          const docLink = document.createElement('div');\n",
              "          docLink.innerHTML = docLinkHtml;\n",
              "          element.appendChild(docLink);\n",
              "        }\n",
              "      </script>\n",
              "    </div>\n",
              "  </div>\n",
              "  "
            ]
          },
          "metadata": {},
          "execution_count": 6
        }
      ],
      "source": [
        "embeddings_df"
      ]
    },
    {
      "cell_type": "markdown",
      "metadata": {
        "id": "StIZYQPknSIU"
      },
      "source": [
        "Now we import the associated MAG classification and merge it with the embedding dataframe."
      ]
    },
    {
      "cell_type": "code",
      "execution_count": 7,
      "metadata": {
        "colab": {
          "base_uri": "https://localhost:8080/"
        },
        "id": "Dm1xyIsjnMxO",
        "outputId": "9ab30c47-3805-49c6-93e9-2f4886b8a3e0"
      },
      "outputs": [
        {
          "output_type": "execute_result",
          "data": {
            "text/plain": [
              "Index(['pid', 'class_label'], dtype='object')"
            ]
          },
          "metadata": {},
          "execution_count": 7
        }
      ],
      "source": [
        "train_path, test_path = '/content/data/mesh/train.csv', '/content/data/mesh/test.csv'\n",
        "train_df, test_df = pd.read_csv(train_path), pd.read_csv(test_path)\n",
        "train_df.columns"
      ]
    },
    {
      "cell_type": "code",
      "execution_count": 8,
      "metadata": {
        "id": "bLIzHVaTniHK"
      },
      "outputs": [],
      "source": [
        "train_merged_df, test_merged_df = pd.merge(embeddings_df, train_df, how='inner', left_on='paper_id', right_on='pid'), pd.merge(embeddings_df, test_df, how='inner', left_on='paper_id', right_on='pid')\n",
        "train_merged_df, test_merged_df = train_merged_df[['paper_id', 'embedding', 'class_label']], test_merged_df[['paper_id', 'embedding', 'class_label']]"
      ]
    },
    {
      "cell_type": "code",
      "execution_count": 9,
      "metadata": {
        "colab": {
          "base_uri": "https://localhost:8080/",
          "height": 424
        },
        "id": "d03rzVemnjrf",
        "outputId": "d37ccab4-522b-4c3d-8736-119435fc5fa3"
      },
      "outputs": [
        {
          "output_type": "execute_result",
          "data": {
            "text/plain": [
              "                                       paper_id  \\\n",
              "0      fedb8360a09a326f403dcca14494e1da8a5f3adc   \n",
              "1      0000f668a76cbc2bffa4c5ec476c37724b585e41   \n",
              "2      00020be3126ad6ea52b111a83cb3c49bd9a53677   \n",
              "3      00043777ed6209e46430fc343dabcf028ab5b03e   \n",
              "4      0004a7236789b7683a123eabeaa9355ca537aa69   \n",
              "...                                         ...   \n",
              "16428  ffd92664ddfa10882b89a3eaf4aed9b319542c5e   \n",
              "16429  ffdfe54fa3957cc1f4a08b0d100afc5e448ff9e7   \n",
              "16430  ffe534bb74efd04b0038510be2a4ed5072430c8b   \n",
              "16431  ffeaac2b94fc298676e9784ed3bd7a6a7c23b9d1   \n",
              "16432  fff238844076ad5643dc2ff53153581bd89441ea   \n",
              "\n",
              "                                               embedding  class_label  \n",
              "0      [-1.0045875311, -0.1595053226, 0.2786692381, 0...            0  \n",
              "1      [-1.0261574984, -0.34777581690000003, -0.33172...            2  \n",
              "2      [-1.2241401672, 0.9126404524, 0.1266495585, 0....            3  \n",
              "3      [0.554428637, 0.6132897735, -0.0784010291, 0.5...            9  \n",
              "4      [-0.2132486999, 0.2546937168, 0.3828205764, -0...            0  \n",
              "...                                                  ...          ...  \n",
              "16428  [-0.2729554772, 0.6822428107, -0.2828726470000...            7  \n",
              "16429  [0.2677490711, -0.24520285430000002, -0.392297...            9  \n",
              "16430  [-0.5972291231, 0.17011463640000002, 0.6428002...            0  \n",
              "16431  [-0.3963649869, 0.5153160095, 0.4946651161, -0...            0  \n",
              "16432  [0.5204859972, -0.07988817990000001, -0.430343...            9  \n",
              "\n",
              "[16433 rows x 3 columns]"
            ],
            "text/html": [
              "\n",
              "  <div id=\"df-3921ab5a-70b6-4363-b358-8b0dd9c60128\">\n",
              "    <div class=\"colab-df-container\">\n",
              "      <div>\n",
              "<style scoped>\n",
              "    .dataframe tbody tr th:only-of-type {\n",
              "        vertical-align: middle;\n",
              "    }\n",
              "\n",
              "    .dataframe tbody tr th {\n",
              "        vertical-align: top;\n",
              "    }\n",
              "\n",
              "    .dataframe thead th {\n",
              "        text-align: right;\n",
              "    }\n",
              "</style>\n",
              "<table border=\"1\" class=\"dataframe\">\n",
              "  <thead>\n",
              "    <tr style=\"text-align: right;\">\n",
              "      <th></th>\n",
              "      <th>paper_id</th>\n",
              "      <th>embedding</th>\n",
              "      <th>class_label</th>\n",
              "    </tr>\n",
              "  </thead>\n",
              "  <tbody>\n",
              "    <tr>\n",
              "      <th>0</th>\n",
              "      <td>fedb8360a09a326f403dcca14494e1da8a5f3adc</td>\n",
              "      <td>[-1.0045875311, -0.1595053226, 0.2786692381, 0...</td>\n",
              "      <td>0</td>\n",
              "    </tr>\n",
              "    <tr>\n",
              "      <th>1</th>\n",
              "      <td>0000f668a76cbc2bffa4c5ec476c37724b585e41</td>\n",
              "      <td>[-1.0261574984, -0.34777581690000003, -0.33172...</td>\n",
              "      <td>2</td>\n",
              "    </tr>\n",
              "    <tr>\n",
              "      <th>2</th>\n",
              "      <td>00020be3126ad6ea52b111a83cb3c49bd9a53677</td>\n",
              "      <td>[-1.2241401672, 0.9126404524, 0.1266495585, 0....</td>\n",
              "      <td>3</td>\n",
              "    </tr>\n",
              "    <tr>\n",
              "      <th>3</th>\n",
              "      <td>00043777ed6209e46430fc343dabcf028ab5b03e</td>\n",
              "      <td>[0.554428637, 0.6132897735, -0.0784010291, 0.5...</td>\n",
              "      <td>9</td>\n",
              "    </tr>\n",
              "    <tr>\n",
              "      <th>4</th>\n",
              "      <td>0004a7236789b7683a123eabeaa9355ca537aa69</td>\n",
              "      <td>[-0.2132486999, 0.2546937168, 0.3828205764, -0...</td>\n",
              "      <td>0</td>\n",
              "    </tr>\n",
              "    <tr>\n",
              "      <th>...</th>\n",
              "      <td>...</td>\n",
              "      <td>...</td>\n",
              "      <td>...</td>\n",
              "    </tr>\n",
              "    <tr>\n",
              "      <th>16428</th>\n",
              "      <td>ffd92664ddfa10882b89a3eaf4aed9b319542c5e</td>\n",
              "      <td>[-0.2729554772, 0.6822428107, -0.2828726470000...</td>\n",
              "      <td>7</td>\n",
              "    </tr>\n",
              "    <tr>\n",
              "      <th>16429</th>\n",
              "      <td>ffdfe54fa3957cc1f4a08b0d100afc5e448ff9e7</td>\n",
              "      <td>[0.2677490711, -0.24520285430000002, -0.392297...</td>\n",
              "      <td>9</td>\n",
              "    </tr>\n",
              "    <tr>\n",
              "      <th>16430</th>\n",
              "      <td>ffe534bb74efd04b0038510be2a4ed5072430c8b</td>\n",
              "      <td>[-0.5972291231, 0.17011463640000002, 0.6428002...</td>\n",
              "      <td>0</td>\n",
              "    </tr>\n",
              "    <tr>\n",
              "      <th>16431</th>\n",
              "      <td>ffeaac2b94fc298676e9784ed3bd7a6a7c23b9d1</td>\n",
              "      <td>[-0.3963649869, 0.5153160095, 0.4946651161, -0...</td>\n",
              "      <td>0</td>\n",
              "    </tr>\n",
              "    <tr>\n",
              "      <th>16432</th>\n",
              "      <td>fff238844076ad5643dc2ff53153581bd89441ea</td>\n",
              "      <td>[0.5204859972, -0.07988817990000001, -0.430343...</td>\n",
              "      <td>9</td>\n",
              "    </tr>\n",
              "  </tbody>\n",
              "</table>\n",
              "<p>16433 rows × 3 columns</p>\n",
              "</div>\n",
              "      <button class=\"colab-df-convert\" onclick=\"convertToInteractive('df-3921ab5a-70b6-4363-b358-8b0dd9c60128')\"\n",
              "              title=\"Convert this dataframe to an interactive table.\"\n",
              "              style=\"display:none;\">\n",
              "        \n",
              "  <svg xmlns=\"http://www.w3.org/2000/svg\" height=\"24px\"viewBox=\"0 0 24 24\"\n",
              "       width=\"24px\">\n",
              "    <path d=\"M0 0h24v24H0V0z\" fill=\"none\"/>\n",
              "    <path d=\"M18.56 5.44l.94 2.06.94-2.06 2.06-.94-2.06-.94-.94-2.06-.94 2.06-2.06.94zm-11 1L8.5 8.5l.94-2.06 2.06-.94-2.06-.94L8.5 2.5l-.94 2.06-2.06.94zm10 10l.94 2.06.94-2.06 2.06-.94-2.06-.94-.94-2.06-.94 2.06-2.06.94z\"/><path d=\"M17.41 7.96l-1.37-1.37c-.4-.4-.92-.59-1.43-.59-.52 0-1.04.2-1.43.59L10.3 9.45l-7.72 7.72c-.78.78-.78 2.05 0 2.83L4 21.41c.39.39.9.59 1.41.59.51 0 1.02-.2 1.41-.59l7.78-7.78 2.81-2.81c.8-.78.8-2.07 0-2.86zM5.41 20L4 18.59l7.72-7.72 1.47 1.35L5.41 20z\"/>\n",
              "  </svg>\n",
              "      </button>\n",
              "      \n",
              "  <style>\n",
              "    .colab-df-container {\n",
              "      display:flex;\n",
              "      flex-wrap:wrap;\n",
              "      gap: 12px;\n",
              "    }\n",
              "\n",
              "    .colab-df-convert {\n",
              "      background-color: #E8F0FE;\n",
              "      border: none;\n",
              "      border-radius: 50%;\n",
              "      cursor: pointer;\n",
              "      display: none;\n",
              "      fill: #1967D2;\n",
              "      height: 32px;\n",
              "      padding: 0 0 0 0;\n",
              "      width: 32px;\n",
              "    }\n",
              "\n",
              "    .colab-df-convert:hover {\n",
              "      background-color: #E2EBFA;\n",
              "      box-shadow: 0px 1px 2px rgba(60, 64, 67, 0.3), 0px 1px 3px 1px rgba(60, 64, 67, 0.15);\n",
              "      fill: #174EA6;\n",
              "    }\n",
              "\n",
              "    [theme=dark] .colab-df-convert {\n",
              "      background-color: #3B4455;\n",
              "      fill: #D2E3FC;\n",
              "    }\n",
              "\n",
              "    [theme=dark] .colab-df-convert:hover {\n",
              "      background-color: #434B5C;\n",
              "      box-shadow: 0px 1px 3px 1px rgba(0, 0, 0, 0.15);\n",
              "      filter: drop-shadow(0px 1px 2px rgba(0, 0, 0, 0.3));\n",
              "      fill: #FFFFFF;\n",
              "    }\n",
              "  </style>\n",
              "\n",
              "      <script>\n",
              "        const buttonEl =\n",
              "          document.querySelector('#df-3921ab5a-70b6-4363-b358-8b0dd9c60128 button.colab-df-convert');\n",
              "        buttonEl.style.display =\n",
              "          google.colab.kernel.accessAllowed ? 'block' : 'none';\n",
              "\n",
              "        async function convertToInteractive(key) {\n",
              "          const element = document.querySelector('#df-3921ab5a-70b6-4363-b358-8b0dd9c60128');\n",
              "          const dataTable =\n",
              "            await google.colab.kernel.invokeFunction('convertToInteractive',\n",
              "                                                     [key], {});\n",
              "          if (!dataTable) return;\n",
              "\n",
              "          const docLinkHtml = 'Like what you see? Visit the ' +\n",
              "            '<a target=\"_blank\" href=https://colab.research.google.com/notebooks/data_table.ipynb>data table notebook</a>'\n",
              "            + ' to learn more about interactive tables.';\n",
              "          element.innerHTML = '';\n",
              "          dataTable['output_type'] = 'display_data';\n",
              "          await google.colab.output.renderOutput(dataTable, element);\n",
              "          const docLink = document.createElement('div');\n",
              "          docLink.innerHTML = docLinkHtml;\n",
              "          element.appendChild(docLink);\n",
              "        }\n",
              "      </script>\n",
              "    </div>\n",
              "  </div>\n",
              "  "
            ]
          },
          "metadata": {},
          "execution_count": 9
        }
      ],
      "source": [
        "train_merged_df"
      ]
    },
    {
      "cell_type": "markdown",
      "metadata": {
        "id": "e8AFz9dfnqw5"
      },
      "source": [
        "Perfect. Now that we have our train and test data, we can focus on training different models.\n",
        "\n",
        "Let's put the data in an adequat format."
      ]
    },
    {
      "cell_type": "code",
      "execution_count": 10,
      "metadata": {
        "id": "tC4p66DTnlTo"
      },
      "outputs": [],
      "source": [
        "import numpy as np\n",
        "\n",
        "x_train, y_train = [], []\n",
        "x_test, y_test = [], []\n",
        "\n",
        "i = 0\n",
        "for _, embedding, class_label in train_merged_df.values:\n",
        "  x_train.append(embedding)\n",
        "  y_train.append(class_label)\n",
        "\n",
        "x_train = np.array(x_train)\n",
        "y_train = np.array(y_train)\n",
        "\n",
        "for _, embedding, class_label in test_merged_df.values:\n",
        "  x_test.append(embedding)\n",
        "  y_test.append(class_label)\n",
        "\n",
        "x_test = np.array(x_test)\n",
        "y_test = np.array(y_test)"
      ]
    },
    {
      "cell_type": "markdown",
      "metadata": {
        "id": "OWuz4fOfq7XH"
      },
      "source": [
        "First let's try a linear SVC."
      ]
    },
    {
      "cell_type": "code",
      "execution_count": 11,
      "metadata": {
        "id": "n4oKDCBHsTz_"
      },
      "outputs": [],
      "source": [
        "from sklearn import svm\n",
        "\n",
        "classifier1 = svm.LinearSVC(penalty='l2', loss='squared_hinge', max_iter=50000, random_state=42)"
      ]
    },
    {
      "cell_type": "code",
      "execution_count": 12,
      "metadata": {
        "id": "rjlanvd2tLyn",
        "colab": {
          "base_uri": "https://localhost:8080/"
        },
        "outputId": "179b9e9d-b4b8-466a-961a-8cfda6037413"
      },
      "outputs": [
        {
          "output_type": "execute_result",
          "data": {
            "text/plain": [
              "LinearSVC(max_iter=50000, random_state=42)"
            ]
          },
          "metadata": {},
          "execution_count": 12
        }
      ],
      "source": [
        "classifier1.fit(x_train, y_train)"
      ]
    },
    {
      "cell_type": "code",
      "execution_count": 13,
      "metadata": {
        "id": "kJIqAEr3tQOk",
        "colab": {
          "base_uri": "https://localhost:8080/"
        },
        "outputId": "04ed458f-0aac-4fab-cd72-775d17f1a3cf"
      },
      "outputs": [
        {
          "output_type": "execute_result",
          "data": {
            "text/plain": [
              "(0.8217934165720772, 0.7857127929592772)"
            ]
          },
          "metadata": {},
          "execution_count": 13
        }
      ],
      "source": [
        "from sklearn.metrics import f1_score\n",
        "\n",
        "y_pred = classifier1.predict(x_test)\n",
        "classifier1.score(x_test, y_test), f1_score(y_test, y_pred, average='macro')"
      ]
    },
    {
      "cell_type": "markdown",
      "metadata": {
        "id": "pA1Ph8JStRzp"
      },
      "source": [
        "Let's put it to the test with different articles."
      ]
    },
    {
      "cell_type": "code",
      "execution_count": 14,
      "metadata": {
        "id": "hM_eFWpNtVSh"
      },
      "outputs": [],
      "source": [
        "def classify_article(classifier, title, abstract, cls=False, probas=False):\n",
        "  classes = {0: \"Cardiovascular diseases\", 1: \"Chronic kidney disease\", 2: \"Chronic respiratory diseases\", 3: \"Diabetes mellitus\", \\\n",
        "             4: \"Digestive disease\", 5: \"HIV/AIDS\", 6: \"Hepatitis A/B/C/E\", 7: \"Mental disorders\",8: \"Musculoskeletal disorders\",\\\n",
        "             9: \"Neoplasms (cancer)\", 10: \"Neurological disorders\"}\n",
        "\n",
        "  embed = model.encode([title + '[SEP]' + abstract])\n",
        "\n",
        "  if cls:\n",
        "    return np.array(list(zip(classifier.decision_function(embed)[0], classes.values())), dtype=object)\n",
        "  return classes[classifier.predict(embed)[0]]"
      ]
    },
    {
      "cell_type": "markdown",
      "metadata": {
        "id": "hy4LxSjttY-T"
      },
      "source": [
        "Title: SPECTER: Document-level Representation Learning using Citation-informed Transformers\n",
        "\n",
        "Abstract: Representation learning is a critical ingredient for natural language processing systems. Recent Transformer language models like BERT learn powerful textual representations, but these models are targeted towards token- and sentence-level training objectives and do not leverage information on inter-document relatedness, which limits their document-level representation power. For applications on scientific documents, such as classification and recommendation, the embeddings power strong performance on end tasks. We propose SPECTER, a new method to generate document-level embedding of scientific documents based on pretraining a Transformer language model on a powerful signal of document-level relatedness: the citation graph. Unlike existing pretrained language models, SPECTER can be easily applied to downstream applications without task-specific fine-tuning. Additionally, to encourage further research on document-level models, we introduce SCIDOCS, a new evaluation benchmark consisting of seven document-level tasks ranging from citation prediction, to document classification and recommendation. We show that SPECTER outperforms a variety of competitive baselines on the benchmark.\n",
        "\n",
        "Class: Computer science (obviously)\n"
      ]
    },
    {
      "cell_type": "code",
      "execution_count": 15,
      "metadata": {
        "id": "SDtQTb4XtaJB",
        "colab": {
          "base_uri": "https://localhost:8080/"
        },
        "outputId": "87d837b5-dbcd-4d5f-a33b-193ff9dd53db"
      },
      "outputs": [
        {
          "output_type": "execute_result",
          "data": {
            "text/plain": [
              "array([[0.18188403460280544, 'Musculoskeletal disorders'],\n",
              "       [0.0014438201551862928, 'Cardiovascular diseases'],\n",
              "       [-0.6703056599495868, 'Neoplasms (cancer)'],\n",
              "       [-1.188735031315706, 'Chronic respiratory diseases'],\n",
              "       [-1.570818688226489, 'Hepatitis A/B/C/E'],\n",
              "       [-1.7029991593739067, 'Neurological disorders'],\n",
              "       [-1.9067350494895103, 'Mental disorders'],\n",
              "       [-4.894820763527614, 'Diabetes mellitus'],\n",
              "       [-5.172434206536423, 'Chronic kidney disease'],\n",
              "       [-5.56194483012853, 'Digestive disease'],\n",
              "       [-5.635450894921967, 'HIV/AIDS']], dtype=object)"
            ]
          },
          "metadata": {},
          "execution_count": 15
        }
      ],
      "source": [
        "res = classify_article(classifier1, \"SPECTER: Document-level Representation Learning using Citation-informed Transformers\", \"Representation learning is a critical ingredient for natural language processing systems. Recent Transformer language models like BERT learn powerful textual representations, but these models are targeted towards token- and sentence-level training objectives and do not leverage information on inter-document relatedness, which limits their document-level representation power. For applications on scientific documents, such as classification and recommendation, the embeddings power strong performance on end tasks. We propose SPECTER, a new method to generate document-level embedding of scientific documents based on pretraining a Transformer language model on a powerful signal of document-level relatedness: the citation graph. Unlike existing pretrained language models, SPECTER can be easily applied to downstream applications without task-specific fine-tuning. Additionally, to encourage further research on document-level models, we introduce SCIDOCS, a new evaluation benchmark consisting of seven document-level tasks ranging from citation prediction, to document classification and recommendation. We show that SPECTER outperforms a variety of competitive baselines on the benchmark.\", cls=True)\n",
        "res[np.argsort(-res[:, 0])]"
      ]
    },
    {
      "cell_type": "markdown",
      "metadata": {
        "id": "MYvOnsaJtfdA"
      },
      "source": [
        "Successfuly classifies as computer science.\n",
        "\n",
        "title: Exploring The Concept Of Cubism Art Essay\n",
        "\n",
        "abstract: Cubism was one of the most influential art movements of the 20th century. It took place between 1907 and about 1914. The innovators of the Cubist movement were Pablo Picasso (Spanish, 1881 1973) and Georges Braque (French, 1882 1963). Cubism was one of the most significant changes in ideas in the history of art. It allowed for the development of many of the abstract modern art movements in areas such as Futurism and Constructivism.\n",
        "\n",
        "Class: Art"
      ]
    },
    {
      "cell_type": "code",
      "execution_count": 16,
      "metadata": {
        "id": "UiYgSevptm55",
        "colab": {
          "base_uri": "https://localhost:8080/"
        },
        "outputId": "71e59808-3a55-4123-ed1e-fab323650f1b"
      },
      "outputs": [
        {
          "output_type": "execute_result",
          "data": {
            "text/plain": [
              "array([[-0.7300249163725618, 'Cardiovascular diseases'],\n",
              "       [-0.7333489748110631, 'Neoplasms (cancer)'],\n",
              "       [-0.7539828753068685, 'Musculoskeletal disorders'],\n",
              "       [-0.9048945074057232, 'Chronic respiratory diseases'],\n",
              "       [-1.0358776720878116, 'Neurological disorders'],\n",
              "       [-1.970403438661797, 'Chronic kidney disease'],\n",
              "       [-2.3168198993510534, 'Mental disorders'],\n",
              "       [-3.777500497878009, 'Hepatitis A/B/C/E'],\n",
              "       [-3.9904632917053258, 'Digestive disease'],\n",
              "       [-4.080385763275245, 'HIV/AIDS'],\n",
              "       [-5.649749347456169, 'Diabetes mellitus']], dtype=object)"
            ]
          },
          "metadata": {},
          "execution_count": 16
        }
      ],
      "source": [
        "res = classify_article(classifier1, \"Exploring The Concept Of Cubism Art Essay\", \"Cubism was one of the most influential art movements of the 20th century. It took place between 1907 and about 1914. The innovators of the Cubist movement were Pablo Picasso (Spanish, 1881 1973) and Georges Braque (French, 1882 1963). Cubism was one of the most significant changes in ideas in the history of art. It allowed for the development of many of the abstract modern art movements in areas such as Futurism and Constructivism.\", cls=True)\n",
        "res[np.argsort(-res[:, 0])]"
      ]
    },
    {
      "cell_type": "markdown",
      "metadata": {
        "id": "Ak5I70Sztv_a"
      },
      "source": [
        "Great success.\n",
        "\n",
        "Let's use gridsearch to find the best set of parameters. The training might take a lot of time because it trains. We're also using f1 as a scoring function since it's the scoring function used in the scidoc benchmark.\n",
        "\n",
        "The gridsearch is a quite long process when it has a lot of parameters. In this case, we test two different loss and 7 different C, so our gridsearch consist of training and comparing 14 different models to extract the best one."
      ]
    },
    {
      "cell_type": "code",
      "execution_count": 25,
      "metadata": {
        "id": "JQRmMvaQq77s"
      },
      "outputs": [],
      "source": [
        "from sklearn.model_selection import GridSearchCV\n",
        "from sklearn.metrics import make_scorer\n",
        "\n",
        "parameters = {'C': np.logspace(-4, 2, 7)}\n",
        "svc = svm.LinearSVC(loss='squared_hinge')\n",
        "clf1 = GridSearchCV(svc, parameters, cv=3, verbose=1)"
      ]
    },
    {
      "cell_type": "code",
      "execution_count": 26,
      "metadata": {
        "id": "8dcAZfwn3Deu",
        "colab": {
          "base_uri": "https://localhost:8080/"
        },
        "outputId": "1fd28b82-3d91-4416-b548-78eb07672b36"
      },
      "outputs": [
        {
          "output_type": "stream",
          "name": "stdout",
          "text": [
            "Fitting 3 folds for each of 7 candidates, totalling 21 fits\n"
          ]
        },
        {
          "output_type": "stream",
          "name": "stderr",
          "text": [
            "/usr/local/lib/python3.8/dist-packages/sklearn/svm/_base.py:1206: ConvergenceWarning: Liblinear failed to converge, increase the number of iterations.\n",
            "  warnings.warn(\n",
            "/usr/local/lib/python3.8/dist-packages/sklearn/svm/_base.py:1206: ConvergenceWarning: Liblinear failed to converge, increase the number of iterations.\n",
            "  warnings.warn(\n",
            "/usr/local/lib/python3.8/dist-packages/sklearn/svm/_base.py:1206: ConvergenceWarning: Liblinear failed to converge, increase the number of iterations.\n",
            "  warnings.warn(\n",
            "/usr/local/lib/python3.8/dist-packages/sklearn/svm/_base.py:1206: ConvergenceWarning: Liblinear failed to converge, increase the number of iterations.\n",
            "  warnings.warn(\n",
            "/usr/local/lib/python3.8/dist-packages/sklearn/svm/_base.py:1206: ConvergenceWarning: Liblinear failed to converge, increase the number of iterations.\n",
            "  warnings.warn(\n",
            "/usr/local/lib/python3.8/dist-packages/sklearn/svm/_base.py:1206: ConvergenceWarning: Liblinear failed to converge, increase the number of iterations.\n",
            "  warnings.warn(\n",
            "/usr/local/lib/python3.8/dist-packages/sklearn/svm/_base.py:1206: ConvergenceWarning: Liblinear failed to converge, increase the number of iterations.\n",
            "  warnings.warn(\n",
            "/usr/local/lib/python3.8/dist-packages/sklearn/svm/_base.py:1206: ConvergenceWarning: Liblinear failed to converge, increase the number of iterations.\n",
            "  warnings.warn(\n",
            "/usr/local/lib/python3.8/dist-packages/sklearn/svm/_base.py:1206: ConvergenceWarning: Liblinear failed to converge, increase the number of iterations.\n",
            "  warnings.warn(\n",
            "/usr/local/lib/python3.8/dist-packages/sklearn/svm/_base.py:1206: ConvergenceWarning: Liblinear failed to converge, increase the number of iterations.\n",
            "  warnings.warn(\n",
            "/usr/local/lib/python3.8/dist-packages/sklearn/svm/_base.py:1206: ConvergenceWarning: Liblinear failed to converge, increase the number of iterations.\n",
            "  warnings.warn(\n",
            "/usr/local/lib/python3.8/dist-packages/sklearn/svm/_base.py:1206: ConvergenceWarning: Liblinear failed to converge, increase the number of iterations.\n",
            "  warnings.warn(\n"
          ]
        },
        {
          "output_type": "execute_result",
          "data": {
            "text/plain": [
              "GridSearchCV(cv=3, estimator=LinearSVC(),\n",
              "             param_grid={'C': array([1.e-04, 1.e-03, 1.e-02, 1.e-01, 1.e+00, 1.e+01, 1.e+02])},\n",
              "             verbose=1)"
            ]
          },
          "metadata": {},
          "execution_count": 26
        }
      ],
      "source": [
        "clf1.fit(x_train, y_train)"
      ]
    },
    {
      "cell_type": "code",
      "execution_count": 27,
      "metadata": {
        "id": "tJd9C6-Y9F-p",
        "colab": {
          "base_uri": "https://localhost:8080/"
        },
        "outputId": "7d770e37-d6ef-4c1d-faab-1bf4d54c5a1f"
      },
      "outputs": [
        {
          "output_type": "execute_result",
          "data": {
            "text/plain": [
              "{'cv': 3,\n",
              " 'error_score': nan,\n",
              " 'estimator__C': 1.0,\n",
              " 'estimator__class_weight': None,\n",
              " 'estimator__dual': True,\n",
              " 'estimator__fit_intercept': True,\n",
              " 'estimator__intercept_scaling': 1,\n",
              " 'estimator__loss': 'squared_hinge',\n",
              " 'estimator__max_iter': 1000,\n",
              " 'estimator__multi_class': 'ovr',\n",
              " 'estimator__penalty': 'l2',\n",
              " 'estimator__random_state': None,\n",
              " 'estimator__tol': 0.0001,\n",
              " 'estimator__verbose': 0,\n",
              " 'estimator': LinearSVC(),\n",
              " 'n_jobs': None,\n",
              " 'param_grid': {'C': array([1.e-04, 1.e-03, 1.e-02, 1.e-01, 1.e+00, 1.e+01, 1.e+02])},\n",
              " 'pre_dispatch': '2*n_jobs',\n",
              " 'refit': True,\n",
              " 'return_train_score': False,\n",
              " 'scoring': None,\n",
              " 'verbose': 1}"
            ]
          },
          "metadata": {},
          "execution_count": 27
        }
      ],
      "source": [
        "params = clf1.get_params()\n",
        "params"
      ]
    },
    {
      "cell_type": "markdown",
      "metadata": {
        "id": "iG3X1N1hBifJ"
      },
      "source": [
        "```\n",
        "{'cv': None,\n",
        " 'error_score': nan,\n",
        " 'estimator': LinearSVC(),\n",
        " 'n_jobs': None,\n",
        " 'param_grid': {'loss': ('hinge', 'squared_hinge'),\n",
        "  'C': array([1.e-04, 1.e-03, 1.e-02, 1.e-01, 1.e+00, 1.e+01, 1.e+02])},\n",
        " 'pre_dispatch': '2*n_jobs',\n",
        " 'refit': True,\n",
        " 'return_train_score': False,\n",
        " 'scoring': make_scorer(f1_score, average=macro),\n",
        " 'verbose': 0}\n",
        " ```"
      ]
    },
    {
      "cell_type": "code",
      "execution_count": 28,
      "metadata": {
        "id": "AWMFa8uv3M6Z",
        "colab": {
          "base_uri": "https://localhost:8080/"
        },
        "outputId": "57b5477c-a403-45e8-c3f3-4a93c20e4d0f"
      },
      "outputs": [
        {
          "output_type": "execute_result",
          "data": {
            "text/plain": [
              "(0.8444948921679909, 0.8444948921679909)"
            ]
          },
          "metadata": {},
          "execution_count": 28
        }
      ],
      "source": [
        "y_pred = clf1.predict(x_test)\n",
        "clf1.score(x_test, y_test), np.mean(y_test == y_pred)"
      ]
    },
    {
      "cell_type": "markdown",
      "metadata": {
        "id": "NjA1PTCWt2LE"
      },
      "source": [
        "f1 = 0.8286\n",
        "\n",
        "accuracy = 0.8445\n",
        "\n",
        "Not as good as in the scidocs benchmarking (f1 = 0.8195). But as we can see there's an error in the convergence and it advises to increase the number of iteration. So let's reuse the parameters of the best current model and increase the number of iterations. Right now, the maximum number of iterations is 1000, so let's set it to 50 000. All the other parameters are actually the default parameters."
      ]
    },
    {
      "cell_type": "code",
      "source": [
        "clf1_2 = svm.LinearSVC(max_iter=50000)"
      ],
      "metadata": {
        "id": "iFqExpb3NiZj"
      },
      "execution_count": 29,
      "outputs": []
    },
    {
      "cell_type": "code",
      "source": [
        "clf1_2.fit(x_train, y_train)"
      ],
      "metadata": {
        "colab": {
          "base_uri": "https://localhost:8080/"
        },
        "id": "DlaVN5-1nRth",
        "outputId": "84419f6b-87f4-41a9-bf56-99951bff0023"
      },
      "execution_count": 30,
      "outputs": [
        {
          "output_type": "execute_result",
          "data": {
            "text/plain": [
              "LinearSVC(max_iter=50000)"
            ]
          },
          "metadata": {},
          "execution_count": 30
        }
      ]
    },
    {
      "cell_type": "code",
      "source": [
        "y_pred = clf1_2.predict(x_test)\n",
        "clf1_2.score(x_test, y_test), f1_score(y_test, y_pred, average='macro')"
      ],
      "metadata": {
        "colab": {
          "base_uri": "https://localhost:8080/"
        },
        "id": "rHZ5vGQNnUcY",
        "outputId": "76021cac-697d-46de-c1db-9f970100935a"
      },
      "execution_count": 31,
      "outputs": [
        {
          "output_type": "execute_result",
          "data": {
            "text/plain": [
              "(0.8217934165720772, 0.7857127929592772)"
            ]
          },
          "metadata": {},
          "execution_count": 31
        }
      ]
    },
    {
      "cell_type": "markdown",
      "source": [
        "Doesn't improve, tried to do a grid search on the C parameter with max_iter=50 000 but failed everytime and took about 7 hours so I'm not doing it.\n",
        "\n",
        "Let's save the trained model into the Drive, maybe use it later for a more friendly user interface."
      ],
      "metadata": {
        "id": "a4_U_yJtwb_Q"
      }
    },
    {
      "cell_type": "code",
      "source": [
        "import pickle\n",
        "\n",
        "filename = '/content/drive/MyDrive/DNLP-project/linearSVC_model_mesh.sav'\n",
        "pickle.dump(clf1, open(filename, 'wb'))"
      ],
      "metadata": {
        "id": "kDBWyLKXw360"
      },
      "execution_count": 32,
      "outputs": []
    },
    {
      "cell_type": "markdown",
      "metadata": {
        "id": "WZ51-YFTAMEN"
      },
      "source": [
        "----\n",
        "\n",
        "Let's try a non linear svm now."
      ]
    },
    {
      "cell_type": "code",
      "execution_count": 33,
      "metadata": {
        "id": "9kgkA8pRAPMC"
      },
      "outputs": [],
      "source": [
        "from sklearn.model_selection import GridSearchCV\n",
        "\n",
        "parameters = {'C': np.logspace(-4, 2, 7)}\n",
        "svc = svm.SVC()\n",
        "clf2 = GridSearchCV(svc, parameters, scoring=make_scorer(f1_score, average=\"macro\"))"
      ]
    },
    {
      "cell_type": "code",
      "execution_count": 34,
      "metadata": {
        "id": "zNGR20H0A2DC",
        "colab": {
          "base_uri": "https://localhost:8080/"
        },
        "outputId": "aa6d25ac-9784-41f9-ea3b-5e80790ab478"
      },
      "outputs": [
        {
          "output_type": "execute_result",
          "data": {
            "text/plain": [
              "GridSearchCV(estimator=SVC(),\n",
              "             param_grid={'C': array([1.e-04, 1.e-03, 1.e-02, 1.e-01, 1.e+00, 1.e+01, 1.e+02])},\n",
              "             scoring=make_scorer(f1_score, average=macro))"
            ]
          },
          "metadata": {},
          "execution_count": 34
        }
      ],
      "source": [
        "clf2.fit(x_train, y_train)"
      ]
    },
    {
      "cell_type": "code",
      "execution_count": 35,
      "metadata": {
        "id": "RCutS038A4uJ",
        "colab": {
          "base_uri": "https://localhost:8080/"
        },
        "outputId": "1105e408-e921-47b8-bd34-85cf3b9f309b"
      },
      "outputs": [
        {
          "output_type": "execute_result",
          "data": {
            "text/plain": [
              "{'cv': None,\n",
              " 'error_score': nan,\n",
              " 'estimator__C': 1.0,\n",
              " 'estimator__break_ties': False,\n",
              " 'estimator__cache_size': 200,\n",
              " 'estimator__class_weight': None,\n",
              " 'estimator__coef0': 0.0,\n",
              " 'estimator__decision_function_shape': 'ovr',\n",
              " 'estimator__degree': 3,\n",
              " 'estimator__gamma': 'scale',\n",
              " 'estimator__kernel': 'rbf',\n",
              " 'estimator__max_iter': -1,\n",
              " 'estimator__probability': False,\n",
              " 'estimator__random_state': None,\n",
              " 'estimator__shrinking': True,\n",
              " 'estimator__tol': 0.001,\n",
              " 'estimator__verbose': False,\n",
              " 'estimator': SVC(),\n",
              " 'n_jobs': None,\n",
              " 'param_grid': {'C': array([1.e-04, 1.e-03, 1.e-02, 1.e-01, 1.e+00, 1.e+01, 1.e+02])},\n",
              " 'pre_dispatch': '2*n_jobs',\n",
              " 'refit': True,\n",
              " 'return_train_score': False,\n",
              " 'scoring': make_scorer(f1_score, average=macro),\n",
              " 'verbose': 0}"
            ]
          },
          "metadata": {},
          "execution_count": 35
        }
      ],
      "source": [
        "clf2.get_params()"
      ]
    },
    {
      "cell_type": "markdown",
      "metadata": {
        "id": "XwYcS74cp_gq"
      },
      "source": [
        "```\n",
        "{'cv': None,\n",
        " 'error_score': nan,\n",
        " 'estimator__C': 1.0,\n",
        " 'estimator__break_ties': False,\n",
        " 'estimator__cache_size': 200,\n",
        " 'estimator__class_weight': None,\n",
        " 'estimator__coef0': 0.0,\n",
        " 'estimator__decision_function_shape': 'ovr',\n",
        " 'estimator__degree': 3,\n",
        " 'estimator__gamma': 'scale',\n",
        " 'estimator__kernel': 'rbf',\n",
        " 'estimator__max_iter': -1,\n",
        " 'estimator__probability': False,\n",
        " 'estimator__random_state': None,\n",
        " 'estimator__shrinking': True,\n",
        " 'estimator__tol': 0.001,\n",
        " 'estimator__verbose': False,\n",
        " 'estimator': SVC(),\n",
        " 'n_jobs': None,\n",
        " 'param_grid': {'C': array([1.e-04, 1.e-03, 1.e-02, 1.e-01, 1.e+00, 1.e+01, 1.e+02])},\n",
        " 'pre_dispatch': '2*n_jobs',\n",
        " 'refit': True,\n",
        " 'return_train_score': False,\n",
        " 'scoring': make_scorer(f1_score, average=macro),\n",
        " 'verbose': 0}\n",
        "```\n"
      ]
    },
    {
      "cell_type": "code",
      "execution_count": 36,
      "metadata": {
        "id": "DjMw2zCtA7UO",
        "colab": {
          "base_uri": "https://localhost:8080/"
        },
        "outputId": "7ea1e363-1e97-4d30-dc9d-fd9cafc539fe"
      },
      "outputs": [
        {
          "output_type": "execute_result",
          "data": {
            "text/plain": [
              "(0.8289055337231488, 0.8476163450624291)"
            ]
          },
          "metadata": {},
          "execution_count": 36
        }
      ],
      "source": [
        "y_pred = clf2.predict(x_test)\n",
        "clf2.score(x_test, y_test), np.mean(y_test == y_pred)"
      ]
    },
    {
      "cell_type": "markdown",
      "metadata": {
        "id": "0al5Zu9Bt1BM"
      },
      "source": [
        "f1 = 0.8289\n",
        "\n",
        "accuracy = 0.8476\n",
        "\n",
        "no improvment, equivalent results."
      ]
    },
    {
      "cell_type": "code",
      "source": [
        "filename = '/content/drive/MyDrive/DNLP-project/SVC_model_mesh.sav'\n",
        "pickle.dump(clf1, open(filename, 'wb'))"
      ],
      "metadata": {
        "id": "n3HK12f__ruj"
      },
      "execution_count": 37,
      "outputs": []
    },
    {
      "cell_type": "markdown",
      "source": [
        "----\n",
        "\n",
        "Let's try naive bayes"
      ],
      "metadata": {
        "id": "n7xz5N8fmwMC"
      }
    },
    {
      "cell_type": "code",
      "source": [
        "from sklearn.naive_bayes import GaussianNB\n",
        "\n",
        "gnb = GaussianNB()"
      ],
      "metadata": {
        "id": "rFq5n-QZmzq-"
      },
      "execution_count": 38,
      "outputs": []
    },
    {
      "cell_type": "code",
      "source": [
        "gnb.fit(x_train, y_train)"
      ],
      "metadata": {
        "colab": {
          "base_uri": "https://localhost:8080/"
        },
        "id": "H93BeCnXn3RK",
        "outputId": "07752f85-f5d7-4973-9f46-7c3e9d01db19"
      },
      "execution_count": 39,
      "outputs": [
        {
          "output_type": "execute_result",
          "data": {
            "text/plain": [
              "GaussianNB()"
            ]
          },
          "metadata": {},
          "execution_count": 39
        }
      ]
    },
    {
      "cell_type": "code",
      "source": [
        "y_pred = gnb.predict(x_test)\n",
        "gnb.score(x_test, y_test), f1_score(y_test, y_pred, average=\"macro\")"
      ],
      "metadata": {
        "colab": {
          "base_uri": "https://localhost:8080/"
        },
        "id": "YDuBSdR1n9g8",
        "outputId": "0a5f05f7-124b-41dc-fba1-551c8dca5bad"
      },
      "execution_count": 40,
      "outputs": [
        {
          "output_type": "execute_result",
          "data": {
            "text/plain": [
              "(0.7122587968217934, 0.681885251722862)"
            ]
          },
          "metadata": {},
          "execution_count": 40
        }
      ]
    },
    {
      "cell_type": "markdown",
      "source": [
        "f1 = 0.6818\n",
        "\n",
        "accuracy = 0.7123\n",
        "\n",
        "Doesn't work well"
      ],
      "metadata": {
        "id": "_Yhf0uUSoZao"
      }
    },
    {
      "cell_type": "code",
      "source": [
        "from sklearn.neighbors import KNeighborsClassifier\n",
        "\n",
        "knb = KNeighborsClassifier()"
      ],
      "metadata": {
        "id": "l0SgTtc1obPT"
      },
      "execution_count": 41,
      "outputs": []
    },
    {
      "cell_type": "code",
      "source": [
        "knb.fit(x_train, y_train)"
      ],
      "metadata": {
        "colab": {
          "base_uri": "https://localhost:8080/"
        },
        "id": "974UywlLouFk",
        "outputId": "9b138556-0239-4b8a-c038-4e656b88c084"
      },
      "execution_count": 42,
      "outputs": [
        {
          "output_type": "execute_result",
          "data": {
            "text/plain": [
              "KNeighborsClassifier()"
            ]
          },
          "metadata": {},
          "execution_count": 42
        }
      ]
    },
    {
      "cell_type": "code",
      "source": [
        "y_pred = knb.predict(x_test)\n",
        "knb.score(x_test, y_test), f1_score(y_test, y_pred, average=\"macro\")"
      ],
      "metadata": {
        "colab": {
          "base_uri": "https://localhost:8080/"
        },
        "id": "xbye93LypsvW",
        "outputId": "9cc30f0a-13f3-4110-fb65-67a1095daddc"
      },
      "execution_count": 43,
      "outputs": [
        {
          "output_type": "execute_result",
          "data": {
            "text/plain": [
              "(0.8073212258796821, 0.7777932401154167)"
            ]
          },
          "metadata": {},
          "execution_count": 43
        }
      ]
    },
    {
      "cell_type": "markdown",
      "source": [
        "f1 = 0.7778\n",
        "\n",
        "accuracy = 0.8073\n",
        "\n",
        "Works poorly"
      ],
      "metadata": {
        "id": "CYl3CCjWp7Wf"
      }
    },
    {
      "cell_type": "code",
      "source": [
        "filename = '/content/drive/MyDrive/DNLP-project/Knn_model_mesh.sav'\n",
        "pickle.dump(clf1, open(filename, 'wb'))"
      ],
      "metadata": {
        "id": "mRiUf6ZpR2BT"
      },
      "execution_count": 44,
      "outputs": []
    },
    {
      "cell_type": "markdown",
      "source": [
        "----\n",
        "\n",
        "Let's try SGD classifier with gridsearch for the parameters."
      ],
      "metadata": {
        "id": "nTAOAVintLCX"
      }
    },
    {
      "cell_type": "code",
      "source": [
        "from sklearn.linear_model import SGDClassifier\n",
        "sgd = SGDClassifier('squared_error')"
      ],
      "metadata": {
        "id": "_reETAXVt03B"
      },
      "execution_count": 45,
      "outputs": []
    },
    {
      "cell_type": "code",
      "source": [
        "sgd.fit(x_train, y_train)"
      ],
      "metadata": {
        "colab": {
          "base_uri": "https://localhost:8080/"
        },
        "id": "hWdIB5L7t-cq",
        "outputId": "f6d2ff62-f215-4c10-ad96-e9476e14dde9"
      },
      "execution_count": 46,
      "outputs": [
        {
          "output_type": "stream",
          "name": "stderr",
          "text": [
            "/usr/local/lib/python3.8/dist-packages/sklearn/linear_model/_stochastic_gradient.py:696: ConvergenceWarning: Maximum number of iteration reached before convergence. Consider increasing max_iter to improve the fit.\n",
            "  warnings.warn(\n"
          ]
        },
        {
          "output_type": "execute_result",
          "data": {
            "text/plain": [
              "SGDClassifier(loss='squared_error')"
            ]
          },
          "metadata": {},
          "execution_count": 46
        }
      ]
    },
    {
      "cell_type": "code",
      "source": [
        "y_pred = sgd.predict(x_test)\n",
        "sgd.score(x_test, y_test), f1_score(y_test, y_pred, average=\"macro\")"
      ],
      "metadata": {
        "colab": {
          "base_uri": "https://localhost:8080/"
        },
        "id": "aRihc-SZuBUc",
        "outputId": "d0a66775-fc43-4101-9e6c-4d565dcc319d"
      },
      "execution_count": 47,
      "outputs": [
        {
          "output_type": "execute_result",
          "data": {
            "text/plain": [
              "(0.08740068104426787, 0.04208318135834049)"
            ]
          },
          "metadata": {},
          "execution_count": 47
        }
      ]
    },
    {
      "cell_type": "markdown",
      "source": [
        "f1 = 0.0223\n",
        "\n",
        "accuracy = 0.0451\n",
        "\n",
        "That's hilarious, it's the most inaccurate classification model I've ever seen. The accuracy is even lower than 1/19 = 0.05263 which is the theoritical expected value if we have a random uniform classifier."
      ],
      "metadata": {
        "id": "Y4jPjXRe1lCX"
      }
    },
    {
      "cell_type": "code",
      "source": [
        "sgd = SGDClassifier('squared_epsilon_insensitive')"
      ],
      "metadata": {
        "id": "kH3xV88x1kKt"
      },
      "execution_count": 48,
      "outputs": []
    },
    {
      "cell_type": "code",
      "source": [
        "sgd.fit(x_train, y_train)"
      ],
      "metadata": {
        "colab": {
          "base_uri": "https://localhost:8080/"
        },
        "id": "ZaJ7-glF22ly",
        "outputId": "70d7a3ef-2ae2-4a5b-a1eb-4db58659f41a"
      },
      "execution_count": 49,
      "outputs": [
        {
          "output_type": "stream",
          "name": "stderr",
          "text": [
            "/usr/local/lib/python3.8/dist-packages/sklearn/linear_model/_stochastic_gradient.py:696: ConvergenceWarning: Maximum number of iteration reached before convergence. Consider increasing max_iter to improve the fit.\n",
            "  warnings.warn(\n"
          ]
        },
        {
          "output_type": "execute_result",
          "data": {
            "text/plain": [
              "SGDClassifier(loss='squared_epsilon_insensitive')"
            ]
          },
          "metadata": {},
          "execution_count": 49
        }
      ]
    },
    {
      "cell_type": "code",
      "source": [
        "y_pred = sgd.predict(x_test)\n",
        "sgd.score(x_test, y_test), f1_score(y_test, y_pred, average=\"macro\")"
      ],
      "metadata": {
        "colab": {
          "base_uri": "https://localhost:8080/"
        },
        "id": "HppLnXB02YHT",
        "outputId": "4b03bc76-214e-47a4-da81-c031e3138b4c"
      },
      "execution_count": 50,
      "outputs": [
        {
          "output_type": "execute_result",
          "data": {
            "text/plain": [
              "(0.18217934165720773, 0.060065520419049355)"
            ]
          },
          "metadata": {},
          "execution_count": 50
        }
      ]
    },
    {
      "cell_type": "markdown",
      "source": [
        "f1 = 0.0194\n",
        "\n",
        "accuracy = 0.0712 \n",
        "\n",
        "That's even worse, the thing is that it took quite some time eventhough it's kind of funny"
      ],
      "metadata": {
        "id": "n7n2A-bx9dg7"
      }
    },
    {
      "cell_type": "code",
      "source": [
        "parameters = {'loss': ('hinge', 'modified_huber', 'squared_hinge')}\n",
        "sgd = SGDClassifier()\n",
        "clf3 = GridSearchCV(sgd, parameters, scoring=make_scorer(f1_score, average=\"macro\"))"
      ],
      "metadata": {
        "id": "Lr3YWg5W9dLo"
      },
      "execution_count": 51,
      "outputs": []
    },
    {
      "cell_type": "code",
      "source": [
        "clf3.fit(x_train, y_train)"
      ],
      "metadata": {
        "colab": {
          "base_uri": "https://localhost:8080/"
        },
        "id": "R1Wreiq8-UOA",
        "outputId": "dbe6f764-2a2d-4532-cff7-b7ad367153cf"
      },
      "execution_count": 52,
      "outputs": [
        {
          "output_type": "execute_result",
          "data": {
            "text/plain": [
              "GridSearchCV(estimator=SGDClassifier(),\n",
              "             param_grid={'loss': ('hinge', 'modified_huber', 'squared_hinge')},\n",
              "             scoring=make_scorer(f1_score, average=macro))"
            ]
          },
          "metadata": {},
          "execution_count": 52
        }
      ]
    },
    {
      "cell_type": "code",
      "source": [
        "clf3.get_params()"
      ],
      "metadata": {
        "colab": {
          "base_uri": "https://localhost:8080/"
        },
        "id": "nmdAsw5FBSWc",
        "outputId": "5c4968e4-8fd2-4379-e9d6-affb99c747b7"
      },
      "execution_count": 53,
      "outputs": [
        {
          "output_type": "execute_result",
          "data": {
            "text/plain": [
              "{'cv': None,\n",
              " 'error_score': nan,\n",
              " 'estimator__alpha': 0.0001,\n",
              " 'estimator__average': False,\n",
              " 'estimator__class_weight': None,\n",
              " 'estimator__early_stopping': False,\n",
              " 'estimator__epsilon': 0.1,\n",
              " 'estimator__eta0': 0.0,\n",
              " 'estimator__fit_intercept': True,\n",
              " 'estimator__l1_ratio': 0.15,\n",
              " 'estimator__learning_rate': 'optimal',\n",
              " 'estimator__loss': 'hinge',\n",
              " 'estimator__max_iter': 1000,\n",
              " 'estimator__n_iter_no_change': 5,\n",
              " 'estimator__n_jobs': None,\n",
              " 'estimator__penalty': 'l2',\n",
              " 'estimator__power_t': 0.5,\n",
              " 'estimator__random_state': None,\n",
              " 'estimator__shuffle': True,\n",
              " 'estimator__tol': 0.001,\n",
              " 'estimator__validation_fraction': 0.1,\n",
              " 'estimator__verbose': 0,\n",
              " 'estimator__warm_start': False,\n",
              " 'estimator': SGDClassifier(),\n",
              " 'n_jobs': None,\n",
              " 'param_grid': {'loss': ('hinge', 'modified_huber', 'squared_hinge')},\n",
              " 'pre_dispatch': '2*n_jobs',\n",
              " 'refit': True,\n",
              " 'return_train_score': False,\n",
              " 'scoring': make_scorer(f1_score, average=macro),\n",
              " 'verbose': 0}"
            ]
          },
          "metadata": {},
          "execution_count": 53
        }
      ]
    },
    {
      "cell_type": "code",
      "source": [
        "y_pred = clf3.predict(x_test)\n",
        "clf3.score(x_test, y_test), np.mean(y_test == y_pred)"
      ],
      "metadata": {
        "colab": {
          "base_uri": "https://localhost:8080/"
        },
        "id": "6CBk8uea-ZNN",
        "outputId": "f5b5a388-a82c-471e-e91e-7e3301660e9d"
      },
      "execution_count": 54,
      "outputs": [
        {
          "output_type": "execute_result",
          "data": {
            "text/plain": [
              "(0.8063962048280385, 0.8280363223609535)"
            ]
          },
          "metadata": {},
          "execution_count": 54
        }
      ]
    },
    {
      "cell_type": "markdown",
      "source": [
        "f1 = 0.7797\n",
        "\n",
        "accuracy = 0.8079"
      ],
      "metadata": {
        "id": "JyHE2yeeGID3"
      }
    },
    {
      "cell_type": "code",
      "source": [
        "filename = '/content/drive/MyDrive/DNLP-project/SGD_model_mag.sav'\n",
        "pickle.dump(clf1, open(filename, 'wb'))"
      ],
      "metadata": {
        "id": "M-tPgmDxR9Aj"
      },
      "execution_count": 55,
      "outputs": []
    },
    {
      "cell_type": "markdown",
      "source": [
        "----\n",
        "\n",
        "Let's try a CNN now. first we'll try a very simple CNN with only 2 dense layers."
      ],
      "metadata": {
        "id": "6mkKweY0_xGp"
      }
    },
    {
      "cell_type": "code",
      "source": [
        "import tensorflow as tf\n",
        "y_train_cnn = tf.keras.utils.to_categorical(y_train)\n",
        "x_train_cnn = np.expand_dims(x_train, -1)"
      ],
      "metadata": {
        "id": "jdri3bVm_vY4"
      },
      "execution_count": 56,
      "outputs": []
    },
    {
      "cell_type": "code",
      "source": [
        "from tensorflow.keras import layers\n",
        "\n",
        "inputs = tf.keras.Input(shape=(x_train.shape[1], 1,), dtype=\"float\")\n",
        "\n",
        "\n",
        "# We add a vanilla hidden layer:\n",
        "x = layers.Flatten()(inputs)\n",
        "x = layers.Dense(x_train.shape[0], activation=\"relu\")(x)\n",
        "\n",
        "# We project onto a single unit output layer, and squash it with a sigmoid:\n",
        "predictions = layers.Dense(11, activation=\"sigmoid\", name=\"predictions\")(x)\n",
        "\n",
        "Cnn1 = tf.keras.Model(inputs, predictions)"
      ],
      "metadata": {
        "id": "vNmTIkAmAAeZ"
      },
      "execution_count": 57,
      "outputs": []
    },
    {
      "cell_type": "code",
      "source": [
        "Cnn1.summary()"
      ],
      "metadata": {
        "colab": {
          "base_uri": "https://localhost:8080/"
        },
        "id": "288rjjWQANPe",
        "outputId": "96211b96-5e87-481a-8ead-b599231bad76"
      },
      "execution_count": 58,
      "outputs": [
        {
          "output_type": "stream",
          "name": "stdout",
          "text": [
            "Model: \"model\"\n",
            "_________________________________________________________________\n",
            " Layer (type)                Output Shape              Param #   \n",
            "=================================================================\n",
            " input_1 (InputLayer)        [(None, 768, 1)]          0         \n",
            "                                                                 \n",
            " flatten (Flatten)           (None, 768)               0         \n",
            "                                                                 \n",
            " dense (Dense)               (None, 16433)             12636977  \n",
            "                                                                 \n",
            " predictions (Dense)         (None, 11)                180774    \n",
            "                                                                 \n",
            "=================================================================\n",
            "Total params: 12,817,751\n",
            "Trainable params: 12,817,751\n",
            "Non-trainable params: 0\n",
            "_________________________________________________________________\n"
          ]
        }
      ]
    },
    {
      "cell_type": "code",
      "source": [
        "Cnn1.compile(loss=\"categorical_crossentropy\", optimizer=\"adam\", metrics=[\"accuracy\"])"
      ],
      "metadata": {
        "id": "RWO7rknUATjf"
      },
      "execution_count": 59,
      "outputs": []
    },
    {
      "cell_type": "code",
      "source": [
        "epochs = 10\n",
        "\n",
        "# Fit the model using the train and test datasets.\n",
        "Cnn1.fit(x_train_cnn, y_train_cnn, epochs=epochs)"
      ],
      "metadata": {
        "colab": {
          "base_uri": "https://localhost:8080/"
        },
        "id": "HTM7git-AXwb",
        "outputId": "2a6e7caa-9cdb-4420-fb86-6960f6340942"
      },
      "execution_count": 60,
      "outputs": [
        {
          "output_type": "stream",
          "name": "stdout",
          "text": [
            "Epoch 1/10\n",
            "514/514 [==============================] - 49s 93ms/step - loss: 0.7031 - accuracy: 0.8005\n",
            "Epoch 2/10\n",
            "514/514 [==============================] - 42s 81ms/step - loss: 0.5216 - accuracy: 0.8442\n",
            "Epoch 3/10\n",
            "514/514 [==============================] - 42s 82ms/step - loss: 0.4527 - accuracy: 0.8641\n",
            "Epoch 4/10\n",
            "514/514 [==============================] - 42s 83ms/step - loss: 0.3844 - accuracy: 0.8793\n",
            "Epoch 5/10\n",
            "514/514 [==============================] - 42s 81ms/step - loss: 0.3212 - accuracy: 0.8961\n",
            "Epoch 6/10\n",
            "514/514 [==============================] - 47s 92ms/step - loss: 0.2552 - accuracy: 0.9175\n",
            "Epoch 7/10\n",
            "514/514 [==============================] - 42s 82ms/step - loss: 0.1935 - accuracy: 0.9381\n",
            "Epoch 8/10\n",
            "514/514 [==============================] - 42s 82ms/step - loss: 0.1358 - accuracy: 0.9555\n",
            "Epoch 9/10\n",
            "514/514 [==============================] - 43s 83ms/step - loss: 0.1046 - accuracy: 0.9669\n",
            "Epoch 10/10\n",
            "514/514 [==============================] - 43s 83ms/step - loss: 0.0878 - accuracy: 0.9719\n"
          ]
        },
        {
          "output_type": "execute_result",
          "data": {
            "text/plain": [
              "<keras.callbacks.History at 0x7f21028f2e50>"
            ]
          },
          "metadata": {},
          "execution_count": 60
        }
      ]
    },
    {
      "cell_type": "code",
      "source": [
        "x_test_cnn = np.expand_dims(x_test, -1)\n",
        "y_pred = np.argmax(Cnn1.predict(x_test_cnn), axis=1)\n",
        "np.mean(y_test == y_pred), f1_score(y_test, y_pred, average=\"macro\")"
      ],
      "metadata": {
        "colab": {
          "base_uri": "https://localhost:8080/"
        },
        "id": "pNdYyiubAavd",
        "outputId": "13ef83bb-8674-4f65-be35-67f16cbef153"
      },
      "execution_count": 61,
      "outputs": [
        {
          "output_type": "stream",
          "name": "stdout",
          "text": [
            "111/111 [==============================] - 3s 29ms/step\n"
          ]
        },
        {
          "output_type": "execute_result",
          "data": {
            "text/plain": [
              "(0.8280363223609535, 0.8100371088014756)"
            ]
          },
          "metadata": {},
          "execution_count": 61
        }
      ]
    },
    {
      "cell_type": "markdown",
      "source": [
        "f1 = 0.8105\n",
        "\n",
        "accuracy = 0.8368\n",
        "\n",
        "\n",
        "No big improvment compared to the SVC classification. Let's expand our network. This model is inspired by the \"Alexnet\" network and was initially designed for 1000 class classification and won the ImageNet Large Scale Visual Recognition Challenge in 2012."
      ],
      "metadata": {
        "id": "QgIqR5ZgE3C7"
      }
    },
    {
      "cell_type": "code",
      "source": [
        "from tensorflow.keras import layers\n",
        "\n",
        "inputs = tf.keras.Input(shape=(x_train.shape[1], 1,), dtype=\"float\")\n",
        "\n",
        "x = layers.Conv1D(96, 11, 4)(inputs)\n",
        "x = layers.MaxPool1D(3, 2)(x)\n",
        "x = layers.Conv1D(256, 5)(x)\n",
        "x = layers.MaxPool1D(3, 2)(x)\n",
        "x = layers.Conv1D(384, 3)(x)\n",
        "x = layers.Conv1D(384, 3)(x)\n",
        "x = layers.MaxPool1D(3, 2)(x)\n",
        "\n",
        "x = layers.Flatten()(x)\n",
        "x = layers.Dense(2048, activation=\"relu\")(x)\n",
        "x = layers.Dense(2048, activation=\"relu\")(x)\n",
        "\n",
        "\n",
        "# We project onto a single unit output layer, and squash it with a sigmoid:\n",
        "predictions = layers.Dense(11, activation=\"sigmoid\", name=\"predictions\")(x)\n",
        "\n",
        "Cnn2 = tf.keras.Model(inputs, predictions)"
      ],
      "metadata": {
        "id": "Ek64y3KvErxR"
      },
      "execution_count": 62,
      "outputs": []
    },
    {
      "cell_type": "code",
      "source": [
        "Cnn2.summary()"
      ],
      "metadata": {
        "id": "3RiPyXeQJjh5",
        "colab": {
          "base_uri": "https://localhost:8080/"
        },
        "outputId": "1e4007ed-a9b3-462a-c04b-08514aa1ecfd"
      },
      "execution_count": 63,
      "outputs": [
        {
          "output_type": "stream",
          "name": "stdout",
          "text": [
            "Model: \"model_1\"\n",
            "_________________________________________________________________\n",
            " Layer (type)                Output Shape              Param #   \n",
            "=================================================================\n",
            " input_2 (InputLayer)        [(None, 768, 1)]          0         \n",
            "                                                                 \n",
            " conv1d (Conv1D)             (None, 190, 96)           1152      \n",
            "                                                                 \n",
            " max_pooling1d (MaxPooling1D  (None, 94, 96)           0         \n",
            " )                                                               \n",
            "                                                                 \n",
            " conv1d_1 (Conv1D)           (None, 90, 256)           123136    \n",
            "                                                                 \n",
            " max_pooling1d_1 (MaxPooling  (None, 44, 256)          0         \n",
            " 1D)                                                             \n",
            "                                                                 \n",
            " conv1d_2 (Conv1D)           (None, 42, 384)           295296    \n",
            "                                                                 \n",
            " conv1d_3 (Conv1D)           (None, 40, 384)           442752    \n",
            "                                                                 \n",
            " max_pooling1d_2 (MaxPooling  (None, 19, 384)          0         \n",
            " 1D)                                                             \n",
            "                                                                 \n",
            " flatten_1 (Flatten)         (None, 7296)              0         \n",
            "                                                                 \n",
            " dense_1 (Dense)             (None, 2048)              14944256  \n",
            "                                                                 \n",
            " dense_2 (Dense)             (None, 2048)              4196352   \n",
            "                                                                 \n",
            " predictions (Dense)         (None, 11)                22539     \n",
            "                                                                 \n",
            "=================================================================\n",
            "Total params: 20,025,483\n",
            "Trainable params: 20,025,483\n",
            "Non-trainable params: 0\n",
            "_________________________________________________________________\n"
          ]
        }
      ]
    },
    {
      "cell_type": "code",
      "source": [
        "Cnn2.compile(loss=\"categorical_crossentropy\", optimizer=\"adam\", metrics=[\"accuracy\"])"
      ],
      "metadata": {
        "id": "k9Z3eEhME2sI"
      },
      "execution_count": 64,
      "outputs": []
    },
    {
      "cell_type": "code",
      "source": [
        "epochs = 10\n",
        "\n",
        "# Fit the model using the train and test datasets.\n",
        "Cnn2.fit(x_train_cnn, y_train_cnn, epochs=epochs)"
      ],
      "metadata": {
        "id": "-TXBJqDFJfS9",
        "colab": {
          "base_uri": "https://localhost:8080/"
        },
        "outputId": "7c2b087b-96d4-4882-bc9d-225f50b92b42"
      },
      "execution_count": 65,
      "outputs": [
        {
          "output_type": "stream",
          "name": "stdout",
          "text": [
            "Epoch 1/10\n",
            "514/514 [==============================] - 216s 418ms/step - loss: 0.8574 - accuracy: 0.7447\n",
            "Epoch 2/10\n",
            "514/514 [==============================] - 212s 413ms/step - loss: 0.5895 - accuracy: 0.8238\n",
            "Epoch 3/10\n",
            "514/514 [==============================] - 212s 412ms/step - loss: 0.5407 - accuracy: 0.8396\n",
            "Epoch 4/10\n",
            "514/514 [==============================] - 213s 415ms/step - loss: 0.5040 - accuracy: 0.8475\n",
            "Epoch 5/10\n",
            "514/514 [==============================] - 215s 419ms/step - loss: 0.4624 - accuracy: 0.8600\n",
            "Epoch 6/10\n",
            "514/514 [==============================] - 213s 414ms/step - loss: 0.4402 - accuracy: 0.8648\n",
            "Epoch 7/10\n",
            "514/514 [==============================] - 212s 412ms/step - loss: 0.4031 - accuracy: 0.8759\n",
            "Epoch 8/10\n",
            "514/514 [==============================] - 212s 413ms/step - loss: 0.3738 - accuracy: 0.8849\n",
            "Epoch 9/10\n",
            "514/514 [==============================] - 219s 426ms/step - loss: 0.3476 - accuracy: 0.8916\n",
            "Epoch 10/10\n",
            "514/514 [==============================] - 215s 419ms/step - loss: 0.3032 - accuracy: 0.9059\n"
          ]
        },
        {
          "output_type": "execute_result",
          "data": {
            "text/plain": [
              "<keras.callbacks.History at 0x7f21028583a0>"
            ]
          },
          "metadata": {},
          "execution_count": 65
        }
      ]
    },
    {
      "cell_type": "code",
      "source": [
        "x_test_cnn = np.expand_dims(x_test, -1)\n",
        "y_pred = np.argmax(Cnn2.predict(x_test_cnn), axis=1)\n",
        "np.mean(y_test == y_pred), f1_score(y_test, y_pred, average=\"macro\")"
      ],
      "metadata": {
        "id": "qZDa4YfbLLR2",
        "colab": {
          "base_uri": "https://localhost:8080/"
        },
        "outputId": "cb098e37-7324-40c9-e83b-083ae0639f5e"
      },
      "execution_count": 66,
      "outputs": [
        {
          "output_type": "stream",
          "name": "stdout",
          "text": [
            "111/111 [==============================] - 13s 118ms/step\n"
          ]
        },
        {
          "output_type": "execute_result",
          "data": {
            "text/plain": [
              "(0.8056186152099887, 0.7824980486995603)"
            ]
          },
          "metadata": {},
          "execution_count": 66
        }
      ]
    },
    {
      "cell_type": "markdown",
      "source": [],
      "metadata": {
        "id": "JMGTcfe_xE1I"
      }
    },
    {
      "cell_type": "markdown",
      "source": [
        "what a disappointment."
      ],
      "metadata": {
        "id": "HWdtx95JXpr3"
      }
    },
    {
      "cell_type": "code",
      "source": [],
      "metadata": {
        "id": "iAnAU9K2cRzI"
      },
      "execution_count": 66,
      "outputs": []
    }
  ],
  "metadata": {
    "colab": {
      "provenance": [],
      "mount_file_id": "1xrMtD0jIoqrm7ywQuo42PJ6OsQ49mpS0",
      "authorship_tag": "ABX9TyNGBFjigR0IBwQGKiGJdxf5",
      "include_colab_link": true
    },
    "kernelspec": {
      "display_name": "Python 3",
      "name": "python3"
    },
    "language_info": {
      "name": "python"
    }
  },
  "nbformat": 4,
  "nbformat_minor": 0
}