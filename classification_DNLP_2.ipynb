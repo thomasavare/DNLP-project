{
  "nbformat": 4,
  "nbformat_minor": 0,
  "metadata": {
    "colab": {
      "provenance": [],
      "mount_file_id": "15-jUTRT8quj5EONGwxjI0GNZr4Xrgf6E",
      "authorship_tag": "ABX9TyN2gyEMawi6o5YvYqgsfR7R",
      "include_colab_link": true
    },
    "kernelspec": {
      "name": "python3",
      "display_name": "Python 3"
    },
    "language_info": {
      "name": "python"
    },
    "widgets": {
      "application/vnd.jupyter.widget-state+json": {
        "9ec94df887334d00871150e6bb2baa6e": {
          "model_module": "@jupyter-widgets/controls",
          "model_name": "HBoxModel",
          "model_module_version": "1.5.0",
          "state": {
            "_dom_classes": [],
            "_model_module": "@jupyter-widgets/controls",
            "_model_module_version": "1.5.0",
            "_model_name": "HBoxModel",
            "_view_count": null,
            "_view_module": "@jupyter-widgets/controls",
            "_view_module_version": "1.5.0",
            "_view_name": "HBoxView",
            "box_style": "",
            "children": [
              "IPY_MODEL_f274233f7b344ac6ac781d40d549f9c8",
              "IPY_MODEL_13a3e346923f4e1daa38c61ceca82dac",
              "IPY_MODEL_41fadceb370747fe8e7e59e64f815adb"
            ],
            "layout": "IPY_MODEL_848d39d9027c47e6a0e7c484382fe20a"
          }
        },
        "f274233f7b344ac6ac781d40d549f9c8": {
          "model_module": "@jupyter-widgets/controls",
          "model_name": "HTMLModel",
          "model_module_version": "1.5.0",
          "state": {
            "_dom_classes": [],
            "_model_module": "@jupyter-widgets/controls",
            "_model_module_version": "1.5.0",
            "_model_name": "HTMLModel",
            "_view_count": null,
            "_view_module": "@jupyter-widgets/controls",
            "_view_module_version": "1.5.0",
            "_view_name": "HTMLView",
            "description": "",
            "description_tooltip": null,
            "layout": "IPY_MODEL_31e0adaf42d04392b176706d77478ee0",
            "placeholder": "​",
            "style": "IPY_MODEL_0dc7753832394bff945096bd4e9a8da0",
            "value": "Downloading: 100%"
          }
        },
        "13a3e346923f4e1daa38c61ceca82dac": {
          "model_module": "@jupyter-widgets/controls",
          "model_name": "FloatProgressModel",
          "model_module_version": "1.5.0",
          "state": {
            "_dom_classes": [],
            "_model_module": "@jupyter-widgets/controls",
            "_model_module_version": "1.5.0",
            "_model_name": "FloatProgressModel",
            "_view_count": null,
            "_view_module": "@jupyter-widgets/controls",
            "_view_module_version": "1.5.0",
            "_view_name": "ProgressView",
            "bar_style": "success",
            "description": "",
            "description_tooltip": null,
            "layout": "IPY_MODEL_340849286cb54dec85deb250470155db",
            "max": 690,
            "min": 0,
            "orientation": "horizontal",
            "style": "IPY_MODEL_7fe5a0641ca441d6be2afd3ca35b6254",
            "value": 690
          }
        },
        "41fadceb370747fe8e7e59e64f815adb": {
          "model_module": "@jupyter-widgets/controls",
          "model_name": "HTMLModel",
          "model_module_version": "1.5.0",
          "state": {
            "_dom_classes": [],
            "_model_module": "@jupyter-widgets/controls",
            "_model_module_version": "1.5.0",
            "_model_name": "HTMLModel",
            "_view_count": null,
            "_view_module": "@jupyter-widgets/controls",
            "_view_module_version": "1.5.0",
            "_view_name": "HTMLView",
            "description": "",
            "description_tooltip": null,
            "layout": "IPY_MODEL_b1b87504029040d09861bee296616ae0",
            "placeholder": "​",
            "style": "IPY_MODEL_63a3adc36efb4f199ea959c9c7de7e34",
            "value": " 690/690 [00:00&lt;00:00, 16.4kB/s]"
          }
        },
        "848d39d9027c47e6a0e7c484382fe20a": {
          "model_module": "@jupyter-widgets/base",
          "model_name": "LayoutModel",
          "model_module_version": "1.2.0",
          "state": {
            "_model_module": "@jupyter-widgets/base",
            "_model_module_version": "1.2.0",
            "_model_name": "LayoutModel",
            "_view_count": null,
            "_view_module": "@jupyter-widgets/base",
            "_view_module_version": "1.2.0",
            "_view_name": "LayoutView",
            "align_content": null,
            "align_items": null,
            "align_self": null,
            "border": null,
            "bottom": null,
            "display": null,
            "flex": null,
            "flex_flow": null,
            "grid_area": null,
            "grid_auto_columns": null,
            "grid_auto_flow": null,
            "grid_auto_rows": null,
            "grid_column": null,
            "grid_gap": null,
            "grid_row": null,
            "grid_template_areas": null,
            "grid_template_columns": null,
            "grid_template_rows": null,
            "height": null,
            "justify_content": null,
            "justify_items": null,
            "left": null,
            "margin": null,
            "max_height": null,
            "max_width": null,
            "min_height": null,
            "min_width": null,
            "object_fit": null,
            "object_position": null,
            "order": null,
            "overflow": null,
            "overflow_x": null,
            "overflow_y": null,
            "padding": null,
            "right": null,
            "top": null,
            "visibility": null,
            "width": null
          }
        },
        "31e0adaf42d04392b176706d77478ee0": {
          "model_module": "@jupyter-widgets/base",
          "model_name": "LayoutModel",
          "model_module_version": "1.2.0",
          "state": {
            "_model_module": "@jupyter-widgets/base",
            "_model_module_version": "1.2.0",
            "_model_name": "LayoutModel",
            "_view_count": null,
            "_view_module": "@jupyter-widgets/base",
            "_view_module_version": "1.2.0",
            "_view_name": "LayoutView",
            "align_content": null,
            "align_items": null,
            "align_self": null,
            "border": null,
            "bottom": null,
            "display": null,
            "flex": null,
            "flex_flow": null,
            "grid_area": null,
            "grid_auto_columns": null,
            "grid_auto_flow": null,
            "grid_auto_rows": null,
            "grid_column": null,
            "grid_gap": null,
            "grid_row": null,
            "grid_template_areas": null,
            "grid_template_columns": null,
            "grid_template_rows": null,
            "height": null,
            "justify_content": null,
            "justify_items": null,
            "left": null,
            "margin": null,
            "max_height": null,
            "max_width": null,
            "min_height": null,
            "min_width": null,
            "object_fit": null,
            "object_position": null,
            "order": null,
            "overflow": null,
            "overflow_x": null,
            "overflow_y": null,
            "padding": null,
            "right": null,
            "top": null,
            "visibility": null,
            "width": null
          }
        },
        "0dc7753832394bff945096bd4e9a8da0": {
          "model_module": "@jupyter-widgets/controls",
          "model_name": "DescriptionStyleModel",
          "model_module_version": "1.5.0",
          "state": {
            "_model_module": "@jupyter-widgets/controls",
            "_model_module_version": "1.5.0",
            "_model_name": "DescriptionStyleModel",
            "_view_count": null,
            "_view_module": "@jupyter-widgets/base",
            "_view_module_version": "1.2.0",
            "_view_name": "StyleView",
            "description_width": ""
          }
        },
        "340849286cb54dec85deb250470155db": {
          "model_module": "@jupyter-widgets/base",
          "model_name": "LayoutModel",
          "model_module_version": "1.2.0",
          "state": {
            "_model_module": "@jupyter-widgets/base",
            "_model_module_version": "1.2.0",
            "_model_name": "LayoutModel",
            "_view_count": null,
            "_view_module": "@jupyter-widgets/base",
            "_view_module_version": "1.2.0",
            "_view_name": "LayoutView",
            "align_content": null,
            "align_items": null,
            "align_self": null,
            "border": null,
            "bottom": null,
            "display": null,
            "flex": null,
            "flex_flow": null,
            "grid_area": null,
            "grid_auto_columns": null,
            "grid_auto_flow": null,
            "grid_auto_rows": null,
            "grid_column": null,
            "grid_gap": null,
            "grid_row": null,
            "grid_template_areas": null,
            "grid_template_columns": null,
            "grid_template_rows": null,
            "height": null,
            "justify_content": null,
            "justify_items": null,
            "left": null,
            "margin": null,
            "max_height": null,
            "max_width": null,
            "min_height": null,
            "min_width": null,
            "object_fit": null,
            "object_position": null,
            "order": null,
            "overflow": null,
            "overflow_x": null,
            "overflow_y": null,
            "padding": null,
            "right": null,
            "top": null,
            "visibility": null,
            "width": null
          }
        },
        "7fe5a0641ca441d6be2afd3ca35b6254": {
          "model_module": "@jupyter-widgets/controls",
          "model_name": "ProgressStyleModel",
          "model_module_version": "1.5.0",
          "state": {
            "_model_module": "@jupyter-widgets/controls",
            "_model_module_version": "1.5.0",
            "_model_name": "ProgressStyleModel",
            "_view_count": null,
            "_view_module": "@jupyter-widgets/base",
            "_view_module_version": "1.2.0",
            "_view_name": "StyleView",
            "bar_color": null,
            "description_width": ""
          }
        },
        "b1b87504029040d09861bee296616ae0": {
          "model_module": "@jupyter-widgets/base",
          "model_name": "LayoutModel",
          "model_module_version": "1.2.0",
          "state": {
            "_model_module": "@jupyter-widgets/base",
            "_model_module_version": "1.2.0",
            "_model_name": "LayoutModel",
            "_view_count": null,
            "_view_module": "@jupyter-widgets/base",
            "_view_module_version": "1.2.0",
            "_view_name": "LayoutView",
            "align_content": null,
            "align_items": null,
            "align_self": null,
            "border": null,
            "bottom": null,
            "display": null,
            "flex": null,
            "flex_flow": null,
            "grid_area": null,
            "grid_auto_columns": null,
            "grid_auto_flow": null,
            "grid_auto_rows": null,
            "grid_column": null,
            "grid_gap": null,
            "grid_row": null,
            "grid_template_areas": null,
            "grid_template_columns": null,
            "grid_template_rows": null,
            "height": null,
            "justify_content": null,
            "justify_items": null,
            "left": null,
            "margin": null,
            "max_height": null,
            "max_width": null,
            "min_height": null,
            "min_width": null,
            "object_fit": null,
            "object_position": null,
            "order": null,
            "overflow": null,
            "overflow_x": null,
            "overflow_y": null,
            "padding": null,
            "right": null,
            "top": null,
            "visibility": null,
            "width": null
          }
        },
        "63a3adc36efb4f199ea959c9c7de7e34": {
          "model_module": "@jupyter-widgets/controls",
          "model_name": "DescriptionStyleModel",
          "model_module_version": "1.5.0",
          "state": {
            "_model_module": "@jupyter-widgets/controls",
            "_model_module_version": "1.5.0",
            "_model_name": "DescriptionStyleModel",
            "_view_count": null,
            "_view_module": "@jupyter-widgets/base",
            "_view_module_version": "1.2.0",
            "_view_name": "StyleView",
            "description_width": ""
          }
        },
        "317cccc36c234ab39c513c174735c9d2": {
          "model_module": "@jupyter-widgets/controls",
          "model_name": "HBoxModel",
          "model_module_version": "1.5.0",
          "state": {
            "_dom_classes": [],
            "_model_module": "@jupyter-widgets/controls",
            "_model_module_version": "1.5.0",
            "_model_name": "HBoxModel",
            "_view_count": null,
            "_view_module": "@jupyter-widgets/controls",
            "_view_module_version": "1.5.0",
            "_view_name": "HBoxView",
            "box_style": "",
            "children": [
              "IPY_MODEL_45018555e39d4bf58d67634a2e7f562c",
              "IPY_MODEL_66965933cd524005a037ecb13b21f298",
              "IPY_MODEL_a4f52738ce00443295ce1dbbfe36f180"
            ],
            "layout": "IPY_MODEL_de4ea49085494ca49ba6efa6fbb4b388"
          }
        },
        "45018555e39d4bf58d67634a2e7f562c": {
          "model_module": "@jupyter-widgets/controls",
          "model_name": "HTMLModel",
          "model_module_version": "1.5.0",
          "state": {
            "_dom_classes": [],
            "_model_module": "@jupyter-widgets/controls",
            "_model_module_version": "1.5.0",
            "_model_name": "HTMLModel",
            "_view_count": null,
            "_view_module": "@jupyter-widgets/controls",
            "_view_module_version": "1.5.0",
            "_view_name": "HTMLView",
            "description": "",
            "description_tooltip": null,
            "layout": "IPY_MODEL_b547e03625df4a4190b4587e8cc3f176",
            "placeholder": "​",
            "style": "IPY_MODEL_c3eab12c1da641f499d752de591cef02",
            "value": "Downloading: 100%"
          }
        },
        "66965933cd524005a037ecb13b21f298": {
          "model_module": "@jupyter-widgets/controls",
          "model_name": "FloatProgressModel",
          "model_module_version": "1.5.0",
          "state": {
            "_dom_classes": [],
            "_model_module": "@jupyter-widgets/controls",
            "_model_module_version": "1.5.0",
            "_model_name": "FloatProgressModel",
            "_view_count": null,
            "_view_module": "@jupyter-widgets/controls",
            "_view_module_version": "1.5.0",
            "_view_name": "ProgressView",
            "bar_style": "success",
            "description": "",
            "description_tooltip": null,
            "layout": "IPY_MODEL_966007372bc1435eb7fdd8a4c3934395",
            "max": 190,
            "min": 0,
            "orientation": "horizontal",
            "style": "IPY_MODEL_f227804f0fa145fe93cb644ddea6ad81",
            "value": 190
          }
        },
        "a4f52738ce00443295ce1dbbfe36f180": {
          "model_module": "@jupyter-widgets/controls",
          "model_name": "HTMLModel",
          "model_module_version": "1.5.0",
          "state": {
            "_dom_classes": [],
            "_model_module": "@jupyter-widgets/controls",
            "_model_module_version": "1.5.0",
            "_model_name": "HTMLModel",
            "_view_count": null,
            "_view_module": "@jupyter-widgets/controls",
            "_view_module_version": "1.5.0",
            "_view_name": "HTMLView",
            "description": "",
            "description_tooltip": null,
            "layout": "IPY_MODEL_deeb1389c666449387d004973ab297e2",
            "placeholder": "​",
            "style": "IPY_MODEL_681a130ba0d545ceb88bd0518d47a6d2",
            "value": " 190/190 [00:00&lt;00:00, 2.65kB/s]"
          }
        },
        "de4ea49085494ca49ba6efa6fbb4b388": {
          "model_module": "@jupyter-widgets/base",
          "model_name": "LayoutModel",
          "model_module_version": "1.2.0",
          "state": {
            "_model_module": "@jupyter-widgets/base",
            "_model_module_version": "1.2.0",
            "_model_name": "LayoutModel",
            "_view_count": null,
            "_view_module": "@jupyter-widgets/base",
            "_view_module_version": "1.2.0",
            "_view_name": "LayoutView",
            "align_content": null,
            "align_items": null,
            "align_self": null,
            "border": null,
            "bottom": null,
            "display": null,
            "flex": null,
            "flex_flow": null,
            "grid_area": null,
            "grid_auto_columns": null,
            "grid_auto_flow": null,
            "grid_auto_rows": null,
            "grid_column": null,
            "grid_gap": null,
            "grid_row": null,
            "grid_template_areas": null,
            "grid_template_columns": null,
            "grid_template_rows": null,
            "height": null,
            "justify_content": null,
            "justify_items": null,
            "left": null,
            "margin": null,
            "max_height": null,
            "max_width": null,
            "min_height": null,
            "min_width": null,
            "object_fit": null,
            "object_position": null,
            "order": null,
            "overflow": null,
            "overflow_x": null,
            "overflow_y": null,
            "padding": null,
            "right": null,
            "top": null,
            "visibility": null,
            "width": null
          }
        },
        "b547e03625df4a4190b4587e8cc3f176": {
          "model_module": "@jupyter-widgets/base",
          "model_name": "LayoutModel",
          "model_module_version": "1.2.0",
          "state": {
            "_model_module": "@jupyter-widgets/base",
            "_model_module_version": "1.2.0",
            "_model_name": "LayoutModel",
            "_view_count": null,
            "_view_module": "@jupyter-widgets/base",
            "_view_module_version": "1.2.0",
            "_view_name": "LayoutView",
            "align_content": null,
            "align_items": null,
            "align_self": null,
            "border": null,
            "bottom": null,
            "display": null,
            "flex": null,
            "flex_flow": null,
            "grid_area": null,
            "grid_auto_columns": null,
            "grid_auto_flow": null,
            "grid_auto_rows": null,
            "grid_column": null,
            "grid_gap": null,
            "grid_row": null,
            "grid_template_areas": null,
            "grid_template_columns": null,
            "grid_template_rows": null,
            "height": null,
            "justify_content": null,
            "justify_items": null,
            "left": null,
            "margin": null,
            "max_height": null,
            "max_width": null,
            "min_height": null,
            "min_width": null,
            "object_fit": null,
            "object_position": null,
            "order": null,
            "overflow": null,
            "overflow_x": null,
            "overflow_y": null,
            "padding": null,
            "right": null,
            "top": null,
            "visibility": null,
            "width": null
          }
        },
        "c3eab12c1da641f499d752de591cef02": {
          "model_module": "@jupyter-widgets/controls",
          "model_name": "DescriptionStyleModel",
          "model_module_version": "1.5.0",
          "state": {
            "_model_module": "@jupyter-widgets/controls",
            "_model_module_version": "1.5.0",
            "_model_name": "DescriptionStyleModel",
            "_view_count": null,
            "_view_module": "@jupyter-widgets/base",
            "_view_module_version": "1.2.0",
            "_view_name": "StyleView",
            "description_width": ""
          }
        },
        "966007372bc1435eb7fdd8a4c3934395": {
          "model_module": "@jupyter-widgets/base",
          "model_name": "LayoutModel",
          "model_module_version": "1.2.0",
          "state": {
            "_model_module": "@jupyter-widgets/base",
            "_model_module_version": "1.2.0",
            "_model_name": "LayoutModel",
            "_view_count": null,
            "_view_module": "@jupyter-widgets/base",
            "_view_module_version": "1.2.0",
            "_view_name": "LayoutView",
            "align_content": null,
            "align_items": null,
            "align_self": null,
            "border": null,
            "bottom": null,
            "display": null,
            "flex": null,
            "flex_flow": null,
            "grid_area": null,
            "grid_auto_columns": null,
            "grid_auto_flow": null,
            "grid_auto_rows": null,
            "grid_column": null,
            "grid_gap": null,
            "grid_row": null,
            "grid_template_areas": null,
            "grid_template_columns": null,
            "grid_template_rows": null,
            "height": null,
            "justify_content": null,
            "justify_items": null,
            "left": null,
            "margin": null,
            "max_height": null,
            "max_width": null,
            "min_height": null,
            "min_width": null,
            "object_fit": null,
            "object_position": null,
            "order": null,
            "overflow": null,
            "overflow_x": null,
            "overflow_y": null,
            "padding": null,
            "right": null,
            "top": null,
            "visibility": null,
            "width": null
          }
        },
        "f227804f0fa145fe93cb644ddea6ad81": {
          "model_module": "@jupyter-widgets/controls",
          "model_name": "ProgressStyleModel",
          "model_module_version": "1.5.0",
          "state": {
            "_model_module": "@jupyter-widgets/controls",
            "_model_module_version": "1.5.0",
            "_model_name": "ProgressStyleModel",
            "_view_count": null,
            "_view_module": "@jupyter-widgets/base",
            "_view_module_version": "1.2.0",
            "_view_name": "StyleView",
            "bar_color": null,
            "description_width": ""
          }
        },
        "deeb1389c666449387d004973ab297e2": {
          "model_module": "@jupyter-widgets/base",
          "model_name": "LayoutModel",
          "model_module_version": "1.2.0",
          "state": {
            "_model_module": "@jupyter-widgets/base",
            "_model_module_version": "1.2.0",
            "_model_name": "LayoutModel",
            "_view_count": null,
            "_view_module": "@jupyter-widgets/base",
            "_view_module_version": "1.2.0",
            "_view_name": "LayoutView",
            "align_content": null,
            "align_items": null,
            "align_self": null,
            "border": null,
            "bottom": null,
            "display": null,
            "flex": null,
            "flex_flow": null,
            "grid_area": null,
            "grid_auto_columns": null,
            "grid_auto_flow": null,
            "grid_auto_rows": null,
            "grid_column": null,
            "grid_gap": null,
            "grid_row": null,
            "grid_template_areas": null,
            "grid_template_columns": null,
            "grid_template_rows": null,
            "height": null,
            "justify_content": null,
            "justify_items": null,
            "left": null,
            "margin": null,
            "max_height": null,
            "max_width": null,
            "min_height": null,
            "min_width": null,
            "object_fit": null,
            "object_position": null,
            "order": null,
            "overflow": null,
            "overflow_x": null,
            "overflow_y": null,
            "padding": null,
            "right": null,
            "top": null,
            "visibility": null,
            "width": null
          }
        },
        "681a130ba0d545ceb88bd0518d47a6d2": {
          "model_module": "@jupyter-widgets/controls",
          "model_name": "DescriptionStyleModel",
          "model_module_version": "1.5.0",
          "state": {
            "_model_module": "@jupyter-widgets/controls",
            "_model_module_version": "1.5.0",
            "_model_name": "DescriptionStyleModel",
            "_view_count": null,
            "_view_module": "@jupyter-widgets/base",
            "_view_module_version": "1.2.0",
            "_view_name": "StyleView",
            "description_width": ""
          }
        },
        "766a07c65d4b4eeea6511124977f44d9": {
          "model_module": "@jupyter-widgets/controls",
          "model_name": "HBoxModel",
          "model_module_version": "1.5.0",
          "state": {
            "_dom_classes": [],
            "_model_module": "@jupyter-widgets/controls",
            "_model_module_version": "1.5.0",
            "_model_name": "HBoxModel",
            "_view_count": null,
            "_view_module": "@jupyter-widgets/controls",
            "_view_module_version": "1.5.0",
            "_view_name": "HBoxView",
            "box_style": "",
            "children": [
              "IPY_MODEL_76bfd806a10547c6ad365a91ade40f68",
              "IPY_MODEL_f49250795cff4e78aa5d771a58ade89b",
              "IPY_MODEL_0eea124efa1d4db5b5efa20fc41b2801"
            ],
            "layout": "IPY_MODEL_b6dcd63e05774f5399280faebacd2a81"
          }
        },
        "76bfd806a10547c6ad365a91ade40f68": {
          "model_module": "@jupyter-widgets/controls",
          "model_name": "HTMLModel",
          "model_module_version": "1.5.0",
          "state": {
            "_dom_classes": [],
            "_model_module": "@jupyter-widgets/controls",
            "_model_module_version": "1.5.0",
            "_model_name": "HTMLModel",
            "_view_count": null,
            "_view_module": "@jupyter-widgets/controls",
            "_view_module_version": "1.5.0",
            "_view_name": "HTMLView",
            "description": "",
            "description_tooltip": null,
            "layout": "IPY_MODEL_929732eb42284a3a91a3dd23f81dc261",
            "placeholder": "​",
            "style": "IPY_MODEL_f2d338101549475aa02cb0f39eb8d0fa",
            "value": "Downloading: 100%"
          }
        },
        "f49250795cff4e78aa5d771a58ade89b": {
          "model_module": "@jupyter-widgets/controls",
          "model_name": "FloatProgressModel",
          "model_module_version": "1.5.0",
          "state": {
            "_dom_classes": [],
            "_model_module": "@jupyter-widgets/controls",
            "_model_module_version": "1.5.0",
            "_model_name": "FloatProgressModel",
            "_view_count": null,
            "_view_module": "@jupyter-widgets/controls",
            "_view_module_version": "1.5.0",
            "_view_name": "ProgressView",
            "bar_style": "success",
            "description": "",
            "description_tooltip": null,
            "layout": "IPY_MODEL_69f7ca636a9b458eb79da179c24c8294",
            "max": 2709,
            "min": 0,
            "orientation": "horizontal",
            "style": "IPY_MODEL_fbe6d5f22bf54d86bebfe07a6e2507b3",
            "value": 2709
          }
        },
        "0eea124efa1d4db5b5efa20fc41b2801": {
          "model_module": "@jupyter-widgets/controls",
          "model_name": "HTMLModel",
          "model_module_version": "1.5.0",
          "state": {
            "_dom_classes": [],
            "_model_module": "@jupyter-widgets/controls",
            "_model_module_version": "1.5.0",
            "_model_name": "HTMLModel",
            "_view_count": null,
            "_view_module": "@jupyter-widgets/controls",
            "_view_module_version": "1.5.0",
            "_view_name": "HTMLView",
            "description": "",
            "description_tooltip": null,
            "layout": "IPY_MODEL_5f880872e9734ac9a389fe67f510ac79",
            "placeholder": "​",
            "style": "IPY_MODEL_23a25a028f7047f7aa81e8a6730569ea",
            "value": " 2.71k/2.71k [00:00&lt;00:00, 45.0kB/s]"
          }
        },
        "b6dcd63e05774f5399280faebacd2a81": {
          "model_module": "@jupyter-widgets/base",
          "model_name": "LayoutModel",
          "model_module_version": "1.2.0",
          "state": {
            "_model_module": "@jupyter-widgets/base",
            "_model_module_version": "1.2.0",
            "_model_name": "LayoutModel",
            "_view_count": null,
            "_view_module": "@jupyter-widgets/base",
            "_view_module_version": "1.2.0",
            "_view_name": "LayoutView",
            "align_content": null,
            "align_items": null,
            "align_self": null,
            "border": null,
            "bottom": null,
            "display": null,
            "flex": null,
            "flex_flow": null,
            "grid_area": null,
            "grid_auto_columns": null,
            "grid_auto_flow": null,
            "grid_auto_rows": null,
            "grid_column": null,
            "grid_gap": null,
            "grid_row": null,
            "grid_template_areas": null,
            "grid_template_columns": null,
            "grid_template_rows": null,
            "height": null,
            "justify_content": null,
            "justify_items": null,
            "left": null,
            "margin": null,
            "max_height": null,
            "max_width": null,
            "min_height": null,
            "min_width": null,
            "object_fit": null,
            "object_position": null,
            "order": null,
            "overflow": null,
            "overflow_x": null,
            "overflow_y": null,
            "padding": null,
            "right": null,
            "top": null,
            "visibility": null,
            "width": null
          }
        },
        "929732eb42284a3a91a3dd23f81dc261": {
          "model_module": "@jupyter-widgets/base",
          "model_name": "LayoutModel",
          "model_module_version": "1.2.0",
          "state": {
            "_model_module": "@jupyter-widgets/base",
            "_model_module_version": "1.2.0",
            "_model_name": "LayoutModel",
            "_view_count": null,
            "_view_module": "@jupyter-widgets/base",
            "_view_module_version": "1.2.0",
            "_view_name": "LayoutView",
            "align_content": null,
            "align_items": null,
            "align_self": null,
            "border": null,
            "bottom": null,
            "display": null,
            "flex": null,
            "flex_flow": null,
            "grid_area": null,
            "grid_auto_columns": null,
            "grid_auto_flow": null,
            "grid_auto_rows": null,
            "grid_column": null,
            "grid_gap": null,
            "grid_row": null,
            "grid_template_areas": null,
            "grid_template_columns": null,
            "grid_template_rows": null,
            "height": null,
            "justify_content": null,
            "justify_items": null,
            "left": null,
            "margin": null,
            "max_height": null,
            "max_width": null,
            "min_height": null,
            "min_width": null,
            "object_fit": null,
            "object_position": null,
            "order": null,
            "overflow": null,
            "overflow_x": null,
            "overflow_y": null,
            "padding": null,
            "right": null,
            "top": null,
            "visibility": null,
            "width": null
          }
        },
        "f2d338101549475aa02cb0f39eb8d0fa": {
          "model_module": "@jupyter-widgets/controls",
          "model_name": "DescriptionStyleModel",
          "model_module_version": "1.5.0",
          "state": {
            "_model_module": "@jupyter-widgets/controls",
            "_model_module_version": "1.5.0",
            "_model_name": "DescriptionStyleModel",
            "_view_count": null,
            "_view_module": "@jupyter-widgets/base",
            "_view_module_version": "1.2.0",
            "_view_name": "StyleView",
            "description_width": ""
          }
        },
        "69f7ca636a9b458eb79da179c24c8294": {
          "model_module": "@jupyter-widgets/base",
          "model_name": "LayoutModel",
          "model_module_version": "1.2.0",
          "state": {
            "_model_module": "@jupyter-widgets/base",
            "_model_module_version": "1.2.0",
            "_model_name": "LayoutModel",
            "_view_count": null,
            "_view_module": "@jupyter-widgets/base",
            "_view_module_version": "1.2.0",
            "_view_name": "LayoutView",
            "align_content": null,
            "align_items": null,
            "align_self": null,
            "border": null,
            "bottom": null,
            "display": null,
            "flex": null,
            "flex_flow": null,
            "grid_area": null,
            "grid_auto_columns": null,
            "grid_auto_flow": null,
            "grid_auto_rows": null,
            "grid_column": null,
            "grid_gap": null,
            "grid_row": null,
            "grid_template_areas": null,
            "grid_template_columns": null,
            "grid_template_rows": null,
            "height": null,
            "justify_content": null,
            "justify_items": null,
            "left": null,
            "margin": null,
            "max_height": null,
            "max_width": null,
            "min_height": null,
            "min_width": null,
            "object_fit": null,
            "object_position": null,
            "order": null,
            "overflow": null,
            "overflow_x": null,
            "overflow_y": null,
            "padding": null,
            "right": null,
            "top": null,
            "visibility": null,
            "width": null
          }
        },
        "fbe6d5f22bf54d86bebfe07a6e2507b3": {
          "model_module": "@jupyter-widgets/controls",
          "model_name": "ProgressStyleModel",
          "model_module_version": "1.5.0",
          "state": {
            "_model_module": "@jupyter-widgets/controls",
            "_model_module_version": "1.5.0",
            "_model_name": "ProgressStyleModel",
            "_view_count": null,
            "_view_module": "@jupyter-widgets/base",
            "_view_module_version": "1.2.0",
            "_view_name": "StyleView",
            "bar_color": null,
            "description_width": ""
          }
        },
        "5f880872e9734ac9a389fe67f510ac79": {
          "model_module": "@jupyter-widgets/base",
          "model_name": "LayoutModel",
          "model_module_version": "1.2.0",
          "state": {
            "_model_module": "@jupyter-widgets/base",
            "_model_module_version": "1.2.0",
            "_model_name": "LayoutModel",
            "_view_count": null,
            "_view_module": "@jupyter-widgets/base",
            "_view_module_version": "1.2.0",
            "_view_name": "LayoutView",
            "align_content": null,
            "align_items": null,
            "align_self": null,
            "border": null,
            "bottom": null,
            "display": null,
            "flex": null,
            "flex_flow": null,
            "grid_area": null,
            "grid_auto_columns": null,
            "grid_auto_flow": null,
            "grid_auto_rows": null,
            "grid_column": null,
            "grid_gap": null,
            "grid_row": null,
            "grid_template_areas": null,
            "grid_template_columns": null,
            "grid_template_rows": null,
            "height": null,
            "justify_content": null,
            "justify_items": null,
            "left": null,
            "margin": null,
            "max_height": null,
            "max_width": null,
            "min_height": null,
            "min_width": null,
            "object_fit": null,
            "object_position": null,
            "order": null,
            "overflow": null,
            "overflow_x": null,
            "overflow_y": null,
            "padding": null,
            "right": null,
            "top": null,
            "visibility": null,
            "width": null
          }
        },
        "23a25a028f7047f7aa81e8a6730569ea": {
          "model_module": "@jupyter-widgets/controls",
          "model_name": "DescriptionStyleModel",
          "model_module_version": "1.5.0",
          "state": {
            "_model_module": "@jupyter-widgets/controls",
            "_model_module_version": "1.5.0",
            "_model_name": "DescriptionStyleModel",
            "_view_count": null,
            "_view_module": "@jupyter-widgets/base",
            "_view_module_version": "1.2.0",
            "_view_name": "StyleView",
            "description_width": ""
          }
        },
        "bae23238f2a841668bbb34fdd47e2054": {
          "model_module": "@jupyter-widgets/controls",
          "model_name": "HBoxModel",
          "model_module_version": "1.5.0",
          "state": {
            "_dom_classes": [],
            "_model_module": "@jupyter-widgets/controls",
            "_model_module_version": "1.5.0",
            "_model_name": "HBoxModel",
            "_view_count": null,
            "_view_module": "@jupyter-widgets/controls",
            "_view_module_version": "1.5.0",
            "_view_name": "HBoxView",
            "box_style": "",
            "children": [
              "IPY_MODEL_30995e35457948599f4e5b5242e99e9b",
              "IPY_MODEL_af3b1e79437546e0a1d888625eda6498",
              "IPY_MODEL_0a7a2fffe3974aceb08e48abab79e1d1"
            ],
            "layout": "IPY_MODEL_dcd3dbba79b94bc3a16b49fcae8b614a"
          }
        },
        "30995e35457948599f4e5b5242e99e9b": {
          "model_module": "@jupyter-widgets/controls",
          "model_name": "HTMLModel",
          "model_module_version": "1.5.0",
          "state": {
            "_dom_classes": [],
            "_model_module": "@jupyter-widgets/controls",
            "_model_module_version": "1.5.0",
            "_model_name": "HTMLModel",
            "_view_count": null,
            "_view_module": "@jupyter-widgets/controls",
            "_view_module_version": "1.5.0",
            "_view_name": "HTMLView",
            "description": "",
            "description_tooltip": null,
            "layout": "IPY_MODEL_d73d08dbadf249bfba2c7b9fb208281b",
            "placeholder": "​",
            "style": "IPY_MODEL_9a3cec7e927e4cbe95e088ab0e356cb6",
            "value": "Downloading: 100%"
          }
        },
        "af3b1e79437546e0a1d888625eda6498": {
          "model_module": "@jupyter-widgets/controls",
          "model_name": "FloatProgressModel",
          "model_module_version": "1.5.0",
          "state": {
            "_dom_classes": [],
            "_model_module": "@jupyter-widgets/controls",
            "_model_module_version": "1.5.0",
            "_model_name": "FloatProgressModel",
            "_view_count": null,
            "_view_module": "@jupyter-widgets/controls",
            "_view_module_version": "1.5.0",
            "_view_name": "ProgressView",
            "bar_style": "success",
            "description": "",
            "description_tooltip": null,
            "layout": "IPY_MODEL_0e9e60ef57b24e9299e28ec4df393832",
            "max": 622,
            "min": 0,
            "orientation": "horizontal",
            "style": "IPY_MODEL_0aa7864414b149bebbb981cce4ccbd66",
            "value": 622
          }
        },
        "0a7a2fffe3974aceb08e48abab79e1d1": {
          "model_module": "@jupyter-widgets/controls",
          "model_name": "HTMLModel",
          "model_module_version": "1.5.0",
          "state": {
            "_dom_classes": [],
            "_model_module": "@jupyter-widgets/controls",
            "_model_module_version": "1.5.0",
            "_model_name": "HTMLModel",
            "_view_count": null,
            "_view_module": "@jupyter-widgets/controls",
            "_view_module_version": "1.5.0",
            "_view_name": "HTMLView",
            "description": "",
            "description_tooltip": null,
            "layout": "IPY_MODEL_54fb0d5eff694c9c9c8d9d90e17f7932",
            "placeholder": "​",
            "style": "IPY_MODEL_1ec645d3678d499bb945f6c29b9c4d21",
            "value": " 622/622 [00:00&lt;00:00, 24.1kB/s]"
          }
        },
        "dcd3dbba79b94bc3a16b49fcae8b614a": {
          "model_module": "@jupyter-widgets/base",
          "model_name": "LayoutModel",
          "model_module_version": "1.2.0",
          "state": {
            "_model_module": "@jupyter-widgets/base",
            "_model_module_version": "1.2.0",
            "_model_name": "LayoutModel",
            "_view_count": null,
            "_view_module": "@jupyter-widgets/base",
            "_view_module_version": "1.2.0",
            "_view_name": "LayoutView",
            "align_content": null,
            "align_items": null,
            "align_self": null,
            "border": null,
            "bottom": null,
            "display": null,
            "flex": null,
            "flex_flow": null,
            "grid_area": null,
            "grid_auto_columns": null,
            "grid_auto_flow": null,
            "grid_auto_rows": null,
            "grid_column": null,
            "grid_gap": null,
            "grid_row": null,
            "grid_template_areas": null,
            "grid_template_columns": null,
            "grid_template_rows": null,
            "height": null,
            "justify_content": null,
            "justify_items": null,
            "left": null,
            "margin": null,
            "max_height": null,
            "max_width": null,
            "min_height": null,
            "min_width": null,
            "object_fit": null,
            "object_position": null,
            "order": null,
            "overflow": null,
            "overflow_x": null,
            "overflow_y": null,
            "padding": null,
            "right": null,
            "top": null,
            "visibility": null,
            "width": null
          }
        },
        "d73d08dbadf249bfba2c7b9fb208281b": {
          "model_module": "@jupyter-widgets/base",
          "model_name": "LayoutModel",
          "model_module_version": "1.2.0",
          "state": {
            "_model_module": "@jupyter-widgets/base",
            "_model_module_version": "1.2.0",
            "_model_name": "LayoutModel",
            "_view_count": null,
            "_view_module": "@jupyter-widgets/base",
            "_view_module_version": "1.2.0",
            "_view_name": "LayoutView",
            "align_content": null,
            "align_items": null,
            "align_self": null,
            "border": null,
            "bottom": null,
            "display": null,
            "flex": null,
            "flex_flow": null,
            "grid_area": null,
            "grid_auto_columns": null,
            "grid_auto_flow": null,
            "grid_auto_rows": null,
            "grid_column": null,
            "grid_gap": null,
            "grid_row": null,
            "grid_template_areas": null,
            "grid_template_columns": null,
            "grid_template_rows": null,
            "height": null,
            "justify_content": null,
            "justify_items": null,
            "left": null,
            "margin": null,
            "max_height": null,
            "max_width": null,
            "min_height": null,
            "min_width": null,
            "object_fit": null,
            "object_position": null,
            "order": null,
            "overflow": null,
            "overflow_x": null,
            "overflow_y": null,
            "padding": null,
            "right": null,
            "top": null,
            "visibility": null,
            "width": null
          }
        },
        "9a3cec7e927e4cbe95e088ab0e356cb6": {
          "model_module": "@jupyter-widgets/controls",
          "model_name": "DescriptionStyleModel",
          "model_module_version": "1.5.0",
          "state": {
            "_model_module": "@jupyter-widgets/controls",
            "_model_module_version": "1.5.0",
            "_model_name": "DescriptionStyleModel",
            "_view_count": null,
            "_view_module": "@jupyter-widgets/base",
            "_view_module_version": "1.2.0",
            "_view_name": "StyleView",
            "description_width": ""
          }
        },
        "0e9e60ef57b24e9299e28ec4df393832": {
          "model_module": "@jupyter-widgets/base",
          "model_name": "LayoutModel",
          "model_module_version": "1.2.0",
          "state": {
            "_model_module": "@jupyter-widgets/base",
            "_model_module_version": "1.2.0",
            "_model_name": "LayoutModel",
            "_view_count": null,
            "_view_module": "@jupyter-widgets/base",
            "_view_module_version": "1.2.0",
            "_view_name": "LayoutView",
            "align_content": null,
            "align_items": null,
            "align_self": null,
            "border": null,
            "bottom": null,
            "display": null,
            "flex": null,
            "flex_flow": null,
            "grid_area": null,
            "grid_auto_columns": null,
            "grid_auto_flow": null,
            "grid_auto_rows": null,
            "grid_column": null,
            "grid_gap": null,
            "grid_row": null,
            "grid_template_areas": null,
            "grid_template_columns": null,
            "grid_template_rows": null,
            "height": null,
            "justify_content": null,
            "justify_items": null,
            "left": null,
            "margin": null,
            "max_height": null,
            "max_width": null,
            "min_height": null,
            "min_width": null,
            "object_fit": null,
            "object_position": null,
            "order": null,
            "overflow": null,
            "overflow_x": null,
            "overflow_y": null,
            "padding": null,
            "right": null,
            "top": null,
            "visibility": null,
            "width": null
          }
        },
        "0aa7864414b149bebbb981cce4ccbd66": {
          "model_module": "@jupyter-widgets/controls",
          "model_name": "ProgressStyleModel",
          "model_module_version": "1.5.0",
          "state": {
            "_model_module": "@jupyter-widgets/controls",
            "_model_module_version": "1.5.0",
            "_model_name": "ProgressStyleModel",
            "_view_count": null,
            "_view_module": "@jupyter-widgets/base",
            "_view_module_version": "1.2.0",
            "_view_name": "StyleView",
            "bar_color": null,
            "description_width": ""
          }
        },
        "54fb0d5eff694c9c9c8d9d90e17f7932": {
          "model_module": "@jupyter-widgets/base",
          "model_name": "LayoutModel",
          "model_module_version": "1.2.0",
          "state": {
            "_model_module": "@jupyter-widgets/base",
            "_model_module_version": "1.2.0",
            "_model_name": "LayoutModel",
            "_view_count": null,
            "_view_module": "@jupyter-widgets/base",
            "_view_module_version": "1.2.0",
            "_view_name": "LayoutView",
            "align_content": null,
            "align_items": null,
            "align_self": null,
            "border": null,
            "bottom": null,
            "display": null,
            "flex": null,
            "flex_flow": null,
            "grid_area": null,
            "grid_auto_columns": null,
            "grid_auto_flow": null,
            "grid_auto_rows": null,
            "grid_column": null,
            "grid_gap": null,
            "grid_row": null,
            "grid_template_areas": null,
            "grid_template_columns": null,
            "grid_template_rows": null,
            "height": null,
            "justify_content": null,
            "justify_items": null,
            "left": null,
            "margin": null,
            "max_height": null,
            "max_width": null,
            "min_height": null,
            "min_width": null,
            "object_fit": null,
            "object_position": null,
            "order": null,
            "overflow": null,
            "overflow_x": null,
            "overflow_y": null,
            "padding": null,
            "right": null,
            "top": null,
            "visibility": null,
            "width": null
          }
        },
        "1ec645d3678d499bb945f6c29b9c4d21": {
          "model_module": "@jupyter-widgets/controls",
          "model_name": "DescriptionStyleModel",
          "model_module_version": "1.5.0",
          "state": {
            "_model_module": "@jupyter-widgets/controls",
            "_model_module_version": "1.5.0",
            "_model_name": "DescriptionStyleModel",
            "_view_count": null,
            "_view_module": "@jupyter-widgets/base",
            "_view_module_version": "1.2.0",
            "_view_name": "StyleView",
            "description_width": ""
          }
        },
        "635c2a97e8ca425b89ed45d560126a4b": {
          "model_module": "@jupyter-widgets/controls",
          "model_name": "HBoxModel",
          "model_module_version": "1.5.0",
          "state": {
            "_dom_classes": [],
            "_model_module": "@jupyter-widgets/controls",
            "_model_module_version": "1.5.0",
            "_model_name": "HBoxModel",
            "_view_count": null,
            "_view_module": "@jupyter-widgets/controls",
            "_view_module_version": "1.5.0",
            "_view_name": "HBoxView",
            "box_style": "",
            "children": [
              "IPY_MODEL_6403b7ab19804d2fbc5c6b4cdc8718b2",
              "IPY_MODEL_0dc2b23c4a84476a884abc05a7293caa",
              "IPY_MODEL_463963dba30a43a8943c0abe591f265e"
            ],
            "layout": "IPY_MODEL_063a4f1d463f46deb8aa092b3025231a"
          }
        },
        "6403b7ab19804d2fbc5c6b4cdc8718b2": {
          "model_module": "@jupyter-widgets/controls",
          "model_name": "HTMLModel",
          "model_module_version": "1.5.0",
          "state": {
            "_dom_classes": [],
            "_model_module": "@jupyter-widgets/controls",
            "_model_module_version": "1.5.0",
            "_model_name": "HTMLModel",
            "_view_count": null,
            "_view_module": "@jupyter-widgets/controls",
            "_view_module_version": "1.5.0",
            "_view_name": "HTMLView",
            "description": "",
            "description_tooltip": null,
            "layout": "IPY_MODEL_ef09ecdd01a742a5908a8f508fcb4a31",
            "placeholder": "​",
            "style": "IPY_MODEL_0ac35e26e8244bb79aeb67e8f31f3c57",
            "value": "Downloading: 100%"
          }
        },
        "0dc2b23c4a84476a884abc05a7293caa": {
          "model_module": "@jupyter-widgets/controls",
          "model_name": "FloatProgressModel",
          "model_module_version": "1.5.0",
          "state": {
            "_dom_classes": [],
            "_model_module": "@jupyter-widgets/controls",
            "_model_module_version": "1.5.0",
            "_model_name": "FloatProgressModel",
            "_view_count": null,
            "_view_module": "@jupyter-widgets/controls",
            "_view_module_version": "1.5.0",
            "_view_name": "ProgressView",
            "bar_style": "success",
            "description": "",
            "description_tooltip": null,
            "layout": "IPY_MODEL_6a67454cb1db43118fc26963bfac6afb",
            "max": 122,
            "min": 0,
            "orientation": "horizontal",
            "style": "IPY_MODEL_f1d052b8dc9649d8bc7694fb5781edc7",
            "value": 122
          }
        },
        "463963dba30a43a8943c0abe591f265e": {
          "model_module": "@jupyter-widgets/controls",
          "model_name": "HTMLModel",
          "model_module_version": "1.5.0",
          "state": {
            "_dom_classes": [],
            "_model_module": "@jupyter-widgets/controls",
            "_model_module_version": "1.5.0",
            "_model_name": "HTMLModel",
            "_view_count": null,
            "_view_module": "@jupyter-widgets/controls",
            "_view_module_version": "1.5.0",
            "_view_name": "HTMLView",
            "description": "",
            "description_tooltip": null,
            "layout": "IPY_MODEL_b47c8ad0bddd47b78d37125fa5451066",
            "placeholder": "​",
            "style": "IPY_MODEL_bd77eb87cb6c4771b008c74b433c2ecb",
            "value": " 122/122 [00:00&lt;00:00, 2.18kB/s]"
          }
        },
        "063a4f1d463f46deb8aa092b3025231a": {
          "model_module": "@jupyter-widgets/base",
          "model_name": "LayoutModel",
          "model_module_version": "1.2.0",
          "state": {
            "_model_module": "@jupyter-widgets/base",
            "_model_module_version": "1.2.0",
            "_model_name": "LayoutModel",
            "_view_count": null,
            "_view_module": "@jupyter-widgets/base",
            "_view_module_version": "1.2.0",
            "_view_name": "LayoutView",
            "align_content": null,
            "align_items": null,
            "align_self": null,
            "border": null,
            "bottom": null,
            "display": null,
            "flex": null,
            "flex_flow": null,
            "grid_area": null,
            "grid_auto_columns": null,
            "grid_auto_flow": null,
            "grid_auto_rows": null,
            "grid_column": null,
            "grid_gap": null,
            "grid_row": null,
            "grid_template_areas": null,
            "grid_template_columns": null,
            "grid_template_rows": null,
            "height": null,
            "justify_content": null,
            "justify_items": null,
            "left": null,
            "margin": null,
            "max_height": null,
            "max_width": null,
            "min_height": null,
            "min_width": null,
            "object_fit": null,
            "object_position": null,
            "order": null,
            "overflow": null,
            "overflow_x": null,
            "overflow_y": null,
            "padding": null,
            "right": null,
            "top": null,
            "visibility": null,
            "width": null
          }
        },
        "ef09ecdd01a742a5908a8f508fcb4a31": {
          "model_module": "@jupyter-widgets/base",
          "model_name": "LayoutModel",
          "model_module_version": "1.2.0",
          "state": {
            "_model_module": "@jupyter-widgets/base",
            "_model_module_version": "1.2.0",
            "_model_name": "LayoutModel",
            "_view_count": null,
            "_view_module": "@jupyter-widgets/base",
            "_view_module_version": "1.2.0",
            "_view_name": "LayoutView",
            "align_content": null,
            "align_items": null,
            "align_self": null,
            "border": null,
            "bottom": null,
            "display": null,
            "flex": null,
            "flex_flow": null,
            "grid_area": null,
            "grid_auto_columns": null,
            "grid_auto_flow": null,
            "grid_auto_rows": null,
            "grid_column": null,
            "grid_gap": null,
            "grid_row": null,
            "grid_template_areas": null,
            "grid_template_columns": null,
            "grid_template_rows": null,
            "height": null,
            "justify_content": null,
            "justify_items": null,
            "left": null,
            "margin": null,
            "max_height": null,
            "max_width": null,
            "min_height": null,
            "min_width": null,
            "object_fit": null,
            "object_position": null,
            "order": null,
            "overflow": null,
            "overflow_x": null,
            "overflow_y": null,
            "padding": null,
            "right": null,
            "top": null,
            "visibility": null,
            "width": null
          }
        },
        "0ac35e26e8244bb79aeb67e8f31f3c57": {
          "model_module": "@jupyter-widgets/controls",
          "model_name": "DescriptionStyleModel",
          "model_module_version": "1.5.0",
          "state": {
            "_model_module": "@jupyter-widgets/controls",
            "_model_module_version": "1.5.0",
            "_model_name": "DescriptionStyleModel",
            "_view_count": null,
            "_view_module": "@jupyter-widgets/base",
            "_view_module_version": "1.2.0",
            "_view_name": "StyleView",
            "description_width": ""
          }
        },
        "6a67454cb1db43118fc26963bfac6afb": {
          "model_module": "@jupyter-widgets/base",
          "model_name": "LayoutModel",
          "model_module_version": "1.2.0",
          "state": {
            "_model_module": "@jupyter-widgets/base",
            "_model_module_version": "1.2.0",
            "_model_name": "LayoutModel",
            "_view_count": null,
            "_view_module": "@jupyter-widgets/base",
            "_view_module_version": "1.2.0",
            "_view_name": "LayoutView",
            "align_content": null,
            "align_items": null,
            "align_self": null,
            "border": null,
            "bottom": null,
            "display": null,
            "flex": null,
            "flex_flow": null,
            "grid_area": null,
            "grid_auto_columns": null,
            "grid_auto_flow": null,
            "grid_auto_rows": null,
            "grid_column": null,
            "grid_gap": null,
            "grid_row": null,
            "grid_template_areas": null,
            "grid_template_columns": null,
            "grid_template_rows": null,
            "height": null,
            "justify_content": null,
            "justify_items": null,
            "left": null,
            "margin": null,
            "max_height": null,
            "max_width": null,
            "min_height": null,
            "min_width": null,
            "object_fit": null,
            "object_position": null,
            "order": null,
            "overflow": null,
            "overflow_x": null,
            "overflow_y": null,
            "padding": null,
            "right": null,
            "top": null,
            "visibility": null,
            "width": null
          }
        },
        "f1d052b8dc9649d8bc7694fb5781edc7": {
          "model_module": "@jupyter-widgets/controls",
          "model_name": "ProgressStyleModel",
          "model_module_version": "1.5.0",
          "state": {
            "_model_module": "@jupyter-widgets/controls",
            "_model_module_version": "1.5.0",
            "_model_name": "ProgressStyleModel",
            "_view_count": null,
            "_view_module": "@jupyter-widgets/base",
            "_view_module_version": "1.2.0",
            "_view_name": "StyleView",
            "bar_color": null,
            "description_width": ""
          }
        },
        "b47c8ad0bddd47b78d37125fa5451066": {
          "model_module": "@jupyter-widgets/base",
          "model_name": "LayoutModel",
          "model_module_version": "1.2.0",
          "state": {
            "_model_module": "@jupyter-widgets/base",
            "_model_module_version": "1.2.0",
            "_model_name": "LayoutModel",
            "_view_count": null,
            "_view_module": "@jupyter-widgets/base",
            "_view_module_version": "1.2.0",
            "_view_name": "LayoutView",
            "align_content": null,
            "align_items": null,
            "align_self": null,
            "border": null,
            "bottom": null,
            "display": null,
            "flex": null,
            "flex_flow": null,
            "grid_area": null,
            "grid_auto_columns": null,
            "grid_auto_flow": null,
            "grid_auto_rows": null,
            "grid_column": null,
            "grid_gap": null,
            "grid_row": null,
            "grid_template_areas": null,
            "grid_template_columns": null,
            "grid_template_rows": null,
            "height": null,
            "justify_content": null,
            "justify_items": null,
            "left": null,
            "margin": null,
            "max_height": null,
            "max_width": null,
            "min_height": null,
            "min_width": null,
            "object_fit": null,
            "object_position": null,
            "order": null,
            "overflow": null,
            "overflow_x": null,
            "overflow_y": null,
            "padding": null,
            "right": null,
            "top": null,
            "visibility": null,
            "width": null
          }
        },
        "bd77eb87cb6c4771b008c74b433c2ecb": {
          "model_module": "@jupyter-widgets/controls",
          "model_name": "DescriptionStyleModel",
          "model_module_version": "1.5.0",
          "state": {
            "_model_module": "@jupyter-widgets/controls",
            "_model_module_version": "1.5.0",
            "_model_name": "DescriptionStyleModel",
            "_view_count": null,
            "_view_module": "@jupyter-widgets/base",
            "_view_module_version": "1.2.0",
            "_view_name": "StyleView",
            "description_width": ""
          }
        },
        "64a824a5c2e543c7b369dd8b92cb99c7": {
          "model_module": "@jupyter-widgets/controls",
          "model_name": "HBoxModel",
          "model_module_version": "1.5.0",
          "state": {
            "_dom_classes": [],
            "_model_module": "@jupyter-widgets/controls",
            "_model_module_version": "1.5.0",
            "_model_name": "HBoxModel",
            "_view_count": null,
            "_view_module": "@jupyter-widgets/controls",
            "_view_module_version": "1.5.0",
            "_view_name": "HBoxView",
            "box_style": "",
            "children": [
              "IPY_MODEL_4902ee32e41c48ed9232bfd3acca6e0e",
              "IPY_MODEL_6efc0f18d3f44f359d719f6d4dfd938a",
              "IPY_MODEL_e382d710adbd4e09a34f67ac1dfa4cea"
            ],
            "layout": "IPY_MODEL_52e6b868c403499b9250b5361ab704de"
          }
        },
        "4902ee32e41c48ed9232bfd3acca6e0e": {
          "model_module": "@jupyter-widgets/controls",
          "model_name": "HTMLModel",
          "model_module_version": "1.5.0",
          "state": {
            "_dom_classes": [],
            "_model_module": "@jupyter-widgets/controls",
            "_model_module_version": "1.5.0",
            "_model_name": "HTMLModel",
            "_view_count": null,
            "_view_module": "@jupyter-widgets/controls",
            "_view_module_version": "1.5.0",
            "_view_name": "HTMLView",
            "description": "",
            "description_tooltip": null,
            "layout": "IPY_MODEL_20c0d7b794a740838e9eb35e0ba9a6d7",
            "placeholder": "​",
            "style": "IPY_MODEL_71768eeb1d7e4106aa76978bbb06b90b",
            "value": "Downloading: 100%"
          }
        },
        "6efc0f18d3f44f359d719f6d4dfd938a": {
          "model_module": "@jupyter-widgets/controls",
          "model_name": "FloatProgressModel",
          "model_module_version": "1.5.0",
          "state": {
            "_dom_classes": [],
            "_model_module": "@jupyter-widgets/controls",
            "_model_module_version": "1.5.0",
            "_model_name": "FloatProgressModel",
            "_view_count": null,
            "_view_module": "@jupyter-widgets/controls",
            "_view_module_version": "1.5.0",
            "_view_name": "ProgressView",
            "bar_style": "success",
            "description": "",
            "description_tooltip": null,
            "layout": "IPY_MODEL_d9ad5cd84cfe4753a4918dc21dc366f9",
            "max": 439832305,
            "min": 0,
            "orientation": "horizontal",
            "style": "IPY_MODEL_5846b80eac904efa9d9d433a5309bc0c",
            "value": 439832305
          }
        },
        "e382d710adbd4e09a34f67ac1dfa4cea": {
          "model_module": "@jupyter-widgets/controls",
          "model_name": "HTMLModel",
          "model_module_version": "1.5.0",
          "state": {
            "_dom_classes": [],
            "_model_module": "@jupyter-widgets/controls",
            "_model_module_version": "1.5.0",
            "_model_name": "HTMLModel",
            "_view_count": null,
            "_view_module": "@jupyter-widgets/controls",
            "_view_module_version": "1.5.0",
            "_view_name": "HTMLView",
            "description": "",
            "description_tooltip": null,
            "layout": "IPY_MODEL_d4673cbd127444eb822178a406a607d3",
            "placeholder": "​",
            "style": "IPY_MODEL_93aa806a78794c1ab782d965e60a45c4",
            "value": " 440M/440M [00:10&lt;00:00, 64.6MB/s]"
          }
        },
        "52e6b868c403499b9250b5361ab704de": {
          "model_module": "@jupyter-widgets/base",
          "model_name": "LayoutModel",
          "model_module_version": "1.2.0",
          "state": {
            "_model_module": "@jupyter-widgets/base",
            "_model_module_version": "1.2.0",
            "_model_name": "LayoutModel",
            "_view_count": null,
            "_view_module": "@jupyter-widgets/base",
            "_view_module_version": "1.2.0",
            "_view_name": "LayoutView",
            "align_content": null,
            "align_items": null,
            "align_self": null,
            "border": null,
            "bottom": null,
            "display": null,
            "flex": null,
            "flex_flow": null,
            "grid_area": null,
            "grid_auto_columns": null,
            "grid_auto_flow": null,
            "grid_auto_rows": null,
            "grid_column": null,
            "grid_gap": null,
            "grid_row": null,
            "grid_template_areas": null,
            "grid_template_columns": null,
            "grid_template_rows": null,
            "height": null,
            "justify_content": null,
            "justify_items": null,
            "left": null,
            "margin": null,
            "max_height": null,
            "max_width": null,
            "min_height": null,
            "min_width": null,
            "object_fit": null,
            "object_position": null,
            "order": null,
            "overflow": null,
            "overflow_x": null,
            "overflow_y": null,
            "padding": null,
            "right": null,
            "top": null,
            "visibility": null,
            "width": null
          }
        },
        "20c0d7b794a740838e9eb35e0ba9a6d7": {
          "model_module": "@jupyter-widgets/base",
          "model_name": "LayoutModel",
          "model_module_version": "1.2.0",
          "state": {
            "_model_module": "@jupyter-widgets/base",
            "_model_module_version": "1.2.0",
            "_model_name": "LayoutModel",
            "_view_count": null,
            "_view_module": "@jupyter-widgets/base",
            "_view_module_version": "1.2.0",
            "_view_name": "LayoutView",
            "align_content": null,
            "align_items": null,
            "align_self": null,
            "border": null,
            "bottom": null,
            "display": null,
            "flex": null,
            "flex_flow": null,
            "grid_area": null,
            "grid_auto_columns": null,
            "grid_auto_flow": null,
            "grid_auto_rows": null,
            "grid_column": null,
            "grid_gap": null,
            "grid_row": null,
            "grid_template_areas": null,
            "grid_template_columns": null,
            "grid_template_rows": null,
            "height": null,
            "justify_content": null,
            "justify_items": null,
            "left": null,
            "margin": null,
            "max_height": null,
            "max_width": null,
            "min_height": null,
            "min_width": null,
            "object_fit": null,
            "object_position": null,
            "order": null,
            "overflow": null,
            "overflow_x": null,
            "overflow_y": null,
            "padding": null,
            "right": null,
            "top": null,
            "visibility": null,
            "width": null
          }
        },
        "71768eeb1d7e4106aa76978bbb06b90b": {
          "model_module": "@jupyter-widgets/controls",
          "model_name": "DescriptionStyleModel",
          "model_module_version": "1.5.0",
          "state": {
            "_model_module": "@jupyter-widgets/controls",
            "_model_module_version": "1.5.0",
            "_model_name": "DescriptionStyleModel",
            "_view_count": null,
            "_view_module": "@jupyter-widgets/base",
            "_view_module_version": "1.2.0",
            "_view_name": "StyleView",
            "description_width": ""
          }
        },
        "d9ad5cd84cfe4753a4918dc21dc366f9": {
          "model_module": "@jupyter-widgets/base",
          "model_name": "LayoutModel",
          "model_module_version": "1.2.0",
          "state": {
            "_model_module": "@jupyter-widgets/base",
            "_model_module_version": "1.2.0",
            "_model_name": "LayoutModel",
            "_view_count": null,
            "_view_module": "@jupyter-widgets/base",
            "_view_module_version": "1.2.0",
            "_view_name": "LayoutView",
            "align_content": null,
            "align_items": null,
            "align_self": null,
            "border": null,
            "bottom": null,
            "display": null,
            "flex": null,
            "flex_flow": null,
            "grid_area": null,
            "grid_auto_columns": null,
            "grid_auto_flow": null,
            "grid_auto_rows": null,
            "grid_column": null,
            "grid_gap": null,
            "grid_row": null,
            "grid_template_areas": null,
            "grid_template_columns": null,
            "grid_template_rows": null,
            "height": null,
            "justify_content": null,
            "justify_items": null,
            "left": null,
            "margin": null,
            "max_height": null,
            "max_width": null,
            "min_height": null,
            "min_width": null,
            "object_fit": null,
            "object_position": null,
            "order": null,
            "overflow": null,
            "overflow_x": null,
            "overflow_y": null,
            "padding": null,
            "right": null,
            "top": null,
            "visibility": null,
            "width": null
          }
        },
        "5846b80eac904efa9d9d433a5309bc0c": {
          "model_module": "@jupyter-widgets/controls",
          "model_name": "ProgressStyleModel",
          "model_module_version": "1.5.0",
          "state": {
            "_model_module": "@jupyter-widgets/controls",
            "_model_module_version": "1.5.0",
            "_model_name": "ProgressStyleModel",
            "_view_count": null,
            "_view_module": "@jupyter-widgets/base",
            "_view_module_version": "1.2.0",
            "_view_name": "StyleView",
            "bar_color": null,
            "description_width": ""
          }
        },
        "d4673cbd127444eb822178a406a607d3": {
          "model_module": "@jupyter-widgets/base",
          "model_name": "LayoutModel",
          "model_module_version": "1.2.0",
          "state": {
            "_model_module": "@jupyter-widgets/base",
            "_model_module_version": "1.2.0",
            "_model_name": "LayoutModel",
            "_view_count": null,
            "_view_module": "@jupyter-widgets/base",
            "_view_module_version": "1.2.0",
            "_view_name": "LayoutView",
            "align_content": null,
            "align_items": null,
            "align_self": null,
            "border": null,
            "bottom": null,
            "display": null,
            "flex": null,
            "flex_flow": null,
            "grid_area": null,
            "grid_auto_columns": null,
            "grid_auto_flow": null,
            "grid_auto_rows": null,
            "grid_column": null,
            "grid_gap": null,
            "grid_row": null,
            "grid_template_areas": null,
            "grid_template_columns": null,
            "grid_template_rows": null,
            "height": null,
            "justify_content": null,
            "justify_items": null,
            "left": null,
            "margin": null,
            "max_height": null,
            "max_width": null,
            "min_height": null,
            "min_width": null,
            "object_fit": null,
            "object_position": null,
            "order": null,
            "overflow": null,
            "overflow_x": null,
            "overflow_y": null,
            "padding": null,
            "right": null,
            "top": null,
            "visibility": null,
            "width": null
          }
        },
        "93aa806a78794c1ab782d965e60a45c4": {
          "model_module": "@jupyter-widgets/controls",
          "model_name": "DescriptionStyleModel",
          "model_module_version": "1.5.0",
          "state": {
            "_model_module": "@jupyter-widgets/controls",
            "_model_module_version": "1.5.0",
            "_model_name": "DescriptionStyleModel",
            "_view_count": null,
            "_view_module": "@jupyter-widgets/base",
            "_view_module_version": "1.2.0",
            "_view_name": "StyleView",
            "description_width": ""
          }
        },
        "8879863597d64ae4b76ed6e7dceb56e4": {
          "model_module": "@jupyter-widgets/controls",
          "model_name": "HBoxModel",
          "model_module_version": "1.5.0",
          "state": {
            "_dom_classes": [],
            "_model_module": "@jupyter-widgets/controls",
            "_model_module_version": "1.5.0",
            "_model_name": "HBoxModel",
            "_view_count": null,
            "_view_module": "@jupyter-widgets/controls",
            "_view_module_version": "1.5.0",
            "_view_name": "HBoxView",
            "box_style": "",
            "children": [
              "IPY_MODEL_0e30105a24874f75a55a22f09f0fd058",
              "IPY_MODEL_2d42cdb1ce124a9e9d5fcd9c68edd850",
              "IPY_MODEL_0545b07b046e4610936bd90ba11b717a"
            ],
            "layout": "IPY_MODEL_0436cb766922447d9f6e7519136b6c68"
          }
        },
        "0e30105a24874f75a55a22f09f0fd058": {
          "model_module": "@jupyter-widgets/controls",
          "model_name": "HTMLModel",
          "model_module_version": "1.5.0",
          "state": {
            "_dom_classes": [],
            "_model_module": "@jupyter-widgets/controls",
            "_model_module_version": "1.5.0",
            "_model_name": "HTMLModel",
            "_view_count": null,
            "_view_module": "@jupyter-widgets/controls",
            "_view_module_version": "1.5.0",
            "_view_name": "HTMLView",
            "description": "",
            "description_tooltip": null,
            "layout": "IPY_MODEL_f2fffa8192654f919e2213371c611660",
            "placeholder": "​",
            "style": "IPY_MODEL_6f8c32357aa448abbb739f2cb0ee5b85",
            "value": "Downloading: 100%"
          }
        },
        "2d42cdb1ce124a9e9d5fcd9c68edd850": {
          "model_module": "@jupyter-widgets/controls",
          "model_name": "FloatProgressModel",
          "model_module_version": "1.5.0",
          "state": {
            "_dom_classes": [],
            "_model_module": "@jupyter-widgets/controls",
            "_model_module_version": "1.5.0",
            "_model_name": "FloatProgressModel",
            "_view_count": null,
            "_view_module": "@jupyter-widgets/controls",
            "_view_module_version": "1.5.0",
            "_view_name": "ProgressView",
            "bar_style": "success",
            "description": "",
            "description_tooltip": null,
            "layout": "IPY_MODEL_02cd188471914b7b9a443d5eeaeecbf8",
            "max": 53,
            "min": 0,
            "orientation": "horizontal",
            "style": "IPY_MODEL_1feac6b60cf04397a9276e06a189a915",
            "value": 53
          }
        },
        "0545b07b046e4610936bd90ba11b717a": {
          "model_module": "@jupyter-widgets/controls",
          "model_name": "HTMLModel",
          "model_module_version": "1.5.0",
          "state": {
            "_dom_classes": [],
            "_model_module": "@jupyter-widgets/controls",
            "_model_module_version": "1.5.0",
            "_model_name": "HTMLModel",
            "_view_count": null,
            "_view_module": "@jupyter-widgets/controls",
            "_view_module_version": "1.5.0",
            "_view_name": "HTMLView",
            "description": "",
            "description_tooltip": null,
            "layout": "IPY_MODEL_53db37c9ca5042d48e33e7e2dba869b4",
            "placeholder": "​",
            "style": "IPY_MODEL_03146f7aa3c540bfa45761095b7ba4ee",
            "value": " 53.0/53.0 [00:00&lt;00:00, 2.06kB/s]"
          }
        },
        "0436cb766922447d9f6e7519136b6c68": {
          "model_module": "@jupyter-widgets/base",
          "model_name": "LayoutModel",
          "model_module_version": "1.2.0",
          "state": {
            "_model_module": "@jupyter-widgets/base",
            "_model_module_version": "1.2.0",
            "_model_name": "LayoutModel",
            "_view_count": null,
            "_view_module": "@jupyter-widgets/base",
            "_view_module_version": "1.2.0",
            "_view_name": "LayoutView",
            "align_content": null,
            "align_items": null,
            "align_self": null,
            "border": null,
            "bottom": null,
            "display": null,
            "flex": null,
            "flex_flow": null,
            "grid_area": null,
            "grid_auto_columns": null,
            "grid_auto_flow": null,
            "grid_auto_rows": null,
            "grid_column": null,
            "grid_gap": null,
            "grid_row": null,
            "grid_template_areas": null,
            "grid_template_columns": null,
            "grid_template_rows": null,
            "height": null,
            "justify_content": null,
            "justify_items": null,
            "left": null,
            "margin": null,
            "max_height": null,
            "max_width": null,
            "min_height": null,
            "min_width": null,
            "object_fit": null,
            "object_position": null,
            "order": null,
            "overflow": null,
            "overflow_x": null,
            "overflow_y": null,
            "padding": null,
            "right": null,
            "top": null,
            "visibility": null,
            "width": null
          }
        },
        "f2fffa8192654f919e2213371c611660": {
          "model_module": "@jupyter-widgets/base",
          "model_name": "LayoutModel",
          "model_module_version": "1.2.0",
          "state": {
            "_model_module": "@jupyter-widgets/base",
            "_model_module_version": "1.2.0",
            "_model_name": "LayoutModel",
            "_view_count": null,
            "_view_module": "@jupyter-widgets/base",
            "_view_module_version": "1.2.0",
            "_view_name": "LayoutView",
            "align_content": null,
            "align_items": null,
            "align_self": null,
            "border": null,
            "bottom": null,
            "display": null,
            "flex": null,
            "flex_flow": null,
            "grid_area": null,
            "grid_auto_columns": null,
            "grid_auto_flow": null,
            "grid_auto_rows": null,
            "grid_column": null,
            "grid_gap": null,
            "grid_row": null,
            "grid_template_areas": null,
            "grid_template_columns": null,
            "grid_template_rows": null,
            "height": null,
            "justify_content": null,
            "justify_items": null,
            "left": null,
            "margin": null,
            "max_height": null,
            "max_width": null,
            "min_height": null,
            "min_width": null,
            "object_fit": null,
            "object_position": null,
            "order": null,
            "overflow": null,
            "overflow_x": null,
            "overflow_y": null,
            "padding": null,
            "right": null,
            "top": null,
            "visibility": null,
            "width": null
          }
        },
        "6f8c32357aa448abbb739f2cb0ee5b85": {
          "model_module": "@jupyter-widgets/controls",
          "model_name": "DescriptionStyleModel",
          "model_module_version": "1.5.0",
          "state": {
            "_model_module": "@jupyter-widgets/controls",
            "_model_module_version": "1.5.0",
            "_model_name": "DescriptionStyleModel",
            "_view_count": null,
            "_view_module": "@jupyter-widgets/base",
            "_view_module_version": "1.2.0",
            "_view_name": "StyleView",
            "description_width": ""
          }
        },
        "02cd188471914b7b9a443d5eeaeecbf8": {
          "model_module": "@jupyter-widgets/base",
          "model_name": "LayoutModel",
          "model_module_version": "1.2.0",
          "state": {
            "_model_module": "@jupyter-widgets/base",
            "_model_module_version": "1.2.0",
            "_model_name": "LayoutModel",
            "_view_count": null,
            "_view_module": "@jupyter-widgets/base",
            "_view_module_version": "1.2.0",
            "_view_name": "LayoutView",
            "align_content": null,
            "align_items": null,
            "align_self": null,
            "border": null,
            "bottom": null,
            "display": null,
            "flex": null,
            "flex_flow": null,
            "grid_area": null,
            "grid_auto_columns": null,
            "grid_auto_flow": null,
            "grid_auto_rows": null,
            "grid_column": null,
            "grid_gap": null,
            "grid_row": null,
            "grid_template_areas": null,
            "grid_template_columns": null,
            "grid_template_rows": null,
            "height": null,
            "justify_content": null,
            "justify_items": null,
            "left": null,
            "margin": null,
            "max_height": null,
            "max_width": null,
            "min_height": null,
            "min_width": null,
            "object_fit": null,
            "object_position": null,
            "order": null,
            "overflow": null,
            "overflow_x": null,
            "overflow_y": null,
            "padding": null,
            "right": null,
            "top": null,
            "visibility": null,
            "width": null
          }
        },
        "1feac6b60cf04397a9276e06a189a915": {
          "model_module": "@jupyter-widgets/controls",
          "model_name": "ProgressStyleModel",
          "model_module_version": "1.5.0",
          "state": {
            "_model_module": "@jupyter-widgets/controls",
            "_model_module_version": "1.5.0",
            "_model_name": "ProgressStyleModel",
            "_view_count": null,
            "_view_module": "@jupyter-widgets/base",
            "_view_module_version": "1.2.0",
            "_view_name": "StyleView",
            "bar_color": null,
            "description_width": ""
          }
        },
        "53db37c9ca5042d48e33e7e2dba869b4": {
          "model_module": "@jupyter-widgets/base",
          "model_name": "LayoutModel",
          "model_module_version": "1.2.0",
          "state": {
            "_model_module": "@jupyter-widgets/base",
            "_model_module_version": "1.2.0",
            "_model_name": "LayoutModel",
            "_view_count": null,
            "_view_module": "@jupyter-widgets/base",
            "_view_module_version": "1.2.0",
            "_view_name": "LayoutView",
            "align_content": null,
            "align_items": null,
            "align_self": null,
            "border": null,
            "bottom": null,
            "display": null,
            "flex": null,
            "flex_flow": null,
            "grid_area": null,
            "grid_auto_columns": null,
            "grid_auto_flow": null,
            "grid_auto_rows": null,
            "grid_column": null,
            "grid_gap": null,
            "grid_row": null,
            "grid_template_areas": null,
            "grid_template_columns": null,
            "grid_template_rows": null,
            "height": null,
            "justify_content": null,
            "justify_items": null,
            "left": null,
            "margin": null,
            "max_height": null,
            "max_width": null,
            "min_height": null,
            "min_width": null,
            "object_fit": null,
            "object_position": null,
            "order": null,
            "overflow": null,
            "overflow_x": null,
            "overflow_y": null,
            "padding": null,
            "right": null,
            "top": null,
            "visibility": null,
            "width": null
          }
        },
        "03146f7aa3c540bfa45761095b7ba4ee": {
          "model_module": "@jupyter-widgets/controls",
          "model_name": "DescriptionStyleModel",
          "model_module_version": "1.5.0",
          "state": {
            "_model_module": "@jupyter-widgets/controls",
            "_model_module_version": "1.5.0",
            "_model_name": "DescriptionStyleModel",
            "_view_count": null,
            "_view_module": "@jupyter-widgets/base",
            "_view_module_version": "1.2.0",
            "_view_name": "StyleView",
            "description_width": ""
          }
        },
        "b88907f21ba846c192f241a0670fd185": {
          "model_module": "@jupyter-widgets/controls",
          "model_name": "HBoxModel",
          "model_module_version": "1.5.0",
          "state": {
            "_dom_classes": [],
            "_model_module": "@jupyter-widgets/controls",
            "_model_module_version": "1.5.0",
            "_model_name": "HBoxModel",
            "_view_count": null,
            "_view_module": "@jupyter-widgets/controls",
            "_view_module_version": "1.5.0",
            "_view_name": "HBoxView",
            "box_style": "",
            "children": [
              "IPY_MODEL_3585480851a248d0a938f25b7d4d1dcf",
              "IPY_MODEL_50111f28d33044c58767e15419358a80",
              "IPY_MODEL_29f7a35f31b8447ebed5c2fa2546ff55"
            ],
            "layout": "IPY_MODEL_2358e398f5bc4c9a9f7f1c44ec96ce0c"
          }
        },
        "3585480851a248d0a938f25b7d4d1dcf": {
          "model_module": "@jupyter-widgets/controls",
          "model_name": "HTMLModel",
          "model_module_version": "1.5.0",
          "state": {
            "_dom_classes": [],
            "_model_module": "@jupyter-widgets/controls",
            "_model_module_version": "1.5.0",
            "_model_name": "HTMLModel",
            "_view_count": null,
            "_view_module": "@jupyter-widgets/controls",
            "_view_module_version": "1.5.0",
            "_view_name": "HTMLView",
            "description": "",
            "description_tooltip": null,
            "layout": "IPY_MODEL_b1f33342a2f14cdaadb5adc8d9a0f4c8",
            "placeholder": "​",
            "style": "IPY_MODEL_56a93abe1fb548ebbb7626ecf5339a02",
            "value": "Downloading: 100%"
          }
        },
        "50111f28d33044c58767e15419358a80": {
          "model_module": "@jupyter-widgets/controls",
          "model_name": "FloatProgressModel",
          "model_module_version": "1.5.0",
          "state": {
            "_dom_classes": [],
            "_model_module": "@jupyter-widgets/controls",
            "_model_module_version": "1.5.0",
            "_model_name": "FloatProgressModel",
            "_view_count": null,
            "_view_module": "@jupyter-widgets/controls",
            "_view_module_version": "1.5.0",
            "_view_name": "ProgressView",
            "bar_style": "success",
            "description": "",
            "description_tooltip": null,
            "layout": "IPY_MODEL_18e811ae696c47bf9cbdb93f07a5abd5",
            "max": 112,
            "min": 0,
            "orientation": "horizontal",
            "style": "IPY_MODEL_8ca36a7df74d44d2aaf979ba9a3004b5",
            "value": 112
          }
        },
        "29f7a35f31b8447ebed5c2fa2546ff55": {
          "model_module": "@jupyter-widgets/controls",
          "model_name": "HTMLModel",
          "model_module_version": "1.5.0",
          "state": {
            "_dom_classes": [],
            "_model_module": "@jupyter-widgets/controls",
            "_model_module_version": "1.5.0",
            "_model_name": "HTMLModel",
            "_view_count": null,
            "_view_module": "@jupyter-widgets/controls",
            "_view_module_version": "1.5.0",
            "_view_name": "HTMLView",
            "description": "",
            "description_tooltip": null,
            "layout": "IPY_MODEL_ab03362576934f91b2995f80f60c4166",
            "placeholder": "​",
            "style": "IPY_MODEL_80b84c88ba6f417dbbeb93fcefeb0521",
            "value": " 112/112 [00:00&lt;00:00, 5.77kB/s]"
          }
        },
        "2358e398f5bc4c9a9f7f1c44ec96ce0c": {
          "model_module": "@jupyter-widgets/base",
          "model_name": "LayoutModel",
          "model_module_version": "1.2.0",
          "state": {
            "_model_module": "@jupyter-widgets/base",
            "_model_module_version": "1.2.0",
            "_model_name": "LayoutModel",
            "_view_count": null,
            "_view_module": "@jupyter-widgets/base",
            "_view_module_version": "1.2.0",
            "_view_name": "LayoutView",
            "align_content": null,
            "align_items": null,
            "align_self": null,
            "border": null,
            "bottom": null,
            "display": null,
            "flex": null,
            "flex_flow": null,
            "grid_area": null,
            "grid_auto_columns": null,
            "grid_auto_flow": null,
            "grid_auto_rows": null,
            "grid_column": null,
            "grid_gap": null,
            "grid_row": null,
            "grid_template_areas": null,
            "grid_template_columns": null,
            "grid_template_rows": null,
            "height": null,
            "justify_content": null,
            "justify_items": null,
            "left": null,
            "margin": null,
            "max_height": null,
            "max_width": null,
            "min_height": null,
            "min_width": null,
            "object_fit": null,
            "object_position": null,
            "order": null,
            "overflow": null,
            "overflow_x": null,
            "overflow_y": null,
            "padding": null,
            "right": null,
            "top": null,
            "visibility": null,
            "width": null
          }
        },
        "b1f33342a2f14cdaadb5adc8d9a0f4c8": {
          "model_module": "@jupyter-widgets/base",
          "model_name": "LayoutModel",
          "model_module_version": "1.2.0",
          "state": {
            "_model_module": "@jupyter-widgets/base",
            "_model_module_version": "1.2.0",
            "_model_name": "LayoutModel",
            "_view_count": null,
            "_view_module": "@jupyter-widgets/base",
            "_view_module_version": "1.2.0",
            "_view_name": "LayoutView",
            "align_content": null,
            "align_items": null,
            "align_self": null,
            "border": null,
            "bottom": null,
            "display": null,
            "flex": null,
            "flex_flow": null,
            "grid_area": null,
            "grid_auto_columns": null,
            "grid_auto_flow": null,
            "grid_auto_rows": null,
            "grid_column": null,
            "grid_gap": null,
            "grid_row": null,
            "grid_template_areas": null,
            "grid_template_columns": null,
            "grid_template_rows": null,
            "height": null,
            "justify_content": null,
            "justify_items": null,
            "left": null,
            "margin": null,
            "max_height": null,
            "max_width": null,
            "min_height": null,
            "min_width": null,
            "object_fit": null,
            "object_position": null,
            "order": null,
            "overflow": null,
            "overflow_x": null,
            "overflow_y": null,
            "padding": null,
            "right": null,
            "top": null,
            "visibility": null,
            "width": null
          }
        },
        "56a93abe1fb548ebbb7626ecf5339a02": {
          "model_module": "@jupyter-widgets/controls",
          "model_name": "DescriptionStyleModel",
          "model_module_version": "1.5.0",
          "state": {
            "_model_module": "@jupyter-widgets/controls",
            "_model_module_version": "1.5.0",
            "_model_name": "DescriptionStyleModel",
            "_view_count": null,
            "_view_module": "@jupyter-widgets/base",
            "_view_module_version": "1.2.0",
            "_view_name": "StyleView",
            "description_width": ""
          }
        },
        "18e811ae696c47bf9cbdb93f07a5abd5": {
          "model_module": "@jupyter-widgets/base",
          "model_name": "LayoutModel",
          "model_module_version": "1.2.0",
          "state": {
            "_model_module": "@jupyter-widgets/base",
            "_model_module_version": "1.2.0",
            "_model_name": "LayoutModel",
            "_view_count": null,
            "_view_module": "@jupyter-widgets/base",
            "_view_module_version": "1.2.0",
            "_view_name": "LayoutView",
            "align_content": null,
            "align_items": null,
            "align_self": null,
            "border": null,
            "bottom": null,
            "display": null,
            "flex": null,
            "flex_flow": null,
            "grid_area": null,
            "grid_auto_columns": null,
            "grid_auto_flow": null,
            "grid_auto_rows": null,
            "grid_column": null,
            "grid_gap": null,
            "grid_row": null,
            "grid_template_areas": null,
            "grid_template_columns": null,
            "grid_template_rows": null,
            "height": null,
            "justify_content": null,
            "justify_items": null,
            "left": null,
            "margin": null,
            "max_height": null,
            "max_width": null,
            "min_height": null,
            "min_width": null,
            "object_fit": null,
            "object_position": null,
            "order": null,
            "overflow": null,
            "overflow_x": null,
            "overflow_y": null,
            "padding": null,
            "right": null,
            "top": null,
            "visibility": null,
            "width": null
          }
        },
        "8ca36a7df74d44d2aaf979ba9a3004b5": {
          "model_module": "@jupyter-widgets/controls",
          "model_name": "ProgressStyleModel",
          "model_module_version": "1.5.0",
          "state": {
            "_model_module": "@jupyter-widgets/controls",
            "_model_module_version": "1.5.0",
            "_model_name": "ProgressStyleModel",
            "_view_count": null,
            "_view_module": "@jupyter-widgets/base",
            "_view_module_version": "1.2.0",
            "_view_name": "StyleView",
            "bar_color": null,
            "description_width": ""
          }
        },
        "ab03362576934f91b2995f80f60c4166": {
          "model_module": "@jupyter-widgets/base",
          "model_name": "LayoutModel",
          "model_module_version": "1.2.0",
          "state": {
            "_model_module": "@jupyter-widgets/base",
            "_model_module_version": "1.2.0",
            "_model_name": "LayoutModel",
            "_view_count": null,
            "_view_module": "@jupyter-widgets/base",
            "_view_module_version": "1.2.0",
            "_view_name": "LayoutView",
            "align_content": null,
            "align_items": null,
            "align_self": null,
            "border": null,
            "bottom": null,
            "display": null,
            "flex": null,
            "flex_flow": null,
            "grid_area": null,
            "grid_auto_columns": null,
            "grid_auto_flow": null,
            "grid_auto_rows": null,
            "grid_column": null,
            "grid_gap": null,
            "grid_row": null,
            "grid_template_areas": null,
            "grid_template_columns": null,
            "grid_template_rows": null,
            "height": null,
            "justify_content": null,
            "justify_items": null,
            "left": null,
            "margin": null,
            "max_height": null,
            "max_width": null,
            "min_height": null,
            "min_width": null,
            "object_fit": null,
            "object_position": null,
            "order": null,
            "overflow": null,
            "overflow_x": null,
            "overflow_y": null,
            "padding": null,
            "right": null,
            "top": null,
            "visibility": null,
            "width": null
          }
        },
        "80b84c88ba6f417dbbeb93fcefeb0521": {
          "model_module": "@jupyter-widgets/controls",
          "model_name": "DescriptionStyleModel",
          "model_module_version": "1.5.0",
          "state": {
            "_model_module": "@jupyter-widgets/controls",
            "_model_module_version": "1.5.0",
            "_model_name": "DescriptionStyleModel",
            "_view_count": null,
            "_view_module": "@jupyter-widgets/base",
            "_view_module_version": "1.2.0",
            "_view_name": "StyleView",
            "description_width": ""
          }
        },
        "77e5dc6046b748148b7b64cf197fcbaa": {
          "model_module": "@jupyter-widgets/controls",
          "model_name": "HBoxModel",
          "model_module_version": "1.5.0",
          "state": {
            "_dom_classes": [],
            "_model_module": "@jupyter-widgets/controls",
            "_model_module_version": "1.5.0",
            "_model_name": "HBoxModel",
            "_view_count": null,
            "_view_module": "@jupyter-widgets/controls",
            "_view_module_version": "1.5.0",
            "_view_name": "HBoxView",
            "box_style": "",
            "children": [
              "IPY_MODEL_b791656447844381895ff0d438cbc726",
              "IPY_MODEL_26b8b90ef7ff4391811d779a524739a7",
              "IPY_MODEL_651afdc1466345bf890eb63760fdf4b4"
            ],
            "layout": "IPY_MODEL_201c99f945b24e12b962b581e5fae31f"
          }
        },
        "b791656447844381895ff0d438cbc726": {
          "model_module": "@jupyter-widgets/controls",
          "model_name": "HTMLModel",
          "model_module_version": "1.5.0",
          "state": {
            "_dom_classes": [],
            "_model_module": "@jupyter-widgets/controls",
            "_model_module_version": "1.5.0",
            "_model_name": "HTMLModel",
            "_view_count": null,
            "_view_module": "@jupyter-widgets/controls",
            "_view_module_version": "1.5.0",
            "_view_name": "HTMLView",
            "description": "",
            "description_tooltip": null,
            "layout": "IPY_MODEL_d70f3b94601344b59d3470d678ac848b",
            "placeholder": "​",
            "style": "IPY_MODEL_4fd83273781f4b32b913c126f2d28bb9",
            "value": "Downloading: 100%"
          }
        },
        "26b8b90ef7ff4391811d779a524739a7": {
          "model_module": "@jupyter-widgets/controls",
          "model_name": "FloatProgressModel",
          "model_module_version": "1.5.0",
          "state": {
            "_dom_classes": [],
            "_model_module": "@jupyter-widgets/controls",
            "_model_module_version": "1.5.0",
            "_model_name": "FloatProgressModel",
            "_view_count": null,
            "_view_module": "@jupyter-widgets/controls",
            "_view_module_version": "1.5.0",
            "_view_name": "ProgressView",
            "bar_style": "success",
            "description": "",
            "description_tooltip": null,
            "layout": "IPY_MODEL_b062f61c7ce042aa8826dc8baf9e5d0b",
            "max": 461628,
            "min": 0,
            "orientation": "horizontal",
            "style": "IPY_MODEL_c2b6cd5de9a44d0a812d4a2bb57f21f7",
            "value": 461628
          }
        },
        "651afdc1466345bf890eb63760fdf4b4": {
          "model_module": "@jupyter-widgets/controls",
          "model_name": "HTMLModel",
          "model_module_version": "1.5.0",
          "state": {
            "_dom_classes": [],
            "_model_module": "@jupyter-widgets/controls",
            "_model_module_version": "1.5.0",
            "_model_name": "HTMLModel",
            "_view_count": null,
            "_view_module": "@jupyter-widgets/controls",
            "_view_module_version": "1.5.0",
            "_view_name": "HTMLView",
            "description": "",
            "description_tooltip": null,
            "layout": "IPY_MODEL_6dfe167413ee4c4a9987e6bc817ae851",
            "placeholder": "​",
            "style": "IPY_MODEL_dd476007119a470099880cc3e69d4c94",
            "value": " 462k/462k [00:00&lt;00:00, 640kB/s]"
          }
        },
        "201c99f945b24e12b962b581e5fae31f": {
          "model_module": "@jupyter-widgets/base",
          "model_name": "LayoutModel",
          "model_module_version": "1.2.0",
          "state": {
            "_model_module": "@jupyter-widgets/base",
            "_model_module_version": "1.2.0",
            "_model_name": "LayoutModel",
            "_view_count": null,
            "_view_module": "@jupyter-widgets/base",
            "_view_module_version": "1.2.0",
            "_view_name": "LayoutView",
            "align_content": null,
            "align_items": null,
            "align_self": null,
            "border": null,
            "bottom": null,
            "display": null,
            "flex": null,
            "flex_flow": null,
            "grid_area": null,
            "grid_auto_columns": null,
            "grid_auto_flow": null,
            "grid_auto_rows": null,
            "grid_column": null,
            "grid_gap": null,
            "grid_row": null,
            "grid_template_areas": null,
            "grid_template_columns": null,
            "grid_template_rows": null,
            "height": null,
            "justify_content": null,
            "justify_items": null,
            "left": null,
            "margin": null,
            "max_height": null,
            "max_width": null,
            "min_height": null,
            "min_width": null,
            "object_fit": null,
            "object_position": null,
            "order": null,
            "overflow": null,
            "overflow_x": null,
            "overflow_y": null,
            "padding": null,
            "right": null,
            "top": null,
            "visibility": null,
            "width": null
          }
        },
        "d70f3b94601344b59d3470d678ac848b": {
          "model_module": "@jupyter-widgets/base",
          "model_name": "LayoutModel",
          "model_module_version": "1.2.0",
          "state": {
            "_model_module": "@jupyter-widgets/base",
            "_model_module_version": "1.2.0",
            "_model_name": "LayoutModel",
            "_view_count": null,
            "_view_module": "@jupyter-widgets/base",
            "_view_module_version": "1.2.0",
            "_view_name": "LayoutView",
            "align_content": null,
            "align_items": null,
            "align_self": null,
            "border": null,
            "bottom": null,
            "display": null,
            "flex": null,
            "flex_flow": null,
            "grid_area": null,
            "grid_auto_columns": null,
            "grid_auto_flow": null,
            "grid_auto_rows": null,
            "grid_column": null,
            "grid_gap": null,
            "grid_row": null,
            "grid_template_areas": null,
            "grid_template_columns": null,
            "grid_template_rows": null,
            "height": null,
            "justify_content": null,
            "justify_items": null,
            "left": null,
            "margin": null,
            "max_height": null,
            "max_width": null,
            "min_height": null,
            "min_width": null,
            "object_fit": null,
            "object_position": null,
            "order": null,
            "overflow": null,
            "overflow_x": null,
            "overflow_y": null,
            "padding": null,
            "right": null,
            "top": null,
            "visibility": null,
            "width": null
          }
        },
        "4fd83273781f4b32b913c126f2d28bb9": {
          "model_module": "@jupyter-widgets/controls",
          "model_name": "DescriptionStyleModel",
          "model_module_version": "1.5.0",
          "state": {
            "_model_module": "@jupyter-widgets/controls",
            "_model_module_version": "1.5.0",
            "_model_name": "DescriptionStyleModel",
            "_view_count": null,
            "_view_module": "@jupyter-widgets/base",
            "_view_module_version": "1.2.0",
            "_view_name": "StyleView",
            "description_width": ""
          }
        },
        "b062f61c7ce042aa8826dc8baf9e5d0b": {
          "model_module": "@jupyter-widgets/base",
          "model_name": "LayoutModel",
          "model_module_version": "1.2.0",
          "state": {
            "_model_module": "@jupyter-widgets/base",
            "_model_module_version": "1.2.0",
            "_model_name": "LayoutModel",
            "_view_count": null,
            "_view_module": "@jupyter-widgets/base",
            "_view_module_version": "1.2.0",
            "_view_name": "LayoutView",
            "align_content": null,
            "align_items": null,
            "align_self": null,
            "border": null,
            "bottom": null,
            "display": null,
            "flex": null,
            "flex_flow": null,
            "grid_area": null,
            "grid_auto_columns": null,
            "grid_auto_flow": null,
            "grid_auto_rows": null,
            "grid_column": null,
            "grid_gap": null,
            "grid_row": null,
            "grid_template_areas": null,
            "grid_template_columns": null,
            "grid_template_rows": null,
            "height": null,
            "justify_content": null,
            "justify_items": null,
            "left": null,
            "margin": null,
            "max_height": null,
            "max_width": null,
            "min_height": null,
            "min_width": null,
            "object_fit": null,
            "object_position": null,
            "order": null,
            "overflow": null,
            "overflow_x": null,
            "overflow_y": null,
            "padding": null,
            "right": null,
            "top": null,
            "visibility": null,
            "width": null
          }
        },
        "c2b6cd5de9a44d0a812d4a2bb57f21f7": {
          "model_module": "@jupyter-widgets/controls",
          "model_name": "ProgressStyleModel",
          "model_module_version": "1.5.0",
          "state": {
            "_model_module": "@jupyter-widgets/controls",
            "_model_module_version": "1.5.0",
            "_model_name": "ProgressStyleModel",
            "_view_count": null,
            "_view_module": "@jupyter-widgets/base",
            "_view_module_version": "1.2.0",
            "_view_name": "StyleView",
            "bar_color": null,
            "description_width": ""
          }
        },
        "6dfe167413ee4c4a9987e6bc817ae851": {
          "model_module": "@jupyter-widgets/base",
          "model_name": "LayoutModel",
          "model_module_version": "1.2.0",
          "state": {
            "_model_module": "@jupyter-widgets/base",
            "_model_module_version": "1.2.0",
            "_model_name": "LayoutModel",
            "_view_count": null,
            "_view_module": "@jupyter-widgets/base",
            "_view_module_version": "1.2.0",
            "_view_name": "LayoutView",
            "align_content": null,
            "align_items": null,
            "align_self": null,
            "border": null,
            "bottom": null,
            "display": null,
            "flex": null,
            "flex_flow": null,
            "grid_area": null,
            "grid_auto_columns": null,
            "grid_auto_flow": null,
            "grid_auto_rows": null,
            "grid_column": null,
            "grid_gap": null,
            "grid_row": null,
            "grid_template_areas": null,
            "grid_template_columns": null,
            "grid_template_rows": null,
            "height": null,
            "justify_content": null,
            "justify_items": null,
            "left": null,
            "margin": null,
            "max_height": null,
            "max_width": null,
            "min_height": null,
            "min_width": null,
            "object_fit": null,
            "object_position": null,
            "order": null,
            "overflow": null,
            "overflow_x": null,
            "overflow_y": null,
            "padding": null,
            "right": null,
            "top": null,
            "visibility": null,
            "width": null
          }
        },
        "dd476007119a470099880cc3e69d4c94": {
          "model_module": "@jupyter-widgets/controls",
          "model_name": "DescriptionStyleModel",
          "model_module_version": "1.5.0",
          "state": {
            "_model_module": "@jupyter-widgets/controls",
            "_model_module_version": "1.5.0",
            "_model_name": "DescriptionStyleModel",
            "_view_count": null,
            "_view_module": "@jupyter-widgets/base",
            "_view_module_version": "1.2.0",
            "_view_name": "StyleView",
            "description_width": ""
          }
        },
        "0d50a33d7e0c41d196c1e54df1d031d3": {
          "model_module": "@jupyter-widgets/controls",
          "model_name": "HBoxModel",
          "model_module_version": "1.5.0",
          "state": {
            "_dom_classes": [],
            "_model_module": "@jupyter-widgets/controls",
            "_model_module_version": "1.5.0",
            "_model_name": "HBoxModel",
            "_view_count": null,
            "_view_module": "@jupyter-widgets/controls",
            "_view_module_version": "1.5.0",
            "_view_name": "HBoxView",
            "box_style": "",
            "children": [
              "IPY_MODEL_6e54d3e2912049fd96ac188544c23220",
              "IPY_MODEL_ef7bafc56a454a508757fa31d9a9dd44",
              "IPY_MODEL_828030f275a04e5a9265ed92ffd72a0e"
            ],
            "layout": "IPY_MODEL_dac2eabebd8c44d288b0a20c6a80ba84"
          }
        },
        "6e54d3e2912049fd96ac188544c23220": {
          "model_module": "@jupyter-widgets/controls",
          "model_name": "HTMLModel",
          "model_module_version": "1.5.0",
          "state": {
            "_dom_classes": [],
            "_model_module": "@jupyter-widgets/controls",
            "_model_module_version": "1.5.0",
            "_model_name": "HTMLModel",
            "_view_count": null,
            "_view_module": "@jupyter-widgets/controls",
            "_view_module_version": "1.5.0",
            "_view_name": "HTMLView",
            "description": "",
            "description_tooltip": null,
            "layout": "IPY_MODEL_f0517250abe744e599f606a5669f1ec1",
            "placeholder": "​",
            "style": "IPY_MODEL_ee65ba43dc754438805e48e6f39e0ff1",
            "value": "Downloading: 100%"
          }
        },
        "ef7bafc56a454a508757fa31d9a9dd44": {
          "model_module": "@jupyter-widgets/controls",
          "model_name": "FloatProgressModel",
          "model_module_version": "1.5.0",
          "state": {
            "_dom_classes": [],
            "_model_module": "@jupyter-widgets/controls",
            "_model_module_version": "1.5.0",
            "_model_name": "FloatProgressModel",
            "_view_count": null,
            "_view_module": "@jupyter-widgets/controls",
            "_view_module_version": "1.5.0",
            "_view_name": "ProgressView",
            "bar_style": "success",
            "description": "",
            "description_tooltip": null,
            "layout": "IPY_MODEL_23f380f5a45e4d0fbd0dd44b20f44233",
            "max": 331,
            "min": 0,
            "orientation": "horizontal",
            "style": "IPY_MODEL_f836bae2512e4e10a3cfb65dafc68c35",
            "value": 331
          }
        },
        "828030f275a04e5a9265ed92ffd72a0e": {
          "model_module": "@jupyter-widgets/controls",
          "model_name": "HTMLModel",
          "model_module_version": "1.5.0",
          "state": {
            "_dom_classes": [],
            "_model_module": "@jupyter-widgets/controls",
            "_model_module_version": "1.5.0",
            "_model_name": "HTMLModel",
            "_view_count": null,
            "_view_module": "@jupyter-widgets/controls",
            "_view_module_version": "1.5.0",
            "_view_name": "HTMLView",
            "description": "",
            "description_tooltip": null,
            "layout": "IPY_MODEL_2c25f445aa144e4dbe1f46b648cbf6c4",
            "placeholder": "​",
            "style": "IPY_MODEL_86082beedca048baaad62919d107a6a7",
            "value": " 331/331 [00:00&lt;00:00, 11.8kB/s]"
          }
        },
        "dac2eabebd8c44d288b0a20c6a80ba84": {
          "model_module": "@jupyter-widgets/base",
          "model_name": "LayoutModel",
          "model_module_version": "1.2.0",
          "state": {
            "_model_module": "@jupyter-widgets/base",
            "_model_module_version": "1.2.0",
            "_model_name": "LayoutModel",
            "_view_count": null,
            "_view_module": "@jupyter-widgets/base",
            "_view_module_version": "1.2.0",
            "_view_name": "LayoutView",
            "align_content": null,
            "align_items": null,
            "align_self": null,
            "border": null,
            "bottom": null,
            "display": null,
            "flex": null,
            "flex_flow": null,
            "grid_area": null,
            "grid_auto_columns": null,
            "grid_auto_flow": null,
            "grid_auto_rows": null,
            "grid_column": null,
            "grid_gap": null,
            "grid_row": null,
            "grid_template_areas": null,
            "grid_template_columns": null,
            "grid_template_rows": null,
            "height": null,
            "justify_content": null,
            "justify_items": null,
            "left": null,
            "margin": null,
            "max_height": null,
            "max_width": null,
            "min_height": null,
            "min_width": null,
            "object_fit": null,
            "object_position": null,
            "order": null,
            "overflow": null,
            "overflow_x": null,
            "overflow_y": null,
            "padding": null,
            "right": null,
            "top": null,
            "visibility": null,
            "width": null
          }
        },
        "f0517250abe744e599f606a5669f1ec1": {
          "model_module": "@jupyter-widgets/base",
          "model_name": "LayoutModel",
          "model_module_version": "1.2.0",
          "state": {
            "_model_module": "@jupyter-widgets/base",
            "_model_module_version": "1.2.0",
            "_model_name": "LayoutModel",
            "_view_count": null,
            "_view_module": "@jupyter-widgets/base",
            "_view_module_version": "1.2.0",
            "_view_name": "LayoutView",
            "align_content": null,
            "align_items": null,
            "align_self": null,
            "border": null,
            "bottom": null,
            "display": null,
            "flex": null,
            "flex_flow": null,
            "grid_area": null,
            "grid_auto_columns": null,
            "grid_auto_flow": null,
            "grid_auto_rows": null,
            "grid_column": null,
            "grid_gap": null,
            "grid_row": null,
            "grid_template_areas": null,
            "grid_template_columns": null,
            "grid_template_rows": null,
            "height": null,
            "justify_content": null,
            "justify_items": null,
            "left": null,
            "margin": null,
            "max_height": null,
            "max_width": null,
            "min_height": null,
            "min_width": null,
            "object_fit": null,
            "object_position": null,
            "order": null,
            "overflow": null,
            "overflow_x": null,
            "overflow_y": null,
            "padding": null,
            "right": null,
            "top": null,
            "visibility": null,
            "width": null
          }
        },
        "ee65ba43dc754438805e48e6f39e0ff1": {
          "model_module": "@jupyter-widgets/controls",
          "model_name": "DescriptionStyleModel",
          "model_module_version": "1.5.0",
          "state": {
            "_model_module": "@jupyter-widgets/controls",
            "_model_module_version": "1.5.0",
            "_model_name": "DescriptionStyleModel",
            "_view_count": null,
            "_view_module": "@jupyter-widgets/base",
            "_view_module_version": "1.2.0",
            "_view_name": "StyleView",
            "description_width": ""
          }
        },
        "23f380f5a45e4d0fbd0dd44b20f44233": {
          "model_module": "@jupyter-widgets/base",
          "model_name": "LayoutModel",
          "model_module_version": "1.2.0",
          "state": {
            "_model_module": "@jupyter-widgets/base",
            "_model_module_version": "1.2.0",
            "_model_name": "LayoutModel",
            "_view_count": null,
            "_view_module": "@jupyter-widgets/base",
            "_view_module_version": "1.2.0",
            "_view_name": "LayoutView",
            "align_content": null,
            "align_items": null,
            "align_self": null,
            "border": null,
            "bottom": null,
            "display": null,
            "flex": null,
            "flex_flow": null,
            "grid_area": null,
            "grid_auto_columns": null,
            "grid_auto_flow": null,
            "grid_auto_rows": null,
            "grid_column": null,
            "grid_gap": null,
            "grid_row": null,
            "grid_template_areas": null,
            "grid_template_columns": null,
            "grid_template_rows": null,
            "height": null,
            "justify_content": null,
            "justify_items": null,
            "left": null,
            "margin": null,
            "max_height": null,
            "max_width": null,
            "min_height": null,
            "min_width": null,
            "object_fit": null,
            "object_position": null,
            "order": null,
            "overflow": null,
            "overflow_x": null,
            "overflow_y": null,
            "padding": null,
            "right": null,
            "top": null,
            "visibility": null,
            "width": null
          }
        },
        "f836bae2512e4e10a3cfb65dafc68c35": {
          "model_module": "@jupyter-widgets/controls",
          "model_name": "ProgressStyleModel",
          "model_module_version": "1.5.0",
          "state": {
            "_model_module": "@jupyter-widgets/controls",
            "_model_module_version": "1.5.0",
            "_model_name": "ProgressStyleModel",
            "_view_count": null,
            "_view_module": "@jupyter-widgets/base",
            "_view_module_version": "1.2.0",
            "_view_name": "StyleView",
            "bar_color": null,
            "description_width": ""
          }
        },
        "2c25f445aa144e4dbe1f46b648cbf6c4": {
          "model_module": "@jupyter-widgets/base",
          "model_name": "LayoutModel",
          "model_module_version": "1.2.0",
          "state": {
            "_model_module": "@jupyter-widgets/base",
            "_model_module_version": "1.2.0",
            "_model_name": "LayoutModel",
            "_view_count": null,
            "_view_module": "@jupyter-widgets/base",
            "_view_module_version": "1.2.0",
            "_view_name": "LayoutView",
            "align_content": null,
            "align_items": null,
            "align_self": null,
            "border": null,
            "bottom": null,
            "display": null,
            "flex": null,
            "flex_flow": null,
            "grid_area": null,
            "grid_auto_columns": null,
            "grid_auto_flow": null,
            "grid_auto_rows": null,
            "grid_column": null,
            "grid_gap": null,
            "grid_row": null,
            "grid_template_areas": null,
            "grid_template_columns": null,
            "grid_template_rows": null,
            "height": null,
            "justify_content": null,
            "justify_items": null,
            "left": null,
            "margin": null,
            "max_height": null,
            "max_width": null,
            "min_height": null,
            "min_width": null,
            "object_fit": null,
            "object_position": null,
            "order": null,
            "overflow": null,
            "overflow_x": null,
            "overflow_y": null,
            "padding": null,
            "right": null,
            "top": null,
            "visibility": null,
            "width": null
          }
        },
        "86082beedca048baaad62919d107a6a7": {
          "model_module": "@jupyter-widgets/controls",
          "model_name": "DescriptionStyleModel",
          "model_module_version": "1.5.0",
          "state": {
            "_model_module": "@jupyter-widgets/controls",
            "_model_module_version": "1.5.0",
            "_model_name": "DescriptionStyleModel",
            "_view_count": null,
            "_view_module": "@jupyter-widgets/base",
            "_view_module_version": "1.2.0",
            "_view_name": "StyleView",
            "description_width": ""
          }
        },
        "3eab80362d50420d92fb4cc449dd3ab8": {
          "model_module": "@jupyter-widgets/controls",
          "model_name": "HBoxModel",
          "model_module_version": "1.5.0",
          "state": {
            "_dom_classes": [],
            "_model_module": "@jupyter-widgets/controls",
            "_model_module_version": "1.5.0",
            "_model_name": "HBoxModel",
            "_view_count": null,
            "_view_module": "@jupyter-widgets/controls",
            "_view_module_version": "1.5.0",
            "_view_name": "HBoxView",
            "box_style": "",
            "children": [
              "IPY_MODEL_d064b1992fdb47b4a9b597f43a65af05",
              "IPY_MODEL_4ad4a1c1b65d46388296b5fb07a51683",
              "IPY_MODEL_58a1f15669634ad0a9a0d9536ceaed87"
            ],
            "layout": "IPY_MODEL_ea0eafdda22043e38ea849cea28b3480"
          }
        },
        "d064b1992fdb47b4a9b597f43a65af05": {
          "model_module": "@jupyter-widgets/controls",
          "model_name": "HTMLModel",
          "model_module_version": "1.5.0",
          "state": {
            "_dom_classes": [],
            "_model_module": "@jupyter-widgets/controls",
            "_model_module_version": "1.5.0",
            "_model_name": "HTMLModel",
            "_view_count": null,
            "_view_module": "@jupyter-widgets/controls",
            "_view_module_version": "1.5.0",
            "_view_name": "HTMLView",
            "description": "",
            "description_tooltip": null,
            "layout": "IPY_MODEL_589e27a276f34a39a3035903fde2802a",
            "placeholder": "​",
            "style": "IPY_MODEL_3c8c3fe9c0504461ae4bf936f0f07dee",
            "value": "Downloading: 100%"
          }
        },
        "4ad4a1c1b65d46388296b5fb07a51683": {
          "model_module": "@jupyter-widgets/controls",
          "model_name": "FloatProgressModel",
          "model_module_version": "1.5.0",
          "state": {
            "_dom_classes": [],
            "_model_module": "@jupyter-widgets/controls",
            "_model_module_version": "1.5.0",
            "_model_name": "FloatProgressModel",
            "_view_count": null,
            "_view_module": "@jupyter-widgets/controls",
            "_view_module_version": "1.5.0",
            "_view_name": "ProgressView",
            "bar_style": "success",
            "description": "",
            "description_tooltip": null,
            "layout": "IPY_MODEL_cb98672ce2874ca9b514c12c3a790373",
            "max": 222296,
            "min": 0,
            "orientation": "horizontal",
            "style": "IPY_MODEL_0e528a58f0954e9986b6285551f3b153",
            "value": 222296
          }
        },
        "58a1f15669634ad0a9a0d9536ceaed87": {
          "model_module": "@jupyter-widgets/controls",
          "model_name": "HTMLModel",
          "model_module_version": "1.5.0",
          "state": {
            "_dom_classes": [],
            "_model_module": "@jupyter-widgets/controls",
            "_model_module_version": "1.5.0",
            "_model_name": "HTMLModel",
            "_view_count": null,
            "_view_module": "@jupyter-widgets/controls",
            "_view_module_version": "1.5.0",
            "_view_name": "HTMLView",
            "description": "",
            "description_tooltip": null,
            "layout": "IPY_MODEL_f1a966225da441dd9cfcb410633eec49",
            "placeholder": "​",
            "style": "IPY_MODEL_d739d21fbba246b49532a0fa87a116d6",
            "value": " 222k/222k [00:00&lt;00:00, 394kB/s]"
          }
        },
        "ea0eafdda22043e38ea849cea28b3480": {
          "model_module": "@jupyter-widgets/base",
          "model_name": "LayoutModel",
          "model_module_version": "1.2.0",
          "state": {
            "_model_module": "@jupyter-widgets/base",
            "_model_module_version": "1.2.0",
            "_model_name": "LayoutModel",
            "_view_count": null,
            "_view_module": "@jupyter-widgets/base",
            "_view_module_version": "1.2.0",
            "_view_name": "LayoutView",
            "align_content": null,
            "align_items": null,
            "align_self": null,
            "border": null,
            "bottom": null,
            "display": null,
            "flex": null,
            "flex_flow": null,
            "grid_area": null,
            "grid_auto_columns": null,
            "grid_auto_flow": null,
            "grid_auto_rows": null,
            "grid_column": null,
            "grid_gap": null,
            "grid_row": null,
            "grid_template_areas": null,
            "grid_template_columns": null,
            "grid_template_rows": null,
            "height": null,
            "justify_content": null,
            "justify_items": null,
            "left": null,
            "margin": null,
            "max_height": null,
            "max_width": null,
            "min_height": null,
            "min_width": null,
            "object_fit": null,
            "object_position": null,
            "order": null,
            "overflow": null,
            "overflow_x": null,
            "overflow_y": null,
            "padding": null,
            "right": null,
            "top": null,
            "visibility": null,
            "width": null
          }
        },
        "589e27a276f34a39a3035903fde2802a": {
          "model_module": "@jupyter-widgets/base",
          "model_name": "LayoutModel",
          "model_module_version": "1.2.0",
          "state": {
            "_model_module": "@jupyter-widgets/base",
            "_model_module_version": "1.2.0",
            "_model_name": "LayoutModel",
            "_view_count": null,
            "_view_module": "@jupyter-widgets/base",
            "_view_module_version": "1.2.0",
            "_view_name": "LayoutView",
            "align_content": null,
            "align_items": null,
            "align_self": null,
            "border": null,
            "bottom": null,
            "display": null,
            "flex": null,
            "flex_flow": null,
            "grid_area": null,
            "grid_auto_columns": null,
            "grid_auto_flow": null,
            "grid_auto_rows": null,
            "grid_column": null,
            "grid_gap": null,
            "grid_row": null,
            "grid_template_areas": null,
            "grid_template_columns": null,
            "grid_template_rows": null,
            "height": null,
            "justify_content": null,
            "justify_items": null,
            "left": null,
            "margin": null,
            "max_height": null,
            "max_width": null,
            "min_height": null,
            "min_width": null,
            "object_fit": null,
            "object_position": null,
            "order": null,
            "overflow": null,
            "overflow_x": null,
            "overflow_y": null,
            "padding": null,
            "right": null,
            "top": null,
            "visibility": null,
            "width": null
          }
        },
        "3c8c3fe9c0504461ae4bf936f0f07dee": {
          "model_module": "@jupyter-widgets/controls",
          "model_name": "DescriptionStyleModel",
          "model_module_version": "1.5.0",
          "state": {
            "_model_module": "@jupyter-widgets/controls",
            "_model_module_version": "1.5.0",
            "_model_name": "DescriptionStyleModel",
            "_view_count": null,
            "_view_module": "@jupyter-widgets/base",
            "_view_module_version": "1.2.0",
            "_view_name": "StyleView",
            "description_width": ""
          }
        },
        "cb98672ce2874ca9b514c12c3a790373": {
          "model_module": "@jupyter-widgets/base",
          "model_name": "LayoutModel",
          "model_module_version": "1.2.0",
          "state": {
            "_model_module": "@jupyter-widgets/base",
            "_model_module_version": "1.2.0",
            "_model_name": "LayoutModel",
            "_view_count": null,
            "_view_module": "@jupyter-widgets/base",
            "_view_module_version": "1.2.0",
            "_view_name": "LayoutView",
            "align_content": null,
            "align_items": null,
            "align_self": null,
            "border": null,
            "bottom": null,
            "display": null,
            "flex": null,
            "flex_flow": null,
            "grid_area": null,
            "grid_auto_columns": null,
            "grid_auto_flow": null,
            "grid_auto_rows": null,
            "grid_column": null,
            "grid_gap": null,
            "grid_row": null,
            "grid_template_areas": null,
            "grid_template_columns": null,
            "grid_template_rows": null,
            "height": null,
            "justify_content": null,
            "justify_items": null,
            "left": null,
            "margin": null,
            "max_height": null,
            "max_width": null,
            "min_height": null,
            "min_width": null,
            "object_fit": null,
            "object_position": null,
            "order": null,
            "overflow": null,
            "overflow_x": null,
            "overflow_y": null,
            "padding": null,
            "right": null,
            "top": null,
            "visibility": null,
            "width": null
          }
        },
        "0e528a58f0954e9986b6285551f3b153": {
          "model_module": "@jupyter-widgets/controls",
          "model_name": "ProgressStyleModel",
          "model_module_version": "1.5.0",
          "state": {
            "_model_module": "@jupyter-widgets/controls",
            "_model_module_version": "1.5.0",
            "_model_name": "ProgressStyleModel",
            "_view_count": null,
            "_view_module": "@jupyter-widgets/base",
            "_view_module_version": "1.2.0",
            "_view_name": "StyleView",
            "bar_color": null,
            "description_width": ""
          }
        },
        "f1a966225da441dd9cfcb410633eec49": {
          "model_module": "@jupyter-widgets/base",
          "model_name": "LayoutModel",
          "model_module_version": "1.2.0",
          "state": {
            "_model_module": "@jupyter-widgets/base",
            "_model_module_version": "1.2.0",
            "_model_name": "LayoutModel",
            "_view_count": null,
            "_view_module": "@jupyter-widgets/base",
            "_view_module_version": "1.2.0",
            "_view_name": "LayoutView",
            "align_content": null,
            "align_items": null,
            "align_self": null,
            "border": null,
            "bottom": null,
            "display": null,
            "flex": null,
            "flex_flow": null,
            "grid_area": null,
            "grid_auto_columns": null,
            "grid_auto_flow": null,
            "grid_auto_rows": null,
            "grid_column": null,
            "grid_gap": null,
            "grid_row": null,
            "grid_template_areas": null,
            "grid_template_columns": null,
            "grid_template_rows": null,
            "height": null,
            "justify_content": null,
            "justify_items": null,
            "left": null,
            "margin": null,
            "max_height": null,
            "max_width": null,
            "min_height": null,
            "min_width": null,
            "object_fit": null,
            "object_position": null,
            "order": null,
            "overflow": null,
            "overflow_x": null,
            "overflow_y": null,
            "padding": null,
            "right": null,
            "top": null,
            "visibility": null,
            "width": null
          }
        },
        "d739d21fbba246b49532a0fa87a116d6": {
          "model_module": "@jupyter-widgets/controls",
          "model_name": "DescriptionStyleModel",
          "model_module_version": "1.5.0",
          "state": {
            "_model_module": "@jupyter-widgets/controls",
            "_model_module_version": "1.5.0",
            "_model_name": "DescriptionStyleModel",
            "_view_count": null,
            "_view_module": "@jupyter-widgets/base",
            "_view_module_version": "1.2.0",
            "_view_name": "StyleView",
            "description_width": ""
          }
        },
        "f41e826561d14d4f83819c3c66344321": {
          "model_module": "@jupyter-widgets/controls",
          "model_name": "HBoxModel",
          "model_module_version": "1.5.0",
          "state": {
            "_dom_classes": [],
            "_model_module": "@jupyter-widgets/controls",
            "_model_module_version": "1.5.0",
            "_model_name": "HBoxModel",
            "_view_count": null,
            "_view_module": "@jupyter-widgets/controls",
            "_view_module_version": "1.5.0",
            "_view_name": "HBoxView",
            "box_style": "",
            "children": [
              "IPY_MODEL_64628484c29d47eab41fbb074bcd4bd5",
              "IPY_MODEL_677341c1abcd4a31abc56e8727899076",
              "IPY_MODEL_afb4c1b454cb4967a4bf400a1aaed684"
            ],
            "layout": "IPY_MODEL_9690b12bde314023b26a1355fe5a5cb6"
          }
        },
        "64628484c29d47eab41fbb074bcd4bd5": {
          "model_module": "@jupyter-widgets/controls",
          "model_name": "HTMLModel",
          "model_module_version": "1.5.0",
          "state": {
            "_dom_classes": [],
            "_model_module": "@jupyter-widgets/controls",
            "_model_module_version": "1.5.0",
            "_model_name": "HTMLModel",
            "_view_count": null,
            "_view_module": "@jupyter-widgets/controls",
            "_view_module_version": "1.5.0",
            "_view_name": "HTMLView",
            "description": "",
            "description_tooltip": null,
            "layout": "IPY_MODEL_6ae63ed9af6346699852ca63a1ee6969",
            "placeholder": "​",
            "style": "IPY_MODEL_b979946ab3384b7da55ae43466a39a9d",
            "value": "Downloading: 100%"
          }
        },
        "677341c1abcd4a31abc56e8727899076": {
          "model_module": "@jupyter-widgets/controls",
          "model_name": "FloatProgressModel",
          "model_module_version": "1.5.0",
          "state": {
            "_dom_classes": [],
            "_model_module": "@jupyter-widgets/controls",
            "_model_module_version": "1.5.0",
            "_model_name": "FloatProgressModel",
            "_view_count": null,
            "_view_module": "@jupyter-widgets/controls",
            "_view_module_version": "1.5.0",
            "_view_name": "ProgressView",
            "bar_style": "success",
            "description": "",
            "description_tooltip": null,
            "layout": "IPY_MODEL_22284eb59c8b46b3ae9dfb4b26b9bc4a",
            "max": 229,
            "min": 0,
            "orientation": "horizontal",
            "style": "IPY_MODEL_e550711ad8334edf9e3a7b4b8f96df6c",
            "value": 229
          }
        },
        "afb4c1b454cb4967a4bf400a1aaed684": {
          "model_module": "@jupyter-widgets/controls",
          "model_name": "HTMLModel",
          "model_module_version": "1.5.0",
          "state": {
            "_dom_classes": [],
            "_model_module": "@jupyter-widgets/controls",
            "_model_module_version": "1.5.0",
            "_model_name": "HTMLModel",
            "_view_count": null,
            "_view_module": "@jupyter-widgets/controls",
            "_view_module_version": "1.5.0",
            "_view_name": "HTMLView",
            "description": "",
            "description_tooltip": null,
            "layout": "IPY_MODEL_b4fca56bea4743eb94cc7917c41e552f",
            "placeholder": "​",
            "style": "IPY_MODEL_2148cff4380f481dbe8b940a4ffc7016",
            "value": " 229/229 [00:00&lt;00:00, 6.55kB/s]"
          }
        },
        "9690b12bde314023b26a1355fe5a5cb6": {
          "model_module": "@jupyter-widgets/base",
          "model_name": "LayoutModel",
          "model_module_version": "1.2.0",
          "state": {
            "_model_module": "@jupyter-widgets/base",
            "_model_module_version": "1.2.0",
            "_model_name": "LayoutModel",
            "_view_count": null,
            "_view_module": "@jupyter-widgets/base",
            "_view_module_version": "1.2.0",
            "_view_name": "LayoutView",
            "align_content": null,
            "align_items": null,
            "align_self": null,
            "border": null,
            "bottom": null,
            "display": null,
            "flex": null,
            "flex_flow": null,
            "grid_area": null,
            "grid_auto_columns": null,
            "grid_auto_flow": null,
            "grid_auto_rows": null,
            "grid_column": null,
            "grid_gap": null,
            "grid_row": null,
            "grid_template_areas": null,
            "grid_template_columns": null,
            "grid_template_rows": null,
            "height": null,
            "justify_content": null,
            "justify_items": null,
            "left": null,
            "margin": null,
            "max_height": null,
            "max_width": null,
            "min_height": null,
            "min_width": null,
            "object_fit": null,
            "object_position": null,
            "order": null,
            "overflow": null,
            "overflow_x": null,
            "overflow_y": null,
            "padding": null,
            "right": null,
            "top": null,
            "visibility": null,
            "width": null
          }
        },
        "6ae63ed9af6346699852ca63a1ee6969": {
          "model_module": "@jupyter-widgets/base",
          "model_name": "LayoutModel",
          "model_module_version": "1.2.0",
          "state": {
            "_model_module": "@jupyter-widgets/base",
            "_model_module_version": "1.2.0",
            "_model_name": "LayoutModel",
            "_view_count": null,
            "_view_module": "@jupyter-widgets/base",
            "_view_module_version": "1.2.0",
            "_view_name": "LayoutView",
            "align_content": null,
            "align_items": null,
            "align_self": null,
            "border": null,
            "bottom": null,
            "display": null,
            "flex": null,
            "flex_flow": null,
            "grid_area": null,
            "grid_auto_columns": null,
            "grid_auto_flow": null,
            "grid_auto_rows": null,
            "grid_column": null,
            "grid_gap": null,
            "grid_row": null,
            "grid_template_areas": null,
            "grid_template_columns": null,
            "grid_template_rows": null,
            "height": null,
            "justify_content": null,
            "justify_items": null,
            "left": null,
            "margin": null,
            "max_height": null,
            "max_width": null,
            "min_height": null,
            "min_width": null,
            "object_fit": null,
            "object_position": null,
            "order": null,
            "overflow": null,
            "overflow_x": null,
            "overflow_y": null,
            "padding": null,
            "right": null,
            "top": null,
            "visibility": null,
            "width": null
          }
        },
        "b979946ab3384b7da55ae43466a39a9d": {
          "model_module": "@jupyter-widgets/controls",
          "model_name": "DescriptionStyleModel",
          "model_module_version": "1.5.0",
          "state": {
            "_model_module": "@jupyter-widgets/controls",
            "_model_module_version": "1.5.0",
            "_model_name": "DescriptionStyleModel",
            "_view_count": null,
            "_view_module": "@jupyter-widgets/base",
            "_view_module_version": "1.2.0",
            "_view_name": "StyleView",
            "description_width": ""
          }
        },
        "22284eb59c8b46b3ae9dfb4b26b9bc4a": {
          "model_module": "@jupyter-widgets/base",
          "model_name": "LayoutModel",
          "model_module_version": "1.2.0",
          "state": {
            "_model_module": "@jupyter-widgets/base",
            "_model_module_version": "1.2.0",
            "_model_name": "LayoutModel",
            "_view_count": null,
            "_view_module": "@jupyter-widgets/base",
            "_view_module_version": "1.2.0",
            "_view_name": "LayoutView",
            "align_content": null,
            "align_items": null,
            "align_self": null,
            "border": null,
            "bottom": null,
            "display": null,
            "flex": null,
            "flex_flow": null,
            "grid_area": null,
            "grid_auto_columns": null,
            "grid_auto_flow": null,
            "grid_auto_rows": null,
            "grid_column": null,
            "grid_gap": null,
            "grid_row": null,
            "grid_template_areas": null,
            "grid_template_columns": null,
            "grid_template_rows": null,
            "height": null,
            "justify_content": null,
            "justify_items": null,
            "left": null,
            "margin": null,
            "max_height": null,
            "max_width": null,
            "min_height": null,
            "min_width": null,
            "object_fit": null,
            "object_position": null,
            "order": null,
            "overflow": null,
            "overflow_x": null,
            "overflow_y": null,
            "padding": null,
            "right": null,
            "top": null,
            "visibility": null,
            "width": null
          }
        },
        "e550711ad8334edf9e3a7b4b8f96df6c": {
          "model_module": "@jupyter-widgets/controls",
          "model_name": "ProgressStyleModel",
          "model_module_version": "1.5.0",
          "state": {
            "_model_module": "@jupyter-widgets/controls",
            "_model_module_version": "1.5.0",
            "_model_name": "ProgressStyleModel",
            "_view_count": null,
            "_view_module": "@jupyter-widgets/base",
            "_view_module_version": "1.2.0",
            "_view_name": "StyleView",
            "bar_color": null,
            "description_width": ""
          }
        },
        "b4fca56bea4743eb94cc7917c41e552f": {
          "model_module": "@jupyter-widgets/base",
          "model_name": "LayoutModel",
          "model_module_version": "1.2.0",
          "state": {
            "_model_module": "@jupyter-widgets/base",
            "_model_module_version": "1.2.0",
            "_model_name": "LayoutModel",
            "_view_count": null,
            "_view_module": "@jupyter-widgets/base",
            "_view_module_version": "1.2.0",
            "_view_name": "LayoutView",
            "align_content": null,
            "align_items": null,
            "align_self": null,
            "border": null,
            "bottom": null,
            "display": null,
            "flex": null,
            "flex_flow": null,
            "grid_area": null,
            "grid_auto_columns": null,
            "grid_auto_flow": null,
            "grid_auto_rows": null,
            "grid_column": null,
            "grid_gap": null,
            "grid_row": null,
            "grid_template_areas": null,
            "grid_template_columns": null,
            "grid_template_rows": null,
            "height": null,
            "justify_content": null,
            "justify_items": null,
            "left": null,
            "margin": null,
            "max_height": null,
            "max_width": null,
            "min_height": null,
            "min_width": null,
            "object_fit": null,
            "object_position": null,
            "order": null,
            "overflow": null,
            "overflow_x": null,
            "overflow_y": null,
            "padding": null,
            "right": null,
            "top": null,
            "visibility": null,
            "width": null
          }
        },
        "2148cff4380f481dbe8b940a4ffc7016": {
          "model_module": "@jupyter-widgets/controls",
          "model_name": "DescriptionStyleModel",
          "model_module_version": "1.5.0",
          "state": {
            "_model_module": "@jupyter-widgets/controls",
            "_model_module_version": "1.5.0",
            "_model_name": "DescriptionStyleModel",
            "_view_count": null,
            "_view_module": "@jupyter-widgets/base",
            "_view_module_version": "1.2.0",
            "_view_name": "StyleView",
            "description_width": ""
          }
        }
      }
    }
  },
  "cells": [
    {
      "cell_type": "markdown",
      "metadata": {
        "id": "view-in-github",
        "colab_type": "text"
      },
      "source": [
        "<a href=\"https://colab.research.google.com/github/thomasavare/DNLP-project/blob/master/classification_DNLP_2.ipynb\" target=\"_parent\"><img src=\"https://colab.research.google.com/assets/colab-badge.svg\" alt=\"Open In Colab\"/></a>"
      ]
    },
    {
      "cell_type": "markdown",
      "source": [
        "In this notebook, after realising that realizing that the model I imported (in 2 different ways) doesn't match the embeddings provided, I will try to redo the embeddings until I figure out if I can import the right SPECTER model.\n",
        "\n",
        "----"
      ],
      "metadata": {
        "id": "0enyhZkVZxJJ"
      }
    },
    {
      "cell_type": "code",
      "execution_count": null,
      "metadata": {
        "id": "eKkFcfPFe2Al",
        "colab": {
          "base_uri": "https://localhost:8080/"
        },
        "outputId": "0bb9a689-060b-44b3-a02e-a7d73d6c89d6"
      },
      "outputs": [
        {
          "output_type": "stream",
          "name": "stdout",
          "text": [
            "Looking in indexes: https://pypi.org/simple, https://us-python.pkg.dev/colab-wheels/public/simple/\n",
            "Collecting sentence-transformers\n",
            "  Downloading sentence-transformers-2.2.2.tar.gz (85 kB)\n",
            "\u001b[2K     \u001b[90m━━━━━━━━━━━━━━━━━━━━━━━━━━━━━━━━━━━━━━━━\u001b[0m \u001b[32m86.0/86.0 KB\u001b[0m \u001b[31m6.6 MB/s\u001b[0m eta \u001b[36m0:00:00\u001b[0m\n",
            "\u001b[?25h  Preparing metadata (setup.py) ... \u001b[?25l\u001b[?25hdone\n",
            "Collecting transformers<5.0.0,>=4.6.0\n",
            "  Downloading transformers-4.25.1-py3-none-any.whl (5.8 MB)\n",
            "\u001b[2K     \u001b[90m━━━━━━━━━━━━━━━━━━━━━━━━━━━━━━━━━━━━━━━━\u001b[0m \u001b[32m5.8/5.8 MB\u001b[0m \u001b[31m71.7 MB/s\u001b[0m eta \u001b[36m0:00:00\u001b[0m\n",
            "\u001b[?25hRequirement already satisfied: tqdm in /usr/local/lib/python3.8/dist-packages (from sentence-transformers) (4.64.1)\n",
            "Requirement already satisfied: torch>=1.6.0 in /usr/local/lib/python3.8/dist-packages (from sentence-transformers) (1.13.0+cu116)\n",
            "Requirement already satisfied: torchvision in /usr/local/lib/python3.8/dist-packages (from sentence-transformers) (0.14.0+cu116)\n",
            "Requirement already satisfied: numpy in /usr/local/lib/python3.8/dist-packages (from sentence-transformers) (1.21.6)\n",
            "Requirement already satisfied: scikit-learn in /usr/local/lib/python3.8/dist-packages (from sentence-transformers) (1.0.2)\n",
            "Requirement already satisfied: scipy in /usr/local/lib/python3.8/dist-packages (from sentence-transformers) (1.7.3)\n",
            "Requirement already satisfied: nltk in /usr/local/lib/python3.8/dist-packages (from sentence-transformers) (3.7)\n",
            "Collecting sentencepiece\n",
            "  Downloading sentencepiece-0.1.97-cp38-cp38-manylinux_2_17_x86_64.manylinux2014_x86_64.whl (1.3 MB)\n",
            "\u001b[2K     \u001b[90m━━━━━━━━━━━━━━━━━━━━━━━━━━━━━━━━━━━━━━━━\u001b[0m \u001b[32m1.3/1.3 MB\u001b[0m \u001b[31m61.9 MB/s\u001b[0m eta \u001b[36m0:00:00\u001b[0m\n",
            "\u001b[?25hCollecting huggingface-hub>=0.4.0\n",
            "  Downloading huggingface_hub-0.11.1-py3-none-any.whl (182 kB)\n",
            "\u001b[2K     \u001b[90m━━━━━━━━━━━━━━━━━━━━━━━━━━━━━━━━━━━━━━\u001b[0m \u001b[32m182.4/182.4 KB\u001b[0m \u001b[31m23.3 MB/s\u001b[0m eta \u001b[36m0:00:00\u001b[0m\n",
            "\u001b[?25hRequirement already satisfied: pyyaml>=5.1 in /usr/local/lib/python3.8/dist-packages (from huggingface-hub>=0.4.0->sentence-transformers) (6.0)\n",
            "Requirement already satisfied: typing-extensions>=3.7.4.3 in /usr/local/lib/python3.8/dist-packages (from huggingface-hub>=0.4.0->sentence-transformers) (4.4.0)\n",
            "Requirement already satisfied: packaging>=20.9 in /usr/local/lib/python3.8/dist-packages (from huggingface-hub>=0.4.0->sentence-transformers) (21.3)\n",
            "Requirement already satisfied: requests in /usr/local/lib/python3.8/dist-packages (from huggingface-hub>=0.4.0->sentence-transformers) (2.25.1)\n",
            "Requirement already satisfied: filelock in /usr/local/lib/python3.8/dist-packages (from huggingface-hub>=0.4.0->sentence-transformers) (3.9.0)\n",
            "Collecting tokenizers!=0.11.3,<0.14,>=0.11.1\n",
            "  Downloading tokenizers-0.13.2-cp38-cp38-manylinux_2_17_x86_64.manylinux2014_x86_64.whl (7.6 MB)\n",
            "\u001b[2K     \u001b[90m━━━━━━━━━━━━━━━━━━━━━━━━━━━━━━━━━━━━━━━━\u001b[0m \u001b[32m7.6/7.6 MB\u001b[0m \u001b[31m79.1 MB/s\u001b[0m eta \u001b[36m0:00:00\u001b[0m\n",
            "\u001b[?25hRequirement already satisfied: regex!=2019.12.17 in /usr/local/lib/python3.8/dist-packages (from transformers<5.0.0,>=4.6.0->sentence-transformers) (2022.6.2)\n",
            "Requirement already satisfied: click in /usr/local/lib/python3.8/dist-packages (from nltk->sentence-transformers) (7.1.2)\n",
            "Requirement already satisfied: joblib in /usr/local/lib/python3.8/dist-packages (from nltk->sentence-transformers) (1.2.0)\n",
            "Requirement already satisfied: threadpoolctl>=2.0.0 in /usr/local/lib/python3.8/dist-packages (from scikit-learn->sentence-transformers) (3.1.0)\n",
            "Requirement already satisfied: pillow!=8.3.*,>=5.3.0 in /usr/local/lib/python3.8/dist-packages (from torchvision->sentence-transformers) (7.1.2)\n",
            "Requirement already satisfied: pyparsing!=3.0.5,>=2.0.2 in /usr/local/lib/python3.8/dist-packages (from packaging>=20.9->huggingface-hub>=0.4.0->sentence-transformers) (3.0.9)\n",
            "Requirement already satisfied: chardet<5,>=3.0.2 in /usr/local/lib/python3.8/dist-packages (from requests->huggingface-hub>=0.4.0->sentence-transformers) (4.0.0)\n",
            "Requirement already satisfied: certifi>=2017.4.17 in /usr/local/lib/python3.8/dist-packages (from requests->huggingface-hub>=0.4.0->sentence-transformers) (2022.12.7)\n",
            "Requirement already satisfied: urllib3<1.27,>=1.21.1 in /usr/local/lib/python3.8/dist-packages (from requests->huggingface-hub>=0.4.0->sentence-transformers) (1.24.3)\n",
            "Requirement already satisfied: idna<3,>=2.5 in /usr/local/lib/python3.8/dist-packages (from requests->huggingface-hub>=0.4.0->sentence-transformers) (2.10)\n",
            "Building wheels for collected packages: sentence-transformers\n",
            "  Building wheel for sentence-transformers (setup.py) ... \u001b[?25l\u001b[?25hdone\n",
            "  Created wheel for sentence-transformers: filename=sentence_transformers-2.2.2-py3-none-any.whl size=125938 sha256=d0d4e4e0a986dee6cb33117ae54c2e29ea6a98a28c6302196427ba459c135bc7\n",
            "  Stored in directory: /root/.cache/pip/wheels/5e/6f/8c/d88aec621f3f542d26fac0342bef5e693335d125f4e54aeffe\n",
            "Successfully built sentence-transformers\n",
            "Installing collected packages: tokenizers, sentencepiece, huggingface-hub, transformers, sentence-transformers\n",
            "Successfully installed huggingface-hub-0.11.1 sentence-transformers-2.2.2 sentencepiece-0.1.97 tokenizers-0.13.2 transformers-4.25.1\n"
          ]
        }
      ],
      "source": [
        "pip install -U sentence-transformers"
      ]
    },
    {
      "cell_type": "code",
      "source": [
        "from sentence_transformers import SentenceTransformer, util\n",
        "\n",
        "# load model and tokenizer\n",
        "model = SentenceTransformer('allenai-specter')"
      ],
      "metadata": {
        "id": "qBy6fVR4aPa5",
        "colab": {
          "base_uri": "https://localhost:8080/",
          "height": 401,
          "referenced_widgets": [
            "9ec94df887334d00871150e6bb2baa6e",
            "f274233f7b344ac6ac781d40d549f9c8",
            "13a3e346923f4e1daa38c61ceca82dac",
            "41fadceb370747fe8e7e59e64f815adb",
            "848d39d9027c47e6a0e7c484382fe20a",
            "31e0adaf42d04392b176706d77478ee0",
            "0dc7753832394bff945096bd4e9a8da0",
            "340849286cb54dec85deb250470155db",
            "7fe5a0641ca441d6be2afd3ca35b6254",
            "b1b87504029040d09861bee296616ae0",
            "63a3adc36efb4f199ea959c9c7de7e34",
            "317cccc36c234ab39c513c174735c9d2",
            "45018555e39d4bf58d67634a2e7f562c",
            "66965933cd524005a037ecb13b21f298",
            "a4f52738ce00443295ce1dbbfe36f180",
            "de4ea49085494ca49ba6efa6fbb4b388",
            "b547e03625df4a4190b4587e8cc3f176",
            "c3eab12c1da641f499d752de591cef02",
            "966007372bc1435eb7fdd8a4c3934395",
            "f227804f0fa145fe93cb644ddea6ad81",
            "deeb1389c666449387d004973ab297e2",
            "681a130ba0d545ceb88bd0518d47a6d2",
            "766a07c65d4b4eeea6511124977f44d9",
            "76bfd806a10547c6ad365a91ade40f68",
            "f49250795cff4e78aa5d771a58ade89b",
            "0eea124efa1d4db5b5efa20fc41b2801",
            "b6dcd63e05774f5399280faebacd2a81",
            "929732eb42284a3a91a3dd23f81dc261",
            "f2d338101549475aa02cb0f39eb8d0fa",
            "69f7ca636a9b458eb79da179c24c8294",
            "fbe6d5f22bf54d86bebfe07a6e2507b3",
            "5f880872e9734ac9a389fe67f510ac79",
            "23a25a028f7047f7aa81e8a6730569ea",
            "bae23238f2a841668bbb34fdd47e2054",
            "30995e35457948599f4e5b5242e99e9b",
            "af3b1e79437546e0a1d888625eda6498",
            "0a7a2fffe3974aceb08e48abab79e1d1",
            "dcd3dbba79b94bc3a16b49fcae8b614a",
            "d73d08dbadf249bfba2c7b9fb208281b",
            "9a3cec7e927e4cbe95e088ab0e356cb6",
            "0e9e60ef57b24e9299e28ec4df393832",
            "0aa7864414b149bebbb981cce4ccbd66",
            "54fb0d5eff694c9c9c8d9d90e17f7932",
            "1ec645d3678d499bb945f6c29b9c4d21",
            "635c2a97e8ca425b89ed45d560126a4b",
            "6403b7ab19804d2fbc5c6b4cdc8718b2",
            "0dc2b23c4a84476a884abc05a7293caa",
            "463963dba30a43a8943c0abe591f265e",
            "063a4f1d463f46deb8aa092b3025231a",
            "ef09ecdd01a742a5908a8f508fcb4a31",
            "0ac35e26e8244bb79aeb67e8f31f3c57",
            "6a67454cb1db43118fc26963bfac6afb",
            "f1d052b8dc9649d8bc7694fb5781edc7",
            "b47c8ad0bddd47b78d37125fa5451066",
            "bd77eb87cb6c4771b008c74b433c2ecb",
            "64a824a5c2e543c7b369dd8b92cb99c7",
            "4902ee32e41c48ed9232bfd3acca6e0e",
            "6efc0f18d3f44f359d719f6d4dfd938a",
            "e382d710adbd4e09a34f67ac1dfa4cea",
            "52e6b868c403499b9250b5361ab704de",
            "20c0d7b794a740838e9eb35e0ba9a6d7",
            "71768eeb1d7e4106aa76978bbb06b90b",
            "d9ad5cd84cfe4753a4918dc21dc366f9",
            "5846b80eac904efa9d9d433a5309bc0c",
            "d4673cbd127444eb822178a406a607d3",
            "93aa806a78794c1ab782d965e60a45c4",
            "8879863597d64ae4b76ed6e7dceb56e4",
            "0e30105a24874f75a55a22f09f0fd058",
            "2d42cdb1ce124a9e9d5fcd9c68edd850",
            "0545b07b046e4610936bd90ba11b717a",
            "0436cb766922447d9f6e7519136b6c68",
            "f2fffa8192654f919e2213371c611660",
            "6f8c32357aa448abbb739f2cb0ee5b85",
            "02cd188471914b7b9a443d5eeaeecbf8",
            "1feac6b60cf04397a9276e06a189a915",
            "53db37c9ca5042d48e33e7e2dba869b4",
            "03146f7aa3c540bfa45761095b7ba4ee",
            "b88907f21ba846c192f241a0670fd185",
            "3585480851a248d0a938f25b7d4d1dcf",
            "50111f28d33044c58767e15419358a80",
            "29f7a35f31b8447ebed5c2fa2546ff55",
            "2358e398f5bc4c9a9f7f1c44ec96ce0c",
            "b1f33342a2f14cdaadb5adc8d9a0f4c8",
            "56a93abe1fb548ebbb7626ecf5339a02",
            "18e811ae696c47bf9cbdb93f07a5abd5",
            "8ca36a7df74d44d2aaf979ba9a3004b5",
            "ab03362576934f91b2995f80f60c4166",
            "80b84c88ba6f417dbbeb93fcefeb0521",
            "77e5dc6046b748148b7b64cf197fcbaa",
            "b791656447844381895ff0d438cbc726",
            "26b8b90ef7ff4391811d779a524739a7",
            "651afdc1466345bf890eb63760fdf4b4",
            "201c99f945b24e12b962b581e5fae31f",
            "d70f3b94601344b59d3470d678ac848b",
            "4fd83273781f4b32b913c126f2d28bb9",
            "b062f61c7ce042aa8826dc8baf9e5d0b",
            "c2b6cd5de9a44d0a812d4a2bb57f21f7",
            "6dfe167413ee4c4a9987e6bc817ae851",
            "dd476007119a470099880cc3e69d4c94",
            "0d50a33d7e0c41d196c1e54df1d031d3",
            "6e54d3e2912049fd96ac188544c23220",
            "ef7bafc56a454a508757fa31d9a9dd44",
            "828030f275a04e5a9265ed92ffd72a0e",
            "dac2eabebd8c44d288b0a20c6a80ba84",
            "f0517250abe744e599f606a5669f1ec1",
            "ee65ba43dc754438805e48e6f39e0ff1",
            "23f380f5a45e4d0fbd0dd44b20f44233",
            "f836bae2512e4e10a3cfb65dafc68c35",
            "2c25f445aa144e4dbe1f46b648cbf6c4",
            "86082beedca048baaad62919d107a6a7",
            "3eab80362d50420d92fb4cc449dd3ab8",
            "d064b1992fdb47b4a9b597f43a65af05",
            "4ad4a1c1b65d46388296b5fb07a51683",
            "58a1f15669634ad0a9a0d9536ceaed87",
            "ea0eafdda22043e38ea849cea28b3480",
            "589e27a276f34a39a3035903fde2802a",
            "3c8c3fe9c0504461ae4bf936f0f07dee",
            "cb98672ce2874ca9b514c12c3a790373",
            "0e528a58f0954e9986b6285551f3b153",
            "f1a966225da441dd9cfcb410633eec49",
            "d739d21fbba246b49532a0fa87a116d6",
            "f41e826561d14d4f83819c3c66344321",
            "64628484c29d47eab41fbb074bcd4bd5",
            "677341c1abcd4a31abc56e8727899076",
            "afb4c1b454cb4967a4bf400a1aaed684",
            "9690b12bde314023b26a1355fe5a5cb6",
            "6ae63ed9af6346699852ca63a1ee6969",
            "b979946ab3384b7da55ae43466a39a9d",
            "22284eb59c8b46b3ae9dfb4b26b9bc4a",
            "e550711ad8334edf9e3a7b4b8f96df6c",
            "b4fca56bea4743eb94cc7917c41e552f",
            "2148cff4380f481dbe8b940a4ffc7016"
          ]
        },
        "outputId": "2f4c37b4-bcfb-42f6-9ddd-525ffe809f7d"
      },
      "execution_count": null,
      "outputs": [
        {
          "output_type": "display_data",
          "data": {
            "text/plain": [
              "Downloading:   0%|          | 0.00/690 [00:00<?, ?B/s]"
            ],
            "application/vnd.jupyter.widget-view+json": {
              "version_major": 2,
              "version_minor": 0,
              "model_id": "9ec94df887334d00871150e6bb2baa6e"
            }
          },
          "metadata": {}
        },
        {
          "output_type": "display_data",
          "data": {
            "text/plain": [
              "Downloading:   0%|          | 0.00/190 [00:00<?, ?B/s]"
            ],
            "application/vnd.jupyter.widget-view+json": {
              "version_major": 2,
              "version_minor": 0,
              "model_id": "317cccc36c234ab39c513c174735c9d2"
            }
          },
          "metadata": {}
        },
        {
          "output_type": "display_data",
          "data": {
            "text/plain": [
              "Downloading:   0%|          | 0.00/2.71k [00:00<?, ?B/s]"
            ],
            "application/vnd.jupyter.widget-view+json": {
              "version_major": 2,
              "version_minor": 0,
              "model_id": "766a07c65d4b4eeea6511124977f44d9"
            }
          },
          "metadata": {}
        },
        {
          "output_type": "display_data",
          "data": {
            "text/plain": [
              "Downloading:   0%|          | 0.00/622 [00:00<?, ?B/s]"
            ],
            "application/vnd.jupyter.widget-view+json": {
              "version_major": 2,
              "version_minor": 0,
              "model_id": "bae23238f2a841668bbb34fdd47e2054"
            }
          },
          "metadata": {}
        },
        {
          "output_type": "display_data",
          "data": {
            "text/plain": [
              "Downloading:   0%|          | 0.00/122 [00:00<?, ?B/s]"
            ],
            "application/vnd.jupyter.widget-view+json": {
              "version_major": 2,
              "version_minor": 0,
              "model_id": "635c2a97e8ca425b89ed45d560126a4b"
            }
          },
          "metadata": {}
        },
        {
          "output_type": "display_data",
          "data": {
            "text/plain": [
              "Downloading:   0%|          | 0.00/440M [00:00<?, ?B/s]"
            ],
            "application/vnd.jupyter.widget-view+json": {
              "version_major": 2,
              "version_minor": 0,
              "model_id": "64a824a5c2e543c7b369dd8b92cb99c7"
            }
          },
          "metadata": {}
        },
        {
          "output_type": "display_data",
          "data": {
            "text/plain": [
              "Downloading:   0%|          | 0.00/53.0 [00:00<?, ?B/s]"
            ],
            "application/vnd.jupyter.widget-view+json": {
              "version_major": 2,
              "version_minor": 0,
              "model_id": "8879863597d64ae4b76ed6e7dceb56e4"
            }
          },
          "metadata": {}
        },
        {
          "output_type": "display_data",
          "data": {
            "text/plain": [
              "Downloading:   0%|          | 0.00/112 [00:00<?, ?B/s]"
            ],
            "application/vnd.jupyter.widget-view+json": {
              "version_major": 2,
              "version_minor": 0,
              "model_id": "b88907f21ba846c192f241a0670fd185"
            }
          },
          "metadata": {}
        },
        {
          "output_type": "display_data",
          "data": {
            "text/plain": [
              "Downloading:   0%|          | 0.00/462k [00:00<?, ?B/s]"
            ],
            "application/vnd.jupyter.widget-view+json": {
              "version_major": 2,
              "version_minor": 0,
              "model_id": "77e5dc6046b748148b7b64cf197fcbaa"
            }
          },
          "metadata": {}
        },
        {
          "output_type": "display_data",
          "data": {
            "text/plain": [
              "Downloading:   0%|          | 0.00/331 [00:00<?, ?B/s]"
            ],
            "application/vnd.jupyter.widget-view+json": {
              "version_major": 2,
              "version_minor": 0,
              "model_id": "0d50a33d7e0c41d196c1e54df1d031d3"
            }
          },
          "metadata": {}
        },
        {
          "output_type": "display_data",
          "data": {
            "text/plain": [
              "Downloading:   0%|          | 0.00/222k [00:00<?, ?B/s]"
            ],
            "application/vnd.jupyter.widget-view+json": {
              "version_major": 2,
              "version_minor": 0,
              "model_id": "3eab80362d50420d92fb4cc449dd3ab8"
            }
          },
          "metadata": {}
        },
        {
          "output_type": "display_data",
          "data": {
            "text/plain": [
              "Downloading:   0%|          | 0.00/229 [00:00<?, ?B/s]"
            ],
            "application/vnd.jupyter.widget-view+json": {
              "version_major": 2,
              "version_minor": 0,
              "model_id": "f41e826561d14d4f83819c3c66344321"
            }
          },
          "metadata": {}
        }
      ]
    },
    {
      "cell_type": "markdown",
      "source": [
        "With the model uploaded, we can now upload the meta-data"
      ],
      "metadata": {
        "id": "lVrMvfisb5fR"
      }
    },
    {
      "cell_type": "code",
      "source": [
        "!pip install awscli\n",
        "!aws s3 sync --no-sign-request s3://ai2-s2-research-public/specter/scidocs/ data/"
      ],
      "metadata": {
        "colab": {
          "base_uri": "https://localhost:8080/",
          "height": 1000
        },
        "id": "u29n2klrcpCR",
        "outputId": "87c0b03e-d5c4-474a-dcf4-4e200aafc8c5"
      },
      "execution_count": null,
      "outputs": [
        {
          "output_type": "stream",
          "name": "stdout",
          "text": [
            "Looking in indexes: https://pypi.org/simple, https://us-python.pkg.dev/colab-wheels/public/simple/\n",
            "Collecting awscli\n",
            "  Downloading awscli-1.27.50-py3-none-any.whl (4.0 MB)\n",
            "\u001b[2K     \u001b[90m━━━━━━━━━━━━━━━━━━━━━━━━━━━━━━━━━━━━━━━━\u001b[0m \u001b[32m4.0/4.0 MB\u001b[0m \u001b[31m40.3 MB/s\u001b[0m eta \u001b[36m0:00:00\u001b[0m\n",
            "\u001b[?25hRequirement already satisfied: docutils<0.17,>=0.10 in /usr/local/lib/python3.8/dist-packages (from awscli) (0.16)\n",
            "Collecting PyYAML<5.5,>=3.10\n",
            "  Downloading PyYAML-5.4.1-cp38-cp38-manylinux1_x86_64.whl (662 kB)\n",
            "\u001b[2K     \u001b[90m━━━━━━━━━━━━━━━━━━━━━━━━━━━━━━━━━━━━━━\u001b[0m \u001b[32m662.4/662.4 KB\u001b[0m \u001b[31m51.0 MB/s\u001b[0m eta \u001b[36m0:00:00\u001b[0m\n",
            "\u001b[?25hCollecting botocore==1.29.50\n",
            "  Downloading botocore-1.29.50-py3-none-any.whl (10.3 MB)\n",
            "\u001b[2K     \u001b[90m━━━━━━━━━━━━━━━━━━━━━━━━━━━━━━━━━━━━━━━━\u001b[0m \u001b[32m10.3/10.3 MB\u001b[0m \u001b[31m73.2 MB/s\u001b[0m eta \u001b[36m0:00:00\u001b[0m\n",
            "\u001b[?25hCollecting s3transfer<0.7.0,>=0.6.0\n",
            "  Downloading s3transfer-0.6.0-py3-none-any.whl (79 kB)\n",
            "\u001b[2K     \u001b[90m━━━━━━━━━━━━━━━━━━━━━━━━━━━━━━━━━━━━━━━━\u001b[0m \u001b[32m79.6/79.6 KB\u001b[0m \u001b[31m9.3 MB/s\u001b[0m eta \u001b[36m0:00:00\u001b[0m\n",
            "\u001b[?25hCollecting colorama<0.4.5,>=0.2.5\n",
            "  Downloading colorama-0.4.4-py2.py3-none-any.whl (16 kB)\n",
            "Collecting rsa<4.8,>=3.1.2\n",
            "  Downloading rsa-4.7.2-py3-none-any.whl (34 kB)\n",
            "Collecting urllib3<1.27,>=1.25.4\n",
            "  Downloading urllib3-1.26.14-py2.py3-none-any.whl (140 kB)\n",
            "\u001b[2K     \u001b[90m━━━━━━━━━━━━━━━━━━━━━━━━━━━━━━━━━━━━━━\u001b[0m \u001b[32m140.6/140.6 KB\u001b[0m \u001b[31m15.4 MB/s\u001b[0m eta \u001b[36m0:00:00\u001b[0m\n",
            "\u001b[?25hCollecting jmespath<2.0.0,>=0.7.1\n",
            "  Downloading jmespath-1.0.1-py3-none-any.whl (20 kB)\n",
            "Requirement already satisfied: python-dateutil<3.0.0,>=2.1 in /usr/local/lib/python3.8/dist-packages (from botocore==1.29.50->awscli) (2.8.2)\n",
            "Requirement already satisfied: pyasn1>=0.1.3 in /usr/local/lib/python3.8/dist-packages (from rsa<4.8,>=3.1.2->awscli) (0.4.8)\n",
            "Requirement already satisfied: six>=1.5 in /usr/local/lib/python3.8/dist-packages (from python-dateutil<3.0.0,>=2.1->botocore==1.29.50->awscli) (1.15.0)\n",
            "Installing collected packages: urllib3, rsa, PyYAML, jmespath, colorama, botocore, s3transfer, awscli\n",
            "  Attempting uninstall: urllib3\n",
            "    Found existing installation: urllib3 1.24.3\n",
            "    Uninstalling urllib3-1.24.3:\n",
            "      Successfully uninstalled urllib3-1.24.3\n",
            "  Attempting uninstall: rsa\n",
            "    Found existing installation: rsa 4.9\n",
            "    Uninstalling rsa-4.9:\n",
            "      Successfully uninstalled rsa-4.9\n",
            "  Attempting uninstall: PyYAML\n",
            "    Found existing installation: PyYAML 6.0\n",
            "    Uninstalling PyYAML-6.0:\n",
            "      Successfully uninstalled PyYAML-6.0\n",
            "Successfully installed PyYAML-5.4.1 awscli-1.27.50 botocore-1.29.50 colorama-0.4.4 jmespath-1.0.1 rsa-4.7.2 s3transfer-0.6.0 urllib3-1.26.14\n"
          ]
        },
        {
          "output_type": "display_data",
          "data": {
            "application/vnd.colab-display-data+json": {
              "pip_warning": {
                "packages": [
                  "rsa",
                  "urllib3",
                  "yaml"
                ]
              }
            }
          },
          "metadata": {}
        },
        {
          "output_type": "stream",
          "name": "stdout",
          "text": [
            "Completed 256.0 KiB/4.6 GiB (193.7 KiB/s) with 26 file(s) remaining\rCompleted 415.2 KiB/4.6 GiB (304.4 KiB/s) with 26 file(s) remaining\rdownload: s3://ai2-s2-research-public/specter/scidocs/mag/test.csv to data/mag/test.csv\n",
            "download: s3://ai2-s2-research-public/specter/scidocs/mesh/val.csv to data/mesh/val.csv\n",
            "download: s3://ai2-s2-research-public/specter/scidocs/mesh/train.csv to data/mesh/train.csv\n",
            "download: s3://ai2-s2-research-public/specter/scidocs/mag/val.csv to data/mag/val.csv\n",
            "download: s3://ai2-s2-research-public/specter/scidocs/mesh/test.csv to data/mesh/test.csv\n",
            "download: s3://ai2-s2-research-public/specter/scidocs/cite/test.qrel to data/cite/test.qrel\n",
            "download: s3://ai2-s2-research-public/specter/scidocs/recomm/propensity_scores.json to data/recomm/propensity_scores.json\n",
            "download: s3://ai2-s2-research-public/specter/scidocs/coread/val.qrel to data/coread/val.qrel\n",
            "download: s3://ai2-s2-research-public/specter/scidocs/cocite/val.qrel to data/cocite/val.qrel\n",
            "download: s3://ai2-s2-research-public/specter/scidocs/cite/val.qrel to data/cite/val.qrel\n",
            "download: s3://ai2-s2-research-public/specter/scidocs/cocite/test.qrel to data/cocite/test.qrel\n",
            "download: s3://ai2-s2-research-public/specter/scidocs/coview/test.qrel to data/coview/test.qrel\n",
            "download: s3://ai2-s2-research-public/specter/scidocs/coview/val.qrel to data/coview/val.qrel\n",
            "download: s3://ai2-s2-research-public/specter/scidocs/mag/train.csv to data/mag/train.csv\n",
            "download: s3://ai2-s2-research-public/specter/scidocs/coread/test.qrel to data/coread/test.qrel\n",
            "download: s3://ai2-s2-research-public/specter/scidocs/recomm/test.csv to data/recomm/test.csv\n",
            "download: s3://ai2-s2-research-public/specter/scidocs/recomm/train.csv to data/recomm/train.csv\n",
            "download: s3://ai2-s2-research-public/specter/scidocs/recomm/train_similar_papers_model.json to data/recomm/train_similar_papers_model.json\n",
            "download: s3://ai2-s2-research-public/specter/scidocs/recomm/val.csv to data/recomm/val.csv\n",
            "download: s3://ai2-s2-research-public/specter/scidocs/paper_metadata_mag_mesh.json to data/paper_metadata_mag_mesh.json\n",
            "download: s3://ai2-s2-research-public/specter/scidocs/recomm/paper_metadata.json to data/recomm/paper_metadata.json\n",
            "download: s3://ai2-s2-research-public/specter/scidocs/paper_metadata_recomm.json to data/paper_metadata_recomm.json\n",
            "download: s3://ai2-s2-research-public/specter/scidocs/specter-embeddings/recomm.jsonl to data/specter-embeddings/recomm.jsonl\n",
            "download: s3://ai2-s2-research-public/specter/scidocs/paper_metadata_view_cite_read.json to data/paper_metadata_view_cite_read.json\n",
            "download: s3://ai2-s2-research-public/specter/scidocs/specter-embeddings/cls.jsonl to data/specter-embeddings/cls.jsonl\n",
            "download: s3://ai2-s2-research-public/specter/scidocs/specter-embeddings/user-citation.jsonl to data/specter-embeddings/user-citation.jsonl\n"
          ]
        }
      ]
    },
    {
      "cell_type": "code",
      "source": [
        "import pandas as pd\n",
        "\n",
        "data_df = pd.read_json('/content/data/paper_metadata_mag_mesh.json', 'index')\n",
        "data_df.columns"
      ],
      "metadata": {
        "colab": {
          "base_uri": "https://localhost:8080/"
        },
        "id": "EDVmz7IaaTlU",
        "outputId": "9043af35-78fd-4d86-a4a6-c5d740ebf787"
      },
      "execution_count": null,
      "outputs": [
        {
          "output_type": "stream",
          "name": "stderr",
          "text": [
            "<ipython-input-4-c2b792037530>:3: FutureWarning: Starting with pandas version 2.0 all arguments of read_json except for the argument 'path_or_buf' will be keyword-only\n",
            "  data_df = pd.read_json('/content/data/paper_metadata_mag_mesh.json', 'index')\n"
          ]
        },
        {
          "output_type": "execute_result",
          "data": {
            "text/plain": [
              "Index(['abstract', 'authors', 'cited_by', 'paper_id', 'references', 'title',\n",
              "       'year'],\n",
              "      dtype='object')"
            ]
          },
          "metadata": {},
          "execution_count": 4
        }
      ]
    },
    {
      "cell_type": "markdown",
      "source": [
        "We don't need the citation graph, the references and the year (maybe if my extension works)."
      ],
      "metadata": {
        "id": "kpMckGkudMRf"
      }
    },
    {
      "cell_type": "code",
      "source": [
        "data_df = data_df[['paper_id', 'title', 'abstract']]\n",
        "data_df['embedding'] = None\n",
        "data_df"
      ],
      "metadata": {
        "colab": {
          "base_uri": "https://localhost:8080/",
          "height": 1000
        },
        "id": "HUvbbSmYcnGj",
        "outputId": "300b4bcb-10f0-4373-c218-a7802579d0c3"
      },
      "execution_count": null,
      "outputs": [
        {
          "output_type": "stream",
          "name": "stderr",
          "text": [
            "<ipython-input-5-94dc7cc50e51>:2: SettingWithCopyWarning: \n",
            "A value is trying to be set on a copy of a slice from a DataFrame.\n",
            "Try using .loc[row_indexer,col_indexer] = value instead\n",
            "\n",
            "See the caveats in the documentation: https://pandas.pydata.org/pandas-docs/stable/user_guide/indexing.html#returning-a-view-versus-a-copy\n",
            "  data_df['embedding'] = None\n"
          ]
        },
        {
          "output_type": "execute_result",
          "data": {
            "text/plain": [
              "                                                                          paper_id  \\\n",
              "00014a8515491f0b3fe2a1ff6e0f5305e584dcd9  00014a8515491f0b3fe2a1ff6e0f5305e584dcd9   \n",
              "00021eeee2bf4e06fec98941206f97083c38b54d  00021eeee2bf4e06fec98941206f97083c38b54d   \n",
              "00027baa2a90e1a3d50c1da14882d518de6847f5  00027baa2a90e1a3d50c1da14882d518de6847f5   \n",
              "00034a5a5bd11b51ec046d31de273946d91fb766  00034a5a5bd11b51ec046d31de273946d91fb766   \n",
              "000c8d85037886c86de15290e5a8e9bae7b66103  000c8d85037886c86de15290e5a8e9bae7b66103   \n",
              "...                                                                            ...   \n",
              "ffe534bb74efd04b0038510be2a4ed5072430c8b  ffe534bb74efd04b0038510be2a4ed5072430c8b   \n",
              "ffeaac2b94fc298676e9784ed3bd7a6a7c23b9d1  ffeaac2b94fc298676e9784ed3bd7a6a7c23b9d1   \n",
              "ffecb03cbf4dccf9fcdc8b26f40f53d5bc44be66  ffecb03cbf4dccf9fcdc8b26f40f53d5bc44be66   \n",
              "fff238844076ad5643dc2ff53153581bd89441ea  fff238844076ad5643dc2ff53153581bd89441ea   \n",
              "fff766303c67b984a64e33566853375d35951424  fff766303c67b984a64e33566853375d35951424   \n",
              "\n",
              "                                                                                      title  \\\n",
              "00014a8515491f0b3fe2a1ff6e0f5305e584dcd9              ON THE CLASSIFICATION OF THE SCIENCES   \n",
              "00021eeee2bf4e06fec98941206f97083c38b54d  Opportunities and challenges for E-Commerce in...   \n",
              "00027baa2a90e1a3d50c1da14882d518de6847f5  Interactions between model membranes and ligni...   \n",
              "00034a5a5bd11b51ec046d31de273946d91fb766        Perpetual Peace: What Kant Should Have Said   \n",
              "000c8d85037886c86de15290e5a8e9bae7b66103    Reimagining Greek Tragedy on the American Stage   \n",
              "...                                                                                     ...   \n",
              "ffe534bb74efd04b0038510be2a4ed5072430c8b  Comparison of olmesartan combined with a calci...   \n",
              "ffeaac2b94fc298676e9784ed3bd7a6a7c23b9d1  Role of angiotensin II in plasma PAI-1 changes...   \n",
              "ffecb03cbf4dccf9fcdc8b26f40f53d5bc44be66  Factors that influence cancer patients' anxiet...   \n",
              "fff238844076ad5643dc2ff53153581bd89441ea  Is adjuvant chemotherapy indicated in stage I ...   \n",
              "fff766303c67b984a64e33566853375d35951424  Relationship between PCO2 and unfavorable outc...   \n",
              "\n",
              "                                                                                   abstract  \\\n",
              "00014a8515491f0b3fe2a1ff6e0f5305e584dcd9                                               None   \n",
              "00021eeee2bf4e06fec98941206f97083c38b54d  Numerous studies of E-Commerce have emphasized...   \n",
              "00027baa2a90e1a3d50c1da14882d518de6847f5  In order to elucidate the modes of interaction...   \n",
              "00034a5a5bd11b51ec046d31de273946d91fb766                                               None   \n",
              "000c8d85037886c86de15290e5a8e9bae7b66103  List of Illustrations Preface Introduction CHA...   \n",
              "...                                                                                     ...   \n",
              "ffe534bb74efd04b0038510be2a4ed5072430c8b  The cardiovascular effects of combined therapy...   \n",
              "ffeaac2b94fc298676e9784ed3bd7a6a7c23b9d1  To evaluate the relationship between plasma pl...   \n",
              "ffecb03cbf4dccf9fcdc8b26f40f53d5bc44be66  BACKGROUND\\nNo study has yet assessed the impa...   \n",
              "fff238844076ad5643dc2ff53153581bd89441ea  OBJECTIVE\\nConservative surgery followed by pl...   \n",
              "fff766303c67b984a64e33566853375d35951424  Background:Abnormal PCO2 is common in infants ...   \n",
              "\n",
              "                                         embedding  \n",
              "00014a8515491f0b3fe2a1ff6e0f5305e584dcd9      None  \n",
              "00021eeee2bf4e06fec98941206f97083c38b54d      None  \n",
              "00027baa2a90e1a3d50c1da14882d518de6847f5      None  \n",
              "00034a5a5bd11b51ec046d31de273946d91fb766      None  \n",
              "000c8d85037886c86de15290e5a8e9bae7b66103      None  \n",
              "...                                            ...  \n",
              "ffe534bb74efd04b0038510be2a4ed5072430c8b      None  \n",
              "ffeaac2b94fc298676e9784ed3bd7a6a7c23b9d1      None  \n",
              "ffecb03cbf4dccf9fcdc8b26f40f53d5bc44be66      None  \n",
              "fff238844076ad5643dc2ff53153581bd89441ea      None  \n",
              "fff766303c67b984a64e33566853375d35951424      None  \n",
              "\n",
              "[48473 rows x 4 columns]"
            ],
            "text/html": [
              "\n",
              "  <div id=\"df-10a25e03-74d9-4ffc-81c9-0d1508c352ce\">\n",
              "    <div class=\"colab-df-container\">\n",
              "      <div>\n",
              "<style scoped>\n",
              "    .dataframe tbody tr th:only-of-type {\n",
              "        vertical-align: middle;\n",
              "    }\n",
              "\n",
              "    .dataframe tbody tr th {\n",
              "        vertical-align: top;\n",
              "    }\n",
              "\n",
              "    .dataframe thead th {\n",
              "        text-align: right;\n",
              "    }\n",
              "</style>\n",
              "<table border=\"1\" class=\"dataframe\">\n",
              "  <thead>\n",
              "    <tr style=\"text-align: right;\">\n",
              "      <th></th>\n",
              "      <th>paper_id</th>\n",
              "      <th>title</th>\n",
              "      <th>abstract</th>\n",
              "      <th>embedding</th>\n",
              "    </tr>\n",
              "  </thead>\n",
              "  <tbody>\n",
              "    <tr>\n",
              "      <th>00014a8515491f0b3fe2a1ff6e0f5305e584dcd9</th>\n",
              "      <td>00014a8515491f0b3fe2a1ff6e0f5305e584dcd9</td>\n",
              "      <td>ON THE CLASSIFICATION OF THE SCIENCES</td>\n",
              "      <td>None</td>\n",
              "      <td>None</td>\n",
              "    </tr>\n",
              "    <tr>\n",
              "      <th>00021eeee2bf4e06fec98941206f97083c38b54d</th>\n",
              "      <td>00021eeee2bf4e06fec98941206f97083c38b54d</td>\n",
              "      <td>Opportunities and challenges for E-Commerce in...</td>\n",
              "      <td>Numerous studies of E-Commerce have emphasized...</td>\n",
              "      <td>None</td>\n",
              "    </tr>\n",
              "    <tr>\n",
              "      <th>00027baa2a90e1a3d50c1da14882d518de6847f5</th>\n",
              "      <td>00027baa2a90e1a3d50c1da14882d518de6847f5</td>\n",
              "      <td>Interactions between model membranes and ligni...</td>\n",
              "      <td>In order to elucidate the modes of interaction...</td>\n",
              "      <td>None</td>\n",
              "    </tr>\n",
              "    <tr>\n",
              "      <th>00034a5a5bd11b51ec046d31de273946d91fb766</th>\n",
              "      <td>00034a5a5bd11b51ec046d31de273946d91fb766</td>\n",
              "      <td>Perpetual Peace: What Kant Should Have Said</td>\n",
              "      <td>None</td>\n",
              "      <td>None</td>\n",
              "    </tr>\n",
              "    <tr>\n",
              "      <th>000c8d85037886c86de15290e5a8e9bae7b66103</th>\n",
              "      <td>000c8d85037886c86de15290e5a8e9bae7b66103</td>\n",
              "      <td>Reimagining Greek Tragedy on the American Stage</td>\n",
              "      <td>List of Illustrations Preface Introduction CHA...</td>\n",
              "      <td>None</td>\n",
              "    </tr>\n",
              "    <tr>\n",
              "      <th>...</th>\n",
              "      <td>...</td>\n",
              "      <td>...</td>\n",
              "      <td>...</td>\n",
              "      <td>...</td>\n",
              "    </tr>\n",
              "    <tr>\n",
              "      <th>ffe534bb74efd04b0038510be2a4ed5072430c8b</th>\n",
              "      <td>ffe534bb74efd04b0038510be2a4ed5072430c8b</td>\n",
              "      <td>Comparison of olmesartan combined with a calci...</td>\n",
              "      <td>The cardiovascular effects of combined therapy...</td>\n",
              "      <td>None</td>\n",
              "    </tr>\n",
              "    <tr>\n",
              "      <th>ffeaac2b94fc298676e9784ed3bd7a6a7c23b9d1</th>\n",
              "      <td>ffeaac2b94fc298676e9784ed3bd7a6a7c23b9d1</td>\n",
              "      <td>Role of angiotensin II in plasma PAI-1 changes...</td>\n",
              "      <td>To evaluate the relationship between plasma pl...</td>\n",
              "      <td>None</td>\n",
              "    </tr>\n",
              "    <tr>\n",
              "      <th>ffecb03cbf4dccf9fcdc8b26f40f53d5bc44be66</th>\n",
              "      <td>ffecb03cbf4dccf9fcdc8b26f40f53d5bc44be66</td>\n",
              "      <td>Factors that influence cancer patients' anxiet...</td>\n",
              "      <td>BACKGROUND\\nNo study has yet assessed the impa...</td>\n",
              "      <td>None</td>\n",
              "    </tr>\n",
              "    <tr>\n",
              "      <th>fff238844076ad5643dc2ff53153581bd89441ea</th>\n",
              "      <td>fff238844076ad5643dc2ff53153581bd89441ea</td>\n",
              "      <td>Is adjuvant chemotherapy indicated in stage I ...</td>\n",
              "      <td>OBJECTIVE\\nConservative surgery followed by pl...</td>\n",
              "      <td>None</td>\n",
              "    </tr>\n",
              "    <tr>\n",
              "      <th>fff766303c67b984a64e33566853375d35951424</th>\n",
              "      <td>fff766303c67b984a64e33566853375d35951424</td>\n",
              "      <td>Relationship between PCO2 and unfavorable outc...</td>\n",
              "      <td>Background:Abnormal PCO2 is common in infants ...</td>\n",
              "      <td>None</td>\n",
              "    </tr>\n",
              "  </tbody>\n",
              "</table>\n",
              "<p>48473 rows × 4 columns</p>\n",
              "</div>\n",
              "      <button class=\"colab-df-convert\" onclick=\"convertToInteractive('df-10a25e03-74d9-4ffc-81c9-0d1508c352ce')\"\n",
              "              title=\"Convert this dataframe to an interactive table.\"\n",
              "              style=\"display:none;\">\n",
              "        \n",
              "  <svg xmlns=\"http://www.w3.org/2000/svg\" height=\"24px\"viewBox=\"0 0 24 24\"\n",
              "       width=\"24px\">\n",
              "    <path d=\"M0 0h24v24H0V0z\" fill=\"none\"/>\n",
              "    <path d=\"M18.56 5.44l.94 2.06.94-2.06 2.06-.94-2.06-.94-.94-2.06-.94 2.06-2.06.94zm-11 1L8.5 8.5l.94-2.06 2.06-.94-2.06-.94L8.5 2.5l-.94 2.06-2.06.94zm10 10l.94 2.06.94-2.06 2.06-.94-2.06-.94-.94-2.06-.94 2.06-2.06.94z\"/><path d=\"M17.41 7.96l-1.37-1.37c-.4-.4-.92-.59-1.43-.59-.52 0-1.04.2-1.43.59L10.3 9.45l-7.72 7.72c-.78.78-.78 2.05 0 2.83L4 21.41c.39.39.9.59 1.41.59.51 0 1.02-.2 1.41-.59l7.78-7.78 2.81-2.81c.8-.78.8-2.07 0-2.86zM5.41 20L4 18.59l7.72-7.72 1.47 1.35L5.41 20z\"/>\n",
              "  </svg>\n",
              "      </button>\n",
              "      \n",
              "  <style>\n",
              "    .colab-df-container {\n",
              "      display:flex;\n",
              "      flex-wrap:wrap;\n",
              "      gap: 12px;\n",
              "    }\n",
              "\n",
              "    .colab-df-convert {\n",
              "      background-color: #E8F0FE;\n",
              "      border: none;\n",
              "      border-radius: 50%;\n",
              "      cursor: pointer;\n",
              "      display: none;\n",
              "      fill: #1967D2;\n",
              "      height: 32px;\n",
              "      padding: 0 0 0 0;\n",
              "      width: 32px;\n",
              "    }\n",
              "\n",
              "    .colab-df-convert:hover {\n",
              "      background-color: #E2EBFA;\n",
              "      box-shadow: 0px 1px 2px rgba(60, 64, 67, 0.3), 0px 1px 3px 1px rgba(60, 64, 67, 0.15);\n",
              "      fill: #174EA6;\n",
              "    }\n",
              "\n",
              "    [theme=dark] .colab-df-convert {\n",
              "      background-color: #3B4455;\n",
              "      fill: #D2E3FC;\n",
              "    }\n",
              "\n",
              "    [theme=dark] .colab-df-convert:hover {\n",
              "      background-color: #434B5C;\n",
              "      box-shadow: 0px 1px 3px 1px rgba(0, 0, 0, 0.15);\n",
              "      filter: drop-shadow(0px 1px 2px rgba(0, 0, 0, 0.3));\n",
              "      fill: #FFFFFF;\n",
              "    }\n",
              "  </style>\n",
              "\n",
              "      <script>\n",
              "        const buttonEl =\n",
              "          document.querySelector('#df-10a25e03-74d9-4ffc-81c9-0d1508c352ce button.colab-df-convert');\n",
              "        buttonEl.style.display =\n",
              "          google.colab.kernel.accessAllowed ? 'block' : 'none';\n",
              "\n",
              "        async function convertToInteractive(key) {\n",
              "          const element = document.querySelector('#df-10a25e03-74d9-4ffc-81c9-0d1508c352ce');\n",
              "          const dataTable =\n",
              "            await google.colab.kernel.invokeFunction('convertToInteractive',\n",
              "                                                     [key], {});\n",
              "          if (!dataTable) return;\n",
              "\n",
              "          const docLinkHtml = 'Like what you see? Visit the ' +\n",
              "            '<a target=\"_blank\" href=https://colab.research.google.com/notebooks/data_table.ipynb>data table notebook</a>'\n",
              "            + ' to learn more about interactive tables.';\n",
              "          element.innerHTML = '';\n",
              "          dataTable['output_type'] = 'display_data';\n",
              "          await google.colab.output.renderOutput(dataTable, element);\n",
              "          const docLink = document.createElement('div');\n",
              "          docLink.innerHTML = docLinkHtml;\n",
              "          element.appendChild(docLink);\n",
              "        }\n",
              "      </script>\n",
              "    </div>\n",
              "  </div>\n",
              "  "
            ]
          },
          "metadata": {},
          "execution_count": 5
        }
      ]
    },
    {
      "cell_type": "markdown",
      "source": [
        "Now let's try to embed everything. It may (or should) take a while to embed everything since there are 48473 rows. (takes around 3 hours, could be a good idea to save those data into a json file).\n",
        "\n",
        "*(Here's a copy of the code after computing it)*\n",
        "\n",
        "----\n",
        "```‘{python}\n",
        "from tqdm import tqdm\n",
        "\n",
        "for index, row in tqdm(data_df.iterrows(), total=len(data_df.index)):\n",
        "  data_df['embedding'][row['paper_id']] = model.encode(row['title'] + '[SEP]' + row['title'])\n",
        "```\n",
        "100%|██████████| 48473/48473 [3:05:07<00:00,  4.36it/s]\n",
        "\n",
        "---\n",
        "\n",
        "After everything was embedded, let's save those data in the cloud to not do that ever again. Will probably upload the mbeddings on my github so it's easier to import them. For now they are on my google drive which can be synchronised with the collab."
      ],
      "metadata": {
        "id": "QtDLXNn-h151"
      }
    },
    {
      "cell_type": "code",
      "source": [
        "embeddings_df = pd.read_json('/content/drive/MyDrive/DNLP-project/embeddings_metadata_mag_mesh.json', orient='index')"
      ],
      "metadata": {
        "id": "51nzRRwQjgNV"
      },
      "execution_count": null,
      "outputs": []
    },
    {
      "cell_type": "code",
      "source": [
        "embeddings_df"
      ],
      "metadata": {
        "colab": {
          "base_uri": "https://localhost:8080/",
          "height": 957
        },
        "id": "SI51k9YhiGnU",
        "outputId": "898cc092-5f3c-4405-caa9-00a3c8497d8b"
      },
      "execution_count": null,
      "outputs": [
        {
          "output_type": "execute_result",
          "data": {
            "text/plain": [
              "                                                                          paper_id  \\\n",
              "00014a8515491f0b3fe2a1ff6e0f5305e584dcd9  00014a8515491f0b3fe2a1ff6e0f5305e584dcd9   \n",
              "00021eeee2bf4e06fec98941206f97083c38b54d  00021eeee2bf4e06fec98941206f97083c38b54d   \n",
              "00027baa2a90e1a3d50c1da14882d518de6847f5  00027baa2a90e1a3d50c1da14882d518de6847f5   \n",
              "00034a5a5bd11b51ec046d31de273946d91fb766  00034a5a5bd11b51ec046d31de273946d91fb766   \n",
              "000c8d85037886c86de15290e5a8e9bae7b66103  000c8d85037886c86de15290e5a8e9bae7b66103   \n",
              "...                                                                            ...   \n",
              "ffe534bb74efd04b0038510be2a4ed5072430c8b  ffe534bb74efd04b0038510be2a4ed5072430c8b   \n",
              "ffeaac2b94fc298676e9784ed3bd7a6a7c23b9d1  ffeaac2b94fc298676e9784ed3bd7a6a7c23b9d1   \n",
              "ffecb03cbf4dccf9fcdc8b26f40f53d5bc44be66  ffecb03cbf4dccf9fcdc8b26f40f53d5bc44be66   \n",
              "fff238844076ad5643dc2ff53153581bd89441ea  fff238844076ad5643dc2ff53153581bd89441ea   \n",
              "fff766303c67b984a64e33566853375d35951424  fff766303c67b984a64e33566853375d35951424   \n",
              "\n",
              "                                                                                      title  \\\n",
              "00014a8515491f0b3fe2a1ff6e0f5305e584dcd9              ON THE CLASSIFICATION OF THE SCIENCES   \n",
              "00021eeee2bf4e06fec98941206f97083c38b54d  Opportunities and challenges for E-Commerce in...   \n",
              "00027baa2a90e1a3d50c1da14882d518de6847f5  Interactions between model membranes and ligni...   \n",
              "00034a5a5bd11b51ec046d31de273946d91fb766        Perpetual Peace: What Kant Should Have Said   \n",
              "000c8d85037886c86de15290e5a8e9bae7b66103    Reimagining Greek Tragedy on the American Stage   \n",
              "...                                                                                     ...   \n",
              "ffe534bb74efd04b0038510be2a4ed5072430c8b  Comparison of olmesartan combined with a calci...   \n",
              "ffeaac2b94fc298676e9784ed3bd7a6a7c23b9d1  Role of angiotensin II in plasma PAI-1 changes...   \n",
              "ffecb03cbf4dccf9fcdc8b26f40f53d5bc44be66  Factors that influence cancer patients' anxiet...   \n",
              "fff238844076ad5643dc2ff53153581bd89441ea  Is adjuvant chemotherapy indicated in stage I ...   \n",
              "fff766303c67b984a64e33566853375d35951424  Relationship between PCO2 and unfavorable outc...   \n",
              "\n",
              "                                                                                   abstract  \\\n",
              "00014a8515491f0b3fe2a1ff6e0f5305e584dcd9                                               None   \n",
              "00021eeee2bf4e06fec98941206f97083c38b54d  Numerous studies of E-Commerce have emphasized...   \n",
              "00027baa2a90e1a3d50c1da14882d518de6847f5  In order to elucidate the modes of interaction...   \n",
              "00034a5a5bd11b51ec046d31de273946d91fb766                                               None   \n",
              "000c8d85037886c86de15290e5a8e9bae7b66103  List of Illustrations Preface Introduction CHA...   \n",
              "...                                                                                     ...   \n",
              "ffe534bb74efd04b0038510be2a4ed5072430c8b  The cardiovascular effects of combined therapy...   \n",
              "ffeaac2b94fc298676e9784ed3bd7a6a7c23b9d1  To evaluate the relationship between plasma pl...   \n",
              "ffecb03cbf4dccf9fcdc8b26f40f53d5bc44be66  BACKGROUND\\nNo study has yet assessed the impa...   \n",
              "fff238844076ad5643dc2ff53153581bd89441ea  OBJECTIVE\\nConservative surgery followed by pl...   \n",
              "fff766303c67b984a64e33566853375d35951424  Background:Abnormal PCO2 is common in infants ...   \n",
              "\n",
              "                                                                                  embedding  \n",
              "00014a8515491f0b3fe2a1ff6e0f5305e584dcd9  [-0.7367060184, 0.8094774485, -0.0390381552, -...  \n",
              "00021eeee2bf4e06fec98941206f97083c38b54d  [-1.1841081381, 1.1308963299, 0.6682422161, 0....  \n",
              "00027baa2a90e1a3d50c1da14882d518de6847f5  [0.2389703691, 0.7384790778, 1.0119105577, -0....  \n",
              "00034a5a5bd11b51ec046d31de273946d91fb766  [-0.7743704319, 0.5894224048, -0.3162544966, 0...  \n",
              "000c8d85037886c86de15290e5a8e9bae7b66103  [0.0163563173, 0.50049299, -0.0730320513, 0.64...  \n",
              "...                                                                                     ...  \n",
              "ffe534bb74efd04b0038510be2a4ed5072430c8b  [-0.5972291231, 0.17011463640000002, 0.6428002...  \n",
              "ffeaac2b94fc298676e9784ed3bd7a6a7c23b9d1  [-0.3963649869, 0.5153160095, 0.4946651161, -0...  \n",
              "ffecb03cbf4dccf9fcdc8b26f40f53d5bc44be66  [-0.3526456356, 0.3627114594, -0.8083767891, 0...  \n",
              "fff238844076ad5643dc2ff53153581bd89441ea  [0.5204859972, -0.07988817990000001, -0.430343...  \n",
              "fff766303c67b984a64e33566853375d35951424  [-0.40102842450000004, 0.9684960842, 0.3345110...  \n",
              "\n",
              "[48473 rows x 4 columns]"
            ],
            "text/html": [
              "\n",
              "  <div id=\"df-608025db-50e5-488a-8b7b-88c1ed93d7a5\">\n",
              "    <div class=\"colab-df-container\">\n",
              "      <div>\n",
              "<style scoped>\n",
              "    .dataframe tbody tr th:only-of-type {\n",
              "        vertical-align: middle;\n",
              "    }\n",
              "\n",
              "    .dataframe tbody tr th {\n",
              "        vertical-align: top;\n",
              "    }\n",
              "\n",
              "    .dataframe thead th {\n",
              "        text-align: right;\n",
              "    }\n",
              "</style>\n",
              "<table border=\"1\" class=\"dataframe\">\n",
              "  <thead>\n",
              "    <tr style=\"text-align: right;\">\n",
              "      <th></th>\n",
              "      <th>paper_id</th>\n",
              "      <th>title</th>\n",
              "      <th>abstract</th>\n",
              "      <th>embedding</th>\n",
              "    </tr>\n",
              "  </thead>\n",
              "  <tbody>\n",
              "    <tr>\n",
              "      <th>00014a8515491f0b3fe2a1ff6e0f5305e584dcd9</th>\n",
              "      <td>00014a8515491f0b3fe2a1ff6e0f5305e584dcd9</td>\n",
              "      <td>ON THE CLASSIFICATION OF THE SCIENCES</td>\n",
              "      <td>None</td>\n",
              "      <td>[-0.7367060184, 0.8094774485, -0.0390381552, -...</td>\n",
              "    </tr>\n",
              "    <tr>\n",
              "      <th>00021eeee2bf4e06fec98941206f97083c38b54d</th>\n",
              "      <td>00021eeee2bf4e06fec98941206f97083c38b54d</td>\n",
              "      <td>Opportunities and challenges for E-Commerce in...</td>\n",
              "      <td>Numerous studies of E-Commerce have emphasized...</td>\n",
              "      <td>[-1.1841081381, 1.1308963299, 0.6682422161, 0....</td>\n",
              "    </tr>\n",
              "    <tr>\n",
              "      <th>00027baa2a90e1a3d50c1da14882d518de6847f5</th>\n",
              "      <td>00027baa2a90e1a3d50c1da14882d518de6847f5</td>\n",
              "      <td>Interactions between model membranes and ligni...</td>\n",
              "      <td>In order to elucidate the modes of interaction...</td>\n",
              "      <td>[0.2389703691, 0.7384790778, 1.0119105577, -0....</td>\n",
              "    </tr>\n",
              "    <tr>\n",
              "      <th>00034a5a5bd11b51ec046d31de273946d91fb766</th>\n",
              "      <td>00034a5a5bd11b51ec046d31de273946d91fb766</td>\n",
              "      <td>Perpetual Peace: What Kant Should Have Said</td>\n",
              "      <td>None</td>\n",
              "      <td>[-0.7743704319, 0.5894224048, -0.3162544966, 0...</td>\n",
              "    </tr>\n",
              "    <tr>\n",
              "      <th>000c8d85037886c86de15290e5a8e9bae7b66103</th>\n",
              "      <td>000c8d85037886c86de15290e5a8e9bae7b66103</td>\n",
              "      <td>Reimagining Greek Tragedy on the American Stage</td>\n",
              "      <td>List of Illustrations Preface Introduction CHA...</td>\n",
              "      <td>[0.0163563173, 0.50049299, -0.0730320513, 0.64...</td>\n",
              "    </tr>\n",
              "    <tr>\n",
              "      <th>...</th>\n",
              "      <td>...</td>\n",
              "      <td>...</td>\n",
              "      <td>...</td>\n",
              "      <td>...</td>\n",
              "    </tr>\n",
              "    <tr>\n",
              "      <th>ffe534bb74efd04b0038510be2a4ed5072430c8b</th>\n",
              "      <td>ffe534bb74efd04b0038510be2a4ed5072430c8b</td>\n",
              "      <td>Comparison of olmesartan combined with a calci...</td>\n",
              "      <td>The cardiovascular effects of combined therapy...</td>\n",
              "      <td>[-0.5972291231, 0.17011463640000002, 0.6428002...</td>\n",
              "    </tr>\n",
              "    <tr>\n",
              "      <th>ffeaac2b94fc298676e9784ed3bd7a6a7c23b9d1</th>\n",
              "      <td>ffeaac2b94fc298676e9784ed3bd7a6a7c23b9d1</td>\n",
              "      <td>Role of angiotensin II in plasma PAI-1 changes...</td>\n",
              "      <td>To evaluate the relationship between plasma pl...</td>\n",
              "      <td>[-0.3963649869, 0.5153160095, 0.4946651161, -0...</td>\n",
              "    </tr>\n",
              "    <tr>\n",
              "      <th>ffecb03cbf4dccf9fcdc8b26f40f53d5bc44be66</th>\n",
              "      <td>ffecb03cbf4dccf9fcdc8b26f40f53d5bc44be66</td>\n",
              "      <td>Factors that influence cancer patients' anxiet...</td>\n",
              "      <td>BACKGROUND\\nNo study has yet assessed the impa...</td>\n",
              "      <td>[-0.3526456356, 0.3627114594, -0.8083767891, 0...</td>\n",
              "    </tr>\n",
              "    <tr>\n",
              "      <th>fff238844076ad5643dc2ff53153581bd89441ea</th>\n",
              "      <td>fff238844076ad5643dc2ff53153581bd89441ea</td>\n",
              "      <td>Is adjuvant chemotherapy indicated in stage I ...</td>\n",
              "      <td>OBJECTIVE\\nConservative surgery followed by pl...</td>\n",
              "      <td>[0.5204859972, -0.07988817990000001, -0.430343...</td>\n",
              "    </tr>\n",
              "    <tr>\n",
              "      <th>fff766303c67b984a64e33566853375d35951424</th>\n",
              "      <td>fff766303c67b984a64e33566853375d35951424</td>\n",
              "      <td>Relationship between PCO2 and unfavorable outc...</td>\n",
              "      <td>Background:Abnormal PCO2 is common in infants ...</td>\n",
              "      <td>[-0.40102842450000004, 0.9684960842, 0.3345110...</td>\n",
              "    </tr>\n",
              "  </tbody>\n",
              "</table>\n",
              "<p>48473 rows × 4 columns</p>\n",
              "</div>\n",
              "      <button class=\"colab-df-convert\" onclick=\"convertToInteractive('df-608025db-50e5-488a-8b7b-88c1ed93d7a5')\"\n",
              "              title=\"Convert this dataframe to an interactive table.\"\n",
              "              style=\"display:none;\">\n",
              "        \n",
              "  <svg xmlns=\"http://www.w3.org/2000/svg\" height=\"24px\"viewBox=\"0 0 24 24\"\n",
              "       width=\"24px\">\n",
              "    <path d=\"M0 0h24v24H0V0z\" fill=\"none\"/>\n",
              "    <path d=\"M18.56 5.44l.94 2.06.94-2.06 2.06-.94-2.06-.94-.94-2.06-.94 2.06-2.06.94zm-11 1L8.5 8.5l.94-2.06 2.06-.94-2.06-.94L8.5 2.5l-.94 2.06-2.06.94zm10 10l.94 2.06.94-2.06 2.06-.94-2.06-.94-.94-2.06-.94 2.06-2.06.94z\"/><path d=\"M17.41 7.96l-1.37-1.37c-.4-.4-.92-.59-1.43-.59-.52 0-1.04.2-1.43.59L10.3 9.45l-7.72 7.72c-.78.78-.78 2.05 0 2.83L4 21.41c.39.39.9.59 1.41.59.51 0 1.02-.2 1.41-.59l7.78-7.78 2.81-2.81c.8-.78.8-2.07 0-2.86zM5.41 20L4 18.59l7.72-7.72 1.47 1.35L5.41 20z\"/>\n",
              "  </svg>\n",
              "      </button>\n",
              "      \n",
              "  <style>\n",
              "    .colab-df-container {\n",
              "      display:flex;\n",
              "      flex-wrap:wrap;\n",
              "      gap: 12px;\n",
              "    }\n",
              "\n",
              "    .colab-df-convert {\n",
              "      background-color: #E8F0FE;\n",
              "      border: none;\n",
              "      border-radius: 50%;\n",
              "      cursor: pointer;\n",
              "      display: none;\n",
              "      fill: #1967D2;\n",
              "      height: 32px;\n",
              "      padding: 0 0 0 0;\n",
              "      width: 32px;\n",
              "    }\n",
              "\n",
              "    .colab-df-convert:hover {\n",
              "      background-color: #E2EBFA;\n",
              "      box-shadow: 0px 1px 2px rgba(60, 64, 67, 0.3), 0px 1px 3px 1px rgba(60, 64, 67, 0.15);\n",
              "      fill: #174EA6;\n",
              "    }\n",
              "\n",
              "    [theme=dark] .colab-df-convert {\n",
              "      background-color: #3B4455;\n",
              "      fill: #D2E3FC;\n",
              "    }\n",
              "\n",
              "    [theme=dark] .colab-df-convert:hover {\n",
              "      background-color: #434B5C;\n",
              "      box-shadow: 0px 1px 3px 1px rgba(0, 0, 0, 0.15);\n",
              "      filter: drop-shadow(0px 1px 2px rgba(0, 0, 0, 0.3));\n",
              "      fill: #FFFFFF;\n",
              "    }\n",
              "  </style>\n",
              "\n",
              "      <script>\n",
              "        const buttonEl =\n",
              "          document.querySelector('#df-608025db-50e5-488a-8b7b-88c1ed93d7a5 button.colab-df-convert');\n",
              "        buttonEl.style.display =\n",
              "          google.colab.kernel.accessAllowed ? 'block' : 'none';\n",
              "\n",
              "        async function convertToInteractive(key) {\n",
              "          const element = document.querySelector('#df-608025db-50e5-488a-8b7b-88c1ed93d7a5');\n",
              "          const dataTable =\n",
              "            await google.colab.kernel.invokeFunction('convertToInteractive',\n",
              "                                                     [key], {});\n",
              "          if (!dataTable) return;\n",
              "\n",
              "          const docLinkHtml = 'Like what you see? Visit the ' +\n",
              "            '<a target=\"_blank\" href=https://colab.research.google.com/notebooks/data_table.ipynb>data table notebook</a>'\n",
              "            + ' to learn more about interactive tables.';\n",
              "          element.innerHTML = '';\n",
              "          dataTable['output_type'] = 'display_data';\n",
              "          await google.colab.output.renderOutput(dataTable, element);\n",
              "          const docLink = document.createElement('div');\n",
              "          docLink.innerHTML = docLinkHtml;\n",
              "          element.appendChild(docLink);\n",
              "        }\n",
              "      </script>\n",
              "    </div>\n",
              "  </div>\n",
              "  "
            ]
          },
          "metadata": {},
          "execution_count": 7
        }
      ]
    },
    {
      "cell_type": "markdown",
      "source": [
        "Now, let's import the associated classes"
      ],
      "metadata": {
        "id": "eVXx_3Ml9ODk"
      }
    },
    {
      "cell_type": "code",
      "source": [
        "train_path, test_path = '/content/data/mag/train.csv', '/content/data/mag/test.csv'\n",
        "train_df, test_df = pd.read_csv(train_path), pd.read_csv(test_path)\n",
        "train_df.columns"
      ],
      "metadata": {
        "colab": {
          "base_uri": "https://localhost:8080/"
        },
        "id": "8SJLYWCuhaWk",
        "outputId": "96954278-1141-457c-85a4-19b03a29e775"
      },
      "execution_count": null,
      "outputs": [
        {
          "output_type": "execute_result",
          "data": {
            "text/plain": [
              "Index(['pid', 'class_label'], dtype='object')"
            ]
          },
          "metadata": {},
          "execution_count": 8
        }
      ]
    },
    {
      "cell_type": "code",
      "source": [
        "train_merged_df, test_merged_df = pd.merge(embeddings_df, train_df, how='inner', left_on='paper_id', right_on='pid'), pd.merge(embeddings_df, test_df, how='inner', left_on='paper_id', right_on='pid')\n",
        "train_merged_df, test_merged_df = train_merged_df[['paper_id', 'embedding', 'class_label']], test_merged_df[['paper_id', 'embedding', 'class_label']]"
      ],
      "metadata": {
        "id": "Vlal1c8r9W7A"
      },
      "execution_count": null,
      "outputs": []
    },
    {
      "cell_type": "code",
      "source": [
        "train_merged_df"
      ],
      "metadata": {
        "colab": {
          "base_uri": "https://localhost:8080/",
          "height": 424
        },
        "id": "fKpKcl8U-UgE",
        "outputId": "9622b46c-dacd-4e0f-e4ff-65efd8a6195b"
      },
      "execution_count": null,
      "outputs": [
        {
          "output_type": "execute_result",
          "data": {
            "text/plain": [
              "                                       paper_id  \\\n",
              "0      00021eeee2bf4e06fec98941206f97083c38b54d   \n",
              "1      00027baa2a90e1a3d50c1da14882d518de6847f5   \n",
              "2      001d134f355306faeb8993fe487a34e0ed0d278b   \n",
              "3      001fb24b565bf8a5faf5551f753a55f3eed6c81c   \n",
              "4      002087b2c4408d83bc095c835ce70e3974d830c7   \n",
              "...                                         ...   \n",
              "17496  ffeb51c4b44028bc1d5d71851f08d571c3177368   \n",
              "17497  ffef3035f600d2e8cbb91192128d9315b800f71a   \n",
              "17498  fff1c7f9478f1220c9f9ea341e13651cbfc2996b   \n",
              "17499  fff73361b36bda4423c75f7e9a99e3996947a3c1   \n",
              "17500  fffdfe2faa469ce40f44778a7d2056a88c65ac1d   \n",
              "\n",
              "                                               embedding  class_label  \n",
              "0      [-1.1841081381, 1.1308963299, 0.6682422161, 0....            2  \n",
              "1      [0.2389703691, 0.7384790778, 1.0119105577, -0....            3  \n",
              "2      [-1.0588871241, 0.0980567485, 0.05070229990000...           10  \n",
              "3      [-0.7206891179, 0.6086265445, -0.0693209022, -...           10  \n",
              "4      [0.0442002341, 0.0344819799, 0.408043295100000...            9  \n",
              "...                                                  ...          ...  \n",
              "17496  [-0.3375469446, 0.5189490914, -0.2140062898, -...           12  \n",
              "17497  [-0.33342462780000004, 0.8680065274000001, 0.2...           17  \n",
              "17498  [-1.2471318245, 0.6116715074, 0.36738637090000...           15  \n",
              "17499  [-1.0980789661, 0.3576785326, -0.2542884648, -...           16  \n",
              "17500  [-1.5524930954, 0.9185175896000001, 0.18831063...            3  \n",
              "\n",
              "[17501 rows x 3 columns]"
            ],
            "text/html": [
              "\n",
              "  <div id=\"df-b7583cbe-5029-4c1e-9045-d275bcb01c2f\">\n",
              "    <div class=\"colab-df-container\">\n",
              "      <div>\n",
              "<style scoped>\n",
              "    .dataframe tbody tr th:only-of-type {\n",
              "        vertical-align: middle;\n",
              "    }\n",
              "\n",
              "    .dataframe tbody tr th {\n",
              "        vertical-align: top;\n",
              "    }\n",
              "\n",
              "    .dataframe thead th {\n",
              "        text-align: right;\n",
              "    }\n",
              "</style>\n",
              "<table border=\"1\" class=\"dataframe\">\n",
              "  <thead>\n",
              "    <tr style=\"text-align: right;\">\n",
              "      <th></th>\n",
              "      <th>paper_id</th>\n",
              "      <th>embedding</th>\n",
              "      <th>class_label</th>\n",
              "    </tr>\n",
              "  </thead>\n",
              "  <tbody>\n",
              "    <tr>\n",
              "      <th>0</th>\n",
              "      <td>00021eeee2bf4e06fec98941206f97083c38b54d</td>\n",
              "      <td>[-1.1841081381, 1.1308963299, 0.6682422161, 0....</td>\n",
              "      <td>2</td>\n",
              "    </tr>\n",
              "    <tr>\n",
              "      <th>1</th>\n",
              "      <td>00027baa2a90e1a3d50c1da14882d518de6847f5</td>\n",
              "      <td>[0.2389703691, 0.7384790778, 1.0119105577, -0....</td>\n",
              "      <td>3</td>\n",
              "    </tr>\n",
              "    <tr>\n",
              "      <th>2</th>\n",
              "      <td>001d134f355306faeb8993fe487a34e0ed0d278b</td>\n",
              "      <td>[-1.0588871241, 0.0980567485, 0.05070229990000...</td>\n",
              "      <td>10</td>\n",
              "    </tr>\n",
              "    <tr>\n",
              "      <th>3</th>\n",
              "      <td>001fb24b565bf8a5faf5551f753a55f3eed6c81c</td>\n",
              "      <td>[-0.7206891179, 0.6086265445, -0.0693209022, -...</td>\n",
              "      <td>10</td>\n",
              "    </tr>\n",
              "    <tr>\n",
              "      <th>4</th>\n",
              "      <td>002087b2c4408d83bc095c835ce70e3974d830c7</td>\n",
              "      <td>[0.0442002341, 0.0344819799, 0.408043295100000...</td>\n",
              "      <td>9</td>\n",
              "    </tr>\n",
              "    <tr>\n",
              "      <th>...</th>\n",
              "      <td>...</td>\n",
              "      <td>...</td>\n",
              "      <td>...</td>\n",
              "    </tr>\n",
              "    <tr>\n",
              "      <th>17496</th>\n",
              "      <td>ffeb51c4b44028bc1d5d71851f08d571c3177368</td>\n",
              "      <td>[-0.3375469446, 0.5189490914, -0.2140062898, -...</td>\n",
              "      <td>12</td>\n",
              "    </tr>\n",
              "    <tr>\n",
              "      <th>17497</th>\n",
              "      <td>ffef3035f600d2e8cbb91192128d9315b800f71a</td>\n",
              "      <td>[-0.33342462780000004, 0.8680065274000001, 0.2...</td>\n",
              "      <td>17</td>\n",
              "    </tr>\n",
              "    <tr>\n",
              "      <th>17498</th>\n",
              "      <td>fff1c7f9478f1220c9f9ea341e13651cbfc2996b</td>\n",
              "      <td>[-1.2471318245, 0.6116715074, 0.36738637090000...</td>\n",
              "      <td>15</td>\n",
              "    </tr>\n",
              "    <tr>\n",
              "      <th>17499</th>\n",
              "      <td>fff73361b36bda4423c75f7e9a99e3996947a3c1</td>\n",
              "      <td>[-1.0980789661, 0.3576785326, -0.2542884648, -...</td>\n",
              "      <td>16</td>\n",
              "    </tr>\n",
              "    <tr>\n",
              "      <th>17500</th>\n",
              "      <td>fffdfe2faa469ce40f44778a7d2056a88c65ac1d</td>\n",
              "      <td>[-1.5524930954, 0.9185175896000001, 0.18831063...</td>\n",
              "      <td>3</td>\n",
              "    </tr>\n",
              "  </tbody>\n",
              "</table>\n",
              "<p>17501 rows × 3 columns</p>\n",
              "</div>\n",
              "      <button class=\"colab-df-convert\" onclick=\"convertToInteractive('df-b7583cbe-5029-4c1e-9045-d275bcb01c2f')\"\n",
              "              title=\"Convert this dataframe to an interactive table.\"\n",
              "              style=\"display:none;\">\n",
              "        \n",
              "  <svg xmlns=\"http://www.w3.org/2000/svg\" height=\"24px\"viewBox=\"0 0 24 24\"\n",
              "       width=\"24px\">\n",
              "    <path d=\"M0 0h24v24H0V0z\" fill=\"none\"/>\n",
              "    <path d=\"M18.56 5.44l.94 2.06.94-2.06 2.06-.94-2.06-.94-.94-2.06-.94 2.06-2.06.94zm-11 1L8.5 8.5l.94-2.06 2.06-.94-2.06-.94L8.5 2.5l-.94 2.06-2.06.94zm10 10l.94 2.06.94-2.06 2.06-.94-2.06-.94-.94-2.06-.94 2.06-2.06.94z\"/><path d=\"M17.41 7.96l-1.37-1.37c-.4-.4-.92-.59-1.43-.59-.52 0-1.04.2-1.43.59L10.3 9.45l-7.72 7.72c-.78.78-.78 2.05 0 2.83L4 21.41c.39.39.9.59 1.41.59.51 0 1.02-.2 1.41-.59l7.78-7.78 2.81-2.81c.8-.78.8-2.07 0-2.86zM5.41 20L4 18.59l7.72-7.72 1.47 1.35L5.41 20z\"/>\n",
              "  </svg>\n",
              "      </button>\n",
              "      \n",
              "  <style>\n",
              "    .colab-df-container {\n",
              "      display:flex;\n",
              "      flex-wrap:wrap;\n",
              "      gap: 12px;\n",
              "    }\n",
              "\n",
              "    .colab-df-convert {\n",
              "      background-color: #E8F0FE;\n",
              "      border: none;\n",
              "      border-radius: 50%;\n",
              "      cursor: pointer;\n",
              "      display: none;\n",
              "      fill: #1967D2;\n",
              "      height: 32px;\n",
              "      padding: 0 0 0 0;\n",
              "      width: 32px;\n",
              "    }\n",
              "\n",
              "    .colab-df-convert:hover {\n",
              "      background-color: #E2EBFA;\n",
              "      box-shadow: 0px 1px 2px rgba(60, 64, 67, 0.3), 0px 1px 3px 1px rgba(60, 64, 67, 0.15);\n",
              "      fill: #174EA6;\n",
              "    }\n",
              "\n",
              "    [theme=dark] .colab-df-convert {\n",
              "      background-color: #3B4455;\n",
              "      fill: #D2E3FC;\n",
              "    }\n",
              "\n",
              "    [theme=dark] .colab-df-convert:hover {\n",
              "      background-color: #434B5C;\n",
              "      box-shadow: 0px 1px 3px 1px rgba(0, 0, 0, 0.15);\n",
              "      filter: drop-shadow(0px 1px 2px rgba(0, 0, 0, 0.3));\n",
              "      fill: #FFFFFF;\n",
              "    }\n",
              "  </style>\n",
              "\n",
              "      <script>\n",
              "        const buttonEl =\n",
              "          document.querySelector('#df-b7583cbe-5029-4c1e-9045-d275bcb01c2f button.colab-df-convert');\n",
              "        buttonEl.style.display =\n",
              "          google.colab.kernel.accessAllowed ? 'block' : 'none';\n",
              "\n",
              "        async function convertToInteractive(key) {\n",
              "          const element = document.querySelector('#df-b7583cbe-5029-4c1e-9045-d275bcb01c2f');\n",
              "          const dataTable =\n",
              "            await google.colab.kernel.invokeFunction('convertToInteractive',\n",
              "                                                     [key], {});\n",
              "          if (!dataTable) return;\n",
              "\n",
              "          const docLinkHtml = 'Like what you see? Visit the ' +\n",
              "            '<a target=\"_blank\" href=https://colab.research.google.com/notebooks/data_table.ipynb>data table notebook</a>'\n",
              "            + ' to learn more about interactive tables.';\n",
              "          element.innerHTML = '';\n",
              "          dataTable['output_type'] = 'display_data';\n",
              "          await google.colab.output.renderOutput(dataTable, element);\n",
              "          const docLink = document.createElement('div');\n",
              "          docLink.innerHTML = docLinkHtml;\n",
              "          element.appendChild(docLink);\n",
              "        }\n",
              "      </script>\n",
              "    </div>\n",
              "  </div>\n",
              "  "
            ]
          },
          "metadata": {},
          "execution_count": 10
        }
      ]
    },
    {
      "cell_type": "markdown",
      "source": [
        "Time to train a classifier! \n",
        "\n",
        "First, let's prepare the data into an adequat object."
      ],
      "metadata": {
        "id": "VKwxxiLS_Org"
      }
    },
    {
      "cell_type": "code",
      "source": [
        "import numpy as np\n",
        "\n",
        "x_train, y_train = [], []\n",
        "x_test, y_test = [], []\n",
        "\n",
        "i = 0\n",
        "for _, embedding, class_label in train_merged_df.values:\n",
        "  x_train.append(embedding)\n",
        "  y_train.append(class_label)\n",
        "\n",
        "x_train = np.array(x_train)\n",
        "y_train = np.array(y_train)\n",
        "\n",
        "for _, embedding, class_label in test_merged_df.values:\n",
        "  x_test.append(embedding)\n",
        "  y_test.append(class_label)\n",
        "\n",
        "x_test = np.array(x_test)\n",
        "y_test = np.array(y_test)"
      ],
      "metadata": {
        "id": "ckD4KpSk_MUY"
      },
      "execution_count": null,
      "outputs": []
    },
    {
      "cell_type": "code",
      "source": [
        "from sklearn import svm\n",
        "\n",
        "classifier1 = svm.LinearSVC(penalty='l2', loss='squared_hinge', dual=True, C=1.0, multi_class='ovr', random_state=42)"
      ],
      "metadata": {
        "id": "KzqJJWU6_ivK"
      },
      "execution_count": null,
      "outputs": []
    },
    {
      "cell_type": "code",
      "source": [
        "classifier1.fit(x_train, y_train)"
      ],
      "metadata": {
        "colab": {
          "base_uri": "https://localhost:8080/"
        },
        "id": "0AT0_bNS_yuU",
        "outputId": "a0114d64-438e-449d-ed62-7527c4d58915"
      },
      "execution_count": null,
      "outputs": [
        {
          "output_type": "stream",
          "name": "stderr",
          "text": [
            "/usr/local/lib/python3.8/dist-packages/sklearn/svm/_base.py:1206: ConvergenceWarning: Liblinear failed to converge, increase the number of iterations.\n",
            "  warnings.warn(\n"
          ]
        },
        {
          "output_type": "execute_result",
          "data": {
            "text/plain": [
              "LinearSVC(random_state=42)"
            ]
          },
          "metadata": {},
          "execution_count": 13
        }
      ]
    },
    {
      "cell_type": "code",
      "source": [
        "from sklearn.metrics import f1_score\n",
        "\n",
        "y_pred = classifier1.predict(x_test)\n",
        "classifier1.score(x_test, y_test), f1_score(y_test, y_pred, average='macro')"
      ],
      "metadata": {
        "colab": {
          "base_uri": "https://localhost:8080/"
        },
        "id": "tytmYwC4_0Qh",
        "outputId": "092698bc-7813-453e-c234-21353f562ca0"
      },
      "execution_count": null,
      "outputs": [
        {
          "output_type": "execute_result",
          "data": {
            "text/plain": [
              "(0.7206078379098907, 0.7105471368841444)"
            ]
          },
          "metadata": {},
          "execution_count": 14
        }
      ]
    },
    {
      "cell_type": "markdown",
      "source": [
        "observations on f1 score"
      ],
      "metadata": {
        "id": "dxWAH8Uu_7ih"
      }
    },
    {
      "cell_type": "code",
      "source": [
        "def classify_article(classifier, title, abstract, cls=False, probas=False):\n",
        "  classes = {0: \"Art\", 1: \"Biology\", 2: \"Business\", 3: \"Chemistry\", 4: \"Computer science\", 5: \"Economics\", 6: \"Engineering\", 7: \"Environmental science\",\\\n",
        "             8: \"Geography\", 9: \"Geology\", 10: \"History\", 11: \"Materials science\", 12: \"Mathematics\", 13: \"Medicine\", 14: \"Philosophy\", 15: \"Physics\",\\\n",
        "             16: \"Political science\", 17: \"Psychology\", 18: \"Sociology\"}\n",
        "\n",
        "  embed = model.encode([title + '[SEP]' + abstract])\n",
        "\n",
        "  if cls:\n",
        "    return np.array(list(zip(classifier.decision_function(embed)[0], classes.values())), dtype=object)\n",
        "  if probas:\n",
        "    return np.array(list(zip(classifier.predict_proba(embed)[0], classes.values())), dtype=object)\n",
        "  return classes[classifier.decision_function(embed)]"
      ],
      "metadata": {
        "id": "cLC2pNb6_44k"
      },
      "execution_count": null,
      "outputs": []
    },
    {
      "cell_type": "markdown",
      "source": [
        "Title: SPECTER: Document-level Representation Learning using Citation-informed Transformers\n",
        "\n",
        "Abstract: Representation learning is a critical ingredient for natural language processing systems. Recent Transformer language models like BERT learn powerful textual representations, but these models are targeted towards token- and sentence-level training objectives and do not leverage information on inter-document relatedness, which limits their document-level representation power. For applications on scientific documents, such as classification and recommendation, the embeddings power strong performance on end tasks. We propose SPECTER, a new method to generate document-level embedding of scientific documents based on pretraining a Transformer language model on a powerful signal of document-level relatedness: the citation graph. Unlike existing pretrained language models, SPECTER can be easily applied to downstream applications without task-specific fine-tuning. Additionally, to encourage further research on document-level models, we introduce SCIDOCS, a new evaluation benchmark consisting of seven document-level tasks ranging from citation prediction, to document classification and recommendation. We show that SPECTER outperforms a variety of competitive baselines on the benchmark.\n",
        "\n",
        "My Guess: Computer science (obviously)\n"
      ],
      "metadata": {
        "id": "0zLYiXExADaH"
      }
    },
    {
      "cell_type": "code",
      "source": [
        "res = classify_article(classifier1, \"SPECTER: Document-level Representation Learning using Citation-informed Transformers\", \"Representation learning is a critical ingredient for natural language processing systems. Recent Transformer language models like BERT learn powerful textual representations, but these models are targeted towards token- and sentence-level training objectives and do not leverage information on inter-document relatedness, which limits their document-level representation power. For applications on scientific documents, such as classification and recommendation, the embeddings power strong performance on end tasks. We propose SPECTER, a new method to generate document-level embedding of scientific documents based on pretraining a Transformer language model on a powerful signal of document-level relatedness: the citation graph. Unlike existing pretrained language models, SPECTER can be easily applied to downstream applications without task-specific fine-tuning. Additionally, to encourage further research on document-level models, we introduce SCIDOCS, a new evaluation benchmark consisting of seven document-level tasks ranging from citation prediction, to document classification and recommendation. We show that SPECTER outperforms a variety of competitive baselines on the benchmark.\", cls=True)\n",
        "res[np.argsort(-res[:, 0])]"
      ],
      "metadata": {
        "colab": {
          "base_uri": "https://localhost:8080/"
        },
        "id": "OqkA8_uNAD3s",
        "outputId": "b670b393-2e55-423b-8427-448890119b0e"
      },
      "execution_count": null,
      "outputs": [
        {
          "output_type": "execute_result",
          "data": {
            "text/plain": [
              "array([[3.2369296722674905, 'Computer science'],\n",
              "       [-1.1857062291402207, 'Geography'],\n",
              "       [-1.716168860218461, 'Political science'],\n",
              "       [-2.1038272318817426, 'Economics'],\n",
              "       [-2.2295005016877956, 'Art'],\n",
              "       [-2.291139931264881, 'Sociology'],\n",
              "       [-2.4857453916888557, 'Mathematics'],\n",
              "       [-2.565927137039865, 'History'],\n",
              "       [-3.7247929432156073, 'Environmental science'],\n",
              "       [-3.7729087297188744, 'Psychology'],\n",
              "       [-4.368896558508119, 'Chemistry'],\n",
              "       [-4.412378605587704, 'Philosophy'],\n",
              "       [-4.70736910432564, 'Engineering'],\n",
              "       [-4.943433695584021, 'Business'],\n",
              "       [-5.4857111370386535, 'Geology'],\n",
              "       [-5.640873947151579, 'Materials science'],\n",
              "       [-6.079235584645333, 'Physics'],\n",
              "       [-6.795215135272074, 'Biology'],\n",
              "       [-7.547455029785584, 'Medicine']], dtype=object)"
            ]
          },
          "metadata": {},
          "execution_count": 16
        }
      ]
    },
    {
      "cell_type": "markdown",
      "source": [
        "Title: Satellite Content and Halo Mass of Galaxy Clusters: Comparison between Red-Sequence and Halo-based Optical Cluster Finders\n",
        "\n",
        "Abstract: Cluster cosmology depends critically on how the optical clusters are selected from imaging surveys. We compare the conditional luminosity function (CLF) and weak lensing halo masses between two different cluster samples at fixed richness, detected within the same volume (0.1<z<0.34) using the red-sequence and halo-based methods. After calibrating our CLF deprojection method against mock galaxy samples, we measure the 3D CLFs by cross-correlating clusters with SDSS photometric galaxies. As expected, the CLFs of the red-sequence and halo-based finders exhibit redder and bluer populations, respectively. We also find significant shape discrepancies between the two CLFs at the faint end, where the red-sequence clusters show a strong deficit of faint galaxies but a bump at Mr∼−20.5, while the halo-based clusters host an increasing number of blue satellites. By comparing the subsamples of clusters that have a match between the two catalogues to those without matches, we discover that the CLF shape depends sensitively on the cluster centroiding. However, the average weak lensing halo mass between the matched and non-matched clusters are roughly consistent with each other in either cluster sample. Since the colour preferences of the two cluster finders are almost orthogonal, such a consistency indicates that the scatter in the mass-richness relation of either cluster sample is close to random. Therefore, while the choice of how optical clusters are identified impacts the satellite content, our result suggests that it should not introduce strong systematics biases in cluster cosmology.\n",
        "\n",
        "Guess: In (astro) physics category on arxiv.org"
      ],
      "metadata": {
        "id": "gpnqUGqbBznP"
      }
    },
    {
      "cell_type": "code",
      "source": [
        "res = classify_article(classifier1, \"Satellite Content and Halo Mass of Galaxy Clusters: Comparison between Red-Sequence and Halo-based Optical Cluster Finders\", \"Cluster cosmology depends critically on how the optical clusters are selected from imaging surveys. We compare the conditional luminosity function (CLF) and weak lensing halo masses between two different cluster samples at fixed richness, detected within the same volume (0.1<z<0.34) using the red-sequence and halo-based methods. After calibrating our CLF deprojection method against mock galaxy samples, we measure the 3D CLFs by cross-correlating clusters with SDSS photometric galaxies. As expected, the CLFs of the red-sequence and halo-based finders exhibit redder and bluer populations, respectively. We also find significant shape discrepancies between the two CLFs at the faint end, where the red-sequence clusters show a strong deficit of faint galaxies but a bump at Mr∼−20.5, while the halo-based clusters host an increasing number of blue satellites. By comparing the subsamples of clusters that have a match between the two catalogues to those without matches, we discover that the CLF shape depends sensitively on the cluster centroiding. However, the average weak lensing halo mass between the matched and non-matched clusters are roughly consistent with each other in either cluster sample. Since the colour preferences of the two cluster finders are almost orthogonal, such a consistency indicates that the scatter in the mass-richness relation of either cluster sample is close to random. Therefore, while the choice of how optical clusters are identified impacts the satellite content, our result suggests that it should not introduce strong systematics biases in cluster cosmology.\", cls=True)\n",
        "res[np.argsort(-res[:, 0])]"
      ],
      "metadata": {
        "colab": {
          "base_uri": "https://localhost:8080/"
        },
        "id": "7oRTN0HNAIX9",
        "outputId": "f37f62a5-042e-417c-95b3-75c8bc316af3"
      },
      "execution_count": null,
      "outputs": [
        {
          "output_type": "execute_result",
          "data": {
            "text/plain": [
              "array([[-0.7727859468382251, 'Computer science'],\n",
              "       [-1.1091047287947644, 'Chemistry'],\n",
              "       [-1.7760194008620345, 'Sociology'],\n",
              "       [-1.8185303820598646, 'Psychology'],\n",
              "       [-2.2373288384007033, 'Geography'],\n",
              "       [-3.2813099254393086, 'Political science'],\n",
              "       [-4.309172941167755, 'Business'],\n",
              "       [-4.469313478096465, 'Economics'],\n",
              "       [-5.084784306353317, 'History'],\n",
              "       [-5.166778983709949, 'Physics'],\n",
              "       [-5.461507029251253, 'Geology'],\n",
              "       [-5.497355607619488, 'Philosophy'],\n",
              "       [-6.132283828410673, 'Engineering'],\n",
              "       [-6.215895815659463, 'Art'],\n",
              "       [-6.2404871733729745, 'Mathematics'],\n",
              "       [-6.379595281416484, 'Materials science'],\n",
              "       [-6.896681616481737, 'Medicine'],\n",
              "       [-8.57880849496606, 'Environmental science'],\n",
              "       [-8.768306448264143, 'Biology']], dtype=object)"
            ]
          },
          "metadata": {},
          "execution_count": 17
        }
      ]
    },
    {
      "cell_type": "markdown",
      "source": [
        "title: Exploring The Concept Of Cubism Art Essay\n",
        "\n",
        "abstract: Cubism was one of the most influential art movements of the 20th century. It took place between 1907 and about 1914. The innovators of the Cubist movement were Pablo Picasso (Spanish, 1881 1973) and Georges Braque (French, 1882 1963). Cubism was one of the most significant changes in ideas in the history of art. It allowed for the development of many of the abstract modern art movements in areas such as Futurism and Constructivism."
      ],
      "metadata": {
        "id": "G51_d6moCPTO"
      }
    },
    {
      "cell_type": "code",
      "source": [
        "res = classify_article(classifier1, \"Exploring The Concept Of Cubism Art Essay\", \"Cubism was one of the most influential art movements of the 20th century. It took place between 1907 and about 1914. The innovators of the Cubist movement were Pablo Picasso (Spanish, 1881 1973) and Georges Braque (French, 1882 1963). Cubism was one of the most significant changes in ideas in the history of art. It allowed for the development of many of the abstract modern art movements in areas such as Futurism and Constructivism.\", cls=True)\n",
        "res[np.argsort(-res[:, 0])]"
      ],
      "metadata": {
        "colab": {
          "base_uri": "https://localhost:8080/"
        },
        "id": "xQF1wcE-B15t",
        "outputId": "2649977f-13eb-4df9-e5f7-fe1c03e59064"
      },
      "execution_count": null,
      "outputs": [
        {
          "output_type": "execute_result",
          "data": {
            "text/plain": [
              "array([[0.6367172470143455, 'Art'],\n",
              "       [-0.02327048836533857, 'Sociology'],\n",
              "       [-0.23059300416444772, 'Mathematics'],\n",
              "       [-0.32591475917339363, 'Economics'],\n",
              "       [-0.8426298229210223, 'History'],\n",
              "       [-1.7972712431993418, 'Political science'],\n",
              "       [-2.0760977984100877, 'Philosophy'],\n",
              "       [-2.2895093194718465, 'Computer science'],\n",
              "       [-2.4575364442189374, 'Geography'],\n",
              "       [-2.5867551257263033, 'Psychology'],\n",
              "       [-3.1378339909753725, 'Physics'],\n",
              "       [-4.032798679854295, 'Biology'],\n",
              "       [-4.411666233356051, 'Engineering'],\n",
              "       [-5.287606310997519, 'Geology'],\n",
              "       [-5.557289380822116, 'Materials science'],\n",
              "       [-5.78371795439588, 'Medicine'],\n",
              "       [-6.7180000353912765, 'Business'],\n",
              "       [-8.08379126360974, 'Chemistry'],\n",
              "       [-8.93821187993181, 'Environmental science']], dtype=object)"
            ]
          },
          "metadata": {},
          "execution_count": 18
        }
      ]
    },
    {
      "cell_type": "markdown",
      "source": [
        "Seems to work, I was just stupid and stubborn for 1 month T$\\cap$T.\n",
        "\n",
        "----\n",
        "Let's try another type of SVM."
      ],
      "metadata": {
        "id": "Q59DLJekDsz5"
      }
    },
    {
      "cell_type": "code",
      "source": [
        "classifier2 = svm.SVC(decision_function_shape='ovo', gamma='auto', probability=True)"
      ],
      "metadata": {
        "id": "e3OheG3FEI7S"
      },
      "execution_count": null,
      "outputs": []
    },
    {
      "cell_type": "code",
      "source": [
        "classifier2.fit(x_train, y_train)"
      ],
      "metadata": {
        "colab": {
          "base_uri": "https://localhost:8080/"
        },
        "id": "MU2y-M5EEAdJ",
        "outputId": "f1fb7b76-b8bf-4f42-c410-d6c3e907c2c9"
      },
      "execution_count": null,
      "outputs": [
        {
          "output_type": "execute_result",
          "data": {
            "text/plain": [
              "SVC(decision_function_shape='ovo', gamma='auto', probability=True)"
            ]
          },
          "metadata": {},
          "execution_count": 20
        }
      ]
    },
    {
      "cell_type": "code",
      "source": [
        "classifier2.decision_function_shape = 'ovr'"
      ],
      "metadata": {
        "id": "LTy_pDPzER8j"
      },
      "execution_count": null,
      "outputs": []
    },
    {
      "cell_type": "code",
      "source": [
        "y_pred = classifier2.predict(x_test)"
      ],
      "metadata": {
        "id": "QWSzDlGHEWZZ"
      },
      "execution_count": null,
      "outputs": []
    },
    {
      "cell_type": "code",
      "source": [
        "y_pred = classifier2.predict(x_test)\n",
        "f1_score(y_test, y_pred, average='macro'), classifier1.score(x_test, y_test)"
      ],
      "metadata": {
        "colab": {
          "base_uri": "https://localhost:8080/"
        },
        "id": "xbuZhap_Ee4h",
        "outputId": "7f05662c-e399-457c-9d5e-fb469033e7eb"
      },
      "execution_count": null,
      "outputs": [
        {
          "output_type": "execute_result",
          "data": {
            "text/plain": [
              "(0.7411100630272639, 0.7206078379098907)"
            ]
          },
          "metadata": {},
          "execution_count": 23
        }
      ]
    },
    {
      "cell_type": "markdown",
      "source": [
        "improvment in f1_score (and accuracy). That's cool. Let's put it to the test."
      ],
      "metadata": {
        "id": "OXHdso2CHw7B"
      }
    },
    {
      "cell_type": "code",
      "source": [
        "res = classify_article(classifier2, \"SPECTER: Document-level Representation Learning using Citation-informed Transformers\", \"Representation learning is a critical ingredient for natural language processing systems. Recent Transformer language models like BERT learn powerful textual representations, but these models are targeted towards token- and sentence-level training objectives and do not leverage information on inter-document relatedness, which limits their document-level representation power. For applications on scientific documents, such as classification and recommendation, the embeddings power strong performance on end tasks. We propose SPECTER, a new method to generate document-level embedding of scientific documents based on pretraining a Transformer language model on a powerful signal of document-level relatedness: the citation graph. Unlike existing pretrained language models, SPECTER can be easily applied to downstream applications without task-specific fine-tuning. Additionally, to encourage further research on document-level models, we introduce SCIDOCS, a new evaluation benchmark consisting of seven document-level tasks ranging from citation prediction, to document classification and recommendation. We show that SPECTER outperforms a variety of competitive baselines on the benchmark.\", probas=True)\n",
        "res[np.argsort(-res[:, 0])]"
      ],
      "metadata": {
        "colab": {
          "base_uri": "https://localhost:8080/"
        },
        "id": "eDum9SUTGACk",
        "outputId": "2559a5b2-3410-4628-d49b-8d8979d58819"
      },
      "execution_count": null,
      "outputs": [
        {
          "output_type": "execute_result",
          "data": {
            "text/plain": [
              "array([[0.9414180906486594, 'Computer science'],\n",
              "       [0.013398300384947557, 'Engineering'],\n",
              "       [0.008113647627665506, 'Mathematics'],\n",
              "       [0.004707301479023342, 'Political science'],\n",
              "       [0.004464943203951814, 'Art'],\n",
              "       [0.003682868813241793, 'Business'],\n",
              "       [0.0030409946300757095, 'Economics'],\n",
              "       [0.0026173170751954194, 'History'],\n",
              "       [0.0025817533913157185, 'Materials science'],\n",
              "       [0.0024234815769820215, 'Geology'],\n",
              "       [0.0023968089285539337, 'Geography'],\n",
              "       [0.002283664801887463, 'Psychology'],\n",
              "       [0.002093192702209119, 'Sociology'],\n",
              "       [0.0019688918903567124, 'Environmental science'],\n",
              "       [0.0012247823308444102, 'Biology'],\n",
              "       [0.0011362852186324963, 'Chemistry'],\n",
              "       [0.0009833328113286394, 'Philosophy'],\n",
              "       [0.0007580982110527078, 'Medicine'],\n",
              "       [0.0007062442740759331, 'Physics']], dtype=object)"
            ]
          },
          "metadata": {},
          "execution_count": 24
        }
      ]
    },
    {
      "cell_type": "code",
      "source": [
        "res = classify_article(classifier2, \"Satellite Content and Halo Mass of Galaxy Clusters: Comparison between Red-Sequence and Halo-based Optical Cluster Finders\", \"Cluster cosmology depends critically on how the optical clusters are selected from imaging surveys. We compare the conditional luminosity function (CLF) and weak lensing halo masses between two different cluster samples at fixed richness, detected within the same volume (0.1<z<0.34) using the red-sequence and halo-based methods. After calibrating our CLF deprojection method against mock galaxy samples, we measure the 3D CLFs by cross-correlating clusters with SDSS photometric galaxies. As expected, the CLFs of the red-sequence and halo-based finders exhibit redder and bluer populations, respectively. We also find significant shape discrepancies between the two CLFs at the faint end, where the red-sequence clusters show a strong deficit of faint galaxies but a bump at Mr∼−20.5, while the halo-based clusters host an increasing number of blue satellites. By comparing the subsamples of clusters that have a match between the two catalogues to those without matches, we discover that the CLF shape depends sensitively on the cluster centroiding. However, the average weak lensing halo mass between the matched and non-matched clusters are roughly consistent with each other in either cluster sample. Since the colour preferences of the two cluster finders are almost orthogonal, such a consistency indicates that the scatter in the mass-richness relation of either cluster sample is close to random. Therefore, while the choice of how optical clusters are identified impacts the satellite content, our result suggests that it should not introduce strong systematics biases in cluster cosmology.\", probas=True)\n",
        "res[np.argsort(-res[:, 0])]"
      ],
      "metadata": {
        "colab": {
          "base_uri": "https://localhost:8080/"
        },
        "id": "Uz1E1_E0H8OB",
        "outputId": "44aeedca-46b8-49d2-b850-365d01c91da4"
      },
      "execution_count": null,
      "outputs": [
        {
          "output_type": "execute_result",
          "data": {
            "text/plain": [
              "array([[0.8054168613860793, 'Physics'],\n",
              "       [0.05638272157718863, 'Geology'],\n",
              "       [0.04858051337894907, 'Chemistry'],\n",
              "       [0.018454565022609566, 'Materials science'],\n",
              "       [0.014645814274950479, 'Computer science'],\n",
              "       [0.011152072111711679, 'Biology'],\n",
              "       [0.008288149539953705, 'Geography'],\n",
              "       [0.006292100411289724, 'Business'],\n",
              "       [0.005087706232878692, 'Mathematics'],\n",
              "       [0.00407907398975628, 'Environmental science'],\n",
              "       [0.004058251054174858, 'Psychology'],\n",
              "       [0.003363495834398129, 'Economics'],\n",
              "       [0.0026722461861587435, 'Political science'],\n",
              "       [0.0026592543026966887, 'Engineering'],\n",
              "       [0.0021444590041127375, 'Medicine'],\n",
              "       [0.002032932156248615, 'Sociology'],\n",
              "       [0.0017784252446236188, 'Art'],\n",
              "       [0.0016782824491071457, 'History'],\n",
              "       [0.001233075843111124, 'Philosophy']], dtype=object)"
            ]
          },
          "metadata": {},
          "execution_count": 25
        }
      ]
    },
    {
      "cell_type": "code",
      "source": [
        "res = classify_article(classifier2, \"Exploring The Concept Of Cubism Art Essay\", \"Cubism was one of the most influential art movements of the 20th century. It took place between 1907 and about 1914. The innovators of the Cubist movement were Pablo Picasso (Spanish, 1881 1973) and Georges Braque (French, 1882 1963). Cubism was one of the most significant changes in ideas in the history of art. It allowed for the development of many of the abstract modern art movements in areas such as Futurism and Constructivism.\", probas=True)\n",
        "res[np.argsort(-res[:, 0])]"
      ],
      "metadata": {
        "colab": {
          "base_uri": "https://localhost:8080/"
        },
        "id": "065fWqvkJAoo",
        "outputId": "a750a533-d2f7-4897-910e-7908c739f5e7"
      },
      "execution_count": null,
      "outputs": [
        {
          "output_type": "execute_result",
          "data": {
            "text/plain": [
              "array([[0.8924496490859399, 'Art'],\n",
              "       [0.04285157902996371, 'History'],\n",
              "       [0.027243813908463133, 'Sociology'],\n",
              "       [0.010343518506481401, 'Philosophy'],\n",
              "       [0.005980852234985908, 'Political science'],\n",
              "       [0.00539430121055874, 'Engineering'],\n",
              "       [0.0035952243976042604, 'Geography'],\n",
              "       [0.0027933726663202565, 'Economics'],\n",
              "       [0.00266307121360342, 'Psychology'],\n",
              "       [0.002173799986851709, 'Computer science'],\n",
              "       [0.001745330200741101, 'Geology'],\n",
              "       [0.0007432245869118252, 'Mathematics'],\n",
              "       [0.000604081301904381, 'Business'],\n",
              "       [0.0003827639420842821, 'Materials science'],\n",
              "       [0.0003604745978121696, 'Physics'],\n",
              "       [0.00022711096748678704, 'Chemistry'],\n",
              "       [0.00019412583590743, 'Medicine'],\n",
              "       [0.0001323063489452074, 'Environmental science'],\n",
              "       [0.00012139997743512722, 'Biology']], dtype=object)"
            ]
          },
          "metadata": {},
          "execution_count": 26
        }
      ]
    },
    {
      "cell_type": "markdown",
      "source": [
        "----\n",
        "\n",
        "Let's try a simple CNN"
      ],
      "metadata": {
        "id": "ymUrpQ5HJSqo"
      }
    },
    {
      "cell_type": "code",
      "source": [
        "import tensorflow as tf\n",
        "y = tf.keras.utils.to_categorical(y_train)"
      ],
      "metadata": {
        "id": "8RPPpyL1JI5H"
      },
      "execution_count": null,
      "outputs": []
    },
    {
      "cell_type": "code",
      "source": [
        "from tensorflow.keras import layers\n",
        "\n",
        "inputs = tf.keras.Input(shape=(x_train.shape[1], 1,), dtype=\"float\")\n",
        "\n",
        "x = layers.Conv1D(128, 1)(inputs)\n",
        "x = layers.Conv1D(64, 2, strides=2)(x)\n",
        "x = layers.AveragePooling1D(strides=2)(x)\n",
        "x = layers.Conv1D(64, 2)(x)\n",
        "x = layers.AveragePooling1D(strides=2)(x)\n",
        "x = layers.Flatten()(x)\n",
        "# We add a vanilla hidden layer:\n",
        "x = layers.Dense(64, activation=\"relu\")(x)\n",
        "x = layers.Dense(32, activation=\"relu\")(x)\n",
        "\n",
        "# We project onto a single unit output layer, and squash it with a sigmoid:\n",
        "predictions = layers.Dense(19, activation=\"sigmoid\", name=\"predictions\")(x)\n",
        "\n",
        "classifier = tf.keras.Model(inputs, predictions)"
      ],
      "metadata": {
        "id": "P6tP-aAXJVRr"
      },
      "execution_count": null,
      "outputs": []
    },
    {
      "cell_type": "code",
      "source": [
        "classifier.summary()"
      ],
      "metadata": {
        "colab": {
          "base_uri": "https://localhost:8080/"
        },
        "id": "EEmGZMDKJXS0",
        "outputId": "182519a1-fbc6-4893-adf4-6ca723abf296"
      },
      "execution_count": null,
      "outputs": [
        {
          "output_type": "stream",
          "name": "stdout",
          "text": [
            "Model: \"model\"\n",
            "_________________________________________________________________\n",
            " Layer (type)                Output Shape              Param #   \n",
            "=================================================================\n",
            " input_1 (InputLayer)        [(None, 768, 1)]          0         \n",
            "                                                                 \n",
            " conv1d (Conv1D)             (None, 768, 128)          256       \n",
            "                                                                 \n",
            " conv1d_1 (Conv1D)           (None, 384, 64)           16448     \n",
            "                                                                 \n",
            " average_pooling1d (AverageP  (None, 192, 64)          0         \n",
            " ooling1D)                                                       \n",
            "                                                                 \n",
            " conv1d_2 (Conv1D)           (None, 191, 64)           8256      \n",
            "                                                                 \n",
            " average_pooling1d_1 (Averag  (None, 95, 64)           0         \n",
            " ePooling1D)                                                     \n",
            "                                                                 \n",
            " flatten (Flatten)           (None, 6080)              0         \n",
            "                                                                 \n",
            " dense (Dense)               (None, 64)                389184    \n",
            "                                                                 \n",
            " dense_1 (Dense)             (None, 32)                2080      \n",
            "                                                                 \n",
            " predictions (Dense)         (None, 19)                627       \n",
            "                                                                 \n",
            "=================================================================\n",
            "Total params: 416,851\n",
            "Trainable params: 416,851\n",
            "Non-trainable params: 0\n",
            "_________________________________________________________________\n"
          ]
        }
      ]
    },
    {
      "cell_type": "code",
      "source": [
        "from keras import backend as K\n",
        "\n",
        "def recall_m(y_true, y_pred):\n",
        "    true_positives = K.sum(K.round(K.clip(y_true * y_pred, 0, 1)))\n",
        "    possible_positives = K.sum(K.round(K.clip(y_true, 0, 1)))\n",
        "    recall = true_positives / (possible_positives + K.epsilon())\n",
        "    return recall\n",
        "\n",
        "def precision_m(y_true, y_pred):\n",
        "    true_positives = K.sum(K.round(K.clip(y_true * y_pred, 0, 1)))\n",
        "    predicted_positives = K.sum(K.round(K.clip(y_pred, 0, 1)))\n",
        "    precision = true_positives / (predicted_positives + K.epsilon())\n",
        "    return precision\n",
        "\n",
        "def f1_m(y_true, y_pred):\n",
        "    precision = precision_m(y_true, y_pred)\n",
        "    recall = recall_m(y_true, y_pred)\n",
        "    return 2*((precision*recall)/(precision+recall+K.epsilon()))"
      ],
      "metadata": {
        "id": "_3bbBG16JbPV"
      },
      "execution_count": null,
      "outputs": []
    },
    {
      "cell_type": "code",
      "source": [
        "classifier.compile(loss=\"categorical_crossentropy\", optimizer=\"adam\", metrics=[\"accuracy\", f1_m])"
      ],
      "metadata": {
        "id": "eFKuksjeJeDQ"
      },
      "execution_count": null,
      "outputs": []
    },
    {
      "cell_type": "markdown",
      "source": [
        "will try squared hinge loss later maybe."
      ],
      "metadata": {
        "id": "CDfmXExqJgTP"
      }
    },
    {
      "cell_type": "code",
      "source": [
        "x_train_cnn = np.expand_dims(x_train, -1)\n",
        "x_train_cnn.shape"
      ],
      "metadata": {
        "colab": {
          "base_uri": "https://localhost:8080/"
        },
        "id": "s0JWKOisJjo1",
        "outputId": "fde496a4-0829-486f-f472-869cf88011c5"
      },
      "execution_count": null,
      "outputs": [
        {
          "output_type": "execute_result",
          "data": {
            "text/plain": [
              "(17501, 768, 1)"
            ]
          },
          "metadata": {},
          "execution_count": 32
        }
      ]
    },
    {
      "cell_type": "code",
      "source": [
        "epochs = 20\n",
        "\n",
        "# Fit the model using the train and test datasets.\n",
        "classifier.fit(x_train_cnn, y, epochs=epochs)"
      ],
      "metadata": {
        "colab": {
          "base_uri": "https://localhost:8080/"
        },
        "id": "gnRTyX_7JnrK",
        "outputId": "19967445-56a9-4f45-d031-96086070418f"
      },
      "execution_count": null,
      "outputs": [
        {
          "output_type": "stream",
          "name": "stdout",
          "text": [
            "Epoch 1/20\n",
            "547/547 [==============================] - 49s 87ms/step - loss: 1.0920 - accuracy: 0.6536 - f1_m: 0.1903\n",
            "Epoch 2/20\n",
            "547/547 [==============================] - 42s 77ms/step - loss: 0.8584 - accuracy: 0.7180 - f1_m: 0.2125\n",
            "Epoch 3/20\n",
            "547/547 [==============================] - 44s 80ms/step - loss: 0.8065 - accuracy: 0.7334 - f1_m: 0.2205\n",
            "Epoch 4/20\n",
            "547/547 [==============================] - 44s 80ms/step - loss: 0.7723 - accuracy: 0.7437 - f1_m: 0.2284\n",
            "Epoch 5/20\n",
            "547/547 [==============================] - 44s 80ms/step - loss: 0.7487 - accuracy: 0.7505 - f1_m: 0.2352\n",
            "Epoch 6/20\n",
            "547/547 [==============================] - 44s 80ms/step - loss: 0.7275 - accuracy: 0.7564 - f1_m: 0.2387\n",
            "Epoch 7/20\n",
            "547/547 [==============================] - 44s 80ms/step - loss: 0.7121 - accuracy: 0.7600 - f1_m: 0.2469\n",
            "Epoch 8/20\n",
            "547/547 [==============================] - 44s 81ms/step - loss: 0.6935 - accuracy: 0.7656 - f1_m: 0.2524\n",
            "Epoch 9/20\n",
            "547/547 [==============================] - 44s 80ms/step - loss: 0.6786 - accuracy: 0.7685 - f1_m: 0.2540\n",
            "Epoch 10/20\n",
            "547/547 [==============================] - 44s 80ms/step - loss: 0.6689 - accuracy: 0.7708 - f1_m: 0.2602\n",
            "Epoch 11/20\n",
            "547/547 [==============================] - 44s 80ms/step - loss: 0.6505 - accuracy: 0.7769 - f1_m: 0.2608\n",
            "Epoch 12/20\n",
            "547/547 [==============================] - 45s 82ms/step - loss: 0.6391 - accuracy: 0.7809 - f1_m: 0.2680\n",
            "Epoch 13/20\n",
            "547/547 [==============================] - 39s 71ms/step - loss: 0.6241 - accuracy: 0.7821 - f1_m: 0.2697\n",
            "Epoch 14/20\n",
            "547/547 [==============================] - 39s 71ms/step - loss: 0.6140 - accuracy: 0.7877 - f1_m: 0.2728\n",
            "Epoch 15/20\n",
            "547/547 [==============================] - 39s 71ms/step - loss: 0.6061 - accuracy: 0.7882 - f1_m: 0.2752\n",
            "Epoch 16/20\n",
            "547/547 [==============================] - 39s 71ms/step - loss: 0.5908 - accuracy: 0.7916 - f1_m: 0.2817\n",
            "Epoch 17/20\n",
            "547/547 [==============================] - 39s 71ms/step - loss: 0.5815 - accuracy: 0.7952 - f1_m: 0.2783\n",
            "Epoch 18/20\n",
            "547/547 [==============================] - 39s 71ms/step - loss: 0.5716 - accuracy: 0.7953 - f1_m: 0.2823\n",
            "Epoch 19/20\n",
            "547/547 [==============================] - 39s 71ms/step - loss: 0.5602 - accuracy: 0.7973 - f1_m: 0.2901\n",
            "Epoch 20/20\n",
            "547/547 [==============================] - 39s 71ms/step - loss: 0.5525 - accuracy: 0.8007 - f1_m: 0.2892\n"
          ]
        },
        {
          "output_type": "execute_result",
          "data": {
            "text/plain": [
              "<keras.callbacks.History at 0x7fee28456850>"
            ]
          },
          "metadata": {},
          "execution_count": 33
        }
      ]
    },
    {
      "cell_type": "code",
      "source": [
        "y_test_cnn = tf.keras.utils.to_categorical(y_test)\n",
        "score = classifier.evaluate(x_test, y_test_cnn)\n",
        "score"
      ],
      "metadata": {
        "colab": {
          "base_uri": "https://localhost:8080/"
        },
        "id": "Cxf4kWc8Jpjr",
        "outputId": "d5cb56f6-3733-423e-d08c-9eea654a922e"
      },
      "execution_count": null,
      "outputs": [
        {
          "output_type": "stream",
          "name": "stdout",
          "text": [
            "118/118 [==============================] - 3s 23ms/step - loss: 0.9216 - accuracy: 0.7193 - f1_m: 0.2856\n"
          ]
        },
        {
          "output_type": "execute_result",
          "data": {
            "text/plain": [
              "[0.9216019511222839, 0.7192748785018921, 0.28564757108688354]"
            ]
          },
          "metadata": {},
          "execution_count": 34
        }
      ]
    },
    {
      "cell_type": "markdown",
      "source": [
        "wrong computation of f1, will correct it if I have the time to."
      ],
      "metadata": {
        "id": "Pbd3RgZKMyf_"
      }
    },
    {
      "cell_type": "code",
      "source": [
        "y_pred = classifier.predict(x_test)\n",
        "f1_score(y_test, np.argmax(y_pred, axis=1), average='macro')"
      ],
      "metadata": {
        "colab": {
          "base_uri": "https://localhost:8080/"
        },
        "id": "lCDEm7NkNfRp",
        "outputId": "8825a40d-ed41-4d22-85a3-8773bb7a31ad"
      },
      "execution_count": null,
      "outputs": [
        {
          "output_type": "stream",
          "name": "stdout",
          "text": [
            "118/118 [==============================] - 3s 22ms/step\n"
          ]
        },
        {
          "output_type": "execute_result",
          "data": {
            "text/plain": [
              "0.7065101041769221"
            ]
          },
          "metadata": {},
          "execution_count": 35
        }
      ]
    },
    {
      "cell_type": "code",
      "source": [
        "def classify_article2(title, abstract, cls=False):\n",
        "  classes = {0: \"Art\", 1: \"Biology\", 2: \"Business\", 3: \"Chemistry\", 4: \"Computer science\", 5: \"Economics\", 6: \"Engineering\", 7: \"Environmental science\",\\\n",
        "             8: \"Geography\", 9: \"Geology\", 10: \"History\", 11: \"Materials science\", 12: \"Mathematics\", 13: \"Medicine\", 14: \"Philosophy\", 15: \"Physics\",\\\n",
        "             16: \"Political science\", 17: \"Psychology\", 18: \"Sociology\"}\n",
        "   \n",
        "  if cls:\n",
        "    return np.array(list(zip(classifier.predict(model.encode([title + '[SEP]' + abstract]))[0], classes.values())), dtype=object)\n",
        "  return classes[np.argmax(classifier.predict(model.encode([title + '[SEP]' + abstract]))[0])]"
      ],
      "metadata": {
        "id": "-WLeSFZoKJ9i"
      },
      "execution_count": null,
      "outputs": []
    },
    {
      "cell_type": "code",
      "source": [
        "res = classify_article2(\"SPECTER: Document-level Representation Learning using Citation-informed Transformers\", \"Representation learning is a critical ingredient for natural language processing systems. Recent Transformer language models like BERT learn powerful textual representations, but these models are targeted towards token- and sentence-level training objectives and do not leverage information on inter-document relatedness, which limits their document-level representation power. For applications on scientific documents, such as classification and recommendation, the embeddings power strong performance on end tasks. We propose SPECTER, a new method to generate document-level embedding of scientific documents based on pretraining a Transformer language model on a powerful signal of document-level relatedness: the citation graph. Unlike existing pretrained language models, SPECTER can be easily applied to downstream applications without task-specific fine-tuning. Additionally, to encourage further research on document-level models, we introduce SCIDOCS, a new evaluation benchmark consisting of seven document-level tasks ranging from citation prediction, to document classification and recommendation. We show that SPECTER outperforms a variety of competitive baselines on the benchmark.\", cls=True)\n",
        "res[np.argsort(-res[:, 0])]"
      ],
      "metadata": {
        "colab": {
          "base_uri": "https://localhost:8080/"
        },
        "id": "4rVla4XYKMh8",
        "outputId": "cea6805c-5dc8-4507-9663-1c3ac125f280"
      },
      "execution_count": null,
      "outputs": [
        {
          "output_type": "stream",
          "name": "stdout",
          "text": [
            "1/1 [==============================] - 0s 18ms/step\n"
          ]
        },
        {
          "output_type": "execute_result",
          "data": {
            "text/plain": [
              "array([[0.9999999, 'Computer science'],\n",
              "       [0.99414927, 'Mathematics'],\n",
              "       [0.88806415, 'Environmental science'],\n",
              "       [0.81128025, 'Engineering'],\n",
              "       [0.49066144, 'Geography'],\n",
              "       [0.2700923, 'Geology'],\n",
              "       [0.06653451, 'Physics'],\n",
              "       [0.022941021, 'Psychology'],\n",
              "       [0.014344574, 'Materials science'],\n",
              "       [0.008268426, 'Business'],\n",
              "       [0.0058662225, 'History'],\n",
              "       [0.0037175068, 'Political science'],\n",
              "       [0.0033495498, 'Philosophy'],\n",
              "       [0.0022523724, 'Sociology'],\n",
              "       [0.0020437972, 'Economics'],\n",
              "       [0.001682808, 'Biology'],\n",
              "       [0.00048200408, 'Chemistry'],\n",
              "       [0.00040793794, 'Art'],\n",
              "       [8.1909465e-11, 'Medicine']], dtype=object)"
            ]
          },
          "metadata": {},
          "execution_count": 37
        }
      ]
    },
    {
      "cell_type": "code",
      "source": [
        "res = classify_article2(\"Satellite Content and Halo Mass of Galaxy Clusters: Comparison between Red-Sequence and Halo-based Optical Cluster Finders\", \"Cluster cosmology depends critically on how the optical clusters are selected from imaging surveys. We compare the conditional luminosity function (CLF) and weak lensing halo masses between two different cluster samples at fixed richness, detected within the same volume (0.1<z<0.34) using the red-sequence and halo-based methods. After calibrating our CLF deprojection method against mock galaxy samples, we measure the 3D CLFs by cross-correlating clusters with SDSS photometric galaxies. As expected, the CLFs of the red-sequence and halo-based finders exhibit redder and bluer populations, respectively. We also find significant shape discrepancies between the two CLFs at the faint end, where the red-sequence clusters show a strong deficit of faint galaxies but a bump at Mr∼−20.5, while the halo-based clusters host an increasing number of blue satellites. By comparing the subsamples of clusters that have a match between the two catalogues to those without matches, we discover that the CLF shape depends sensitively on the cluster centroiding. However, the average weak lensing halo mass between the matched and non-matched clusters are roughly consistent with each other in either cluster sample. Since the colour preferences of the two cluster finders are almost orthogonal, such a consistency indicates that the scatter in the mass-richness relation of either cluster sample is close to random. Therefore, while the choice of how optical clusters are identified impacts the satellite content, our result suggests that it should not introduce strong systematics biases in cluster cosmology.\", cls=True)\n",
        "res[np.argsort(-res[:, 0])]"
      ],
      "metadata": {
        "colab": {
          "base_uri": "https://localhost:8080/"
        },
        "id": "NA4i5onaTKRc",
        "outputId": "eb391e5d-f87e-491c-f00d-3c1b7f78f45c"
      },
      "execution_count": null,
      "outputs": [
        {
          "output_type": "stream",
          "name": "stdout",
          "text": [
            "1/1 [==============================] - 0s 24ms/step\n"
          ]
        },
        {
          "output_type": "execute_result",
          "data": {
            "text/plain": [
              "array([[1.0, 'Physics'],\n",
              "       [0.99999934, 'Chemistry'],\n",
              "       [0.9982926, 'Mathematics'],\n",
              "       [0.99774337, 'Geology'],\n",
              "       [0.9793127, 'Materials science'],\n",
              "       [0.9716356, 'Geography'],\n",
              "       [0.81944937, 'Business'],\n",
              "       [0.8074698, 'Computer science'],\n",
              "       [0.7683715, 'Environmental science'],\n",
              "       [0.1989159, 'Philosophy'],\n",
              "       [0.19356726, 'Psychology'],\n",
              "       [0.025063658, 'Economics'],\n",
              "       [0.021586807, 'Biology'],\n",
              "       [0.020153387, 'Sociology'],\n",
              "       [0.008896165, 'History'],\n",
              "       [0.002268006, 'Political science'],\n",
              "       [0.0021029266, 'Engineering'],\n",
              "       [9.382865e-09, 'Art'],\n",
              "       [2.3495374e-13, 'Medicine']], dtype=object)"
            ]
          },
          "metadata": {},
          "execution_count": 38
        }
      ]
    },
    {
      "cell_type": "code",
      "source": [
        "res = classify_article2(\"Exploring The Concept Of Cubism Art Essay\", \"Cubism was one of the most influential art movements of the 20th century. It took place between 1907 and about 1914. The innovators of the Cubist movement were Pablo Picasso (Spanish, 1881 1973) and Georges Braque (French, 1882 1963). Cubism was one of the most significant changes in ideas in the history of art. It allowed for the development of many of the abstract modern art movements in areas such as Futurism and Constructivism.\", cls=True)\n",
        "res[np.argsort(-res[:, 0])]"
      ],
      "metadata": {
        "colab": {
          "base_uri": "https://localhost:8080/"
        },
        "id": "tHTLNJAMTcfv",
        "outputId": "55eeaa48-bbfa-4c2a-8899-9ec036e4a034"
      },
      "execution_count": null,
      "outputs": [
        {
          "output_type": "stream",
          "name": "stdout",
          "text": [
            "1/1 [==============================] - 0s 18ms/step\n"
          ]
        },
        {
          "output_type": "execute_result",
          "data": {
            "text/plain": [
              "array([[0.999854, 'Art'],\n",
              "       [0.9906299, 'History'],\n",
              "       [0.9493535, 'Sociology'],\n",
              "       [0.8793125, 'Philosophy'],\n",
              "       [0.7558811, 'Political science'],\n",
              "       [0.6130978, 'Psychology'],\n",
              "       [0.47238475, 'Geography'],\n",
              "       [0.28493187, 'Engineering'],\n",
              "       [0.23878404, 'Economics'],\n",
              "       [0.020241622, 'Computer science'],\n",
              "       [0.017087078, 'Mathematics'],\n",
              "       [0.01313262, 'Physics'],\n",
              "       [0.0040359437, 'Geology'],\n",
              "       [0.0029771705, 'Biology'],\n",
              "       [0.00079691375, 'Environmental science'],\n",
              "       [0.0002191038, 'Medicine'],\n",
              "       [0.00013795015, 'Materials science'],\n",
              "       [0.00013295913, 'Business'],\n",
              "       [1.712118e-06, 'Chemistry']], dtype=object)"
            ]
          },
          "metadata": {},
          "execution_count": 39
        }
      ]
    },
    {
      "cell_type": "markdown",
      "source": [
        "----\n",
        "\n",
        "Right now, all the performances are much lower than the one benchmarked but will try later to match them.\n",
        "\n",
        "Here we're trying to reproduce the benchmark model according to the scidocs github.\n",
        "\n",
        "The gridsearch allows to find the model with the best parameters. Unlilke scidoc, we're also searching for regular svm with an rbf kernel and not only linear SVC (might take some time, about an 1h)."
      ],
      "metadata": {
        "id": "mlHkSZ4BNys7"
      }
    },
    {
      "cell_type": "code",
      "source": [
        "from sklearn.model_selection import GridSearchCV\n",
        "\n",
        "parameters = {'kernel':('linear', 'rbf'), 'C': np.logspace(-4, 2, 7)}\n",
        "svc = svm.SVC()\n",
        "clf = GridSearchCV(svc, parameters)"
      ],
      "metadata": {
        "id": "z5GKkwjEMcUB"
      },
      "execution_count": null,
      "outputs": []
    },
    {
      "cell_type": "code",
      "source": [
        "#clf.fit(x_train, y_train)"
      ],
      "metadata": {
        "id": "gZ37Uo_PsYzV"
      },
      "execution_count": null,
      "outputs": []
    },
    {
      "cell_type": "code",
      "source": [
        "#y_pred = clf.predict(x_test)\n",
        "#clf.score(x_test, y_test), f1_score(y_test, y_pred, average='macro')"
      ],
      "metadata": {
        "id": "_dAZQI9lsbW6"
      },
      "execution_count": null,
      "outputs": []
    },
    {
      "cell_type": "code",
      "source": [
        "#clf.get_params()"
      ],
      "metadata": {
        "id": "Nup5tRjkAIgn"
      },
      "execution_count": null,
      "outputs": []
    },
    {
      "cell_type": "markdown",
      "source": [
        "So after the grid search, we end up with the same parameters as our first classifier (wow that was a very useful wait T$\\cap$T) but with a little better f1 score than before. We are still 7 points under the scidocs benchmark on f1 score.\n",
        "\n",
        "----\n",
        "\n",
        "Let's try other models.\n",
        "\n",
        "First we're going to try an SGD classifier with a  a square hinge loss (the normal hinge is just a linear SVM), perceptron loss."
      ],
      "metadata": {
        "id": "agXf-XlSDChr"
      }
    },
    {
      "cell_type": "code",
      "source": [
        "from sklearn.linear_model import SGDClassifier\n",
        "\n",
        "parameters = {'loss': ('perceptron', 'squared_hinge')} \n",
        "sgd = SGDClassifier()\n",
        "clf2 = GridSearchCV(sgd, parameters)"
      ],
      "metadata": {
        "id": "PKtZr-7qCKl6"
      },
      "execution_count": null,
      "outputs": []
    },
    {
      "cell_type": "code",
      "source": [
        "clf2.fit(x_train, y_train)"
      ],
      "metadata": {
        "colab": {
          "base_uri": "https://localhost:8080/"
        },
        "id": "AYYIpKyWUoNb",
        "outputId": "5000e8da-7673-420e-8956-26baf4b8ad0e"
      },
      "execution_count": null,
      "outputs": [
        {
          "output_type": "execute_result",
          "data": {
            "text/plain": [
              "GridSearchCV(estimator=SGDClassifier(),\n",
              "             param_grid={'loss': ('perceptron', 'squared_hinge')})"
            ]
          },
          "metadata": {},
          "execution_count": 45
        }
      ]
    },
    {
      "cell_type": "code",
      "source": [
        "clf2.get_params()"
      ],
      "metadata": {
        "colab": {
          "base_uri": "https://localhost:8080/"
        },
        "id": "xicgBV3JZwfX",
        "outputId": "85bfeb50-3dd5-4d2f-f2b5-1cc89df9850a"
      },
      "execution_count": null,
      "outputs": [
        {
          "output_type": "execute_result",
          "data": {
            "text/plain": [
              "{'cv': None,\n",
              " 'error_score': nan,\n",
              " 'estimator__alpha': 0.0001,\n",
              " 'estimator__average': False,\n",
              " 'estimator__class_weight': None,\n",
              " 'estimator__early_stopping': False,\n",
              " 'estimator__epsilon': 0.1,\n",
              " 'estimator__eta0': 0.0,\n",
              " 'estimator__fit_intercept': True,\n",
              " 'estimator__l1_ratio': 0.15,\n",
              " 'estimator__learning_rate': 'optimal',\n",
              " 'estimator__loss': 'hinge',\n",
              " 'estimator__max_iter': 1000,\n",
              " 'estimator__n_iter_no_change': 5,\n",
              " 'estimator__n_jobs': None,\n",
              " 'estimator__penalty': 'l2',\n",
              " 'estimator__power_t': 0.5,\n",
              " 'estimator__random_state': None,\n",
              " 'estimator__shuffle': True,\n",
              " 'estimator__tol': 0.001,\n",
              " 'estimator__validation_fraction': 0.1,\n",
              " 'estimator__verbose': 0,\n",
              " 'estimator__warm_start': False,\n",
              " 'estimator': SGDClassifier(),\n",
              " 'n_jobs': None,\n",
              " 'param_grid': {'loss': ('perceptron', 'squared_hinge')},\n",
              " 'pre_dispatch': '2*n_jobs',\n",
              " 'refit': True,\n",
              " 'return_train_score': False,\n",
              " 'scoring': None,\n",
              " 'verbose': 0}"
            ]
          },
          "metadata": {},
          "execution_count": 46
        }
      ]
    },
    {
      "cell_type": "code",
      "source": [
        "y_pred = clf2.predict(x_test)\n",
        "clf2.score(x_test, y_test), f1_score(y_test, y_pred, average='macro')"
      ],
      "metadata": {
        "colab": {
          "base_uri": "https://localhost:8080/"
        },
        "id": "RceBt-ALUsxp",
        "outputId": "a1d269ca-a2a4-455c-c18c-1b678e5edb95"
      },
      "execution_count": null,
      "outputs": [
        {
          "output_type": "execute_result",
          "data": {
            "text/plain": [
              "(0.7014129565449213, 0.6880289729080052)"
            ]
          },
          "metadata": {},
          "execution_count": 47
        }
      ]
    },
    {
      "cell_type": "markdown",
      "source": [],
      "metadata": {
        "id": "t0ryOVsf5bAF"
      }
    },
    {
      "cell_type": "code",
      "source": [],
      "metadata": {
        "id": "pKkf05sHAZQN"
      },
      "execution_count": null,
      "outputs": []
    },
    {
      "cell_type": "code",
      "source": [],
      "metadata": {
        "id": "l6-fZ9PCU8bi"
      },
      "execution_count": null,
      "outputs": []
    }
  ]
}