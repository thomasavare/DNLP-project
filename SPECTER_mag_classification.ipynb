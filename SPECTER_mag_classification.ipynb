{
  "cells": [
    {
      "cell_type": "markdown",
      "metadata": {
        "id": "view-in-github",
        "colab_type": "text"
      },
      "source": [
        "<a href=\"https://colab.research.google.com/github/thomasavare/DNLP-project/blob/master/SPECTER_mag_classification.ipynb\" target=\"_parent\"><img src=\"https://colab.research.google.com/assets/colab-badge.svg\" alt=\"Open In Colab\"/></a>"
      ]
    },
    {
      "cell_type": "markdown",
      "metadata": {
        "id": "0ksisP7lkAQZ"
      },
      "source": [
        "This notebook aims at incorporating the MAG classification presented in the [Scidocs](https://github.com/allenai/scidocs) github. This classification consists of 19 different classes.\n",
        "\n",
        "| int | Class label | int | Class label |\n",
        "| --- | ----------- | --- | ----------- |\n",
        "| 0   | Art         | 10\t| History     |\n",
        "| 1\t  | Biology     | 11\t| Materials science |\n",
        "| 2\t  | Business    | 12\t| Mathematics |\n",
        "| 3\t  | Chemistry   | 13\t| Medicine    |\n",
        "| 4   |\tComputer science | 14\t| Philosophy  |\n",
        "| 5\t  | Economics   | 15\t| Physics     |\n",
        "| 6\t  | Engineering | 16\t| Political science |\n",
        "| 7\t  | Environmental science | 17 | Psychology  |\n",
        "| 8\t  | Geography   | 18\t| Sociology   |\n",
        "| 9\t  | Geology     |"
      ]
    },
    {
      "cell_type": "markdown",
      "metadata": {
        "id": "TAsAgYJRkmVQ"
      },
      "source": [
        "Everything said, let's begin.\n",
        "\n",
        "First we import the [SPECTER](https://github.com/allenai/specter)embedding model. We are going to use the model accessible through the HuggingFace's transformer librairy."
      ]
    },
    {
      "cell_type": "code",
      "execution_count": 1,
      "metadata": {
        "colab": {
          "base_uri": "https://localhost:8080/"
        },
        "id": "F7gBnENrj8pX",
        "outputId": "2d97e468-91b2-4149-e7e6-df828b00e3c7"
      },
      "outputs": [
        {
          "output_type": "stream",
          "name": "stdout",
          "text": [
            "Looking in indexes: https://pypi.org/simple, https://us-python.pkg.dev/colab-wheels/public/simple/\n",
            "Requirement already satisfied: sentence-transformers in /usr/local/lib/python3.8/dist-packages (2.2.2)\n",
            "Requirement already satisfied: huggingface-hub>=0.4.0 in /usr/local/lib/python3.8/dist-packages (from sentence-transformers) (0.11.1)\n",
            "Requirement already satisfied: torchvision in /usr/local/lib/python3.8/dist-packages (from sentence-transformers) (0.14.1+cu116)\n",
            "Requirement already satisfied: numpy in /usr/local/lib/python3.8/dist-packages (from sentence-transformers) (1.21.6)\n",
            "Requirement already satisfied: scipy in /usr/local/lib/python3.8/dist-packages (from sentence-transformers) (1.7.3)\n",
            "Requirement already satisfied: nltk in /usr/local/lib/python3.8/dist-packages (from sentence-transformers) (3.7)\n",
            "Requirement already satisfied: scikit-learn in /usr/local/lib/python3.8/dist-packages (from sentence-transformers) (1.0.2)\n",
            "Requirement already satisfied: sentencepiece in /usr/local/lib/python3.8/dist-packages (from sentence-transformers) (0.1.97)\n",
            "Requirement already satisfied: transformers<5.0.0,>=4.6.0 in /usr/local/lib/python3.8/dist-packages (from sentence-transformers) (4.25.1)\n",
            "Requirement already satisfied: tqdm in /usr/local/lib/python3.8/dist-packages (from sentence-transformers) (4.64.1)\n",
            "Requirement already satisfied: torch>=1.6.0 in /usr/local/lib/python3.8/dist-packages (from sentence-transformers) (1.13.1+cu116)\n",
            "Requirement already satisfied: pyyaml>=5.1 in /usr/local/lib/python3.8/dist-packages (from huggingface-hub>=0.4.0->sentence-transformers) (5.4.1)\n",
            "Requirement already satisfied: packaging>=20.9 in /usr/local/lib/python3.8/dist-packages (from huggingface-hub>=0.4.0->sentence-transformers) (21.3)\n",
            "Requirement already satisfied: requests in /usr/local/lib/python3.8/dist-packages (from huggingface-hub>=0.4.0->sentence-transformers) (2.25.1)\n",
            "Requirement already satisfied: filelock in /usr/local/lib/python3.8/dist-packages (from huggingface-hub>=0.4.0->sentence-transformers) (3.9.0)\n",
            "Requirement already satisfied: typing-extensions>=3.7.4.3 in /usr/local/lib/python3.8/dist-packages (from huggingface-hub>=0.4.0->sentence-transformers) (4.4.0)\n",
            "Requirement already satisfied: tokenizers!=0.11.3,<0.14,>=0.11.1 in /usr/local/lib/python3.8/dist-packages (from transformers<5.0.0,>=4.6.0->sentence-transformers) (0.13.2)\n",
            "Requirement already satisfied: regex!=2019.12.17 in /usr/local/lib/python3.8/dist-packages (from transformers<5.0.0,>=4.6.0->sentence-transformers) (2022.6.2)\n",
            "Requirement already satisfied: click in /usr/local/lib/python3.8/dist-packages (from nltk->sentence-transformers) (7.1.2)\n",
            "Requirement already satisfied: joblib in /usr/local/lib/python3.8/dist-packages (from nltk->sentence-transformers) (1.2.0)\n",
            "Requirement already satisfied: threadpoolctl>=2.0.0 in /usr/local/lib/python3.8/dist-packages (from scikit-learn->sentence-transformers) (3.1.0)\n",
            "Requirement already satisfied: pillow!=8.3.*,>=5.3.0 in /usr/local/lib/python3.8/dist-packages (from torchvision->sentence-transformers) (7.1.2)\n",
            "Requirement already satisfied: pyparsing!=3.0.5,>=2.0.2 in /usr/local/lib/python3.8/dist-packages (from packaging>=20.9->huggingface-hub>=0.4.0->sentence-transformers) (3.0.9)\n",
            "Requirement already satisfied: idna<3,>=2.5 in /usr/local/lib/python3.8/dist-packages (from requests->huggingface-hub>=0.4.0->sentence-transformers) (2.10)\n",
            "Requirement already satisfied: urllib3<1.27,>=1.21.1 in /usr/local/lib/python3.8/dist-packages (from requests->huggingface-hub>=0.4.0->sentence-transformers) (1.26.14)\n",
            "Requirement already satisfied: chardet<5,>=3.0.2 in /usr/local/lib/python3.8/dist-packages (from requests->huggingface-hub>=0.4.0->sentence-transformers) (4.0.0)\n",
            "Requirement already satisfied: certifi>=2017.4.17 in /usr/local/lib/python3.8/dist-packages (from requests->huggingface-hub>=0.4.0->sentence-transformers) (2022.12.7)\n"
          ]
        }
      ],
      "source": [
        "pip install -U sentence-transformers"
      ]
    },
    {
      "cell_type": "code",
      "execution_count": 2,
      "metadata": {
        "id": "9wyIoPbDlGWu"
      },
      "outputs": [],
      "source": [
        "from sentence_transformers import SentenceTransformer, util\n",
        "\n",
        "# load model and tokenizer\n",
        "model = SentenceTransformer('allenai-specter')"
      ]
    },
    {
      "cell_type": "markdown",
      "metadata": {
        "id": "K1J4PXqRlQpW"
      },
      "source": [
        "We are now going to import the data used to train the models in the scidocs benchmarking. This include the meta-data (paper id, title, abstract and citation graph) and also the class associated to these paper."
      ]
    },
    {
      "cell_type": "code",
      "execution_count": 3,
      "metadata": {
        "colab": {
          "base_uri": "https://localhost:8080/"
        },
        "id": "UMz8TzOtlIKB",
        "outputId": "ba6f5136-82bd-4cd2-e65b-555e485f1e56"
      },
      "outputs": [
        {
          "output_type": "stream",
          "name": "stdout",
          "text": [
            "Looking in indexes: https://pypi.org/simple, https://us-python.pkg.dev/colab-wheels/public/simple/\n",
            "Requirement already satisfied: awscli in /usr/local/lib/python3.8/dist-packages (1.27.55)\n",
            "Requirement already satisfied: docutils<0.17,>=0.10 in /usr/local/lib/python3.8/dist-packages (from awscli) (0.16)\n",
            "Requirement already satisfied: s3transfer<0.7.0,>=0.6.0 in /usr/local/lib/python3.8/dist-packages (from awscli) (0.6.0)\n",
            "Requirement already satisfied: rsa<4.8,>=3.1.2 in /usr/local/lib/python3.8/dist-packages (from awscli) (4.7.2)\n",
            "Requirement already satisfied: PyYAML<5.5,>=3.10 in /usr/local/lib/python3.8/dist-packages (from awscli) (5.4.1)\n",
            "Requirement already satisfied: botocore==1.29.55 in /usr/local/lib/python3.8/dist-packages (from awscli) (1.29.55)\n",
            "Requirement already satisfied: colorama<0.4.5,>=0.2.5 in /usr/local/lib/python3.8/dist-packages (from awscli) (0.4.4)\n",
            "Requirement already satisfied: urllib3<1.27,>=1.25.4 in /usr/local/lib/python3.8/dist-packages (from botocore==1.29.55->awscli) (1.26.14)\n",
            "Requirement already satisfied: jmespath<2.0.0,>=0.7.1 in /usr/local/lib/python3.8/dist-packages (from botocore==1.29.55->awscli) (1.0.1)\n",
            "Requirement already satisfied: python-dateutil<3.0.0,>=2.1 in /usr/local/lib/python3.8/dist-packages (from botocore==1.29.55->awscli) (2.8.2)\n",
            "Requirement already satisfied: pyasn1>=0.1.3 in /usr/local/lib/python3.8/dist-packages (from rsa<4.8,>=3.1.2->awscli) (0.4.8)\n",
            "Requirement already satisfied: six>=1.5 in /usr/local/lib/python3.8/dist-packages (from python-dateutil<3.0.0,>=2.1->botocore==1.29.55->awscli) (1.15.0)\n"
          ]
        }
      ],
      "source": [
        "!pip install awscli\n",
        "!aws s3 sync --no-sign-request s3://ai2-s2-research-public/specter/scidocs/ data/"
      ]
    },
    {
      "cell_type": "code",
      "execution_count": 4,
      "metadata": {
        "colab": {
          "base_uri": "https://localhost:8080/",
          "height": 424
        },
        "id": "EQEhXrtFlvJy",
        "outputId": "40350661-7c6a-4482-9827-bcff1e330b55"
      },
      "outputs": [
        {
          "output_type": "execute_result",
          "data": {
            "text/plain": [
              "                                            pid  class_label\n",
              "0      78f6417635b95decc79e83d42812de50906a562c           10\n",
              "1      bc636605d012c2a118e8390996843ffe9dc047b0           11\n",
              "2      a093926d80986aaa93fdc609ce8b125954b87f6b           11\n",
              "3      84dd81ec2622c433d26f8908d4bc1afd3bff8f6c           18\n",
              "4      026a5dc5aeddd00b2323b2bedfc91b058c145934           17\n",
              "...                                         ...          ...\n",
              "17496  f648e027d210e68578d46501f14e581721f449aa            1\n",
              "17497  78a254f0e8a03762cca5bbc0c7b0f39fc58229ca            2\n",
              "17498  2eb64dd80227373760ac96fa08a46656e6516cd7           16\n",
              "17499  2ecca4407aed9ecddac4578cd880e14f82600d0b            1\n",
              "17500  901362650a27cf0a40193eaefdd7eea042a70780            9\n",
              "\n",
              "[17501 rows x 2 columns]"
            ],
            "text/html": [
              "\n",
              "  <div id=\"df-87ef6e53-1501-433f-ac85-dfd550f7111a\">\n",
              "    <div class=\"colab-df-container\">\n",
              "      <div>\n",
              "<style scoped>\n",
              "    .dataframe tbody tr th:only-of-type {\n",
              "        vertical-align: middle;\n",
              "    }\n",
              "\n",
              "    .dataframe tbody tr th {\n",
              "        vertical-align: top;\n",
              "    }\n",
              "\n",
              "    .dataframe thead th {\n",
              "        text-align: right;\n",
              "    }\n",
              "</style>\n",
              "<table border=\"1\" class=\"dataframe\">\n",
              "  <thead>\n",
              "    <tr style=\"text-align: right;\">\n",
              "      <th></th>\n",
              "      <th>pid</th>\n",
              "      <th>class_label</th>\n",
              "    </tr>\n",
              "  </thead>\n",
              "  <tbody>\n",
              "    <tr>\n",
              "      <th>0</th>\n",
              "      <td>78f6417635b95decc79e83d42812de50906a562c</td>\n",
              "      <td>10</td>\n",
              "    </tr>\n",
              "    <tr>\n",
              "      <th>1</th>\n",
              "      <td>bc636605d012c2a118e8390996843ffe9dc047b0</td>\n",
              "      <td>11</td>\n",
              "    </tr>\n",
              "    <tr>\n",
              "      <th>2</th>\n",
              "      <td>a093926d80986aaa93fdc609ce8b125954b87f6b</td>\n",
              "      <td>11</td>\n",
              "    </tr>\n",
              "    <tr>\n",
              "      <th>3</th>\n",
              "      <td>84dd81ec2622c433d26f8908d4bc1afd3bff8f6c</td>\n",
              "      <td>18</td>\n",
              "    </tr>\n",
              "    <tr>\n",
              "      <th>4</th>\n",
              "      <td>026a5dc5aeddd00b2323b2bedfc91b058c145934</td>\n",
              "      <td>17</td>\n",
              "    </tr>\n",
              "    <tr>\n",
              "      <th>...</th>\n",
              "      <td>...</td>\n",
              "      <td>...</td>\n",
              "    </tr>\n",
              "    <tr>\n",
              "      <th>17496</th>\n",
              "      <td>f648e027d210e68578d46501f14e581721f449aa</td>\n",
              "      <td>1</td>\n",
              "    </tr>\n",
              "    <tr>\n",
              "      <th>17497</th>\n",
              "      <td>78a254f0e8a03762cca5bbc0c7b0f39fc58229ca</td>\n",
              "      <td>2</td>\n",
              "    </tr>\n",
              "    <tr>\n",
              "      <th>17498</th>\n",
              "      <td>2eb64dd80227373760ac96fa08a46656e6516cd7</td>\n",
              "      <td>16</td>\n",
              "    </tr>\n",
              "    <tr>\n",
              "      <th>17499</th>\n",
              "      <td>2ecca4407aed9ecddac4578cd880e14f82600d0b</td>\n",
              "      <td>1</td>\n",
              "    </tr>\n",
              "    <tr>\n",
              "      <th>17500</th>\n",
              "      <td>901362650a27cf0a40193eaefdd7eea042a70780</td>\n",
              "      <td>9</td>\n",
              "    </tr>\n",
              "  </tbody>\n",
              "</table>\n",
              "<p>17501 rows × 2 columns</p>\n",
              "</div>\n",
              "      <button class=\"colab-df-convert\" onclick=\"convertToInteractive('df-87ef6e53-1501-433f-ac85-dfd550f7111a')\"\n",
              "              title=\"Convert this dataframe to an interactive table.\"\n",
              "              style=\"display:none;\">\n",
              "        \n",
              "  <svg xmlns=\"http://www.w3.org/2000/svg\" height=\"24px\"viewBox=\"0 0 24 24\"\n",
              "       width=\"24px\">\n",
              "    <path d=\"M0 0h24v24H0V0z\" fill=\"none\"/>\n",
              "    <path d=\"M18.56 5.44l.94 2.06.94-2.06 2.06-.94-2.06-.94-.94-2.06-.94 2.06-2.06.94zm-11 1L8.5 8.5l.94-2.06 2.06-.94-2.06-.94L8.5 2.5l-.94 2.06-2.06.94zm10 10l.94 2.06.94-2.06 2.06-.94-2.06-.94-.94-2.06-.94 2.06-2.06.94z\"/><path d=\"M17.41 7.96l-1.37-1.37c-.4-.4-.92-.59-1.43-.59-.52 0-1.04.2-1.43.59L10.3 9.45l-7.72 7.72c-.78.78-.78 2.05 0 2.83L4 21.41c.39.39.9.59 1.41.59.51 0 1.02-.2 1.41-.59l7.78-7.78 2.81-2.81c.8-.78.8-2.07 0-2.86zM5.41 20L4 18.59l7.72-7.72 1.47 1.35L5.41 20z\"/>\n",
              "  </svg>\n",
              "      </button>\n",
              "      \n",
              "  <style>\n",
              "    .colab-df-container {\n",
              "      display:flex;\n",
              "      flex-wrap:wrap;\n",
              "      gap: 12px;\n",
              "    }\n",
              "\n",
              "    .colab-df-convert {\n",
              "      background-color: #E8F0FE;\n",
              "      border: none;\n",
              "      border-radius: 50%;\n",
              "      cursor: pointer;\n",
              "      display: none;\n",
              "      fill: #1967D2;\n",
              "      height: 32px;\n",
              "      padding: 0 0 0 0;\n",
              "      width: 32px;\n",
              "    }\n",
              "\n",
              "    .colab-df-convert:hover {\n",
              "      background-color: #E2EBFA;\n",
              "      box-shadow: 0px 1px 2px rgba(60, 64, 67, 0.3), 0px 1px 3px 1px rgba(60, 64, 67, 0.15);\n",
              "      fill: #174EA6;\n",
              "    }\n",
              "\n",
              "    [theme=dark] .colab-df-convert {\n",
              "      background-color: #3B4455;\n",
              "      fill: #D2E3FC;\n",
              "    }\n",
              "\n",
              "    [theme=dark] .colab-df-convert:hover {\n",
              "      background-color: #434B5C;\n",
              "      box-shadow: 0px 1px 3px 1px rgba(0, 0, 0, 0.15);\n",
              "      filter: drop-shadow(0px 1px 2px rgba(0, 0, 0, 0.3));\n",
              "      fill: #FFFFFF;\n",
              "    }\n",
              "  </style>\n",
              "\n",
              "      <script>\n",
              "        const buttonEl =\n",
              "          document.querySelector('#df-87ef6e53-1501-433f-ac85-dfd550f7111a button.colab-df-convert');\n",
              "        buttonEl.style.display =\n",
              "          google.colab.kernel.accessAllowed ? 'block' : 'none';\n",
              "\n",
              "        async function convertToInteractive(key) {\n",
              "          const element = document.querySelector('#df-87ef6e53-1501-433f-ac85-dfd550f7111a');\n",
              "          const dataTable =\n",
              "            await google.colab.kernel.invokeFunction('convertToInteractive',\n",
              "                                                     [key], {});\n",
              "          if (!dataTable) return;\n",
              "\n",
              "          const docLinkHtml = 'Like what you see? Visit the ' +\n",
              "            '<a target=\"_blank\" href=https://colab.research.google.com/notebooks/data_table.ipynb>data table notebook</a>'\n",
              "            + ' to learn more about interactive tables.';\n",
              "          element.innerHTML = '';\n",
              "          dataTable['output_type'] = 'display_data';\n",
              "          await google.colab.output.renderOutput(dataTable, element);\n",
              "          const docLink = document.createElement('div');\n",
              "          docLink.innerHTML = docLinkHtml;\n",
              "          element.appendChild(docLink);\n",
              "        }\n",
              "      </script>\n",
              "    </div>\n",
              "  </div>\n",
              "  "
            ]
          },
          "metadata": {},
          "execution_count": 4
        }
      ],
      "source": [
        "import pandas as pd\n",
        "\n",
        "train_path, test_path = '/content/data/mag/train.csv', '/content/data/mag/test.csv'\n",
        "train_df, test_df = pd.read_csv(train_path), pd.read_csv(test_path)\n",
        "train_df"
      ]
    },
    {
      "cell_type": "markdown",
      "metadata": {
        "id": "f5AheYT4l_hX"
      },
      "source": [
        "Unfortunatly, the HuggingFace SPECTER model isn't coinciding with the embeddings provided, so we have to recompute the embeddings. I did it once and dowloaded the data such that I will never have to do it again because it took 3 hours. Here's the code that I used.\n",
        "\n",
        "----\n",
        "```{python}\n",
        "from tqdm import tqdm\n",
        "\n",
        "for index, row in tqdm(data_df.iterrows(), total=len(data_df.index)):\n",
        "  data_df['embedding'][row['paper_id']] = model.encode(row['title'] + '[SEP]' + row['title'])\n",
        "```\n",
        "\n",
        "100%|██████████| 48473/48473 [3:05:07<00:00, 4.36it/s]\n",
        "\n",
        "----\n",
        "\n",
        "The data is currently on my personal drive but I will upload it on my github so it can be easily imported and save 3 hours if someone is using that notebook one day."
      ]
    },
    {
      "cell_type": "code",
      "execution_count": 5,
      "metadata": {
        "id": "rkEMZGCjl7iW"
      },
      "outputs": [],
      "source": [
        "embeddings_df = pd.read_json('/content/drive/MyDrive/DNLP-project/embeddings_metadata_mag_mesh.json', orient='index')"
      ]
    },
    {
      "cell_type": "code",
      "execution_count": 6,
      "metadata": {
        "colab": {
          "base_uri": "https://localhost:8080/",
          "height": 957
        },
        "id": "tZ3O9arXnGvy",
        "outputId": "fc7ddcd2-3e44-4fc1-e2f8-b663b0f01439"
      },
      "outputs": [
        {
          "output_type": "execute_result",
          "data": {
            "text/plain": [
              "                                                                          paper_id  \\\n",
              "00014a8515491f0b3fe2a1ff6e0f5305e584dcd9  00014a8515491f0b3fe2a1ff6e0f5305e584dcd9   \n",
              "00021eeee2bf4e06fec98941206f97083c38b54d  00021eeee2bf4e06fec98941206f97083c38b54d   \n",
              "00027baa2a90e1a3d50c1da14882d518de6847f5  00027baa2a90e1a3d50c1da14882d518de6847f5   \n",
              "00034a5a5bd11b51ec046d31de273946d91fb766  00034a5a5bd11b51ec046d31de273946d91fb766   \n",
              "000c8d85037886c86de15290e5a8e9bae7b66103  000c8d85037886c86de15290e5a8e9bae7b66103   \n",
              "...                                                                            ...   \n",
              "ffe534bb74efd04b0038510be2a4ed5072430c8b  ffe534bb74efd04b0038510be2a4ed5072430c8b   \n",
              "ffeaac2b94fc298676e9784ed3bd7a6a7c23b9d1  ffeaac2b94fc298676e9784ed3bd7a6a7c23b9d1   \n",
              "ffecb03cbf4dccf9fcdc8b26f40f53d5bc44be66  ffecb03cbf4dccf9fcdc8b26f40f53d5bc44be66   \n",
              "fff238844076ad5643dc2ff53153581bd89441ea  fff238844076ad5643dc2ff53153581bd89441ea   \n",
              "fff766303c67b984a64e33566853375d35951424  fff766303c67b984a64e33566853375d35951424   \n",
              "\n",
              "                                                                                      title  \\\n",
              "00014a8515491f0b3fe2a1ff6e0f5305e584dcd9              ON THE CLASSIFICATION OF THE SCIENCES   \n",
              "00021eeee2bf4e06fec98941206f97083c38b54d  Opportunities and challenges for E-Commerce in...   \n",
              "00027baa2a90e1a3d50c1da14882d518de6847f5  Interactions between model membranes and ligni...   \n",
              "00034a5a5bd11b51ec046d31de273946d91fb766        Perpetual Peace: What Kant Should Have Said   \n",
              "000c8d85037886c86de15290e5a8e9bae7b66103    Reimagining Greek Tragedy on the American Stage   \n",
              "...                                                                                     ...   \n",
              "ffe534bb74efd04b0038510be2a4ed5072430c8b  Comparison of olmesartan combined with a calci...   \n",
              "ffeaac2b94fc298676e9784ed3bd7a6a7c23b9d1  Role of angiotensin II in plasma PAI-1 changes...   \n",
              "ffecb03cbf4dccf9fcdc8b26f40f53d5bc44be66  Factors that influence cancer patients' anxiet...   \n",
              "fff238844076ad5643dc2ff53153581bd89441ea  Is adjuvant chemotherapy indicated in stage I ...   \n",
              "fff766303c67b984a64e33566853375d35951424  Relationship between PCO2 and unfavorable outc...   \n",
              "\n",
              "                                                                                   abstract  \\\n",
              "00014a8515491f0b3fe2a1ff6e0f5305e584dcd9                                               None   \n",
              "00021eeee2bf4e06fec98941206f97083c38b54d  Numerous studies of E-Commerce have emphasized...   \n",
              "00027baa2a90e1a3d50c1da14882d518de6847f5  In order to elucidate the modes of interaction...   \n",
              "00034a5a5bd11b51ec046d31de273946d91fb766                                               None   \n",
              "000c8d85037886c86de15290e5a8e9bae7b66103  List of Illustrations Preface Introduction CHA...   \n",
              "...                                                                                     ...   \n",
              "ffe534bb74efd04b0038510be2a4ed5072430c8b  The cardiovascular effects of combined therapy...   \n",
              "ffeaac2b94fc298676e9784ed3bd7a6a7c23b9d1  To evaluate the relationship between plasma pl...   \n",
              "ffecb03cbf4dccf9fcdc8b26f40f53d5bc44be66  BACKGROUND\\nNo study has yet assessed the impa...   \n",
              "fff238844076ad5643dc2ff53153581bd89441ea  OBJECTIVE\\nConservative surgery followed by pl...   \n",
              "fff766303c67b984a64e33566853375d35951424  Background:Abnormal PCO2 is common in infants ...   \n",
              "\n",
              "                                                                                  embedding  \n",
              "00014a8515491f0b3fe2a1ff6e0f5305e584dcd9  [-0.7367060184, 0.8094774485, -0.0390381552, -...  \n",
              "00021eeee2bf4e06fec98941206f97083c38b54d  [-1.1841081381, 1.1308963299, 0.6682422161, 0....  \n",
              "00027baa2a90e1a3d50c1da14882d518de6847f5  [0.2389703691, 0.7384790778, 1.0119105577, -0....  \n",
              "00034a5a5bd11b51ec046d31de273946d91fb766  [-0.7743704319, 0.5894224048, -0.3162544966, 0...  \n",
              "000c8d85037886c86de15290e5a8e9bae7b66103  [0.0163563173, 0.50049299, -0.0730320513, 0.64...  \n",
              "...                                                                                     ...  \n",
              "ffe534bb74efd04b0038510be2a4ed5072430c8b  [-0.5972291231, 0.17011463640000002, 0.6428002...  \n",
              "ffeaac2b94fc298676e9784ed3bd7a6a7c23b9d1  [-0.3963649869, 0.5153160095, 0.4946651161, -0...  \n",
              "ffecb03cbf4dccf9fcdc8b26f40f53d5bc44be66  [-0.3526456356, 0.3627114594, -0.8083767891, 0...  \n",
              "fff238844076ad5643dc2ff53153581bd89441ea  [0.5204859972, -0.07988817990000001, -0.430343...  \n",
              "fff766303c67b984a64e33566853375d35951424  [-0.40102842450000004, 0.9684960842, 0.3345110...  \n",
              "\n",
              "[48473 rows x 4 columns]"
            ],
            "text/html": [
              "\n",
              "  <div id=\"df-55665a7f-f56c-4d61-b29e-c892ae05afb9\">\n",
              "    <div class=\"colab-df-container\">\n",
              "      <div>\n",
              "<style scoped>\n",
              "    .dataframe tbody tr th:only-of-type {\n",
              "        vertical-align: middle;\n",
              "    }\n",
              "\n",
              "    .dataframe tbody tr th {\n",
              "        vertical-align: top;\n",
              "    }\n",
              "\n",
              "    .dataframe thead th {\n",
              "        text-align: right;\n",
              "    }\n",
              "</style>\n",
              "<table border=\"1\" class=\"dataframe\">\n",
              "  <thead>\n",
              "    <tr style=\"text-align: right;\">\n",
              "      <th></th>\n",
              "      <th>paper_id</th>\n",
              "      <th>title</th>\n",
              "      <th>abstract</th>\n",
              "      <th>embedding</th>\n",
              "    </tr>\n",
              "  </thead>\n",
              "  <tbody>\n",
              "    <tr>\n",
              "      <th>00014a8515491f0b3fe2a1ff6e0f5305e584dcd9</th>\n",
              "      <td>00014a8515491f0b3fe2a1ff6e0f5305e584dcd9</td>\n",
              "      <td>ON THE CLASSIFICATION OF THE SCIENCES</td>\n",
              "      <td>None</td>\n",
              "      <td>[-0.7367060184, 0.8094774485, -0.0390381552, -...</td>\n",
              "    </tr>\n",
              "    <tr>\n",
              "      <th>00021eeee2bf4e06fec98941206f97083c38b54d</th>\n",
              "      <td>00021eeee2bf4e06fec98941206f97083c38b54d</td>\n",
              "      <td>Opportunities and challenges for E-Commerce in...</td>\n",
              "      <td>Numerous studies of E-Commerce have emphasized...</td>\n",
              "      <td>[-1.1841081381, 1.1308963299, 0.6682422161, 0....</td>\n",
              "    </tr>\n",
              "    <tr>\n",
              "      <th>00027baa2a90e1a3d50c1da14882d518de6847f5</th>\n",
              "      <td>00027baa2a90e1a3d50c1da14882d518de6847f5</td>\n",
              "      <td>Interactions between model membranes and ligni...</td>\n",
              "      <td>In order to elucidate the modes of interaction...</td>\n",
              "      <td>[0.2389703691, 0.7384790778, 1.0119105577, -0....</td>\n",
              "    </tr>\n",
              "    <tr>\n",
              "      <th>00034a5a5bd11b51ec046d31de273946d91fb766</th>\n",
              "      <td>00034a5a5bd11b51ec046d31de273946d91fb766</td>\n",
              "      <td>Perpetual Peace: What Kant Should Have Said</td>\n",
              "      <td>None</td>\n",
              "      <td>[-0.7743704319, 0.5894224048, -0.3162544966, 0...</td>\n",
              "    </tr>\n",
              "    <tr>\n",
              "      <th>000c8d85037886c86de15290e5a8e9bae7b66103</th>\n",
              "      <td>000c8d85037886c86de15290e5a8e9bae7b66103</td>\n",
              "      <td>Reimagining Greek Tragedy on the American Stage</td>\n",
              "      <td>List of Illustrations Preface Introduction CHA...</td>\n",
              "      <td>[0.0163563173, 0.50049299, -0.0730320513, 0.64...</td>\n",
              "    </tr>\n",
              "    <tr>\n",
              "      <th>...</th>\n",
              "      <td>...</td>\n",
              "      <td>...</td>\n",
              "      <td>...</td>\n",
              "      <td>...</td>\n",
              "    </tr>\n",
              "    <tr>\n",
              "      <th>ffe534bb74efd04b0038510be2a4ed5072430c8b</th>\n",
              "      <td>ffe534bb74efd04b0038510be2a4ed5072430c8b</td>\n",
              "      <td>Comparison of olmesartan combined with a calci...</td>\n",
              "      <td>The cardiovascular effects of combined therapy...</td>\n",
              "      <td>[-0.5972291231, 0.17011463640000002, 0.6428002...</td>\n",
              "    </tr>\n",
              "    <tr>\n",
              "      <th>ffeaac2b94fc298676e9784ed3bd7a6a7c23b9d1</th>\n",
              "      <td>ffeaac2b94fc298676e9784ed3bd7a6a7c23b9d1</td>\n",
              "      <td>Role of angiotensin II in plasma PAI-1 changes...</td>\n",
              "      <td>To evaluate the relationship between plasma pl...</td>\n",
              "      <td>[-0.3963649869, 0.5153160095, 0.4946651161, -0...</td>\n",
              "    </tr>\n",
              "    <tr>\n",
              "      <th>ffecb03cbf4dccf9fcdc8b26f40f53d5bc44be66</th>\n",
              "      <td>ffecb03cbf4dccf9fcdc8b26f40f53d5bc44be66</td>\n",
              "      <td>Factors that influence cancer patients' anxiet...</td>\n",
              "      <td>BACKGROUND\\nNo study has yet assessed the impa...</td>\n",
              "      <td>[-0.3526456356, 0.3627114594, -0.8083767891, 0...</td>\n",
              "    </tr>\n",
              "    <tr>\n",
              "      <th>fff238844076ad5643dc2ff53153581bd89441ea</th>\n",
              "      <td>fff238844076ad5643dc2ff53153581bd89441ea</td>\n",
              "      <td>Is adjuvant chemotherapy indicated in stage I ...</td>\n",
              "      <td>OBJECTIVE\\nConservative surgery followed by pl...</td>\n",
              "      <td>[0.5204859972, -0.07988817990000001, -0.430343...</td>\n",
              "    </tr>\n",
              "    <tr>\n",
              "      <th>fff766303c67b984a64e33566853375d35951424</th>\n",
              "      <td>fff766303c67b984a64e33566853375d35951424</td>\n",
              "      <td>Relationship between PCO2 and unfavorable outc...</td>\n",
              "      <td>Background:Abnormal PCO2 is common in infants ...</td>\n",
              "      <td>[-0.40102842450000004, 0.9684960842, 0.3345110...</td>\n",
              "    </tr>\n",
              "  </tbody>\n",
              "</table>\n",
              "<p>48473 rows × 4 columns</p>\n",
              "</div>\n",
              "      <button class=\"colab-df-convert\" onclick=\"convertToInteractive('df-55665a7f-f56c-4d61-b29e-c892ae05afb9')\"\n",
              "              title=\"Convert this dataframe to an interactive table.\"\n",
              "              style=\"display:none;\">\n",
              "        \n",
              "  <svg xmlns=\"http://www.w3.org/2000/svg\" height=\"24px\"viewBox=\"0 0 24 24\"\n",
              "       width=\"24px\">\n",
              "    <path d=\"M0 0h24v24H0V0z\" fill=\"none\"/>\n",
              "    <path d=\"M18.56 5.44l.94 2.06.94-2.06 2.06-.94-2.06-.94-.94-2.06-.94 2.06-2.06.94zm-11 1L8.5 8.5l.94-2.06 2.06-.94-2.06-.94L8.5 2.5l-.94 2.06-2.06.94zm10 10l.94 2.06.94-2.06 2.06-.94-2.06-.94-.94-2.06-.94 2.06-2.06.94z\"/><path d=\"M17.41 7.96l-1.37-1.37c-.4-.4-.92-.59-1.43-.59-.52 0-1.04.2-1.43.59L10.3 9.45l-7.72 7.72c-.78.78-.78 2.05 0 2.83L4 21.41c.39.39.9.59 1.41.59.51 0 1.02-.2 1.41-.59l7.78-7.78 2.81-2.81c.8-.78.8-2.07 0-2.86zM5.41 20L4 18.59l7.72-7.72 1.47 1.35L5.41 20z\"/>\n",
              "  </svg>\n",
              "      </button>\n",
              "      \n",
              "  <style>\n",
              "    .colab-df-container {\n",
              "      display:flex;\n",
              "      flex-wrap:wrap;\n",
              "      gap: 12px;\n",
              "    }\n",
              "\n",
              "    .colab-df-convert {\n",
              "      background-color: #E8F0FE;\n",
              "      border: none;\n",
              "      border-radius: 50%;\n",
              "      cursor: pointer;\n",
              "      display: none;\n",
              "      fill: #1967D2;\n",
              "      height: 32px;\n",
              "      padding: 0 0 0 0;\n",
              "      width: 32px;\n",
              "    }\n",
              "\n",
              "    .colab-df-convert:hover {\n",
              "      background-color: #E2EBFA;\n",
              "      box-shadow: 0px 1px 2px rgba(60, 64, 67, 0.3), 0px 1px 3px 1px rgba(60, 64, 67, 0.15);\n",
              "      fill: #174EA6;\n",
              "    }\n",
              "\n",
              "    [theme=dark] .colab-df-convert {\n",
              "      background-color: #3B4455;\n",
              "      fill: #D2E3FC;\n",
              "    }\n",
              "\n",
              "    [theme=dark] .colab-df-convert:hover {\n",
              "      background-color: #434B5C;\n",
              "      box-shadow: 0px 1px 3px 1px rgba(0, 0, 0, 0.15);\n",
              "      filter: drop-shadow(0px 1px 2px rgba(0, 0, 0, 0.3));\n",
              "      fill: #FFFFFF;\n",
              "    }\n",
              "  </style>\n",
              "\n",
              "      <script>\n",
              "        const buttonEl =\n",
              "          document.querySelector('#df-55665a7f-f56c-4d61-b29e-c892ae05afb9 button.colab-df-convert');\n",
              "        buttonEl.style.display =\n",
              "          google.colab.kernel.accessAllowed ? 'block' : 'none';\n",
              "\n",
              "        async function convertToInteractive(key) {\n",
              "          const element = document.querySelector('#df-55665a7f-f56c-4d61-b29e-c892ae05afb9');\n",
              "          const dataTable =\n",
              "            await google.colab.kernel.invokeFunction('convertToInteractive',\n",
              "                                                     [key], {});\n",
              "          if (!dataTable) return;\n",
              "\n",
              "          const docLinkHtml = 'Like what you see? Visit the ' +\n",
              "            '<a target=\"_blank\" href=https://colab.research.google.com/notebooks/data_table.ipynb>data table notebook</a>'\n",
              "            + ' to learn more about interactive tables.';\n",
              "          element.innerHTML = '';\n",
              "          dataTable['output_type'] = 'display_data';\n",
              "          await google.colab.output.renderOutput(dataTable, element);\n",
              "          const docLink = document.createElement('div');\n",
              "          docLink.innerHTML = docLinkHtml;\n",
              "          element.appendChild(docLink);\n",
              "        }\n",
              "      </script>\n",
              "    </div>\n",
              "  </div>\n",
              "  "
            ]
          },
          "metadata": {},
          "execution_count": 6
        }
      ],
      "source": [
        "embeddings_df"
      ]
    },
    {
      "cell_type": "markdown",
      "metadata": {
        "id": "StIZYQPknSIU"
      },
      "source": [
        "Now we import the associated MAG classification and merge it with the embedding dataframe."
      ]
    },
    {
      "cell_type": "code",
      "execution_count": 7,
      "metadata": {
        "colab": {
          "base_uri": "https://localhost:8080/"
        },
        "id": "Dm1xyIsjnMxO",
        "outputId": "cb2ea4f5-fe7b-4d21-b55e-0a2820eb065e"
      },
      "outputs": [
        {
          "output_type": "execute_result",
          "data": {
            "text/plain": [
              "Index(['pid', 'class_label'], dtype='object')"
            ]
          },
          "metadata": {},
          "execution_count": 7
        }
      ],
      "source": [
        "train_path, test_path = '/content/data/mag/train.csv', '/content/data/mag/test.csv'\n",
        "train_df, test_df = pd.read_csv(train_path), pd.read_csv(test_path)\n",
        "train_df.columns"
      ]
    },
    {
      "cell_type": "code",
      "execution_count": 8,
      "metadata": {
        "id": "bLIzHVaTniHK"
      },
      "outputs": [],
      "source": [
        "train_merged_df, test_merged_df = pd.merge(embeddings_df, train_df, how='inner', left_on='paper_id', right_on='pid'), pd.merge(embeddings_df, test_df, how='inner', left_on='paper_id', right_on='pid')\n",
        "train_merged_df, test_merged_df = train_merged_df[['paper_id', 'embedding', 'class_label']], test_merged_df[['paper_id', 'embedding', 'class_label']]"
      ]
    },
    {
      "cell_type": "code",
      "execution_count": 9,
      "metadata": {
        "colab": {
          "base_uri": "https://localhost:8080/",
          "height": 468
        },
        "id": "d03rzVemnjrf",
        "outputId": "ae0d4217-a234-406c-fa48-380a64d2dafa"
      },
      "outputs": [
        {
          "output_type": "execute_result",
          "data": {
            "text/plain": [
              "                                       paper_id  \\\n",
              "0      00021eeee2bf4e06fec98941206f97083c38b54d   \n",
              "1      00027baa2a90e1a3d50c1da14882d518de6847f5   \n",
              "2      001d134f355306faeb8993fe487a34e0ed0d278b   \n",
              "3      001fb24b565bf8a5faf5551f753a55f3eed6c81c   \n",
              "4      002087b2c4408d83bc095c835ce70e3974d830c7   \n",
              "...                                         ...   \n",
              "17496  ffeb51c4b44028bc1d5d71851f08d571c3177368   \n",
              "17497  ffef3035f600d2e8cbb91192128d9315b800f71a   \n",
              "17498  fff1c7f9478f1220c9f9ea341e13651cbfc2996b   \n",
              "17499  fff73361b36bda4423c75f7e9a99e3996947a3c1   \n",
              "17500  fffdfe2faa469ce40f44778a7d2056a88c65ac1d   \n",
              "\n",
              "                                               embedding  class_label  \n",
              "0      [-1.1841081381, 1.1308963299, 0.6682422161, 0....            2  \n",
              "1      [0.2389703691, 0.7384790778, 1.0119105577, -0....            3  \n",
              "2      [-1.0588871241, 0.0980567485, 0.05070229990000...           10  \n",
              "3      [-0.7206891179, 0.6086265445, -0.0693209022, -...           10  \n",
              "4      [0.0442002341, 0.0344819799, 0.408043295100000...            9  \n",
              "...                                                  ...          ...  \n",
              "17496  [-0.3375469446, 0.5189490914, -0.2140062898, -...           12  \n",
              "17497  [-0.33342462780000004, 0.8680065274000001, 0.2...           17  \n",
              "17498  [-1.2471318245, 0.6116715074, 0.36738637090000...           15  \n",
              "17499  [-1.0980789661, 0.3576785326, -0.2542884648, -...           16  \n",
              "17500  [-1.5524930954, 0.9185175896000001, 0.18831063...            3  \n",
              "\n",
              "[17501 rows x 3 columns]"
            ],
            "text/html": [
              "\n",
              "  <div id=\"df-65713109-f8a5-4ef7-a160-3cc1dbd3a33d\">\n",
              "    <div class=\"colab-df-container\">\n",
              "      <div>\n",
              "<style scoped>\n",
              "    .dataframe tbody tr th:only-of-type {\n",
              "        vertical-align: middle;\n",
              "    }\n",
              "\n",
              "    .dataframe tbody tr th {\n",
              "        vertical-align: top;\n",
              "    }\n",
              "\n",
              "    .dataframe thead th {\n",
              "        text-align: right;\n",
              "    }\n",
              "</style>\n",
              "<table border=\"1\" class=\"dataframe\">\n",
              "  <thead>\n",
              "    <tr style=\"text-align: right;\">\n",
              "      <th></th>\n",
              "      <th>paper_id</th>\n",
              "      <th>embedding</th>\n",
              "      <th>class_label</th>\n",
              "    </tr>\n",
              "  </thead>\n",
              "  <tbody>\n",
              "    <tr>\n",
              "      <th>0</th>\n",
              "      <td>00021eeee2bf4e06fec98941206f97083c38b54d</td>\n",
              "      <td>[-1.1841081381, 1.1308963299, 0.6682422161, 0....</td>\n",
              "      <td>2</td>\n",
              "    </tr>\n",
              "    <tr>\n",
              "      <th>1</th>\n",
              "      <td>00027baa2a90e1a3d50c1da14882d518de6847f5</td>\n",
              "      <td>[0.2389703691, 0.7384790778, 1.0119105577, -0....</td>\n",
              "      <td>3</td>\n",
              "    </tr>\n",
              "    <tr>\n",
              "      <th>2</th>\n",
              "      <td>001d134f355306faeb8993fe487a34e0ed0d278b</td>\n",
              "      <td>[-1.0588871241, 0.0980567485, 0.05070229990000...</td>\n",
              "      <td>10</td>\n",
              "    </tr>\n",
              "    <tr>\n",
              "      <th>3</th>\n",
              "      <td>001fb24b565bf8a5faf5551f753a55f3eed6c81c</td>\n",
              "      <td>[-0.7206891179, 0.6086265445, -0.0693209022, -...</td>\n",
              "      <td>10</td>\n",
              "    </tr>\n",
              "    <tr>\n",
              "      <th>4</th>\n",
              "      <td>002087b2c4408d83bc095c835ce70e3974d830c7</td>\n",
              "      <td>[0.0442002341, 0.0344819799, 0.408043295100000...</td>\n",
              "      <td>9</td>\n",
              "    </tr>\n",
              "    <tr>\n",
              "      <th>...</th>\n",
              "      <td>...</td>\n",
              "      <td>...</td>\n",
              "      <td>...</td>\n",
              "    </tr>\n",
              "    <tr>\n",
              "      <th>17496</th>\n",
              "      <td>ffeb51c4b44028bc1d5d71851f08d571c3177368</td>\n",
              "      <td>[-0.3375469446, 0.5189490914, -0.2140062898, -...</td>\n",
              "      <td>12</td>\n",
              "    </tr>\n",
              "    <tr>\n",
              "      <th>17497</th>\n",
              "      <td>ffef3035f600d2e8cbb91192128d9315b800f71a</td>\n",
              "      <td>[-0.33342462780000004, 0.8680065274000001, 0.2...</td>\n",
              "      <td>17</td>\n",
              "    </tr>\n",
              "    <tr>\n",
              "      <th>17498</th>\n",
              "      <td>fff1c7f9478f1220c9f9ea341e13651cbfc2996b</td>\n",
              "      <td>[-1.2471318245, 0.6116715074, 0.36738637090000...</td>\n",
              "      <td>15</td>\n",
              "    </tr>\n",
              "    <tr>\n",
              "      <th>17499</th>\n",
              "      <td>fff73361b36bda4423c75f7e9a99e3996947a3c1</td>\n",
              "      <td>[-1.0980789661, 0.3576785326, -0.2542884648, -...</td>\n",
              "      <td>16</td>\n",
              "    </tr>\n",
              "    <tr>\n",
              "      <th>17500</th>\n",
              "      <td>fffdfe2faa469ce40f44778a7d2056a88c65ac1d</td>\n",
              "      <td>[-1.5524930954, 0.9185175896000001, 0.18831063...</td>\n",
              "      <td>3</td>\n",
              "    </tr>\n",
              "  </tbody>\n",
              "</table>\n",
              "<p>17501 rows × 3 columns</p>\n",
              "</div>\n",
              "      <button class=\"colab-df-convert\" onclick=\"convertToInteractive('df-65713109-f8a5-4ef7-a160-3cc1dbd3a33d')\"\n",
              "              title=\"Convert this dataframe to an interactive table.\"\n",
              "              style=\"display:none;\">\n",
              "        \n",
              "  <svg xmlns=\"http://www.w3.org/2000/svg\" height=\"24px\"viewBox=\"0 0 24 24\"\n",
              "       width=\"24px\">\n",
              "    <path d=\"M0 0h24v24H0V0z\" fill=\"none\"/>\n",
              "    <path d=\"M18.56 5.44l.94 2.06.94-2.06 2.06-.94-2.06-.94-.94-2.06-.94 2.06-2.06.94zm-11 1L8.5 8.5l.94-2.06 2.06-.94-2.06-.94L8.5 2.5l-.94 2.06-2.06.94zm10 10l.94 2.06.94-2.06 2.06-.94-2.06-.94-.94-2.06-.94 2.06-2.06.94z\"/><path d=\"M17.41 7.96l-1.37-1.37c-.4-.4-.92-.59-1.43-.59-.52 0-1.04.2-1.43.59L10.3 9.45l-7.72 7.72c-.78.78-.78 2.05 0 2.83L4 21.41c.39.39.9.59 1.41.59.51 0 1.02-.2 1.41-.59l7.78-7.78 2.81-2.81c.8-.78.8-2.07 0-2.86zM5.41 20L4 18.59l7.72-7.72 1.47 1.35L5.41 20z\"/>\n",
              "  </svg>\n",
              "      </button>\n",
              "      \n",
              "  <style>\n",
              "    .colab-df-container {\n",
              "      display:flex;\n",
              "      flex-wrap:wrap;\n",
              "      gap: 12px;\n",
              "    }\n",
              "\n",
              "    .colab-df-convert {\n",
              "      background-color: #E8F0FE;\n",
              "      border: none;\n",
              "      border-radius: 50%;\n",
              "      cursor: pointer;\n",
              "      display: none;\n",
              "      fill: #1967D2;\n",
              "      height: 32px;\n",
              "      padding: 0 0 0 0;\n",
              "      width: 32px;\n",
              "    }\n",
              "\n",
              "    .colab-df-convert:hover {\n",
              "      background-color: #E2EBFA;\n",
              "      box-shadow: 0px 1px 2px rgba(60, 64, 67, 0.3), 0px 1px 3px 1px rgba(60, 64, 67, 0.15);\n",
              "      fill: #174EA6;\n",
              "    }\n",
              "\n",
              "    [theme=dark] .colab-df-convert {\n",
              "      background-color: #3B4455;\n",
              "      fill: #D2E3FC;\n",
              "    }\n",
              "\n",
              "    [theme=dark] .colab-df-convert:hover {\n",
              "      background-color: #434B5C;\n",
              "      box-shadow: 0px 1px 3px 1px rgba(0, 0, 0, 0.15);\n",
              "      filter: drop-shadow(0px 1px 2px rgba(0, 0, 0, 0.3));\n",
              "      fill: #FFFFFF;\n",
              "    }\n",
              "  </style>\n",
              "\n",
              "      <script>\n",
              "        const buttonEl =\n",
              "          document.querySelector('#df-65713109-f8a5-4ef7-a160-3cc1dbd3a33d button.colab-df-convert');\n",
              "        buttonEl.style.display =\n",
              "          google.colab.kernel.accessAllowed ? 'block' : 'none';\n",
              "\n",
              "        async function convertToInteractive(key) {\n",
              "          const element = document.querySelector('#df-65713109-f8a5-4ef7-a160-3cc1dbd3a33d');\n",
              "          const dataTable =\n",
              "            await google.colab.kernel.invokeFunction('convertToInteractive',\n",
              "                                                     [key], {});\n",
              "          if (!dataTable) return;\n",
              "\n",
              "          const docLinkHtml = 'Like what you see? Visit the ' +\n",
              "            '<a target=\"_blank\" href=https://colab.research.google.com/notebooks/data_table.ipynb>data table notebook</a>'\n",
              "            + ' to learn more about interactive tables.';\n",
              "          element.innerHTML = '';\n",
              "          dataTable['output_type'] = 'display_data';\n",
              "          await google.colab.output.renderOutput(dataTable, element);\n",
              "          const docLink = document.createElement('div');\n",
              "          docLink.innerHTML = docLinkHtml;\n",
              "          element.appendChild(docLink);\n",
              "        }\n",
              "      </script>\n",
              "    </div>\n",
              "  </div>\n",
              "  "
            ]
          },
          "metadata": {},
          "execution_count": 9
        }
      ],
      "source": [
        "train_merged_df"
      ]
    },
    {
      "cell_type": "markdown",
      "metadata": {
        "id": "e8AFz9dfnqw5"
      },
      "source": [
        "Perfect. Now that we have our train and test data, we can focus on training different models.\n",
        "\n",
        "Let's put the data in an adequat format."
      ]
    },
    {
      "cell_type": "code",
      "execution_count": 10,
      "metadata": {
        "id": "tC4p66DTnlTo"
      },
      "outputs": [],
      "source": [
        "import numpy as np\n",
        "\n",
        "x_train, y_train = [], []\n",
        "x_test, y_test = [], []\n",
        "\n",
        "i = 0\n",
        "for _, embedding, class_label in train_merged_df.values:\n",
        "  x_train.append(embedding)\n",
        "  y_train.append(class_label)\n",
        "\n",
        "x_train = np.array(x_train)\n",
        "y_train = np.array(y_train)\n",
        "\n",
        "for _, embedding, class_label in test_merged_df.values:\n",
        "  x_test.append(embedding)\n",
        "  y_test.append(class_label)\n",
        "\n",
        "x_test = np.array(x_test)\n",
        "y_test = np.array(y_test)"
      ]
    },
    {
      "cell_type": "markdown",
      "metadata": {
        "id": "OWuz4fOfq7XH"
      },
      "source": [
        "First let's try a linear SVC."
      ]
    },
    {
      "cell_type": "code",
      "execution_count": 11,
      "metadata": {
        "id": "n4oKDCBHsTz_"
      },
      "outputs": [],
      "source": [
        "from sklearn import svm\n",
        "\n",
        "classifier1 = svm.LinearSVC(penalty='l2', loss='squared_hinge', random_state=42)"
      ]
    },
    {
      "cell_type": "code",
      "execution_count": 12,
      "metadata": {
        "id": "rjlanvd2tLyn",
        "colab": {
          "base_uri": "https://localhost:8080/"
        },
        "outputId": "b5d00bd0-492d-4e48-d779-8b5eef7fa75a"
      },
      "outputs": [
        {
          "output_type": "stream",
          "name": "stderr",
          "text": [
            "/usr/local/lib/python3.8/dist-packages/sklearn/svm/_base.py:1206: ConvergenceWarning: Liblinear failed to converge, increase the number of iterations.\n",
            "  warnings.warn(\n"
          ]
        },
        {
          "output_type": "execute_result",
          "data": {
            "text/plain": [
              "LinearSVC(random_state=42)"
            ]
          },
          "metadata": {},
          "execution_count": 12
        }
      ],
      "source": [
        "classifier1.fit(x_train, y_train)"
      ]
    },
    {
      "cell_type": "code",
      "execution_count": 13,
      "metadata": {
        "id": "kJIqAEr3tQOk",
        "colab": {
          "base_uri": "https://localhost:8080/"
        },
        "outputId": "24bd5c28-238f-43c2-8a61-35ee2b3b369e"
      },
      "outputs": [
        {
          "output_type": "execute_result",
          "data": {
            "text/plain": [
              "(0.7206078379098907, 0.7105471368841444)"
            ]
          },
          "metadata": {},
          "execution_count": 13
        }
      ],
      "source": [
        "from sklearn.metrics import f1_score\n",
        "\n",
        "y_pred = classifier1.predict(x_test)\n",
        "classifier1.score(x_test, y_test), f1_score(y_test, y_pred, average='macro')"
      ]
    },
    {
      "cell_type": "markdown",
      "metadata": {
        "id": "pA1Ph8JStRzp"
      },
      "source": [
        "Let's put it to the test with different articles."
      ]
    },
    {
      "cell_type": "code",
      "execution_count": 14,
      "metadata": {
        "id": "hM_eFWpNtVSh"
      },
      "outputs": [],
      "source": [
        "def classify_article(classifier, title, abstract, cls=False, probas=False):\n",
        "  classes = {0: \"Art\", 1: \"Biology\", 2: \"Business\", 3: \"Chemistry\", 4: \"Computer science\", 5: \"Economics\", 6: \"Engineering\", 7: \"Environmental science\",\\\n",
        "             8: \"Geography\", 9: \"Geology\", 10: \"History\", 11: \"Materials science\", 12: \"Mathematics\", 13: \"Medicine\", 14: \"Philosophy\", 15: \"Physics\",\\\n",
        "             16: \"Political science\", 17: \"Psychology\", 18: \"Sociology\"}\n",
        "\n",
        "  embed = model.encode([title + '[SEP]' + abstract])\n",
        "\n",
        "  if cls:\n",
        "    return np.array(list(zip(classifier.decision_function(embed)[0], classes.values())), dtype=object)\n",
        "  return classes[classifier.predict(embed)[0]]"
      ]
    },
    {
      "cell_type": "markdown",
      "metadata": {
        "id": "hy4LxSjttY-T"
      },
      "source": [
        "Title: SPECTER: Document-level Representation Learning using Citation-informed Transformers\n",
        "\n",
        "Abstract: Representation learning is a critical ingredient for natural language processing systems. Recent Transformer language models like BERT learn powerful textual representations, but these models are targeted towards token- and sentence-level training objectives and do not leverage information on inter-document relatedness, which limits their document-level representation power. For applications on scientific documents, such as classification and recommendation, the embeddings power strong performance on end tasks. We propose SPECTER, a new method to generate document-level embedding of scientific documents based on pretraining a Transformer language model on a powerful signal of document-level relatedness: the citation graph. Unlike existing pretrained language models, SPECTER can be easily applied to downstream applications without task-specific fine-tuning. Additionally, to encourage further research on document-level models, we introduce SCIDOCS, a new evaluation benchmark consisting of seven document-level tasks ranging from citation prediction, to document classification and recommendation. We show that SPECTER outperforms a variety of competitive baselines on the benchmark.\n",
        "\n",
        "Class: Computer science (obviously)\n"
      ]
    },
    {
      "cell_type": "code",
      "execution_count": 15,
      "metadata": {
        "id": "SDtQTb4XtaJB",
        "colab": {
          "base_uri": "https://localhost:8080/"
        },
        "outputId": "5ae8bc5b-92b1-4464-c5bb-11782e40f603"
      },
      "outputs": [
        {
          "output_type": "execute_result",
          "data": {
            "text/plain": [
              "array([[3.2369296722674905, 'Computer science'],\n",
              "       [-1.1857062291402207, 'Geography'],\n",
              "       [-1.716168860218461, 'Political science'],\n",
              "       [-2.1038272318817426, 'Economics'],\n",
              "       [-2.2295005016877956, 'Art'],\n",
              "       [-2.291139931264881, 'Sociology'],\n",
              "       [-2.4857453916888557, 'Mathematics'],\n",
              "       [-2.565927137039865, 'History'],\n",
              "       [-3.7247929432156073, 'Environmental science'],\n",
              "       [-3.7729087297188744, 'Psychology'],\n",
              "       [-4.368896558508119, 'Chemistry'],\n",
              "       [-4.412378605587704, 'Philosophy'],\n",
              "       [-4.70736910432564, 'Engineering'],\n",
              "       [-4.943433695584021, 'Business'],\n",
              "       [-5.4857111370386535, 'Geology'],\n",
              "       [-5.640873947151579, 'Materials science'],\n",
              "       [-6.079235584645333, 'Physics'],\n",
              "       [-6.795215135272074, 'Biology'],\n",
              "       [-7.547455029785584, 'Medicine']], dtype=object)"
            ]
          },
          "metadata": {},
          "execution_count": 15
        }
      ],
      "source": [
        "res = classify_article(classifier1, \"SPECTER: Document-level Representation Learning using Citation-informed Transformers\", \"Representation learning is a critical ingredient for natural language processing systems. Recent Transformer language models like BERT learn powerful textual representations, but these models are targeted towards token- and sentence-level training objectives and do not leverage information on inter-document relatedness, which limits their document-level representation power. For applications on scientific documents, such as classification and recommendation, the embeddings power strong performance on end tasks. We propose SPECTER, a new method to generate document-level embedding of scientific documents based on pretraining a Transformer language model on a powerful signal of document-level relatedness: the citation graph. Unlike existing pretrained language models, SPECTER can be easily applied to downstream applications without task-specific fine-tuning. Additionally, to encourage further research on document-level models, we introduce SCIDOCS, a new evaluation benchmark consisting of seven document-level tasks ranging from citation prediction, to document classification and recommendation. We show that SPECTER outperforms a variety of competitive baselines on the benchmark.\", cls=True)\n",
        "res[np.argsort(-res[:, 0])]"
      ]
    },
    {
      "cell_type": "markdown",
      "metadata": {
        "id": "MYvOnsaJtfdA"
      },
      "source": [
        "Successfuly classifies as computer science.\n",
        "\n",
        "title: Exploring The Concept Of Cubism Art Essay\n",
        "\n",
        "abstract: Cubism was one of the most influential art movements of the 20th century. It took place between 1907 and about 1914. The innovators of the Cubist movement were Pablo Picasso (Spanish, 1881 1973) and Georges Braque (French, 1882 1963). Cubism was one of the most significant changes in ideas in the history of art. It allowed for the development of many of the abstract modern art movements in areas such as Futurism and Constructivism.\n",
        "\n",
        "Class: Art"
      ]
    },
    {
      "cell_type": "code",
      "execution_count": 16,
      "metadata": {
        "id": "UiYgSevptm55",
        "colab": {
          "base_uri": "https://localhost:8080/"
        },
        "outputId": "44294afb-d2da-47c0-d447-3c9cacb6cc6c"
      },
      "outputs": [
        {
          "output_type": "execute_result",
          "data": {
            "text/plain": [
              "array([[0.6367172470143455, 'Art'],\n",
              "       [-0.02327048836533857, 'Sociology'],\n",
              "       [-0.23059300416444772, 'Mathematics'],\n",
              "       [-0.32591475917339363, 'Economics'],\n",
              "       [-0.8426298229210223, 'History'],\n",
              "       [-1.7972712431993418, 'Political science'],\n",
              "       [-2.0760977984100877, 'Philosophy'],\n",
              "       [-2.2895093194718465, 'Computer science'],\n",
              "       [-2.4575364442189374, 'Geography'],\n",
              "       [-2.5867551257263033, 'Psychology'],\n",
              "       [-3.1378339909753725, 'Physics'],\n",
              "       [-4.032798679854295, 'Biology'],\n",
              "       [-4.411666233356051, 'Engineering'],\n",
              "       [-5.287606310997519, 'Geology'],\n",
              "       [-5.557289380822116, 'Materials science'],\n",
              "       [-5.78371795439588, 'Medicine'],\n",
              "       [-6.7180000353912765, 'Business'],\n",
              "       [-8.08379126360974, 'Chemistry'],\n",
              "       [-8.93821187993181, 'Environmental science']], dtype=object)"
            ]
          },
          "metadata": {},
          "execution_count": 16
        }
      ],
      "source": [
        "res = classify_article(classifier1, \"Exploring The Concept Of Cubism Art Essay\", \"Cubism was one of the most influential art movements of the 20th century. It took place between 1907 and about 1914. The innovators of the Cubist movement were Pablo Picasso (Spanish, 1881 1973) and Georges Braque (French, 1882 1963). Cubism was one of the most significant changes in ideas in the history of art. It allowed for the development of many of the abstract modern art movements in areas such as Futurism and Constructivism.\", cls=True)\n",
        "res[np.argsort(-res[:, 0])]"
      ]
    },
    {
      "cell_type": "markdown",
      "metadata": {
        "id": "Ak5I70Sztv_a"
      },
      "source": [
        "Great success.\n",
        "\n",
        "Let's use gridsearch to find the best set of parameters. The training might take a lot of time because it trains. We're also using f1 as a scoring function since it's the scoring function used in the scidoc benchmark.\n",
        "\n",
        "The gridsearch is a quite long process when it has a lot of parameters. In this case, we test two different loss and 7 different C, so our gridsearch consist of training and comparing 14 different models to extract the best one."
      ]
    },
    {
      "cell_type": "code",
      "execution_count": 17,
      "metadata": {
        "id": "JQRmMvaQq77s"
      },
      "outputs": [],
      "source": [
        "from sklearn.model_selection import GridSearchCV\n",
        "from sklearn.metrics import make_scorer\n",
        "\n",
        "parameters = {'loss': ('hinge', 'squared_hinge'), 'C': np.logspace(-4, 2, 7)}\n",
        "svc = svm.LinearSVC()\n",
        "clf1 = GridSearchCV(svc, parameters, scoring=make_scorer(f1_score, average=\"macro\"))"
      ]
    },
    {
      "cell_type": "code",
      "execution_count": 18,
      "metadata": {
        "id": "8dcAZfwn3Deu",
        "colab": {
          "base_uri": "https://localhost:8080/"
        },
        "outputId": "ddd84570-469a-4fe8-e740-990ac469e3f4"
      },
      "outputs": [
        {
          "output_type": "stream",
          "name": "stderr",
          "text": [
            "/usr/local/lib/python3.8/dist-packages/sklearn/svm/_base.py:1206: ConvergenceWarning: Liblinear failed to converge, increase the number of iterations.\n",
            "  warnings.warn(\n",
            "/usr/local/lib/python3.8/dist-packages/sklearn/svm/_base.py:1206: ConvergenceWarning: Liblinear failed to converge, increase the number of iterations.\n",
            "  warnings.warn(\n",
            "/usr/local/lib/python3.8/dist-packages/sklearn/svm/_base.py:1206: ConvergenceWarning: Liblinear failed to converge, increase the number of iterations.\n",
            "  warnings.warn(\n",
            "/usr/local/lib/python3.8/dist-packages/sklearn/svm/_base.py:1206: ConvergenceWarning: Liblinear failed to converge, increase the number of iterations.\n",
            "  warnings.warn(\n",
            "/usr/local/lib/python3.8/dist-packages/sklearn/svm/_base.py:1206: ConvergenceWarning: Liblinear failed to converge, increase the number of iterations.\n",
            "  warnings.warn(\n",
            "/usr/local/lib/python3.8/dist-packages/sklearn/svm/_base.py:1206: ConvergenceWarning: Liblinear failed to converge, increase the number of iterations.\n",
            "  warnings.warn(\n",
            "/usr/local/lib/python3.8/dist-packages/sklearn/svm/_base.py:1206: ConvergenceWarning: Liblinear failed to converge, increase the number of iterations.\n",
            "  warnings.warn(\n",
            "/usr/local/lib/python3.8/dist-packages/sklearn/svm/_base.py:1206: ConvergenceWarning: Liblinear failed to converge, increase the number of iterations.\n",
            "  warnings.warn(\n",
            "/usr/local/lib/python3.8/dist-packages/sklearn/svm/_base.py:1206: ConvergenceWarning: Liblinear failed to converge, increase the number of iterations.\n",
            "  warnings.warn(\n",
            "/usr/local/lib/python3.8/dist-packages/sklearn/svm/_base.py:1206: ConvergenceWarning: Liblinear failed to converge, increase the number of iterations.\n",
            "  warnings.warn(\n",
            "/usr/local/lib/python3.8/dist-packages/sklearn/svm/_base.py:1206: ConvergenceWarning: Liblinear failed to converge, increase the number of iterations.\n",
            "  warnings.warn(\n",
            "/usr/local/lib/python3.8/dist-packages/sklearn/svm/_base.py:1206: ConvergenceWarning: Liblinear failed to converge, increase the number of iterations.\n",
            "  warnings.warn(\n",
            "/usr/local/lib/python3.8/dist-packages/sklearn/svm/_base.py:1206: ConvergenceWarning: Liblinear failed to converge, increase the number of iterations.\n",
            "  warnings.warn(\n",
            "/usr/local/lib/python3.8/dist-packages/sklearn/svm/_base.py:1206: ConvergenceWarning: Liblinear failed to converge, increase the number of iterations.\n",
            "  warnings.warn(\n",
            "/usr/local/lib/python3.8/dist-packages/sklearn/svm/_base.py:1206: ConvergenceWarning: Liblinear failed to converge, increase the number of iterations.\n",
            "  warnings.warn(\n",
            "/usr/local/lib/python3.8/dist-packages/sklearn/svm/_base.py:1206: ConvergenceWarning: Liblinear failed to converge, increase the number of iterations.\n",
            "  warnings.warn(\n",
            "/usr/local/lib/python3.8/dist-packages/sklearn/svm/_base.py:1206: ConvergenceWarning: Liblinear failed to converge, increase the number of iterations.\n",
            "  warnings.warn(\n",
            "/usr/local/lib/python3.8/dist-packages/sklearn/svm/_base.py:1206: ConvergenceWarning: Liblinear failed to converge, increase the number of iterations.\n",
            "  warnings.warn(\n",
            "/usr/local/lib/python3.8/dist-packages/sklearn/svm/_base.py:1206: ConvergenceWarning: Liblinear failed to converge, increase the number of iterations.\n",
            "  warnings.warn(\n",
            "/usr/local/lib/python3.8/dist-packages/sklearn/svm/_base.py:1206: ConvergenceWarning: Liblinear failed to converge, increase the number of iterations.\n",
            "  warnings.warn(\n",
            "/usr/local/lib/python3.8/dist-packages/sklearn/svm/_base.py:1206: ConvergenceWarning: Liblinear failed to converge, increase the number of iterations.\n",
            "  warnings.warn(\n",
            "/usr/local/lib/python3.8/dist-packages/sklearn/svm/_base.py:1206: ConvergenceWarning: Liblinear failed to converge, increase the number of iterations.\n",
            "  warnings.warn(\n",
            "/usr/local/lib/python3.8/dist-packages/sklearn/svm/_base.py:1206: ConvergenceWarning: Liblinear failed to converge, increase the number of iterations.\n",
            "  warnings.warn(\n",
            "/usr/local/lib/python3.8/dist-packages/sklearn/svm/_base.py:1206: ConvergenceWarning: Liblinear failed to converge, increase the number of iterations.\n",
            "  warnings.warn(\n",
            "/usr/local/lib/python3.8/dist-packages/sklearn/svm/_base.py:1206: ConvergenceWarning: Liblinear failed to converge, increase the number of iterations.\n",
            "  warnings.warn(\n",
            "/usr/local/lib/python3.8/dist-packages/sklearn/svm/_base.py:1206: ConvergenceWarning: Liblinear failed to converge, increase the number of iterations.\n",
            "  warnings.warn(\n",
            "/usr/local/lib/python3.8/dist-packages/sklearn/svm/_base.py:1206: ConvergenceWarning: Liblinear failed to converge, increase the number of iterations.\n",
            "  warnings.warn(\n",
            "/usr/local/lib/python3.8/dist-packages/sklearn/svm/_base.py:1206: ConvergenceWarning: Liblinear failed to converge, increase the number of iterations.\n",
            "  warnings.warn(\n",
            "/usr/local/lib/python3.8/dist-packages/sklearn/svm/_base.py:1206: ConvergenceWarning: Liblinear failed to converge, increase the number of iterations.\n",
            "  warnings.warn(\n",
            "/usr/local/lib/python3.8/dist-packages/sklearn/svm/_base.py:1206: ConvergenceWarning: Liblinear failed to converge, increase the number of iterations.\n",
            "  warnings.warn(\n",
            "/usr/local/lib/python3.8/dist-packages/sklearn/svm/_base.py:1206: ConvergenceWarning: Liblinear failed to converge, increase the number of iterations.\n",
            "  warnings.warn(\n",
            "/usr/local/lib/python3.8/dist-packages/sklearn/svm/_base.py:1206: ConvergenceWarning: Liblinear failed to converge, increase the number of iterations.\n",
            "  warnings.warn(\n",
            "/usr/local/lib/python3.8/dist-packages/sklearn/svm/_base.py:1206: ConvergenceWarning: Liblinear failed to converge, increase the number of iterations.\n",
            "  warnings.warn(\n",
            "/usr/local/lib/python3.8/dist-packages/sklearn/svm/_base.py:1206: ConvergenceWarning: Liblinear failed to converge, increase the number of iterations.\n",
            "  warnings.warn(\n",
            "/usr/local/lib/python3.8/dist-packages/sklearn/svm/_base.py:1206: ConvergenceWarning: Liblinear failed to converge, increase the number of iterations.\n",
            "  warnings.warn(\n",
            "/usr/local/lib/python3.8/dist-packages/sklearn/svm/_base.py:1206: ConvergenceWarning: Liblinear failed to converge, increase the number of iterations.\n",
            "  warnings.warn(\n",
            "/usr/local/lib/python3.8/dist-packages/sklearn/svm/_base.py:1206: ConvergenceWarning: Liblinear failed to converge, increase the number of iterations.\n",
            "  warnings.warn(\n",
            "/usr/local/lib/python3.8/dist-packages/sklearn/svm/_base.py:1206: ConvergenceWarning: Liblinear failed to converge, increase the number of iterations.\n",
            "  warnings.warn(\n",
            "/usr/local/lib/python3.8/dist-packages/sklearn/svm/_base.py:1206: ConvergenceWarning: Liblinear failed to converge, increase the number of iterations.\n",
            "  warnings.warn(\n",
            "/usr/local/lib/python3.8/dist-packages/sklearn/svm/_base.py:1206: ConvergenceWarning: Liblinear failed to converge, increase the number of iterations.\n",
            "  warnings.warn(\n",
            "/usr/local/lib/python3.8/dist-packages/sklearn/svm/_base.py:1206: ConvergenceWarning: Liblinear failed to converge, increase the number of iterations.\n",
            "  warnings.warn(\n",
            "/usr/local/lib/python3.8/dist-packages/sklearn/svm/_base.py:1206: ConvergenceWarning: Liblinear failed to converge, increase the number of iterations.\n",
            "  warnings.warn(\n",
            "/usr/local/lib/python3.8/dist-packages/sklearn/svm/_base.py:1206: ConvergenceWarning: Liblinear failed to converge, increase the number of iterations.\n",
            "  warnings.warn(\n",
            "/usr/local/lib/python3.8/dist-packages/sklearn/svm/_base.py:1206: ConvergenceWarning: Liblinear failed to converge, increase the number of iterations.\n",
            "  warnings.warn(\n",
            "/usr/local/lib/python3.8/dist-packages/sklearn/svm/_base.py:1206: ConvergenceWarning: Liblinear failed to converge, increase the number of iterations.\n",
            "  warnings.warn(\n",
            "/usr/local/lib/python3.8/dist-packages/sklearn/svm/_base.py:1206: ConvergenceWarning: Liblinear failed to converge, increase the number of iterations.\n",
            "  warnings.warn(\n",
            "/usr/local/lib/python3.8/dist-packages/sklearn/svm/_base.py:1206: ConvergenceWarning: Liblinear failed to converge, increase the number of iterations.\n",
            "  warnings.warn(\n",
            "/usr/local/lib/python3.8/dist-packages/sklearn/svm/_base.py:1206: ConvergenceWarning: Liblinear failed to converge, increase the number of iterations.\n",
            "  warnings.warn(\n",
            "/usr/local/lib/python3.8/dist-packages/sklearn/svm/_base.py:1206: ConvergenceWarning: Liblinear failed to converge, increase the number of iterations.\n",
            "  warnings.warn(\n",
            "/usr/local/lib/python3.8/dist-packages/sklearn/svm/_base.py:1206: ConvergenceWarning: Liblinear failed to converge, increase the number of iterations.\n",
            "  warnings.warn(\n"
          ]
        },
        {
          "output_type": "execute_result",
          "data": {
            "text/plain": [
              "GridSearchCV(estimator=LinearSVC(),\n",
              "             param_grid={'C': array([1.e-04, 1.e-03, 1.e-02, 1.e-01, 1.e+00, 1.e+01, 1.e+02]),\n",
              "                         'loss': ('hinge', 'squared_hinge')},\n",
              "             scoring=make_scorer(f1_score, average=macro))"
            ]
          },
          "metadata": {},
          "execution_count": 18
        }
      ],
      "source": [
        "clf1.fit(x_train, y_train)"
      ]
    },
    {
      "cell_type": "code",
      "execution_count": 19,
      "metadata": {
        "id": "tJd9C6-Y9F-p",
        "colab": {
          "base_uri": "https://localhost:8080/"
        },
        "outputId": "177718c3-933c-40d4-e070-cf7c878915c8"
      },
      "outputs": [
        {
          "output_type": "execute_result",
          "data": {
            "text/plain": [
              "{'cv': None,\n",
              " 'error_score': nan,\n",
              " 'estimator__C': 1.0,\n",
              " 'estimator__class_weight': None,\n",
              " 'estimator__dual': True,\n",
              " 'estimator__fit_intercept': True,\n",
              " 'estimator__intercept_scaling': 1,\n",
              " 'estimator__loss': 'squared_hinge',\n",
              " 'estimator__max_iter': 1000,\n",
              " 'estimator__multi_class': 'ovr',\n",
              " 'estimator__penalty': 'l2',\n",
              " 'estimator__random_state': None,\n",
              " 'estimator__tol': 0.0001,\n",
              " 'estimator__verbose': 0,\n",
              " 'estimator': LinearSVC(),\n",
              " 'n_jobs': None,\n",
              " 'param_grid': {'loss': ('hinge', 'squared_hinge'),\n",
              "  'C': array([1.e-04, 1.e-03, 1.e-02, 1.e-01, 1.e+00, 1.e+01, 1.e+02])},\n",
              " 'pre_dispatch': '2*n_jobs',\n",
              " 'refit': True,\n",
              " 'return_train_score': False,\n",
              " 'scoring': make_scorer(f1_score, average=macro),\n",
              " 'verbose': 0}"
            ]
          },
          "metadata": {},
          "execution_count": 19
        }
      ],
      "source": [
        "params = clf1.get_params()\n",
        "params"
      ]
    },
    {
      "cell_type": "markdown",
      "metadata": {
        "id": "iG3X1N1hBifJ"
      },
      "source": [
        "```\n",
        "{'cv': None,\n",
        " 'error_score': nan,\n",
        " 'estimator': LinearSVC(),\n",
        " 'n_jobs': None,\n",
        " 'param_grid': {'loss': ('hinge', 'squared_hinge'),\n",
        "  'C': array([1.e-04, 1.e-03, 1.e-02, 1.e-01, 1.e+00, 1.e+01, 1.e+02])},\n",
        " 'pre_dispatch': '2*n_jobs',\n",
        " 'refit': True,\n",
        " 'return_train_score': False,\n",
        " 'scoring': make_scorer(f1_score, average=macro),\n",
        " 'verbose': 0}\n",
        " ```"
      ]
    },
    {
      "cell_type": "code",
      "execution_count": 20,
      "metadata": {
        "id": "AWMFa8uv3M6Z",
        "colab": {
          "base_uri": "https://localhost:8080/"
        },
        "outputId": "aa6bbae7-31a1-4808-d52a-0f2f27671aec"
      },
      "outputs": [
        {
          "output_type": "execute_result",
          "data": {
            "text/plain": [
              "(0.7471634790922824, 0.7592641962143428)"
            ]
          },
          "metadata": {},
          "execution_count": 20
        }
      ],
      "source": [
        "y_pred = clf1.predict(x_test)\n",
        "clf1.score(x_test, y_test), np.mean(y_test == y_pred)"
      ]
    },
    {
      "cell_type": "markdown",
      "metadata": {
        "id": "NjA1PTCWt2LE"
      },
      "source": [
        "f1 = 0.7471\n",
        "\n",
        "accuracy = 0.7593\n",
        "\n",
        "Not as good as in the scidocs benchmarking (f1 = 0.8195). But as we can see there's an error in the convergence and it advises to increase the number of iteration. So let's reuse the parameters of the best current model and increase the number of iterations. Right now, the maximum number of iterations is 1000, so let's set it to 50 000. All the other parameters are actually the default parameters."
      ]
    },
    {
      "cell_type": "code",
      "source": [
        "clf1_2 = svm.LinearSVC(max_iter=50000)"
      ],
      "metadata": {
        "id": "iFqExpb3NiZj"
      },
      "execution_count": 21,
      "outputs": []
    },
    {
      "cell_type": "code",
      "source": [
        "clf1_2.fit(x_train, y_train)"
      ],
      "metadata": {
        "colab": {
          "base_uri": "https://localhost:8080/"
        },
        "id": "DlaVN5-1nRth",
        "outputId": "130d7c22-6694-4bc3-ca74-91b938a61550"
      },
      "execution_count": 22,
      "outputs": [
        {
          "output_type": "execute_result",
          "data": {
            "text/plain": [
              "LinearSVC(max_iter=50000)"
            ]
          },
          "metadata": {},
          "execution_count": 22
        }
      ]
    },
    {
      "cell_type": "code",
      "source": [
        "y_pred = clf1_2.predict(x_test)\n",
        "clf1_2.score(x_test, y_test), f1_score(y_test, y_pred, average='macro')"
      ],
      "metadata": {
        "colab": {
          "base_uri": "https://localhost:8080/"
        },
        "id": "rHZ5vGQNnUcY",
        "outputId": "3a79f070-ffc1-4130-e6ee-4f529d1e2bed"
      },
      "execution_count": 23,
      "outputs": [
        {
          "output_type": "execute_result",
          "data": {
            "text/plain": [
              "(0.7307384697414023, 0.7209592925178011)"
            ]
          },
          "metadata": {},
          "execution_count": 23
        }
      ]
    },
    {
      "cell_type": "markdown",
      "source": [
        "Doesn't improve, tried to do a grid search on the C parameter with max_iter=50 000 but failed everytime and took about 7 hours so I'm not doing it.\n",
        "\n",
        "Let's save the trained model into the Drive, maybe use it later for a more friendly user interface."
      ],
      "metadata": {
        "id": "a4_U_yJtwb_Q"
      }
    },
    {
      "cell_type": "code",
      "source": [
        "import pickle\n",
        "\n",
        "filename = '/content/drive/MyDrive/DNLP-project/linearSVC_model_mag.sav'\n",
        "pickle.dump(clf1, open(filename, 'wb'))"
      ],
      "metadata": {
        "id": "kDBWyLKXw360"
      },
      "execution_count": 24,
      "outputs": []
    },
    {
      "cell_type": "markdown",
      "metadata": {
        "id": "WZ51-YFTAMEN"
      },
      "source": [
        "----\n",
        "\n",
        "Let's try a non linear svm now."
      ]
    },
    {
      "cell_type": "code",
      "execution_count": 25,
      "metadata": {
        "id": "9kgkA8pRAPMC"
      },
      "outputs": [],
      "source": [
        "from sklearn.model_selection import GridSearchCV\n",
        "\n",
        "parameters = {'C': np.logspace(-4, 2, 7)}\n",
        "svc = svm.SVC()\n",
        "clf2 = GridSearchCV(svc, parameters, scoring=make_scorer(f1_score, average=\"macro\"))"
      ]
    },
    {
      "cell_type": "code",
      "execution_count": 26,
      "metadata": {
        "id": "zNGR20H0A2DC",
        "colab": {
          "base_uri": "https://localhost:8080/"
        },
        "outputId": "0383dde9-3b98-4ae0-ce82-336e3e2fee74"
      },
      "outputs": [
        {
          "output_type": "execute_result",
          "data": {
            "text/plain": [
              "GridSearchCV(estimator=SVC(),\n",
              "             param_grid={'C': array([1.e-04, 1.e-03, 1.e-02, 1.e-01, 1.e+00, 1.e+01, 1.e+02])},\n",
              "             scoring=make_scorer(f1_score, average=macro))"
            ]
          },
          "metadata": {},
          "execution_count": 26
        }
      ],
      "source": [
        "clf2.fit(x_train, y_train)"
      ]
    },
    {
      "cell_type": "code",
      "execution_count": 27,
      "metadata": {
        "id": "RCutS038A4uJ",
        "colab": {
          "base_uri": "https://localhost:8080/"
        },
        "outputId": "df0a8b9a-0ee1-4b17-ab5a-e7243d8b99c1"
      },
      "outputs": [
        {
          "output_type": "execute_result",
          "data": {
            "text/plain": [
              "{'cv': None,\n",
              " 'error_score': nan,\n",
              " 'estimator__C': 1.0,\n",
              " 'estimator__break_ties': False,\n",
              " 'estimator__cache_size': 200,\n",
              " 'estimator__class_weight': None,\n",
              " 'estimator__coef0': 0.0,\n",
              " 'estimator__decision_function_shape': 'ovr',\n",
              " 'estimator__degree': 3,\n",
              " 'estimator__gamma': 'scale',\n",
              " 'estimator__kernel': 'rbf',\n",
              " 'estimator__max_iter': -1,\n",
              " 'estimator__probability': False,\n",
              " 'estimator__random_state': None,\n",
              " 'estimator__shrinking': True,\n",
              " 'estimator__tol': 0.001,\n",
              " 'estimator__verbose': False,\n",
              " 'estimator': SVC(),\n",
              " 'n_jobs': None,\n",
              " 'param_grid': {'C': array([1.e-04, 1.e-03, 1.e-02, 1.e-01, 1.e+00, 1.e+01, 1.e+02])},\n",
              " 'pre_dispatch': '2*n_jobs',\n",
              " 'refit': True,\n",
              " 'return_train_score': False,\n",
              " 'scoring': make_scorer(f1_score, average=macro),\n",
              " 'verbose': 0}"
            ]
          },
          "metadata": {},
          "execution_count": 27
        }
      ],
      "source": [
        "clf2.get_params()"
      ]
    },
    {
      "cell_type": "markdown",
      "metadata": {
        "id": "XwYcS74cp_gq"
      },
      "source": [
        "```\n",
        "{'cv': None,\n",
        " 'error_score': nan,\n",
        " 'estimator__C': 1.0,\n",
        " 'estimator__break_ties': False,\n",
        " 'estimator__cache_size': 200,\n",
        " 'estimator__class_weight': None,\n",
        " 'estimator__coef0': 0.0,\n",
        " 'estimator__decision_function_shape': 'ovr',\n",
        " 'estimator__degree': 3,\n",
        " 'estimator__gamma': 'scale',\n",
        " 'estimator__kernel': 'rbf',\n",
        " 'estimator__max_iter': -1,\n",
        " 'estimator__probability': False,\n",
        " 'estimator__random_state': None,\n",
        " 'estimator__shrinking': True,\n",
        " 'estimator__tol': 0.001,\n",
        " 'estimator__verbose': False,\n",
        " 'estimator': SVC(),\n",
        " 'n_jobs': None,\n",
        " 'param_grid': {'C': array([1.e-04, 1.e-03, 1.e-02, 1.e-01, 1.e+00, 1.e+01, 1.e+02])},\n",
        " 'pre_dispatch': '2*n_jobs',\n",
        " 'refit': True,\n",
        " 'return_train_score': False,\n",
        " 'scoring': make_scorer(f1_score, average=macro),\n",
        " 'verbose': 0}\n",
        "```\n"
      ]
    },
    {
      "cell_type": "code",
      "execution_count": 28,
      "metadata": {
        "id": "DjMw2zCtA7UO",
        "colab": {
          "base_uri": "https://localhost:8080/"
        },
        "outputId": "039f8c53-edf1-4f7c-be35-d924d9bdc66d"
      },
      "outputs": [
        {
          "output_type": "execute_result",
          "data": {
            "text/plain": [
              "(0.7432253137955992, 0.7525993068515062)"
            ]
          },
          "metadata": {},
          "execution_count": 28
        }
      ],
      "source": [
        "y_pred = clf2.predict(x_test)\n",
        "clf2.score(x_test, y_test), np.mean(y_test == y_pred)"
      ]
    },
    {
      "cell_type": "markdown",
      "metadata": {
        "id": "0al5Zu9Bt1BM"
      },
      "source": [
        "f1 = 0.743\n",
        "\n",
        "accuracy = 0.752\n",
        "\n",
        "no improvment, equivalent results."
      ]
    },
    {
      "cell_type": "code",
      "source": [
        "filename = '/content/drive/MyDrive/DNLP-project/SVC_model_mag.sav'\n",
        "pickle.dump(clf1, open(filename, 'wb'))"
      ],
      "metadata": {
        "id": "n3HK12f__ruj"
      },
      "execution_count": 29,
      "outputs": []
    },
    {
      "cell_type": "markdown",
      "source": [
        "----\n",
        "\n",
        "Let's try naive bayes"
      ],
      "metadata": {
        "id": "n7xz5N8fmwMC"
      }
    },
    {
      "cell_type": "code",
      "source": [
        "from sklearn.naive_bayes import GaussianNB\n",
        "\n",
        "gnb = GaussianNB()"
      ],
      "metadata": {
        "id": "rFq5n-QZmzq-"
      },
      "execution_count": 30,
      "outputs": []
    },
    {
      "cell_type": "code",
      "source": [
        "gnb.fit(x_train, y_train)"
      ],
      "metadata": {
        "colab": {
          "base_uri": "https://localhost:8080/"
        },
        "id": "H93BeCnXn3RK",
        "outputId": "5f7c05c5-6529-4bd3-9ba7-006860528bf3"
      },
      "execution_count": 31,
      "outputs": [
        {
          "output_type": "execute_result",
          "data": {
            "text/plain": [
              "GaussianNB()"
            ]
          },
          "metadata": {},
          "execution_count": 31
        }
      ]
    },
    {
      "cell_type": "code",
      "source": [
        "y_pred = gnb.predict(x_test)\n",
        "gnb.score(x_test, y_test), f1_score(y_test, y_pred, average=\"macro\")"
      ],
      "metadata": {
        "colab": {
          "base_uri": "https://localhost:8080/"
        },
        "id": "YDuBSdR1n9g8",
        "outputId": "0a01d448-4745-461c-a1fd-17c4553237ac"
      },
      "execution_count": 32,
      "outputs": [
        {
          "output_type": "execute_result",
          "data": {
            "text/plain": [
              "(0.7094108237803253, 0.6978830891292475)"
            ]
          },
          "metadata": {},
          "execution_count": 32
        }
      ]
    },
    {
      "cell_type": "markdown",
      "source": [
        "Doesn't work well"
      ],
      "metadata": {
        "id": "_Yhf0uUSoZao"
      }
    },
    {
      "cell_type": "code",
      "source": [
        "from sklearn.neighbors import KNeighborsClassifier\n",
        "\n",
        "knb = KNeighborsClassifier()"
      ],
      "metadata": {
        "id": "l0SgTtc1obPT"
      },
      "execution_count": 33,
      "outputs": []
    },
    {
      "cell_type": "code",
      "source": [
        "knb.fit(x_train, y_train)"
      ],
      "metadata": {
        "colab": {
          "base_uri": "https://localhost:8080/"
        },
        "id": "974UywlLouFk",
        "outputId": "be1e231f-0795-497a-bc18-c1397c388f27"
      },
      "execution_count": 34,
      "outputs": [
        {
          "output_type": "execute_result",
          "data": {
            "text/plain": [
              "KNeighborsClassifier()"
            ]
          },
          "metadata": {},
          "execution_count": 34
        }
      ]
    },
    {
      "cell_type": "code",
      "source": [
        "y_pred = knb.predict(x_test)\n",
        "knb.score(x_test, y_test), f1_score(y_test, y_pred, average=\"macro\")"
      ],
      "metadata": {
        "colab": {
          "base_uri": "https://localhost:8080/"
        },
        "id": "xbye93LypsvW",
        "outputId": "c334cb50-c27d-4560-cf36-9e9f67adc17a"
      },
      "execution_count": 35,
      "outputs": [
        {
          "output_type": "execute_result",
          "data": {
            "text/plain": [
              "(0.7014129565449213, 0.6925303177923376)"
            ]
          },
          "metadata": {},
          "execution_count": 35
        }
      ]
    },
    {
      "cell_type": "markdown",
      "source": [
        "Works poorly, still save it."
      ],
      "metadata": {
        "id": "CYl3CCjWp7Wf"
      }
    },
    {
      "cell_type": "code",
      "source": [
        "filename = '/content/drive/MyDrive/DNLP-project/Knn_model_mag.sav'\n",
        "pickle.dump(clf1, open(filename, 'wb'))"
      ],
      "metadata": {
        "id": "PugndNO5JgBf"
      },
      "execution_count": 36,
      "outputs": []
    },
    {
      "cell_type": "markdown",
      "source": [
        "----\n",
        "\n",
        "Let's try SGD classifier with gridsearch for the parameters."
      ],
      "metadata": {
        "id": "nTAOAVintLCX"
      }
    },
    {
      "cell_type": "code",
      "source": [
        "from sklearn.linear_model import SGDClassifier\n",
        "sgd = SGDClassifier('squared_error')"
      ],
      "metadata": {
        "id": "_reETAXVt03B"
      },
      "execution_count": 37,
      "outputs": []
    },
    {
      "cell_type": "code",
      "source": [
        "sgd.fit(x_train, y_train)"
      ],
      "metadata": {
        "colab": {
          "base_uri": "https://localhost:8080/"
        },
        "id": "hWdIB5L7t-cq",
        "outputId": "85cdba11-8b20-449c-eb60-e8b0f90b31f6"
      },
      "execution_count": 38,
      "outputs": [
        {
          "output_type": "stream",
          "name": "stderr",
          "text": [
            "/usr/local/lib/python3.8/dist-packages/sklearn/linear_model/_stochastic_gradient.py:696: ConvergenceWarning: Maximum number of iteration reached before convergence. Consider increasing max_iter to improve the fit.\n",
            "  warnings.warn(\n"
          ]
        },
        {
          "output_type": "execute_result",
          "data": {
            "text/plain": [
              "SGDClassifier(loss='squared_error')"
            ]
          },
          "metadata": {},
          "execution_count": 38
        }
      ]
    },
    {
      "cell_type": "code",
      "source": [
        "y_pred = sgd.predict(x_test)\n",
        "sgd.score(x_test, y_test), f1_score(y_test, y_pred, average=\"macro\")"
      ],
      "metadata": {
        "colab": {
          "base_uri": "https://localhost:8080/"
        },
        "id": "aRihc-SZuBUc",
        "outputId": "04eae4d6-557a-4e7d-b65d-0c22b9b4548e"
      },
      "execution_count": 39,
      "outputs": [
        {
          "output_type": "execute_result",
          "data": {
            "text/plain": [
              "(0.053585710477206075, 0.01537701144338236)"
            ]
          },
          "metadata": {},
          "execution_count": 39
        }
      ]
    },
    {
      "cell_type": "markdown",
      "source": [
        "f1 = 0.0154\n",
        "\n",
        "accuracy = 0.0536\n",
        "\n",
        "That's hilarious, it's the most inaccurate classification model I've ever seen. The accuracy is even lower than 1/19 = 0.05263 which is the theoritical expected value if we have a random uniform classifier."
      ],
      "metadata": {
        "id": "Y4jPjXRe1lCX"
      }
    },
    {
      "cell_type": "code",
      "source": [
        "sgd = SGDClassifier('squared_epsilon_insensitive')"
      ],
      "metadata": {
        "id": "kH3xV88x1kKt"
      },
      "execution_count": 40,
      "outputs": []
    },
    {
      "cell_type": "code",
      "source": [
        "sgd.fit(x_train, y_train)"
      ],
      "metadata": {
        "colab": {
          "base_uri": "https://localhost:8080/"
        },
        "id": "ZaJ7-glF22ly",
        "outputId": "c625c6fe-1b02-460c-96c7-f3183b18eef2"
      },
      "execution_count": 41,
      "outputs": [
        {
          "output_type": "stream",
          "name": "stderr",
          "text": [
            "/usr/local/lib/python3.8/dist-packages/sklearn/linear_model/_stochastic_gradient.py:696: ConvergenceWarning: Maximum number of iteration reached before convergence. Consider increasing max_iter to improve the fit.\n",
            "  warnings.warn(\n"
          ]
        },
        {
          "output_type": "execute_result",
          "data": {
            "text/plain": [
              "SGDClassifier(loss='squared_epsilon_insensitive')"
            ]
          },
          "metadata": {},
          "execution_count": 41
        }
      ]
    },
    {
      "cell_type": "code",
      "source": [
        "y_pred = sgd.predict(x_test)\n",
        "sgd.score(x_test, y_test), f1_score(y_test, y_pred, average=\"macro\")"
      ],
      "metadata": {
        "colab": {
          "base_uri": "https://localhost:8080/"
        },
        "id": "HppLnXB02YHT",
        "outputId": "fcdca535-fc95-4658-ca8b-de47b8f1862d"
      },
      "execution_count": 42,
      "outputs": [
        {
          "output_type": "execute_result",
          "data": {
            "text/plain": [
              "(0.04585443881631565, 0.018222376229698065)"
            ]
          },
          "metadata": {},
          "execution_count": 42
        }
      ]
    },
    {
      "cell_type": "markdown",
      "source": [
        "f1 = 0.0182\n",
        "\n",
        "accuracy = 0.0458\n",
        "\n",
        "That's even worse, the thing is that it took quite some time eventhough it's kind of funny"
      ],
      "metadata": {
        "id": "n7n2A-bx9dg7"
      }
    },
    {
      "cell_type": "code",
      "source": [
        "parameters = {'loss': ('hinge', 'modified_huber', 'squared_hinge')}\n",
        "sgd = SGDClassifier()\n",
        "clf3 = GridSearchCV(sgd, parameters, scoring=make_scorer(f1_score, average=\"macro\"))"
      ],
      "metadata": {
        "id": "Lr3YWg5W9dLo"
      },
      "execution_count": 43,
      "outputs": []
    },
    {
      "cell_type": "code",
      "source": [
        "clf3.fit(x_train, y_train)"
      ],
      "metadata": {
        "colab": {
          "base_uri": "https://localhost:8080/"
        },
        "id": "R1Wreiq8-UOA",
        "outputId": "56096836-d71f-4120-d6d7-f341d50067ed"
      },
      "execution_count": 44,
      "outputs": [
        {
          "output_type": "execute_result",
          "data": {
            "text/plain": [
              "GridSearchCV(estimator=SGDClassifier(),\n",
              "             param_grid={'loss': ('hinge', 'modified_huber', 'squared_hinge')},\n",
              "             scoring=make_scorer(f1_score, average=macro))"
            ]
          },
          "metadata": {},
          "execution_count": 44
        }
      ]
    },
    {
      "cell_type": "code",
      "source": [
        "clf3.get_params()"
      ],
      "metadata": {
        "colab": {
          "base_uri": "https://localhost:8080/"
        },
        "id": "nmdAsw5FBSWc",
        "outputId": "2b310d76-a329-4a17-d3a1-4dd41043f846"
      },
      "execution_count": 45,
      "outputs": [
        {
          "output_type": "execute_result",
          "data": {
            "text/plain": [
              "{'cv': None,\n",
              " 'error_score': nan,\n",
              " 'estimator__alpha': 0.0001,\n",
              " 'estimator__average': False,\n",
              " 'estimator__class_weight': None,\n",
              " 'estimator__early_stopping': False,\n",
              " 'estimator__epsilon': 0.1,\n",
              " 'estimator__eta0': 0.0,\n",
              " 'estimator__fit_intercept': True,\n",
              " 'estimator__l1_ratio': 0.15,\n",
              " 'estimator__learning_rate': 'optimal',\n",
              " 'estimator__loss': 'hinge',\n",
              " 'estimator__max_iter': 1000,\n",
              " 'estimator__n_iter_no_change': 5,\n",
              " 'estimator__n_jobs': None,\n",
              " 'estimator__penalty': 'l2',\n",
              " 'estimator__power_t': 0.5,\n",
              " 'estimator__random_state': None,\n",
              " 'estimator__shuffle': True,\n",
              " 'estimator__tol': 0.001,\n",
              " 'estimator__validation_fraction': 0.1,\n",
              " 'estimator__verbose': 0,\n",
              " 'estimator__warm_start': False,\n",
              " 'estimator': SGDClassifier(),\n",
              " 'n_jobs': None,\n",
              " 'param_grid': {'loss': ('hinge', 'modified_huber', 'squared_hinge')},\n",
              " 'pre_dispatch': '2*n_jobs',\n",
              " 'refit': True,\n",
              " 'return_train_score': False,\n",
              " 'scoring': make_scorer(f1_score, average=macro),\n",
              " 'verbose': 0}"
            ]
          },
          "metadata": {},
          "execution_count": 45
        }
      ]
    },
    {
      "cell_type": "code",
      "source": [
        "y_pred = clf3.predict(x_test)\n",
        "clf3.score(x_test, y_test), np.mean(y_test == y_pred)"
      ],
      "metadata": {
        "colab": {
          "base_uri": "https://localhost:8080/"
        },
        "id": "6CBk8uea-ZNN",
        "outputId": "3af9fd1c-1fff-4157-8d10-cf5055c46dfc"
      },
      "execution_count": 46,
      "outputs": [
        {
          "output_type": "execute_result",
          "data": {
            "text/plain": [
              "(0.7124041360337442, 0.7243401759530792)"
            ]
          },
          "metadata": {},
          "execution_count": 46
        }
      ]
    },
    {
      "cell_type": "markdown",
      "source": [
        "f1 = 0.7124\n",
        "\n",
        "accuracy = 0.7243"
      ],
      "metadata": {
        "id": "U0G_N4-5KLo5"
      }
    },
    {
      "cell_type": "code",
      "source": [
        "filename = '/content/drive/MyDrive/DNLP-project/SGD_model_mag.sav'\n",
        "pickle.dump(clf1, open(filename, 'wb'))"
      ],
      "metadata": {
        "id": "JHHswoZCKROq"
      },
      "execution_count": 47,
      "outputs": []
    },
    {
      "cell_type": "markdown",
      "source": [
        "----\n",
        "\n",
        "Let's try a CNN now. first we'll try a very simple CNN with only 2 dense layers."
      ],
      "metadata": {
        "id": "6mkKweY0_xGp"
      }
    },
    {
      "cell_type": "code",
      "source": [
        "import tensorflow as tf\n",
        "y_train_cnn = tf.keras.utils.to_categorical(y_train)\n",
        "x_train_cnn = np.expand_dims(x_train, -1)"
      ],
      "metadata": {
        "id": "jdri3bVm_vY4"
      },
      "execution_count": 48,
      "outputs": []
    },
    {
      "cell_type": "code",
      "source": [
        "from tensorflow.keras import layers\n",
        "\n",
        "inputs = tf.keras.Input(shape=(x_train.shape[1], 1,), dtype=\"float\")\n",
        "\n",
        "\n",
        "# We add a vanilla hidden layer:\n",
        "x = layers.Flatten()(inputs)\n",
        "x = layers.Dense(x_train.shape[0], activation=\"relu\")(x)\n",
        "\n",
        "# We project onto a single unit output layer, and squash it with a sigmoid:\n",
        "predictions = layers.Dense(19, activation=\"sigmoid\", name=\"predictions\")(x)\n",
        "\n",
        "Cnn1 = tf.keras.Model(inputs, predictions)"
      ],
      "metadata": {
        "id": "vNmTIkAmAAeZ"
      },
      "execution_count": 49,
      "outputs": []
    },
    {
      "cell_type": "code",
      "source": [
        "Cnn1.summary()"
      ],
      "metadata": {
        "colab": {
          "base_uri": "https://localhost:8080/"
        },
        "id": "288rjjWQANPe",
        "outputId": "9cfa8cbd-a380-498e-eaf6-e98391ee7a52"
      },
      "execution_count": 50,
      "outputs": [
        {
          "output_type": "stream",
          "name": "stdout",
          "text": [
            "Model: \"model\"\n",
            "_________________________________________________________________\n",
            " Layer (type)                Output Shape              Param #   \n",
            "=================================================================\n",
            " input_1 (InputLayer)        [(None, 768, 1)]          0         \n",
            "                                                                 \n",
            " flatten (Flatten)           (None, 768)               0         \n",
            "                                                                 \n",
            " dense (Dense)               (None, 17501)             13458269  \n",
            "                                                                 \n",
            " predictions (Dense)         (None, 19)                332538    \n",
            "                                                                 \n",
            "=================================================================\n",
            "Total params: 13,790,807\n",
            "Trainable params: 13,790,807\n",
            "Non-trainable params: 0\n",
            "_________________________________________________________________\n"
          ]
        }
      ]
    },
    {
      "cell_type": "code",
      "source": [
        "Cnn1.compile(loss=\"categorical_crossentropy\", optimizer=\"adam\", metrics=[\"accuracy\"])"
      ],
      "metadata": {
        "id": "RWO7rknUATjf"
      },
      "execution_count": 51,
      "outputs": []
    },
    {
      "cell_type": "code",
      "source": [
        "epochs = 10\n",
        "\n",
        "# Fit the model using the train and test datasets.\n",
        "Cnn1.fit(x_train_cnn, y_train_cnn, epochs=epochs)"
      ],
      "metadata": {
        "colab": {
          "base_uri": "https://localhost:8080/"
        },
        "id": "HTM7git-AXwb",
        "outputId": "f796ac84-8c85-4280-a815-927403d954e6"
      },
      "execution_count": 52,
      "outputs": [
        {
          "output_type": "stream",
          "name": "stdout",
          "text": [
            "Epoch 1/10\n",
            "547/547 [==============================] - 52s 93ms/step - loss: 1.0089 - accuracy: 0.6823\n",
            "Epoch 2/10\n",
            "547/547 [==============================] - 46s 84ms/step - loss: 0.8127 - accuracy: 0.7286\n",
            "Epoch 3/10\n",
            "547/547 [==============================] - 46s 85ms/step - loss: 0.7326 - accuracy: 0.7540\n",
            "Epoch 4/10\n",
            "547/547 [==============================] - 46s 85ms/step - loss: 0.6721 - accuracy: 0.7705\n",
            "Epoch 5/10\n",
            "547/547 [==============================] - 47s 86ms/step - loss: 0.6137 - accuracy: 0.7866\n",
            "Epoch 6/10\n",
            "547/547 [==============================] - 46s 83ms/step - loss: 0.5542 - accuracy: 0.8057\n",
            "Epoch 7/10\n",
            "547/547 [==============================] - 46s 84ms/step - loss: 0.4991 - accuracy: 0.8220\n",
            "Epoch 8/10\n",
            "547/547 [==============================] - 46s 84ms/step - loss: 0.4348 - accuracy: 0.8454\n",
            "Epoch 9/10\n",
            "547/547 [==============================] - 46s 84ms/step - loss: 0.3800 - accuracy: 0.8653\n",
            "Epoch 10/10\n",
            "547/547 [==============================] - 47s 85ms/step - loss: 0.3302 - accuracy: 0.8833\n"
          ]
        },
        {
          "output_type": "execute_result",
          "data": {
            "text/plain": [
              "<keras.callbacks.History at 0x7ff7f58bc6d0>"
            ]
          },
          "metadata": {},
          "execution_count": 52
        }
      ]
    },
    {
      "cell_type": "code",
      "source": [
        "x_test_cnn = np.expand_dims(x_test, -1)\n",
        "y_pred = np.argmax(Cnn1.predict(x_test_cnn), axis=1)\n",
        "np.mean(y_test == y_pred), f1_score(y_test, y_pred, average=\"macro\")"
      ],
      "metadata": {
        "colab": {
          "base_uri": "https://localhost:8080/"
        },
        "id": "pNdYyiubAavd",
        "outputId": "03cfc682-722a-4ae3-aae0-cbb91aad24b1"
      },
      "execution_count": 53,
      "outputs": [
        {
          "output_type": "stream",
          "name": "stdout",
          "text": [
            "118/118 [==============================] - 3s 29ms/step\n"
          ]
        },
        {
          "output_type": "execute_result",
          "data": {
            "text/plain": [
              "(0.7366035723806985, 0.727631239459869)"
            ]
          },
          "metadata": {},
          "execution_count": 53
        }
      ]
    },
    {
      "cell_type": "markdown",
      "source": [
        "f1 = 0.7205\n",
        "\n",
        "accuracy = 0.7323\n",
        "\n",
        "\n",
        "No big improvment compared to the SVC classification. Let's expand our network. This model is inspired by the \"Alexnet\" network and was initially designed for 1000 class classification and won the ImageNet Large Scale Visual Recognition Challenge in 2012."
      ],
      "metadata": {
        "id": "QgIqR5ZgE3C7"
      }
    },
    {
      "cell_type": "code",
      "source": [
        "from tensorflow.keras import layers\n",
        "\n",
        "inputs = tf.keras.Input(shape=(x_train.shape[1], 1,), dtype=\"float\")\n",
        "\n",
        "x = layers.Conv1D(96, 11, 4)(inputs)\n",
        "x = layers.MaxPool1D(3, 2)(x)\n",
        "x = layers.Conv1D(256, 5)(x)\n",
        "x = layers.MaxPool1D(3, 2)(x)\n",
        "x = layers.Conv1D(384, 3)(x)\n",
        "x = layers.Conv1D(384, 3)(x)\n",
        "x = layers.MaxPool1D(3, 2)(x)\n",
        "\n",
        "x = layers.Flatten()(x)\n",
        "x = layers.Dense(2048, activation=\"relu\")(x)\n",
        "x = layers.Dense(2048, activation=\"relu\")(x)\n",
        "\n",
        "\n",
        "# We project onto a single unit output layer, and squash it with a sigmoid:\n",
        "predictions = layers.Dense(19, activation=\"sigmoid\", name=\"predictions\")(x)\n",
        "\n",
        "Cnn2 = tf.keras.Model(inputs, predictions)"
      ],
      "metadata": {
        "id": "Ek64y3KvErxR"
      },
      "execution_count": 54,
      "outputs": []
    },
    {
      "cell_type": "code",
      "source": [
        "Cnn2.summary()"
      ],
      "metadata": {
        "id": "3RiPyXeQJjh5",
        "colab": {
          "base_uri": "https://localhost:8080/"
        },
        "outputId": "577349fb-adb5-4851-e2d8-cca496118f36"
      },
      "execution_count": 55,
      "outputs": [
        {
          "output_type": "stream",
          "name": "stdout",
          "text": [
            "Model: \"model_1\"\n",
            "_________________________________________________________________\n",
            " Layer (type)                Output Shape              Param #   \n",
            "=================================================================\n",
            " input_2 (InputLayer)        [(None, 768, 1)]          0         \n",
            "                                                                 \n",
            " conv1d (Conv1D)             (None, 190, 96)           1152      \n",
            "                                                                 \n",
            " max_pooling1d (MaxPooling1D  (None, 94, 96)           0         \n",
            " )                                                               \n",
            "                                                                 \n",
            " conv1d_1 (Conv1D)           (None, 90, 256)           123136    \n",
            "                                                                 \n",
            " max_pooling1d_1 (MaxPooling  (None, 44, 256)          0         \n",
            " 1D)                                                             \n",
            "                                                                 \n",
            " conv1d_2 (Conv1D)           (None, 42, 384)           295296    \n",
            "                                                                 \n",
            " conv1d_3 (Conv1D)           (None, 40, 384)           442752    \n",
            "                                                                 \n",
            " max_pooling1d_2 (MaxPooling  (None, 19, 384)          0         \n",
            " 1D)                                                             \n",
            "                                                                 \n",
            " flatten_1 (Flatten)         (None, 7296)              0         \n",
            "                                                                 \n",
            " dense_1 (Dense)             (None, 2048)              14944256  \n",
            "                                                                 \n",
            " dense_2 (Dense)             (None, 2048)              4196352   \n",
            "                                                                 \n",
            " predictions (Dense)         (None, 19)                38931     \n",
            "                                                                 \n",
            "=================================================================\n",
            "Total params: 20,041,875\n",
            "Trainable params: 20,041,875\n",
            "Non-trainable params: 0\n",
            "_________________________________________________________________\n"
          ]
        }
      ]
    },
    {
      "cell_type": "code",
      "source": [
        "Cnn2.compile(loss=\"categorical_crossentropy\", optimizer=\"adam\", metrics=[\"accuracy\"])"
      ],
      "metadata": {
        "id": "k9Z3eEhME2sI"
      },
      "execution_count": 56,
      "outputs": []
    },
    {
      "cell_type": "code",
      "source": [
        "epochs = 10\n",
        "\n",
        "# Fit the model using the train and test datasets.\n",
        "Cnn2.fit(x_train_cnn, y_train_cnn, epochs=epochs)"
      ],
      "metadata": {
        "id": "-TXBJqDFJfS9",
        "colab": {
          "base_uri": "https://localhost:8080/"
        },
        "outputId": "608b27bd-e5e1-4ec1-87e3-b700fd5ffc47"
      },
      "execution_count": 59,
      "outputs": [
        {
          "output_type": "stream",
          "name": "stdout",
          "text": [
            "Epoch 1/10\n",
            "547/547 [==============================] - 243s 444ms/step - loss: 0.5826 - accuracy: 0.8043\n",
            "Epoch 2/10\n",
            "547/547 [==============================] - 230s 420ms/step - loss: 0.5432 - accuracy: 0.8201\n",
            "Epoch 3/10\n",
            "547/547 [==============================] - 215s 394ms/step - loss: 0.5450 - accuracy: 0.8214\n",
            "Epoch 4/10\n",
            "547/547 [==============================] - 216s 395ms/step - loss: 0.4631 - accuracy: 0.8429\n",
            "Epoch 5/10\n",
            "547/547 [==============================] - 215s 392ms/step - loss: 0.4940 - accuracy: 0.8387\n",
            "Epoch 6/10\n",
            "547/547 [==============================] - 215s 393ms/step - loss: 0.4738 - accuracy: 0.8487\n",
            "Epoch 7/10\n",
            "547/547 [==============================] - 215s 394ms/step - loss: 0.4677 - accuracy: 0.8548\n",
            "Epoch 8/10\n",
            "547/547 [==============================] - 215s 394ms/step - loss: 0.4228 - accuracy: 0.8643\n",
            "Epoch 9/10\n",
            "547/547 [==============================] - 215s 394ms/step - loss: 0.4592 - accuracy: 0.8618\n",
            "Epoch 10/10\n",
            "547/547 [==============================] - 217s 398ms/step - loss: 0.3921 - accuracy: 0.8771\n"
          ]
        },
        {
          "output_type": "execute_result",
          "data": {
            "text/plain": [
              "<keras.callbacks.History at 0x7ff7f0091640>"
            ]
          },
          "metadata": {},
          "execution_count": 59
        }
      ]
    },
    {
      "cell_type": "code",
      "source": [
        "x_test_cnn = np.expand_dims(x_test, -1)\n",
        "y_pred = np.argmax(Cnn2.predict(x_test_cnn), axis=1)\n",
        "np.mean(y_test == y_pred), f1_score(y_test, y_pred, average=\"macro\")"
      ],
      "metadata": {
        "id": "qZDa4YfbLLR2",
        "colab": {
          "base_uri": "https://localhost:8080/"
        },
        "outputId": "2d239d79-f887-4dfc-d9ba-1c71a8601113"
      },
      "execution_count": 64,
      "outputs": [
        {
          "output_type": "stream",
          "name": "stdout",
          "text": [
            "118/118 [==============================] - 12s 104ms/step\n"
          ]
        },
        {
          "output_type": "execute_result",
          "data": {
            "text/plain": [
              "(0.6808850973073847, 0.6761025784765151)"
            ]
          },
          "metadata": {},
          "execution_count": 64
        }
      ]
    },
    {
      "cell_type": "markdown",
      "source": [
        "f1 = 0.6825\n",
        "\n",
        "accuracy = 0.7235 \n",
        "\n",
        "what a disappointment."
      ],
      "metadata": {
        "id": "HWdtx95JXpr3"
      }
    },
    {
      "cell_type": "code",
      "source": [
        "from tensorflow.keras import layers\n",
        "\n",
        "inputs = tf.keras.Input(shape=(x_train.shape[1], 1,), dtype=\"float\")\n",
        "\n",
        "x = layers.Conv1D(256, 5)(inputs)\n",
        "x = layers.MaxPool1D(3, 2)(x)\n",
        "\n",
        "# We add a vanilla hidden layer:\n",
        "x = layers.Flatten()(x)\n",
        "x = layers.Dropout(0.2)(x)\n",
        "x = layers.Dense(x_train.shape[0], activation=\"relu\")(x)\n",
        "\n",
        "# We project onto a single unit output layer, and squash it with a sigmoid:\n",
        "predictions = layers.Dense(19, activation=\"sigmoid\", name=\"predictions\")(x)\n",
        "\n",
        "Cnn3 = tf.keras.Model(inputs, predictions)"
      ],
      "metadata": {
        "id": "iAnAU9K2cRzI",
        "colab": {
          "base_uri": "https://localhost:8080/",
          "height": 244
        },
        "outputId": "cedc8310-94aa-4b47-ff08-fda598c4fe75"
      },
      "execution_count": 1,
      "outputs": [
        {
          "output_type": "error",
          "ename": "NameError",
          "evalue": "ignored",
          "traceback": [
            "\u001b[0;31m---------------------------------------------------------------------------\u001b[0m",
            "\u001b[0;31mNameError\u001b[0m                                 Traceback (most recent call last)",
            "\u001b[0;32m<ipython-input-1-005ee46d19de>\u001b[0m in \u001b[0;36m<module>\u001b[0;34m\u001b[0m\n\u001b[1;32m      1\u001b[0m \u001b[0;32mfrom\u001b[0m \u001b[0mtensorflow\u001b[0m\u001b[0;34m.\u001b[0m\u001b[0mkeras\u001b[0m \u001b[0;32mimport\u001b[0m \u001b[0mlayers\u001b[0m\u001b[0;34m\u001b[0m\u001b[0;34m\u001b[0m\u001b[0m\n\u001b[1;32m      2\u001b[0m \u001b[0;34m\u001b[0m\u001b[0m\n\u001b[0;32m----> 3\u001b[0;31m \u001b[0minputs\u001b[0m \u001b[0;34m=\u001b[0m \u001b[0mtf\u001b[0m\u001b[0;34m.\u001b[0m\u001b[0mkeras\u001b[0m\u001b[0;34m.\u001b[0m\u001b[0mInput\u001b[0m\u001b[0;34m(\u001b[0m\u001b[0mshape\u001b[0m\u001b[0;34m=\u001b[0m\u001b[0;34m(\u001b[0m\u001b[0mx_train\u001b[0m\u001b[0;34m.\u001b[0m\u001b[0mshape\u001b[0m\u001b[0;34m[\u001b[0m\u001b[0;36m1\u001b[0m\u001b[0;34m]\u001b[0m\u001b[0;34m,\u001b[0m \u001b[0;36m1\u001b[0m\u001b[0;34m,\u001b[0m\u001b[0;34m)\u001b[0m\u001b[0;34m,\u001b[0m \u001b[0mdtype\u001b[0m\u001b[0;34m=\u001b[0m\u001b[0;34m\"float\"\u001b[0m\u001b[0;34m)\u001b[0m\u001b[0;34m\u001b[0m\u001b[0;34m\u001b[0m\u001b[0m\n\u001b[0m\u001b[1;32m      4\u001b[0m \u001b[0;34m\u001b[0m\u001b[0m\n\u001b[1;32m      5\u001b[0m \u001b[0mx\u001b[0m \u001b[0;34m=\u001b[0m \u001b[0mlayers\u001b[0m\u001b[0;34m.\u001b[0m\u001b[0mConv1D\u001b[0m\u001b[0;34m(\u001b[0m\u001b[0;36m256\u001b[0m\u001b[0;34m,\u001b[0m \u001b[0;36m5\u001b[0m\u001b[0;34m)\u001b[0m\u001b[0;34m(\u001b[0m\u001b[0minputs\u001b[0m\u001b[0;34m)\u001b[0m\u001b[0;34m\u001b[0m\u001b[0;34m\u001b[0m\u001b[0m\n",
            "\u001b[0;31mNameError\u001b[0m: name 'tf' is not defined"
          ]
        }
      ]
    },
    {
      "cell_type": "code",
      "source": [
        "Cnn3.summary()"
      ],
      "metadata": {
        "id": "CDKR4jK5SUa4"
      },
      "execution_count": null,
      "outputs": []
    },
    {
      "cell_type": "code",
      "source": [
        "Cnn3.compile(loss=\"categorical_crossentropy\", optimizer=\"adam\", metrics=[\"accuracy\"])"
      ],
      "metadata": {
        "id": "8Hci4_tTSVkW"
      },
      "execution_count": 62,
      "outputs": []
    },
    {
      "cell_type": "code",
      "source": [
        "epochs = 10\n",
        "\n",
        "# Fit the model using the train and test datasets.\n",
        "Cnn3.fit(x_train_cnn, y_train_cnn, epochs=epochs)"
      ],
      "metadata": {
        "colab": {
          "base_uri": "https://localhost:8080/",
          "height": 415
        },
        "id": "Ws63CHuaSuH8",
        "outputId": "ca825599-d209-478d-e0c9-7ddb8066b686"
      },
      "execution_count": 63,
      "outputs": [
        {
          "output_type": "stream",
          "name": "stdout",
          "text": [
            "Epoch 1/10\n",
            " 30/547 [>.............................] - ETA: 25:45 - loss: 4.2372 - accuracy: 0.4563"
          ]
        },
        {
          "output_type": "error",
          "ename": "KeyboardInterrupt",
          "evalue": "ignored",
          "traceback": [
            "\u001b[0;31m---------------------------------------------------------------------------\u001b[0m",
            "\u001b[0;31mKeyboardInterrupt\u001b[0m                         Traceback (most recent call last)",
            "\u001b[0;32m<ipython-input-63-3716b16c0acb>\u001b[0m in \u001b[0;36m<module>\u001b[0;34m\u001b[0m\n\u001b[1;32m      2\u001b[0m \u001b[0;34m\u001b[0m\u001b[0m\n\u001b[1;32m      3\u001b[0m \u001b[0;31m# Fit the model using the train and test datasets.\u001b[0m\u001b[0;34m\u001b[0m\u001b[0;34m\u001b[0m\u001b[0;34m\u001b[0m\u001b[0m\n\u001b[0;32m----> 4\u001b[0;31m \u001b[0mCnn3\u001b[0m\u001b[0;34m.\u001b[0m\u001b[0mfit\u001b[0m\u001b[0;34m(\u001b[0m\u001b[0mx_train_cnn\u001b[0m\u001b[0;34m,\u001b[0m \u001b[0my_train_cnn\u001b[0m\u001b[0;34m,\u001b[0m \u001b[0mepochs\u001b[0m\u001b[0;34m=\u001b[0m\u001b[0mepochs\u001b[0m\u001b[0;34m)\u001b[0m\u001b[0;34m\u001b[0m\u001b[0;34m\u001b[0m\u001b[0m\n\u001b[0m",
            "\u001b[0;32m/usr/local/lib/python3.8/dist-packages/keras/utils/traceback_utils.py\u001b[0m in \u001b[0;36merror_handler\u001b[0;34m(*args, **kwargs)\u001b[0m\n\u001b[1;32m     62\u001b[0m     \u001b[0mfiltered_tb\u001b[0m \u001b[0;34m=\u001b[0m \u001b[0;32mNone\u001b[0m\u001b[0;34m\u001b[0m\u001b[0;34m\u001b[0m\u001b[0m\n\u001b[1;32m     63\u001b[0m     \u001b[0;32mtry\u001b[0m\u001b[0;34m:\u001b[0m\u001b[0;34m\u001b[0m\u001b[0;34m\u001b[0m\u001b[0m\n\u001b[0;32m---> 64\u001b[0;31m       \u001b[0;32mreturn\u001b[0m \u001b[0mfn\u001b[0m\u001b[0;34m(\u001b[0m\u001b[0;34m*\u001b[0m\u001b[0margs\u001b[0m\u001b[0;34m,\u001b[0m \u001b[0;34m**\u001b[0m\u001b[0mkwargs\u001b[0m\u001b[0;34m)\u001b[0m\u001b[0;34m\u001b[0m\u001b[0;34m\u001b[0m\u001b[0m\n\u001b[0m\u001b[1;32m     65\u001b[0m     \u001b[0;32mexcept\u001b[0m \u001b[0mException\u001b[0m \u001b[0;32mas\u001b[0m \u001b[0me\u001b[0m\u001b[0;34m:\u001b[0m  \u001b[0;31m# pylint: disable=broad-except\u001b[0m\u001b[0;34m\u001b[0m\u001b[0;34m\u001b[0m\u001b[0m\n\u001b[1;32m     66\u001b[0m       \u001b[0mfiltered_tb\u001b[0m \u001b[0;34m=\u001b[0m \u001b[0m_process_traceback_frames\u001b[0m\u001b[0;34m(\u001b[0m\u001b[0me\u001b[0m\u001b[0;34m.\u001b[0m\u001b[0m__traceback__\u001b[0m\u001b[0;34m)\u001b[0m\u001b[0;34m\u001b[0m\u001b[0;34m\u001b[0m\u001b[0m\n",
            "\u001b[0;32m/usr/local/lib/python3.8/dist-packages/keras/engine/training.py\u001b[0m in \u001b[0;36mfit\u001b[0;34m(self, x, y, batch_size, epochs, verbose, callbacks, validation_split, validation_data, shuffle, class_weight, sample_weight, initial_epoch, steps_per_epoch, validation_steps, validation_batch_size, validation_freq, max_queue_size, workers, use_multiprocessing)\u001b[0m\n\u001b[1;32m   1407\u001b[0m                 _r=1):\n\u001b[1;32m   1408\u001b[0m               \u001b[0mcallbacks\u001b[0m\u001b[0;34m.\u001b[0m\u001b[0mon_train_batch_begin\u001b[0m\u001b[0;34m(\u001b[0m\u001b[0mstep\u001b[0m\u001b[0;34m)\u001b[0m\u001b[0;34m\u001b[0m\u001b[0;34m\u001b[0m\u001b[0m\n\u001b[0;32m-> 1409\u001b[0;31m               \u001b[0mtmp_logs\u001b[0m \u001b[0;34m=\u001b[0m \u001b[0mself\u001b[0m\u001b[0;34m.\u001b[0m\u001b[0mtrain_function\u001b[0m\u001b[0;34m(\u001b[0m\u001b[0miterator\u001b[0m\u001b[0;34m)\u001b[0m\u001b[0;34m\u001b[0m\u001b[0;34m\u001b[0m\u001b[0m\n\u001b[0m\u001b[1;32m   1410\u001b[0m               \u001b[0;32mif\u001b[0m \u001b[0mdata_handler\u001b[0m\u001b[0;34m.\u001b[0m\u001b[0mshould_sync\u001b[0m\u001b[0;34m:\u001b[0m\u001b[0;34m\u001b[0m\u001b[0;34m\u001b[0m\u001b[0m\n\u001b[1;32m   1411\u001b[0m                 \u001b[0mcontext\u001b[0m\u001b[0;34m.\u001b[0m\u001b[0masync_wait\u001b[0m\u001b[0;34m(\u001b[0m\u001b[0;34m)\u001b[0m\u001b[0;34m\u001b[0m\u001b[0;34m\u001b[0m\u001b[0m\n",
            "\u001b[0;32m/usr/local/lib/python3.8/dist-packages/tensorflow/python/util/traceback_utils.py\u001b[0m in \u001b[0;36merror_handler\u001b[0;34m(*args, **kwargs)\u001b[0m\n\u001b[1;32m    148\u001b[0m     \u001b[0mfiltered_tb\u001b[0m \u001b[0;34m=\u001b[0m \u001b[0;32mNone\u001b[0m\u001b[0;34m\u001b[0m\u001b[0;34m\u001b[0m\u001b[0m\n\u001b[1;32m    149\u001b[0m     \u001b[0;32mtry\u001b[0m\u001b[0;34m:\u001b[0m\u001b[0;34m\u001b[0m\u001b[0;34m\u001b[0m\u001b[0m\n\u001b[0;32m--> 150\u001b[0;31m       \u001b[0;32mreturn\u001b[0m \u001b[0mfn\u001b[0m\u001b[0;34m(\u001b[0m\u001b[0;34m*\u001b[0m\u001b[0margs\u001b[0m\u001b[0;34m,\u001b[0m \u001b[0;34m**\u001b[0m\u001b[0mkwargs\u001b[0m\u001b[0;34m)\u001b[0m\u001b[0;34m\u001b[0m\u001b[0;34m\u001b[0m\u001b[0m\n\u001b[0m\u001b[1;32m    151\u001b[0m     \u001b[0;32mexcept\u001b[0m \u001b[0mException\u001b[0m \u001b[0;32mas\u001b[0m \u001b[0me\u001b[0m\u001b[0;34m:\u001b[0m\u001b[0;34m\u001b[0m\u001b[0;34m\u001b[0m\u001b[0m\n\u001b[1;32m    152\u001b[0m       \u001b[0mfiltered_tb\u001b[0m \u001b[0;34m=\u001b[0m \u001b[0m_process_traceback_frames\u001b[0m\u001b[0;34m(\u001b[0m\u001b[0me\u001b[0m\u001b[0;34m.\u001b[0m\u001b[0m__traceback__\u001b[0m\u001b[0;34m)\u001b[0m\u001b[0;34m\u001b[0m\u001b[0;34m\u001b[0m\u001b[0m\n",
            "\u001b[0;32m/usr/local/lib/python3.8/dist-packages/tensorflow/python/eager/def_function.py\u001b[0m in \u001b[0;36m__call__\u001b[0;34m(self, *args, **kwds)\u001b[0m\n\u001b[1;32m    913\u001b[0m \u001b[0;34m\u001b[0m\u001b[0m\n\u001b[1;32m    914\u001b[0m       \u001b[0;32mwith\u001b[0m \u001b[0mOptionalXlaContext\u001b[0m\u001b[0;34m(\u001b[0m\u001b[0mself\u001b[0m\u001b[0;34m.\u001b[0m\u001b[0m_jit_compile\u001b[0m\u001b[0;34m)\u001b[0m\u001b[0;34m:\u001b[0m\u001b[0;34m\u001b[0m\u001b[0;34m\u001b[0m\u001b[0m\n\u001b[0;32m--> 915\u001b[0;31m         \u001b[0mresult\u001b[0m \u001b[0;34m=\u001b[0m \u001b[0mself\u001b[0m\u001b[0;34m.\u001b[0m\u001b[0m_call\u001b[0m\u001b[0;34m(\u001b[0m\u001b[0;34m*\u001b[0m\u001b[0margs\u001b[0m\u001b[0;34m,\u001b[0m \u001b[0;34m**\u001b[0m\u001b[0mkwds\u001b[0m\u001b[0;34m)\u001b[0m\u001b[0;34m\u001b[0m\u001b[0;34m\u001b[0m\u001b[0m\n\u001b[0m\u001b[1;32m    916\u001b[0m \u001b[0;34m\u001b[0m\u001b[0m\n\u001b[1;32m    917\u001b[0m       \u001b[0mnew_tracing_count\u001b[0m \u001b[0;34m=\u001b[0m \u001b[0mself\u001b[0m\u001b[0;34m.\u001b[0m\u001b[0mexperimental_get_tracing_count\u001b[0m\u001b[0;34m(\u001b[0m\u001b[0;34m)\u001b[0m\u001b[0;34m\u001b[0m\u001b[0;34m\u001b[0m\u001b[0m\n",
            "\u001b[0;32m/usr/local/lib/python3.8/dist-packages/tensorflow/python/eager/def_function.py\u001b[0m in \u001b[0;36m_call\u001b[0;34m(self, *args, **kwds)\u001b[0m\n\u001b[1;32m    945\u001b[0m       \u001b[0;31m# In this case we have created variables on the first call, so we run the\u001b[0m\u001b[0;34m\u001b[0m\u001b[0;34m\u001b[0m\u001b[0;34m\u001b[0m\u001b[0m\n\u001b[1;32m    946\u001b[0m       \u001b[0;31m# defunned version which is guaranteed to never create variables.\u001b[0m\u001b[0;34m\u001b[0m\u001b[0;34m\u001b[0m\u001b[0;34m\u001b[0m\u001b[0m\n\u001b[0;32m--> 947\u001b[0;31m       \u001b[0;32mreturn\u001b[0m \u001b[0mself\u001b[0m\u001b[0;34m.\u001b[0m\u001b[0m_stateless_fn\u001b[0m\u001b[0;34m(\u001b[0m\u001b[0;34m*\u001b[0m\u001b[0margs\u001b[0m\u001b[0;34m,\u001b[0m \u001b[0;34m**\u001b[0m\u001b[0mkwds\u001b[0m\u001b[0;34m)\u001b[0m  \u001b[0;31m# pylint: disable=not-callable\u001b[0m\u001b[0;34m\u001b[0m\u001b[0;34m\u001b[0m\u001b[0m\n\u001b[0m\u001b[1;32m    948\u001b[0m     \u001b[0;32melif\u001b[0m \u001b[0mself\u001b[0m\u001b[0;34m.\u001b[0m\u001b[0m_stateful_fn\u001b[0m \u001b[0;32mis\u001b[0m \u001b[0;32mnot\u001b[0m \u001b[0;32mNone\u001b[0m\u001b[0;34m:\u001b[0m\u001b[0;34m\u001b[0m\u001b[0;34m\u001b[0m\u001b[0m\n\u001b[1;32m    949\u001b[0m       \u001b[0;31m# Release the lock early so that multiple threads can perform the call\u001b[0m\u001b[0;34m\u001b[0m\u001b[0;34m\u001b[0m\u001b[0;34m\u001b[0m\u001b[0m\n",
            "\u001b[0;32m/usr/local/lib/python3.8/dist-packages/tensorflow/python/eager/function.py\u001b[0m in \u001b[0;36m__call__\u001b[0;34m(self, *args, **kwargs)\u001b[0m\n\u001b[1;32m   2451\u001b[0m       (graph_function,\n\u001b[1;32m   2452\u001b[0m        filtered_flat_args) = self._maybe_define_function(args, kwargs)\n\u001b[0;32m-> 2453\u001b[0;31m     return graph_function._call_flat(\n\u001b[0m\u001b[1;32m   2454\u001b[0m         filtered_flat_args, captured_inputs=graph_function.captured_inputs)  # pylint: disable=protected-access\n\u001b[1;32m   2455\u001b[0m \u001b[0;34m\u001b[0m\u001b[0m\n",
            "\u001b[0;32m/usr/local/lib/python3.8/dist-packages/tensorflow/python/eager/function.py\u001b[0m in \u001b[0;36m_call_flat\u001b[0;34m(self, args, captured_inputs, cancellation_manager)\u001b[0m\n\u001b[1;32m   1858\u001b[0m         and executing_eagerly):\n\u001b[1;32m   1859\u001b[0m       \u001b[0;31m# No tape is watching; skip to running the function.\u001b[0m\u001b[0;34m\u001b[0m\u001b[0;34m\u001b[0m\u001b[0;34m\u001b[0m\u001b[0m\n\u001b[0;32m-> 1860\u001b[0;31m       return self._build_call_outputs(self._inference_function.call(\n\u001b[0m\u001b[1;32m   1861\u001b[0m           ctx, args, cancellation_manager=cancellation_manager))\n\u001b[1;32m   1862\u001b[0m     forward_backward = self._select_forward_and_backward_functions(\n",
            "\u001b[0;32m/usr/local/lib/python3.8/dist-packages/tensorflow/python/eager/function.py\u001b[0m in \u001b[0;36mcall\u001b[0;34m(self, ctx, args, cancellation_manager)\u001b[0m\n\u001b[1;32m    495\u001b[0m       \u001b[0;32mwith\u001b[0m \u001b[0m_InterpolateFunctionError\u001b[0m\u001b[0;34m(\u001b[0m\u001b[0mself\u001b[0m\u001b[0;34m)\u001b[0m\u001b[0;34m:\u001b[0m\u001b[0;34m\u001b[0m\u001b[0;34m\u001b[0m\u001b[0m\n\u001b[1;32m    496\u001b[0m         \u001b[0;32mif\u001b[0m \u001b[0mcancellation_manager\u001b[0m \u001b[0;32mis\u001b[0m \u001b[0;32mNone\u001b[0m\u001b[0;34m:\u001b[0m\u001b[0;34m\u001b[0m\u001b[0;34m\u001b[0m\u001b[0m\n\u001b[0;32m--> 497\u001b[0;31m           outputs = execute.execute(\n\u001b[0m\u001b[1;32m    498\u001b[0m               \u001b[0mstr\u001b[0m\u001b[0;34m(\u001b[0m\u001b[0mself\u001b[0m\u001b[0;34m.\u001b[0m\u001b[0msignature\u001b[0m\u001b[0;34m.\u001b[0m\u001b[0mname\u001b[0m\u001b[0;34m)\u001b[0m\u001b[0;34m,\u001b[0m\u001b[0;34m\u001b[0m\u001b[0;34m\u001b[0m\u001b[0m\n\u001b[1;32m    499\u001b[0m               \u001b[0mnum_outputs\u001b[0m\u001b[0;34m=\u001b[0m\u001b[0mself\u001b[0m\u001b[0;34m.\u001b[0m\u001b[0m_num_outputs\u001b[0m\u001b[0;34m,\u001b[0m\u001b[0;34m\u001b[0m\u001b[0;34m\u001b[0m\u001b[0m\n",
            "\u001b[0;32m/usr/local/lib/python3.8/dist-packages/tensorflow/python/eager/execute.py\u001b[0m in \u001b[0;36mquick_execute\u001b[0;34m(op_name, num_outputs, inputs, attrs, ctx, name)\u001b[0m\n\u001b[1;32m     52\u001b[0m   \u001b[0;32mtry\u001b[0m\u001b[0;34m:\u001b[0m\u001b[0;34m\u001b[0m\u001b[0;34m\u001b[0m\u001b[0m\n\u001b[1;32m     53\u001b[0m     \u001b[0mctx\u001b[0m\u001b[0;34m.\u001b[0m\u001b[0mensure_initialized\u001b[0m\u001b[0;34m(\u001b[0m\u001b[0;34m)\u001b[0m\u001b[0;34m\u001b[0m\u001b[0;34m\u001b[0m\u001b[0m\n\u001b[0;32m---> 54\u001b[0;31m     tensors = pywrap_tfe.TFE_Py_Execute(ctx._handle, device_name, op_name,\n\u001b[0m\u001b[1;32m     55\u001b[0m                                         inputs, attrs, num_outputs)\n\u001b[1;32m     56\u001b[0m   \u001b[0;32mexcept\u001b[0m \u001b[0mcore\u001b[0m\u001b[0;34m.\u001b[0m\u001b[0m_NotOkStatusException\u001b[0m \u001b[0;32mas\u001b[0m \u001b[0me\u001b[0m\u001b[0;34m:\u001b[0m\u001b[0;34m\u001b[0m\u001b[0;34m\u001b[0m\u001b[0m\n",
            "\u001b[0;31mKeyboardInterrupt\u001b[0m: "
          ]
        }
      ]
    },
    {
      "cell_type": "code",
      "source": [
        "x_test_cnn = np.expand_dims(x_test, -1)\n",
        "y_pred = np.argmax(Cnn3.predict(x_test_cnn), axis=1)\n",
        "np.mean(y_test == y_pred), f1_score(y_test, y_pred, average=\"macro\")"
      ],
      "metadata": {
        "id": "pD2Ncc5rSwwR"
      },
      "execution_count": null,
      "outputs": []
    },
    {
      "cell_type": "code",
      "source": [],
      "metadata": {
        "id": "LefKvMAWTYn6"
      },
      "execution_count": null,
      "outputs": []
    }
  ],
  "metadata": {
    "colab": {
      "provenance": [],
      "mount_file_id": "1xtwRBEXeM8DLccrIdb4ESVXGmCK800T4",
      "authorship_tag": "ABX9TyOC7uBaJJT8XB1iTE+6Vsr8",
      "include_colab_link": true
    },
    "kernelspec": {
      "display_name": "Python 3",
      "name": "python3"
    },
    "language_info": {
      "name": "python"
    }
  },
  "nbformat": 4,
  "nbformat_minor": 0
}